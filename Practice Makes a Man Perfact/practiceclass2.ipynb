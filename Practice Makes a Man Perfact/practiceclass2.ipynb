{
 "cells": [
  {
   "cell_type": "markdown",
   "id": "fd6d7285-ff4a-46fe-bf1f-03fcf8457601",
   "metadata": {},
   "source": [
    "# operators\n",
    "    -Arithmatic Operators\n",
    "            =Addition (+)\n",
    "            =Subtraction(-)\n",
    "            =Multiplication(*)\n",
    "            =Float Division(/)\n",
    "            =Floor Division(//)\n",
    "            =Exponent/Power(**)\n",
    "            =Modulo(%)\n",
    "    -Relational/Comparision Operators\n",
    "            =Equalto(==)\n",
    "            =Not Equalto(!=)\n",
    "            =Greater than(>)\n",
    "            =less than(<)\n",
    "            =Greater than and equal to(>=)\n",
    "            =Less than and equal to(<=)\n",
    "    -Logical Operators\n",
    "            =Logical AND\n",
    "            =Logical OR\n",
    "            =logical NOT\n",
    "    -Increment Decrement Operator"
   ]
  },
  {
   "cell_type": "markdown",
   "id": "37d3abd6-20aa-42c4-99ae-20bc7a399773",
   "metadata": {},
   "source": [
    "# Operater Precedence\n",
    "        -PEMDAS or BODMAS"
   ]
  },
  {
   "cell_type": "markdown",
   "id": "b294b75f-1323-45ec-a314-1b342a289396",
   "metadata": {},
   "source": [
    "# Solving Expression / Resolving Experession Ambiguity"
   ]
  },
  {
   "cell_type": "code",
   "execution_count": 1,
   "id": "97399751-3353-4c2b-b16e-8765feaa3908",
   "metadata": {},
   "outputs": [
    {
     "data": {
      "text/plain": [
       "400"
      ]
     },
     "execution_count": 1,
     "metadata": {},
     "output_type": "execute_result"
    }
   ],
   "source": [
    "100+300"
   ]
  },
  {
   "cell_type": "code",
   "execution_count": 2,
   "id": "3841db5e-f1b8-4df8-8074-0c2e31ff8814",
   "metadata": {},
   "outputs": [
    {
     "data": {
      "text/plain": [
       "134.6"
      ]
     },
     "execution_count": 2,
     "metadata": {},
     "output_type": "execute_result"
    }
   ],
   "source": [
    "100+34.6"
   ]
  },
  {
   "cell_type": "code",
   "execution_count": 3,
   "id": "344b859b-e008-4650-8c56-eea13e88bd77",
   "metadata": {},
   "outputs": [
    {
     "data": {
      "text/plain": [
       "-19"
      ]
     },
     "execution_count": 3,
     "metadata": {},
     "output_type": "execute_result"
    }
   ],
   "source": [
    "15-34"
   ]
  },
  {
   "cell_type": "code",
   "execution_count": 4,
   "id": "77632057-8bdd-4439-afd1-083ca0b07839",
   "metadata": {},
   "outputs": [
    {
     "data": {
      "text/plain": [
       "180"
      ]
     },
     "execution_count": 4,
     "metadata": {},
     "output_type": "execute_result"
    }
   ],
   "source": [
    "45*4"
   ]
  },
  {
   "cell_type": "code",
   "execution_count": 5,
   "id": "0ef21705-99d6-4dea-99a3-c9740e77422f",
   "metadata": {},
   "outputs": [
    {
     "data": {
      "text/plain": [
       "6.666666666666667"
      ]
     },
     "execution_count": 5,
     "metadata": {},
     "output_type": "execute_result"
    }
   ],
   "source": [
    "100/15 #float"
   ]
  },
  {
   "cell_type": "code",
   "execution_count": 6,
   "id": "cec9ce07-37b0-4927-ab94-b2310a3d0d12",
   "metadata": {},
   "outputs": [
    {
     "data": {
      "text/plain": [
       "6"
      ]
     },
     "execution_count": 6,
     "metadata": {},
     "output_type": "execute_result"
    }
   ],
   "source": [
    "100//15 #int"
   ]
  },
  {
   "cell_type": "code",
   "execution_count": 7,
   "id": "70bab185-2c2d-4d20-926f-b3cad5e5e09a",
   "metadata": {},
   "outputs": [
    {
     "data": {
      "text/plain": [
       "125"
      ]
     },
     "execution_count": 7,
     "metadata": {},
     "output_type": "execute_result"
    }
   ],
   "source": [
    "5**3 #power"
   ]
  },
  {
   "cell_type": "code",
   "execution_count": 9,
   "id": "1f6ed515-07c4-4017-93b9-1563bc5b6dd5",
   "metadata": {},
   "outputs": [
    {
     "data": {
      "text/plain": [
       "2"
      ]
     },
     "execution_count": 9,
     "metadata": {},
     "output_type": "execute_result"
    }
   ],
   "source": [
    "12 % 5 #returns remainder"
   ]
  },
  {
   "cell_type": "code",
   "execution_count": 11,
   "id": "7622d48f-4440-4095-848b-67cf3de46919",
   "metadata": {},
   "outputs": [
    {
     "data": {
      "text/plain": [
       "True"
      ]
     },
     "execution_count": 11,
     "metadata": {},
     "output_type": "execute_result"
    }
   ],
   "source": [
    "12 >10 #result in boolean"
   ]
  },
  {
   "cell_type": "code",
   "execution_count": 12,
   "id": "3a450bcc-dd00-421d-9236-92edc8ae8c79",
   "metadata": {},
   "outputs": [
    {
     "data": {
      "text/plain": [
       "False"
      ]
     },
     "execution_count": 12,
     "metadata": {},
     "output_type": "execute_result"
    }
   ],
   "source": [
    "12<10"
   ]
  },
  {
   "cell_type": "code",
   "execution_count": 13,
   "id": "5c475a86-b48c-46b7-a7f3-a7c5c408fa72",
   "metadata": {},
   "outputs": [
    {
     "data": {
      "text/plain": [
       "False"
      ]
     },
     "execution_count": 13,
     "metadata": {},
     "output_type": "execute_result"
    }
   ],
   "source": [
    "100>=300"
   ]
  },
  {
   "cell_type": "code",
   "execution_count": 15,
   "id": "443cea23-407d-4491-9440-93eb63697a64",
   "metadata": {},
   "outputs": [
    {
     "data": {
      "text/plain": [
       "True"
      ]
     },
     "execution_count": 15,
     "metadata": {},
     "output_type": "execute_result"
    }
   ],
   "source": [
    "100<=300"
   ]
  },
  {
   "cell_type": "code",
   "execution_count": 16,
   "id": "6bede77b-1661-4319-ad42-946282d048f3",
   "metadata": {},
   "outputs": [
    {
     "data": {
      "text/plain": [
       "True"
      ]
     },
     "execution_count": 16,
     "metadata": {},
     "output_type": "execute_result"
    }
   ],
   "source": [
    "200==200"
   ]
  },
  {
   "cell_type": "code",
   "execution_count": 17,
   "id": "2c4a9551-4af0-4bf4-b2eb-5b59371cb33e",
   "metadata": {},
   "outputs": [
    {
     "data": {
      "text/plain": [
       "True"
      ]
     },
     "execution_count": 17,
     "metadata": {},
     "output_type": "execute_result"
    }
   ],
   "source": [
    "200!=300"
   ]
  },
  {
   "cell_type": "code",
   "execution_count": 18,
   "id": "6614227d-81d8-4e0f-8b76-610d1bcab4b9",
   "metadata": {},
   "outputs": [
    {
     "data": {
      "text/plain": [
       "True"
      ]
     },
     "execution_count": 18,
     "metadata": {},
     "output_type": "execute_result"
    }
   ],
   "source": [
    "#logical Operators are used when testing more than one condition\n",
    "\n",
    "a=100\n",
    "b=200\n",
    "c=300\n",
    "c>b\n",
    "b>a\n",
    "a!=b!=c"
   ]
  },
  {
   "cell_type": "raw",
   "id": "826a6678-da53-4ccd-980f-92af6034c911",
   "metadata": {},
   "source": [
    "# OR operator (1 true dhoondta hai poori experession true k lie)\n",
    "\n",
    "true or true = true\n",
    "true or false = true\n",
    "false or true = true\n",
    "false or false = false"
   ]
  },
  {
   "cell_type": "raw",
   "id": "10648826-381e-4e72-ba2a-036c75a884db",
   "metadata": {},
   "source": [
    "# AND operator (1 false dhoondta hai poori experession false k lie)\n",
    "\n",
    "true and true = true\n",
    "true and false = false\n",
    "false and true = false\n",
    "false and false = false"
   ]
  },
  {
   "cell_type": "raw",
   "id": "aedb3e90-8bbb-441e-ae76-8c4722eaed47",
   "metadata": {},
   "source": [
    "we donate OR operator with + sign and AND operator with * sign\n",
    "we donate true with 1 and false with 0\n",
    "so,\n",
    "in OR case\n",
    "    1+1=1\n",
    "    1+0=1\n",
    "    0+1=1\n",
    "    0+0=0\n",
    "in AND case\n",
    "    1*1=1\n",
    "    1*0=0\n",
    "    0*1=0\n",
    "    0*0=0"
   ]
  },
  {
   "cell_type": "code",
   "execution_count": 19,
   "id": "a68feed5-dc4c-484c-99cb-be234bc8d022",
   "metadata": {},
   "outputs": [
    {
     "data": {
      "text/plain": [
       "True"
      ]
     },
     "execution_count": 19,
     "metadata": {},
     "output_type": "execute_result"
    }
   ],
   "source": [
    "amir=20\n",
    "basit=25\n",
    "carlos=30\n",
    "(basit>amir) or (carlos>basit) or (carlos>amir) or (basit>carlos)"
   ]
  },
  {
   "cell_type": "code",
   "execution_count": 22,
   "id": "c0cb57c2-aa95-421a-a1ac-f023df68699a",
   "metadata": {},
   "outputs": [
    {
     "data": {
      "text/plain": [
       "False"
      ]
     },
     "execution_count": 22,
     "metadata": {},
     "output_type": "execute_result"
    }
   ],
   "source": [
    "amir=20\n",
    "basit=25\n",
    "carlos=30\n",
    "(basit>amir) and (carlos>basit) and (carlos>amir) and (basit>carlos)"
   ]
  },
  {
   "cell_type": "raw",
   "id": "93ebab05-829d-4ba7-a495-4a6e77caf69e",
   "metadata": {},
   "source": [
    "OR operator ko agar experession k shru me true mil jae to wo age experession ko dekhta hi nhi hai chahe wahan pr error hi q na ho lekin agar usko shru me true na mile tho wo us waqt tak experession ko carry krta h jab tak use koi true na mil jae agar true na mile use experession me to wo false deta h or agar true ane se pehle use error mil jae to wo result b error dega."
   ]
  },
  {
   "cell_type": "raw",
   "id": "a3d6e3b5-49e4-4340-82f1-0bb404c359ac",
   "metadata": {},
   "source": [
    "AND operator ko agar experession k shru me false mil jae to wo age experession ko dekhta hi nhi hai chahe wahan pr error hi q na ho lekin agar usko shru me false na mile tho wo us waqt tak experession ko carry krta h jab tak use koi false na mil jae agar false na mile use experession me to wo true deta h or agar false ane se pehle use error mil jae to wo result b error dega."
   ]
  },
  {
   "cell_type": "markdown",
   "id": "ac1f4ebe-8027-4bb3-bcbe-19c355f4b50d",
   "metadata": {},
   "source": [
    "# operater precedence\n",
    "      - P : Parethesis (brackets) \n",
    "      - E : Exponent (power)\n",
    "      - M : Multiplication\n",
    "      - D : Division\n",
    "      - A : Addition\n",
    "      - S : Subtraction"
   ]
  },
  {
   "cell_type": "code",
   "execution_count": 25,
   "id": "2be945bc-d10f-4974-b3e7-2dcf82aa5c3a",
   "metadata": {},
   "outputs": [
    {
     "data": {
      "text/plain": [
       "32"
      ]
     },
     "execution_count": 25,
     "metadata": {},
     "output_type": "execute_result"
    }
   ],
   "source": [
    "4*5+3*(5-3)**2"
   ]
  },
  {
   "cell_type": "code",
   "execution_count": 27,
   "id": "4107a15e-a30c-4568-af91-10db4d14ecfc",
   "metadata": {},
   "outputs": [
    {
     "data": {
      "text/plain": [
       "6571.0"
      ]
     },
     "execution_count": 27,
     "metadata": {},
     "output_type": "execute_result"
    }
   ],
   "source": [
    "4*(8/2)-6+9**4"
   ]
  },
  {
   "cell_type": "code",
   "execution_count": 28,
   "id": "0ae1cf62-cd0b-4447-bb66-bdca520d567a",
   "metadata": {},
   "outputs": [
    {
     "data": {
      "text/plain": [
       "4.0"
      ]
     },
     "execution_count": 28,
     "metadata": {},
     "output_type": "execute_result"
    }
   ],
   "source": [
    "100/25"
   ]
  },
  {
   "cell_type": "code",
   "execution_count": 30,
   "id": "710664c0-9570-4c11-a1eb-624ba2b73551",
   "metadata": {},
   "outputs": [
    {
     "data": {
      "text/plain": [
       "False"
      ]
     },
     "execution_count": 30,
     "metadata": {},
     "output_type": "execute_result"
    }
   ],
   "source": [
    "4.0==2.0"
   ]
  },
  {
   "cell_type": "markdown",
   "id": "3a0aa781-5057-433a-95cf-fdf05f3d30b7",
   "metadata": {},
   "source": [
    "# IS Operator (identity operator) id\n",
    "        -shows adress/id path of your variable/command in memory"
   ]
  },
  {
   "cell_type": "code",
   "execution_count": 34,
   "id": "34c2e799-6b06-46ef-a30e-4465b749439a",
   "metadata": {},
   "outputs": [],
   "source": [
    "name = \"Saifuddin\""
   ]
  },
  {
   "cell_type": "code",
   "execution_count": 35,
   "id": "667fddf6-ac5b-4948-aab9-105ec9acd8f5",
   "metadata": {},
   "outputs": [
    {
     "data": {
      "text/plain": [
       "1770090754224"
      ]
     },
     "execution_count": 35,
     "metadata": {},
     "output_type": "execute_result"
    }
   ],
   "source": [
    "id(name)"
   ]
  },
  {
   "cell_type": "code",
   "execution_count": 36,
   "id": "b3a0fa8f-dc58-4e3a-bce7-ac46fd04f1b0",
   "metadata": {},
   "outputs": [
    {
     "data": {
      "text/plain": [
       "1770089639248"
      ]
     },
     "execution_count": 36,
     "metadata": {},
     "output_type": "execute_result"
    }
   ],
   "source": [
    "id(4.0) # As I used 4.0 in cell no 30"
   ]
  },
  {
   "cell_type": "code",
   "execution_count": 37,
   "id": "61e7c462-7957-47ee-b1c2-fd5eadf067f8",
   "metadata": {},
   "outputs": [],
   "source": [
    "my_name=\"Saifuddin\""
   ]
  },
  {
   "cell_type": "code",
   "execution_count": 39,
   "id": "4b432173-fe99-47b4-bfdb-1f2613208db3",
   "metadata": {},
   "outputs": [
    {
     "data": {
      "text/plain": [
       "True"
      ]
     },
     "execution_count": 39,
     "metadata": {},
     "output_type": "execute_result"
    }
   ],
   "source": [
    "name is my_name  #is operator tells us that the answers of two variables are same or not it answers in boolean form"
   ]
  },
  {
   "cell_type": "code",
   "execution_count": 8,
   "id": "c5e9b62a-c53c-4ea3-ad4b-651d9832ee48",
   "metadata": {},
   "outputs": [],
   "source": [
    "v1=100"
   ]
  },
  {
   "cell_type": "code",
   "execution_count": 9,
   "id": "ddf02987-93be-4d5d-85ac-849a886570eb",
   "metadata": {},
   "outputs": [],
   "source": [
    "v2=v1"
   ]
  },
  {
   "cell_type": "code",
   "execution_count": 10,
   "id": "f86649e2-b075-40c9-a35c-d9425c310753",
   "metadata": {},
   "outputs": [
    {
     "name": "stdout",
     "output_type": "stream",
     "text": [
      "140722256754200\n",
      "140722256754200\n"
     ]
    }
   ],
   "source": [
    "print(id(v1))      #it shows memory automatically save same things in one place\n",
    "print(id(v2))"
   ]
  },
  {
   "cell_type": "code",
   "execution_count": 11,
   "id": "e129fc12-a68a-4513-8b2a-6f5d173db3fb",
   "metadata": {},
   "outputs": [
    {
     "data": {
      "text/plain": [
       "True"
      ]
     },
     "execution_count": 11,
     "metadata": {},
     "output_type": "execute_result"
    }
   ],
   "source": [
    "v1 is v2 # because answer is same"
   ]
  },
  {
   "cell_type": "code",
   "execution_count": 12,
   "id": "2d624107-04ad-4664-81d0-d88912eb32b3",
   "metadata": {},
   "outputs": [],
   "source": [
    "v3=100"
   ]
  },
  {
   "cell_type": "code",
   "execution_count": 13,
   "id": "670d8254-9fbf-43ed-b248-671c6ed86e18",
   "metadata": {},
   "outputs": [
    {
     "name": "stdout",
     "output_type": "stream",
     "text": [
      "140722256754200\n",
      "140722256754200\n",
      "140722256754200\n"
     ]
    }
   ],
   "source": [
    "print(id(v1))\n",
    "print(id(v2))    #absolutely genious all same charecters will save automatically in same place \n",
    "print(id(v3))"
   ]
  },
  {
   "cell_type": "code",
   "execution_count": 14,
   "id": "366a0a61-8460-4233-8353-8b150987593e",
   "metadata": {},
   "outputs": [
    {
     "data": {
      "text/plain": [
       "True"
      ]
     },
     "execution_count": 14,
     "metadata": {},
     "output_type": "execute_result"
    }
   ],
   "source": [
    "v1 is v2 is v3 #amazing"
   ]
  },
  {
   "cell_type": "markdown",
   "id": "9ef1dcb2-3aec-41b3-8849-1a6e3135d6f5",
   "metadata": {},
   "source": [
    "# Variables:\n",
    "       container - hold the value\n",
    "       they are changeable"
   ]
  },
  {
   "cell_type": "code",
   "execution_count": null,
   "id": "7a85b8f9-1b6f-4f1a-bac0-e619791c2d6d",
   "metadata": {},
   "outputs": [],
   "source": [
    "print(int(float(input(EN))))"
   ]
  },
  {
   "cell_type": "code",
   "execution_count": null,
   "id": "17caa679-ad48-4824-b373-9f43e43d8281",
   "metadata": {},
   "outputs": [],
   "source": []
  }
 ],
 "metadata": {
  "kernelspec": {
   "display_name": "Python 3 (ipykernel)",
   "language": "python",
   "name": "python3"
  },
  "language_info": {
   "codemirror_mode": {
    "name": "ipython",
    "version": 3
   },
   "file_extension": ".py",
   "mimetype": "text/x-python",
   "name": "python",
   "nbconvert_exporter": "python",
   "pygments_lexer": "ipython3",
   "version": "3.12.7"
  }
 },
 "nbformat": 4,
 "nbformat_minor": 5
}
