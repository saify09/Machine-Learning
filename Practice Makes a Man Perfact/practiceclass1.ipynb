{
 "cells": [
  {
   "cell_type": "code",
   "execution_count": 5,
   "id": "10fb58a2-7b35-4863-9481-413fa02e904d",
   "metadata": {},
   "outputs": [
    {
     "name": "stdout",
     "output_type": "stream",
     "text": [
      "Hi Python, it's my first input in programming language\n"
     ]
    }
   ],
   "source": [
    "print(\"Hi Python, it's my first input in programming language\")"
   ]
  },
  {
   "cell_type": "code",
   "execution_count": 6,
   "id": "6fd34d22-7352-4774-9a42-8de952619be9",
   "metadata": {},
   "outputs": [
    {
     "name": "stdout",
     "output_type": "stream",
     "text": [
      "Hi Python, it's my first input in programming language\n",
      "Hi Python, it's my first input in programming language\n"
     ]
    }
   ],
   "source": [
    "print(\"Hi Python, it's my first input in programming language\")\n",
    "print(\"Hi Python, it's my first input in programming language\")"
   ]
  },
  {
   "cell_type": "markdown",
   "id": "b1d4e944-0e35-4b00-b199-25a251547af6",
   "metadata": {},
   "source": [
    "# values:\n",
    "    ## Data\n",
    "         ### Text :\n",
    "                  \"i am text data\"   : string : str\n",
    "         ### numbers :\n",
    "                     -integers  ; int : 1,2,3,4,5,....\n",
    "                     -Decimals ; floats : 1.2,3.4,5.6,7.8,9.0,...\n",
    "         ### Boolean :\n",
    "                     -true\n",
    "                     -false"
   ]
  },
  {
   "cell_type": "raw",
   "id": "4973dbb7-0316-413a-9895-285ba1d0fa47",
   "metadata": {},
   "source": [
    "Press Esc+1 to enter for level 1 heading\n",
    "Press Esc+2 to enter for level 2 heading\n",
    "Press Esc+3 to enter for level 3 heading\n",
    "Press Esc+4 to enter for level 4 heading\n",
    "Press Esc+5 to enter for level 5 heading\n",
    "Press Esc+6 to enter for level 6 heading"
   ]
  },
  {
   "cell_type": "markdown",
   "id": "608ed4e8-bac6-4a97-b1a8-c38f549da0f1",
   "metadata": {},
   "source": [
    "# Saifuddin"
   ]
  },
  {
   "cell_type": "markdown",
   "id": "c9c1b16f-1e1d-4934-a678-0451257776d8",
   "metadata": {},
   "source": [
    "## Saifuddin"
   ]
  },
  {
   "cell_type": "markdown",
   "id": "d2c6e06a-a071-4584-b076-a6beecc3e0b3",
   "metadata": {},
   "source": [
    "### Saifuddin\n"
   ]
  },
  {
   "cell_type": "markdown",
   "id": "ddc5702c-8f79-42c6-be5e-4790c3562608",
   "metadata": {
    "jp-MarkdownHeadingCollapsed": true
   },
   "source": [
    "#### "
   ]
  },
  {
   "cell_type": "markdown",
   "id": "5f470dfc-5f20-4149-92cf-e0bd964ec89f",
   "metadata": {
    "jp-MarkdownHeadingCollapsed": true
   },
   "source": [
    "##### "
   ]
  },
  {
   "cell_type": "code",
   "execution_count": null,
   "id": "a05c8964-400f-4e82-96e3-a7aeadf11f60",
   "metadata": {},
   "outputs": [],
   "source": []
  },
  {
   "cell_type": "code",
   "execution_count": null,
   "id": "e384b5cf-ae12-4198-92d8-9f9dfd7022a7",
   "metadata": {},
   "outputs": [],
   "source": []
  }
 ],
 "metadata": {
  "kernelspec": {
   "display_name": "Python 3 (ipykernel)",
   "language": "python",
   "name": "python3"
  },
  "language_info": {
   "codemirror_mode": {
    "name": "ipython",
    "version": 3
   },
   "file_extension": ".py",
   "mimetype": "text/x-python",
   "name": "python",
   "nbconvert_exporter": "python",
   "pygments_lexer": "ipython3",
   "version": "3.12.7"
  }
 },
 "nbformat": 4,
 "nbformat_minor": 5
}
