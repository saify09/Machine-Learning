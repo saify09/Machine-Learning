{
 "cells": [
  {
   "cell_type": "markdown",
   "id": "129389a9-96cb-4ab8-b258-1365e3bd6e99",
   "metadata": {},
   "source": [
    "# Variables : (indentifier)\n",
    "        -variables are container\n",
    "        -variables are storage\n",
    "        -variables are reservoirs"
   ]
  },
  {
   "cell_type": "code",
   "execution_count": 2,
   "id": "c56477e6-a9e4-4803-9039-731b7dc9c44c",
   "metadata": {},
   "outputs": [],
   "source": [
    "course = \"artificial Intelligence and Data Science\"\n",
    "# a string value assign to a variable course\n",
    "    #str value contain 64 Bit and int contain 32 bit in memory"
   ]
  },
  {
   "cell_type": "code",
   "execution_count": 3,
   "id": "984c74bc-ed85-4094-ab6e-eb02285d8231",
   "metadata": {},
   "outputs": [
    {
     "name": "stdout",
     "output_type": "stream",
     "text": [
      "artificial Intelligence and Data Science\n"
     ]
    }
   ],
   "source": [
    "print(course)\n",
    "#value of variable is change able"
   ]
  },
  {
   "cell_type": "code",
   "execution_count": 5,
   "id": "635dd310-8d6f-4fc6-a9a1-999bd4d686e3",
   "metadata": {},
   "outputs": [],
   "source": [
    "course = \"Python\"\n",
    "#we can use a str value"
   ]
  },
  {
   "cell_type": "code",
   "execution_count": 7,
   "id": "05936167-9764-46c7-89c8-a2291941ce67",
   "metadata": {},
   "outputs": [
    {
     "name": "stdout",
     "output_type": "stream",
     "text": [
      "Python\n"
     ]
    }
   ],
   "source": [
    "print(course)"
   ]
  },
  {
   "cell_type": "code",
   "execution_count": 8,
   "id": "e75a6f5f-bb90-415a-9072-6aa6c48fcbf3",
   "metadata": {},
   "outputs": [],
   "source": [
    "marks = 100\n",
    "#we can use a decimal value"
   ]
  },
  {
   "cell_type": "code",
   "execution_count": 9,
   "id": "257167d1-56b3-49a9-bedf-ba890c46df7b",
   "metadata": {},
   "outputs": [
    {
     "name": "stdout",
     "output_type": "stream",
     "text": [
      "100\n"
     ]
    }
   ],
   "source": [
    "print(marks)"
   ]
  },
  {
   "cell_type": "code",
   "execution_count": 10,
   "id": "59cd7993-d8d4-4ea1-9130-472f2ab5bb7e",
   "metadata": {},
   "outputs": [],
   "source": [
    "height = 5.10\n",
    "#we can use an int value"
   ]
  },
  {
   "cell_type": "code",
   "execution_count": 11,
   "id": "e1548039-8d5b-4ff6-b246-45334338121d",
   "metadata": {},
   "outputs": [],
   "source": [
    "isOK = True\n",
    "#we can use bool value"
   ]
  },
  {
   "cell_type": "code",
   "execution_count": 12,
   "id": "00e1668f-54e1-4737-a666-15ecb115f63a",
   "metadata": {},
   "outputs": [
    {
     "data": {
      "text/plain": [
       "5.1"
      ]
     },
     "execution_count": 12,
     "metadata": {},
     "output_type": "execute_result"
    }
   ],
   "source": [
    "height"
   ]
  },
  {
   "cell_type": "code",
   "execution_count": 13,
   "id": "9ac1057a-b3df-4eaa-8696-6dd99e2eaeca",
   "metadata": {},
   "outputs": [
    {
     "data": {
      "text/plain": [
       "True"
      ]
     },
     "execution_count": 13,
     "metadata": {},
     "output_type": "execute_result"
    }
   ],
   "source": [
    "isOK"
   ]
  },
  {
   "cell_type": "raw",
   "id": "6f93c7d8-a235-4267-b7be-8f90234256cc",
   "metadata": {},
   "source": [
    "apne dekha hoga cell no 7 or 9 me hame ba qaidaa print likhna pada to usne hame value print kr k dedi lekin cell no 12 or 13 me ham ne srif variABLE Likha tho usne hame value dikha di esa srif jupyter notebookn e hota h k wo hame srif variable likhne pr b value display kr deta h pr ise print nhi khaenge ye display kehlaye ga"
   ]
  },
  {
   "cell_type": "markdown",
   "id": "96ba0492-4751-481f-8839-5c371b89dd87",
   "metadata": {},
   "source": [
    "### note\n",
    "       -ye display srif cell ki akhri line me kaam kre ga agar is ko cell ki akhri line me likhen tho ye kaam nhi krega"
   ]
  },
  {
   "cell_type": "code",
   "execution_count": 14,
   "id": "ad3eed91-7f16-4307-930f-01199ec48a81",
   "metadata": {},
   "outputs": [
    {
     "name": "stdout",
     "output_type": "stream",
     "text": [
      "True\n"
     ]
    }
   ],
   "source": [
    "height\n",
    "print(isOK)"
   ]
  },
  {
   "cell_type": "code",
   "execution_count": 18,
   "id": "eb3373d2-8467-4615-9382-5864e9e0659b",
   "metadata": {},
   "outputs": [
    {
     "name": "stdout",
     "output_type": "stream",
     "text": [
      "5.1\n"
     ]
    },
    {
     "data": {
      "text/plain": [
       "True"
      ]
     },
     "execution_count": 18,
     "metadata": {},
     "output_type": "execute_result"
    }
   ],
   "source": [
    "print(height)\n",
    "isOK"
   ]
  },
  {
   "cell_type": "code",
   "execution_count": 20,
   "id": "4ad16b94-bdc7-4aaa-a3e9-0d059fa817f3",
   "metadata": {},
   "outputs": [
    {
     "name": "stdout",
     "output_type": "stream",
     "text": [
      "True\n"
     ]
    },
    {
     "data": {
      "text/plain": [
       "5.1"
      ]
     },
     "execution_count": 20,
     "metadata": {},
     "output_type": "execute_result"
    }
   ],
   "source": [
    "print(isOK)\n",
    "height"
   ]
  },
  {
   "cell_type": "markdown",
   "id": "fc617c8a-164a-4860-96f3-83f07277d713",
   "metadata": {},
   "source": [
    "# legal illegal variable names or Valid Invalid variables names\n",
    "          -variable name can not be starts with a number\n",
    "                ~1stpassenger = \"danish\" >>>> error\n",
    "          -there can not be spaces in variables name\n",
    "                ~first passenger = \"danish\" >>>> error\n",
    "          -no special charecter can be used in variables name\n",
    "                ~first-passenger = \"danish\" >>>> error\n",
    "#Special Letters:\n",
    "         ~!@#$%^&*-)<>\n",
    "\n",
    "          -reserved words can not be ued in variable names"
   ]
  },
  {
   "attachments": {
    "b9922c26-28b9-420e-aa08-bbd6e7b25ca3.png": {
     "image/png": "[encoded data removed]"
    }
   },
   "cell_type": "markdown",
   "id": "464aca5c-b9f8-4c36-b4a1-98511bfdb83d",
   "metadata": {},
   "source": [
    "# Reserved Words\n",
    "![download.png](attachment:b9922c26-28b9-420e-aa08-bbd6e7b25ca3.png)\n",
    "\n",
    "#reserved words are those which python used in or as its functions etc.\n",
    "\n",
    "#but we can use these reserved keywords by capitalizing etc.\n",
    "\n",
    "                                                -for example True is a reserved word but we can use it by writing true"
   ]
  },
  {
   "cell_type": "markdown",
   "id": "86d1ba0d-d32d-44aa-ae68-5e661da454ee",
   "metadata": {},
   "source": [
    "# variales operation"
   ]
  },
  {
   "cell_type": "code",
   "execution_count": 21,
   "id": "bf8150d7-919f-4364-92de-41e0f2846a39",
   "metadata": {},
   "outputs": [],
   "source": [
    "price = 3000"
   ]
  },
  {
   "cell_type": "code",
   "execution_count": 22,
   "id": "aaf6b5a6-a175-429e-9809-c2a827a2f4c0",
   "metadata": {},
   "outputs": [],
   "source": [
    "percentage_discount = 7"
   ]
  },
  {
   "cell_type": "code",
   "execution_count": 23,
   "id": "4ff8f068-7807-4ed1-a05e-875ccfe040a1",
   "metadata": {},
   "outputs": [],
   "source": [
    "total = price-price*0.07\n",
    "#we applied percentage formula"
   ]
  },
  {
   "cell_type": "code",
   "execution_count": 24,
   "id": "73b07905-ae60-44a2-ad77-f01afe484bed",
   "metadata": {},
   "outputs": [
    {
     "data": {
      "text/plain": [
       "2790.0"
      ]
     },
     "execution_count": 24,
     "metadata": {},
     "output_type": "execute_result"
    }
   ],
   "source": [
    "total"
   ]
  },
  {
   "cell_type": "code",
   "execution_count": 32,
   "id": "187dc7ec-c6d8-423c-8b49-4867bcbd54d1",
   "metadata": {},
   "outputs": [],
   "source": [
    "no = 45"
   ]
  },
  {
   "cell_type": "code",
   "execution_count": 33,
   "id": "ff20eddf-e6ee-4d0b-ac87-e57a39653c23",
   "metadata": {},
   "outputs": [
    {
     "name": "stdout",
     "output_type": "stream",
     "text": [
      "45\n"
     ]
    }
   ],
   "source": [
    "print(no)"
   ]
  },
  {
   "cell_type": "code",
   "execution_count": 34,
   "id": "7cf44a6e-b7a0-43e4-a041-d30aa8a669dd",
   "metadata": {},
   "outputs": [],
   "source": [
    "no = no*4"
   ]
  },
  {
   "cell_type": "code",
   "execution_count": 35,
   "id": "db0195f6-f854-4880-b1f0-9770a1000f6b",
   "metadata": {},
   "outputs": [
    {
     "name": "stdout",
     "output_type": "stream",
     "text": [
      "180\n"
     ]
    }
   ],
   "source": [
    "print(no)"
   ]
  },
  {
   "cell_type": "markdown",
   "id": "47addc9b-9e08-4068-a20b-32656a869fb4",
   "metadata": {},
   "source": [
    "# Primitive data types; str, int, float, bool"
   ]
  },
  {
   "cell_type": "markdown",
   "id": "3e5ef42e-91e4-45fa-83cd-8c8292937d88",
   "metadata": {},
   "source": [
    "### String(str)\n",
    "      -str is immutable(can not be changed)"
   ]
  },
  {
   "cell_type": "code",
   "execution_count": 3,
   "id": "bc9bc652-5e5d-4a71-99c4-5253e7c7b344",
   "metadata": {},
   "outputs": [],
   "source": [
    "course = \"artificial intelligence and data science\""
   ]
  },
  {
   "cell_type": "code",
   "execution_count": 4,
   "id": "db53e177-e49a-4b7b-840f-55f55e31704c",
   "metadata": {},
   "outputs": [
    {
     "name": "stdout",
     "output_type": "stream",
     "text": [
      "<class 'str'>\n"
     ]
    }
   ],
   "source": [
    "print(type(course))"
   ]
  },
  {
   "cell_type": "raw",
   "id": "47c08664-00a9-474d-84c4-881eb1774ede",
   "metadata": {},
   "source": [
    "For opening str functions\n",
    "       -write str variable+.+Tab\n",
    "For opening int functions\n",
    "       -write int variable+.+Tab"
   ]
  },
  {
   "cell_type": "code",
   "execution_count": 5,
   "id": "d07f0057-7cce-4516-b1b8-bd7658e8b63e",
   "metadata": {},
   "outputs": [
    {
     "data": {
      "text/plain": [
       "'Artificial intelligence and data science'"
      ]
     },
     "execution_count": 5,
     "metadata": {},
     "output_type": "execute_result"
    }
   ],
   "source": [
    "course.capitalize()\n",
    "# A will be capatalized as first letter or charecter"
   ]
  },
  {
   "cell_type": "raw",
   "id": "f4ce57b8-690a-429f-8447-cc17cf9afa10",
   "metadata": {},
   "source": [
    "when we say str is immutable , mean str value can not changed in memory\n",
    "    name = \"saifuddin\"\n",
    "         print(name)>>>saifuddin\n",
    "    name.capitalize()>>>Saifuddin\n",
    "         print(name)>>>saifuddin\n",
    "here original value is not changing in str variable"
   ]
  },
  {
   "cell_type": "code",
   "execution_count": 6,
   "id": "5730c7a6-29ea-408f-a114-daaccf60bd39",
   "metadata": {},
   "outputs": [
    {
     "data": {
      "text/plain": [
       "'artificial intelligence and data science'"
      ]
     },
     "execution_count": 6,
     "metadata": {},
     "output_type": "execute_result"
    }
   ],
   "source": [
    "course"
   ]
  },
  {
   "cell_type": "code",
   "execution_count": 7,
   "id": "0713778b-b4da-4659-9449-acea02507991",
   "metadata": {},
   "outputs": [],
   "source": [
    "course = course.capitalize()\n",
    "#change the original value by putting new value in the variable course"
   ]
  },
  {
   "cell_type": "code",
   "execution_count": 8,
   "id": "bb97a913-9cad-4a95-8fe3-4597f6b17cbe",
   "metadata": {},
   "outputs": [
    {
     "data": {
      "text/plain": [
       "'Artificial intelligence and data science'"
      ]
     },
     "execution_count": 8,
     "metadata": {},
     "output_type": "execute_result"
    }
   ],
   "source": [
    "course"
   ]
  },
  {
   "cell_type": "code",
   "execution_count": 9,
   "id": "090416a6-f28c-4470-bdba-fe26cbcc3c08",
   "metadata": {},
   "outputs": [
    {
     "data": {
      "text/plain": [
       "'ARTIFICIAL INTELLIGENCE AND DATA SCIENCE'"
      ]
     },
     "execution_count": 9,
     "metadata": {},
     "output_type": "execute_result"
    }
   ],
   "source": [
    "course.upper()\n",
    "#capitalize all letters"
   ]
  },
  {
   "cell_type": "code",
   "execution_count": 10,
   "id": "e2500db1-9f63-420d-bb91-f587d2fa20a9",
   "metadata": {},
   "outputs": [
    {
     "data": {
      "text/plain": [
       "'artificial intelligence and data science'"
      ]
     },
     "execution_count": 10,
     "metadata": {},
     "output_type": "execute_result"
    }
   ],
   "source": [
    "course.lower()\n",
    "#will small all letters"
   ]
  },
  {
   "cell_type": "code",
   "execution_count": 11,
   "id": "48c00b19-e794-437f-ba41-3db74ab0500a",
   "metadata": {},
   "outputs": [
    {
     "data": {
      "text/plain": [
       "3"
      ]
     },
     "execution_count": 11,
     "metadata": {},
     "output_type": "execute_result"
    }
   ],
   "source": [
    "course.count(\"l\")\n",
    "#tells the letter we asking comes how many time in value of variable"
   ]
  },
  {
   "cell_type": "code",
   "execution_count": 12,
   "id": "c7df408f-639f-4678-b63d-854bf93ca515",
   "metadata": {},
   "outputs": [
    {
     "data": {
      "text/plain": [
       "1"
      ]
     },
     "execution_count": 12,
     "metadata": {},
     "output_type": "execute_result"
    }
   ],
   "source": [
    "course.count(\"ti\")"
   ]
  },
  {
   "cell_type": "code",
   "execution_count": 13,
   "id": "f3d13d46-19a1-4af4-8b88-3070ba75a9a7",
   "metadata": {},
   "outputs": [
    {
     "data": {
      "text/plain": [
       "1"
      ]
     },
     "execution_count": 13,
     "metadata": {},
     "output_type": "execute_result"
    }
   ],
   "source": [
    "course.count(\"intelligence\")"
   ]
  },
  {
   "cell_type": "code",
   "execution_count": 14,
   "id": "80c5f8a8-8e82-424d-8f36-9e66ae662c47",
   "metadata": {},
   "outputs": [
    {
     "data": {
      "text/plain": [
       "True"
      ]
     },
     "execution_count": 14,
     "metadata": {},
     "output_type": "execute_result"
    }
   ],
   "source": [
    "course.endswith(\"e\")\n",
    "#tells the last letter of value in variable"
   ]
  },
  {
   "cell_type": "code",
   "execution_count": 15,
   "id": "17018bcc-f263-448f-814f-ab70cf2e7ee1",
   "metadata": {},
   "outputs": [
    {
     "data": {
      "text/plain": [
       "False"
      ]
     },
     "execution_count": 15,
     "metadata": {},
     "output_type": "execute_result"
    }
   ],
   "source": [
    "course.startswith(\"a\")"
   ]
  },
  {
   "cell_type": "code",
   "execution_count": 16,
   "id": "b3bd1601-b20d-4497-a987-a65545f4ae4b",
   "metadata": {},
   "outputs": [
    {
     "data": {
      "text/plain": [
       "True"
      ]
     },
     "execution_count": 16,
     "metadata": {},
     "output_type": "execute_result"
    }
   ],
   "source": [
    "course.startswith(\"A\")\n",
    "#tells the first letter of value in variable"
   ]
  },
  {
   "cell_type": "code",
   "execution_count": 17,
   "id": "6c071968-b0cd-471d-b70a-41761062b5fd",
   "metadata": {},
   "outputs": [
    {
     "data": {
      "text/plain": [
       "'Artificial intelligence anb bata science'"
      ]
     },
     "execution_count": 17,
     "metadata": {},
     "output_type": "execute_result"
    }
   ],
   "source": [
    "course.replace(\"d\",\"b\")\n",
    "#replaces the word by new word"
   ]
  },
  {
   "cell_type": "code",
   "execution_count": 18,
   "id": "85a5e9a6-d101-4e11-b65c-20984bb852e2",
   "metadata": {},
   "outputs": [
    {
     "data": {
      "text/plain": [
       "'Natural intelligence and data science'"
      ]
     },
     "execution_count": 18,
     "metadata": {},
     "output_type": "execute_result"
    }
   ],
   "source": [
    "course.replace(\"Artificial\",\"Natural\")"
   ]
  },
  {
   "cell_type": "code",
   "execution_count": 19,
   "id": "f4d4e700-1cd4-43f5-94b5-a7bea52498f4",
   "metadata": {},
   "outputs": [
    {
     "data": {
      "text/plain": [
       "28"
      ]
     },
     "execution_count": 19,
     "metadata": {},
     "output_type": "execute_result"
    }
   ],
   "source": [
    "course.find(\"data\")\n",
    "#tells the number place of letter or word in value of variable"
   ]
  },
  {
   "cell_type": "code",
   "execution_count": 20,
   "id": "20344467-bb1f-4c84-83d4-b0937fac2cf2",
   "metadata": {},
   "outputs": [
    {
     "data": {
      "text/plain": [
       "-1"
      ]
     },
     "execution_count": 20,
     "metadata": {},
     "output_type": "execute_result"
    }
   ],
   "source": [
    "course.find(\"DATA\")"
   ]
  },
  {
   "cell_type": "code",
   "execution_count": 21,
   "id": "976ff674-cd71-4b53-a132-d52c572fa4ea",
   "metadata": {},
   "outputs": [
    {
     "data": {
      "text/plain": [
       "-1"
      ]
     },
     "execution_count": 21,
     "metadata": {},
     "output_type": "execute_result"
    }
   ],
   "source": [
    "course.find(\"k\")"
   ]
  },
  {
   "cell_type": "raw",
   "id": "ea333f80-97b4-4aff-8647-f8eb805fb24b",
   "metadata": {},
   "source": [
    "here -1 shows no such word is found in value of variable"
   ]
  },
  {
   "cell_type": "code",
   "execution_count": 22,
   "id": "8c6f97f7-064a-4bad-b3a7-f51b62548ea1",
   "metadata": {},
   "outputs": [
    {
     "data": {
      "text/plain": [
       "21"
      ]
     },
     "execution_count": 22,
     "metadata": {},
     "output_type": "execute_result"
    }
   ],
   "source": [
    "course.index(\"ce\")\n",
    "#it is first ce of value in variable\n",
    "#for second ce we will do"
   ]
  },
  {
   "cell_type": "code",
   "execution_count": 23,
   "id": "d9137964-5313-4b2d-8e0f-9ece23b2458b",
   "metadata": {},
   "outputs": [
    {
     "data": {
      "text/plain": [
       "38"
      ]
     },
     "execution_count": 23,
     "metadata": {},
     "output_type": "execute_result"
    }
   ],
   "source": [
    "course.index(\"ce\",22)"
   ]
  },
  {
   "cell_type": "code",
   "execution_count": 28,
   "id": "e519f43f-fd0c-4863-ba22-22454c314af0",
   "metadata": {},
   "outputs": [
    {
     "data": {
      "text/plain": [
       "False"
      ]
     },
     "execution_count": 28,
     "metadata": {},
     "output_type": "execute_result"
    }
   ],
   "source": [
    "course.isalnum()\n",
    "#tells us that the str in variable is composed of alphabetsisalnum()\n",
    "#tells us that the str in variable is composed of alphabets and numbers"
   ]
  },
  {
   "cell_type": "code",
   "execution_count": 29,
   "id": "cfd90a45-00ef-4ca0-8610-808a3c2e1eef",
   "metadata": {},
   "outputs": [
    {
     "data": {
      "text/plain": [
       "True"
      ]
     },
     "execution_count": 29,
     "metadata": {},
     "output_type": "execute_result"
    }
   ],
   "source": [
    "\"a12\".isalnum()"
   ]
  },
  {
   "cell_type": "code",
   "execution_count": 30,
   "id": "22517ae4-475a-4acf-aee7-5a2eff320ba5",
   "metadata": {},
   "outputs": [
    {
     "data": {
      "text/plain": [
       "False"
      ]
     },
     "execution_count": 30,
     "metadata": {},
     "output_type": "execute_result"
    }
   ],
   "source": [
    "course.isalpha()\n",
    "#tells us that the str in variable is composed of alphabets\n",
    "#but here it false answer b/c of space"
   ]
  },
  {
   "cell_type": "code",
   "execution_count": 31,
   "id": "a4da8edd-b369-4e0d-b525-6395d7afdaa1",
   "metadata": {},
   "outputs": [
    {
     "data": {
      "text/plain": [
       "True"
      ]
     },
     "execution_count": 31,
     "metadata": {},
     "output_type": "execute_result"
    }
   ],
   "source": [
    "\"course\".isalpha()"
   ]
  },
  {
   "cell_type": "code",
   "execution_count": 35,
   "id": "7f1cc492-65f6-4d11-95e0-7cd7422fd47a",
   "metadata": {},
   "outputs": [
    {
     "data": {
      "text/plain": [
       "True"
      ]
     },
     "execution_count": 35,
     "metadata": {},
     "output_type": "execute_result"
    }
   ],
   "source": [
    "\"1234\".isdecimal()\n",
    "#it has decimal in variable"
   ]
  },
  {
   "cell_type": "code",
   "execution_count": 37,
   "id": "a548aee2-6d67-496f-8bde-9580d1c4735a",
   "metadata": {},
   "outputs": [
    {
     "data": {
      "text/plain": [
       "False"
      ]
     },
     "execution_count": 37,
     "metadata": {},
     "output_type": "execute_result"
    }
   ],
   "source": [
    "\"12.34\".isdecimal()\n",
    "#it has float in str"
   ]
  },
  {
   "cell_type": "code",
   "execution_count": 2,
   "id": "da3d2315-5cfe-4e8e-93a3-284f5ba05a8b",
   "metadata": {},
   "outputs": [],
   "source": [
    "text =\"\"\"The link to IBA Online Admissions System is available on IBA's website (www.iba.edu.pk). To apply online, applicants need to fill out an online Admission Application Form, print a bank challan and take it to the designated bank branches to deposit the admission processing fee.\"\"\""
   ]
  },
  {
   "cell_type": "code",
   "execution_count": 4,
   "id": "78536189-2c78-4604-9fad-79e699e91e1f",
   "metadata": {},
   "outputs": [
    {
     "data": {
      "text/plain": [
       "43"
      ]
     },
     "execution_count": 4,
     "metadata": {},
     "output_type": "execute_result"
    }
   ],
   "source": [
    "text.count(\" \")\n",
    "#counts spaces of above text"
   ]
  },
  {
   "cell_type": "code",
   "execution_count": 5,
   "id": "619de715-c66a-4eb3-bcc6-f4dbab041fe1",
   "metadata": {},
   "outputs": [
    {
     "name": "stdout",
     "output_type": "stream",
     "text": [
      "ThelinktoIBAOnlineAdmissionsSystemisavailableonIBA'swebsite(www.iba.edu.pk).Toapplyonline,applicantsneedtofilloutanonlineAdmissionApplicationForm,printabankchallanandtakeittothedesignatedbankbranchestodeposittheadmissionprocessingfee."
     ]
    }
   ],
   "source": [
    "for charecter in text:\n",
    "    if charecter.isspace():\n",
    "        continue\n",
    "    else:\n",
    "        print(charecter, end=\"\")"
   ]
  },
  {
   "cell_type": "markdown",
   "id": "1858664c-5990-493b-b366-11acbd3d9b3b",
   "metadata": {},
   "source": [
    "# Type Casting"
   ]
  },
  {
   "cell_type": "markdown",
   "id": "53d0c22a-7b6b-44a2-bac1-8bfe97a2e149",
   "metadata": {},
   "source": [
    "type casting is very useful for changing type of data to other, For Example:\n",
    "str>>>int----\n",
    "int>>>str----\n",
    "float>>>int----\n",
    "int>>>float----      , etc."
   ]
  },
  {
   "cell_type": "code",
   "execution_count": 6,
   "id": "25d2d83c-7538-4633-80bd-efbf5c64b13e",
   "metadata": {},
   "outputs": [
    {
     "data": {
      "text/plain": [
       "123"
      ]
     },
     "execution_count": 6,
     "metadata": {},
     "output_type": "execute_result"
    }
   ],
   "source": [
    "int(\"123\")   #here we are changing str to int"
   ]
  },
  {
   "cell_type": "code",
   "execution_count": 7,
   "id": "dc24965a-963a-4edf-8897-4120c17cc798",
   "metadata": {},
   "outputs": [
    {
     "data": {
      "text/plain": [
       "56"
      ]
     },
     "execution_count": 7,
     "metadata": {},
     "output_type": "execute_result"
    }
   ],
   "source": [
    "int(56.45)    #here we changing float to int"
   ]
  },
  {
   "cell_type": "code",
   "execution_count": 8,
   "id": "68a53e1b-fb82-4545-a388-a07cfff882ad",
   "metadata": {},
   "outputs": [
    {
     "ename": "ValueError",
     "evalue": "invalid literal for int() with base 10: '45.7'",
     "output_type": "error",
     "traceback": [
      "\u001b[1;31m---------------------------------------------------------------------------\u001b[0m",
      "\u001b[1;31mValueError\u001b[0m                                Traceback (most recent call last)",
      "Cell \u001b[1;32mIn[8], line 1\u001b[0m\n\u001b[1;32m----> 1\u001b[0m \u001b[38;5;28mint\u001b[39m(\u001b[38;5;124m\"\u001b[39m\u001b[38;5;124m45.7\u001b[39m\u001b[38;5;124m\"\u001b[39m)\n",
      "\u001b[1;31mValueError\u001b[0m: invalid literal for int() with base 10: '45.7'"
     ]
    }
   ],
   "source": [
    "int(\"45.7\") #here it shows error for casting it would want double casting"
   ]
  },
  {
   "cell_type": "code",
   "execution_count": 9,
   "id": "2b395a5a-8053-43c2-9677-f352d6c548ee",
   "metadata": {},
   "outputs": [
    {
     "data": {
      "text/plain": [
       "45"
      ]
     },
     "execution_count": 9,
     "metadata": {},
     "output_type": "execute_result"
    }
   ],
   "source": [
    "int(float(\"45.7\"))"
   ]
  },
  {
   "cell_type": "code",
   "execution_count": 10,
   "id": "a9a2b296-1e17-4094-bedb-538fe41cb1c0",
   "metadata": {},
   "outputs": [
    {
     "data": {
      "text/plain": [
       "45.7"
      ]
     },
     "execution_count": 10,
     "metadata": {},
     "output_type": "execute_result"
    }
   ],
   "source": [
    "float(\"45.7\")"
   ]
  },
  {
   "cell_type": "code",
   "execution_count": 11,
   "id": "dcb5631d-1941-4075-9a74-852e423e4ed5",
   "metadata": {},
   "outputs": [
    {
     "ename": "ValueError",
     "evalue": "invalid literal for int() with base 10: 'apple'",
     "output_type": "error",
     "traceback": [
      "\u001b[1;31m---------------------------------------------------------------------------\u001b[0m",
      "\u001b[1;31mValueError\u001b[0m                                Traceback (most recent call last)",
      "Cell \u001b[1;32mIn[11], line 1\u001b[0m\n\u001b[1;32m----> 1\u001b[0m \u001b[38;5;28mint\u001b[39m(\u001b[38;5;124m\"\u001b[39m\u001b[38;5;124mapple\u001b[39m\u001b[38;5;124m\"\u001b[39m)\n",
      "\u001b[1;31mValueError\u001b[0m: invalid literal for int() with base 10: 'apple'"
     ]
    }
   ],
   "source": [
    "int(\"apple\") # it will not be casted because there should be a numeric value for int and float casting otherwise it will shows error"
   ]
  },
  {
   "cell_type": "markdown",
   "id": "c20a3560-95e3-4f88-8c37-c23f47444a56",
   "metadata": {},
   "source": [
    "# user inputs"
   ]
  },
  {
   "cell_type": "code",
   "execution_count": 12,
   "id": "59ef4bc6-9f5f-4199-8d10-96223724e2db",
   "metadata": {},
   "outputs": [
    {
     "name": "stdin",
     "output_type": "stream",
     "text": [
      "please tell me your name saifuddin\n"
     ]
    }
   ],
   "source": [
    "name = input(\"please tell me your name\")"
   ]
  },
  {
   "cell_type": "code",
   "execution_count": 13,
   "id": "1046a5b7-6f03-4053-9b60-0241381f469d",
   "metadata": {},
   "outputs": [
    {
     "name": "stdin",
     "output_type": "stream",
     "text": [
      "please tell me your name Saifuddin\n"
     ]
    },
    {
     "name": "stdout",
     "output_type": "stream",
     "text": [
      "Saifuddin\n"
     ]
    }
   ],
   "source": [
    "name = input(\"please tell me your name\")\n",
    "print(name)"
   ]
  },
  {
   "cell_type": "raw",
   "id": "3a7c7852-5a31-4131-9ffa-1f1c2acf0953",
   "metadata": {},
   "source": [
    "incase of pending input in any cell or starred cell, next cell will not run before you complete or execute pending inputs "
   ]
  },
  {
   "cell_type": "code",
   "execution_count": 17,
   "id": "fc87d04e-04de-4e70-8e78-6b623ac1f81a",
   "metadata": {},
   "outputs": [
    {
     "name": "stdin",
     "output_type": "stream",
     "text": [
      "please tell me your name Saifuddin\n",
      "please enter yor age 19\n"
     ]
    },
    {
     "name": "stdout",
     "output_type": "stream",
     "text": [
      "<class 'str'>\n",
      "<class 'str'>\n"
     ]
    }
   ],
   "source": [
    "name = input(\"please tell me your name\")\n",
    "age = input(\"please enter yor age\")\n",
    "\n",
    "print(type(name))\n",
    "print(type(age))\n",
    "\n",
    "#here type of name and age showing whenever we enter a value from console whatever we write str-int-bool\n",
    "#it's type wil be showed as str in all programming languages"
   ]
  },
  {
   "cell_type": "code",
   "execution_count": 18,
   "id": "74de2226-b038-45ab-845c-82b9dd59dab1",
   "metadata": {},
   "outputs": [
    {
     "name": "stdin",
     "output_type": "stream",
     "text": [
      "please tell me your name Saifuddin\n",
      "please enter yor age 19\n"
     ]
    },
    {
     "name": "stdout",
     "output_type": "stream",
     "text": [
      "<class 'str'>\n",
      "<class 'int'>\n"
     ]
    }
   ],
   "source": [
    "#but we use type casting to change the class of value\n",
    "name = input(\"please tell me your name\")\n",
    "age = int(input(\"please enter yor age\"))\n",
    "\n",
    "print(type(name))\n",
    "print(type(age))"
   ]
  },
  {
   "cell_type": "code",
   "execution_count": 19,
   "id": "50383e75-9ebe-4b5f-b32a-3e98873c854b",
   "metadata": {},
   "outputs": [
    {
     "name": "stdin",
     "output_type": "stream",
     "text": [
      "please tell me your name Saifuddin\n",
      "please enter yor age 19.5\n"
     ]
    },
    {
     "name": "stdout",
     "output_type": "stream",
     "text": [
      "<class 'str'>\n",
      "<class 'float'>\n"
     ]
    }
   ],
   "source": [
    "#for float values\n",
    "name = input(\"please tell me your name\")\n",
    "age = float(input(\"please enter yor age\"))\n",
    "\n",
    "print(type(name))\n",
    "print(type(age))"
   ]
  },
  {
   "cell_type": "markdown",
   "id": "453edee3-4cec-4639-866a-9861096db9ab",
   "metadata": {},
   "source": [
    "# String Concatenation / String Formation\n",
    "           concatenation means joining / join strings with eachother"
   ]
  },
  {
   "cell_type": "code",
   "execution_count": 21,
   "id": "12ffd0bf-b67b-448e-988b-3f1c2f9d20d2",
   "metadata": {},
   "outputs": [],
   "source": [
    "firstname = \"Saifuddin\"\n",
    "lastname = \"Hanif\""
   ]
  },
  {
   "cell_type": "code",
   "execution_count": 24,
   "id": "57c6785e-91dc-41ab-811d-27f412493f34",
   "metadata": {},
   "outputs": [
    {
     "data": {
      "text/plain": [
       "'SaifuddinHanif'"
      ]
     },
     "execution_count": 24,
     "metadata": {},
     "output_type": "execute_result"
    }
   ],
   "source": [
    "#concating first name and last name by + operater but called as joining or concatig operater\n",
    "firstname+lastname"
   ]
  },
  {
   "cell_type": "code",
   "execution_count": 25,
   "id": "72c11f82-5c28-44b1-978c-8fd3fb13234c",
   "metadata": {},
   "outputs": [
    {
     "data": {
      "text/plain": [
       "'Saifuddin Hanif'"
      ]
     },
     "execution_count": 25,
     "metadata": {},
     "output_type": "execute_result"
    }
   ],
   "source": [
    "firstname+\" \"+lastname"
   ]
  },
  {
   "cell_type": "code",
   "execution_count": 26,
   "id": "f1a29628-c1ef-4c5a-b954-906a217789ae",
   "metadata": {},
   "outputs": [
    {
     "data": {
      "text/plain": [
       "19.5"
      ]
     },
     "execution_count": 26,
     "metadata": {},
     "output_type": "execute_result"
    }
   ],
   "source": [
    "age"
   ]
  },
  {
   "cell_type": "code",
   "execution_count": 27,
   "id": "9fc4ee1d-db3b-4a45-a344-851e99c89580",
   "metadata": {},
   "outputs": [
    {
     "ename": "TypeError",
     "evalue": "can only concatenate str (not \"float\") to str",
     "output_type": "error",
     "traceback": [
      "\u001b[1;31m---------------------------------------------------------------------------\u001b[0m",
      "\u001b[1;31mTypeError\u001b[0m                                 Traceback (most recent call last)",
      "Cell \u001b[1;32mIn[27], line 1\u001b[0m\n\u001b[1;32m----> 1\u001b[0m firstname\u001b[38;5;241m+\u001b[39mlastname\u001b[38;5;241m+\u001b[39mage\n",
      "\u001b[1;31mTypeError\u001b[0m: can only concatenate str (not \"float\") to str"
     ]
    }
   ],
   "source": [
    "firstname+lastname+age"
   ]
  },
  {
   "cell_type": "raw",
   "id": "5690f511-fb30-49f6-ae99-6b392f1b1864",
   "metadata": {},
   "source": [
    "if we type cast here age by str whatever it was (int or float both not concatenate with str) it will change the type of value which causes effect in operations later so we not change genuine value but modify it in where we concatenating. so we don't cast on cell 26 but cell 27."
   ]
  },
  {
   "cell_type": "code",
   "execution_count": 28,
   "id": "f1e27cb8-ef05-4056-876b-af60c05d8729",
   "metadata": {},
   "outputs": [
    {
     "data": {
      "text/plain": [
       "'SaifuddinHanif19.5'"
      ]
     },
     "execution_count": 28,
     "metadata": {},
     "output_type": "execute_result"
    }
   ],
   "source": [
    "firstname+lastname+str(age)"
   ]
  },
  {
   "cell_type": "code",
   "execution_count": 30,
   "id": "3ed8c8ac-b2d3-498e-be64-3befaea27ca5",
   "metadata": {},
   "outputs": [
    {
     "data": {
      "text/plain": [
       "float"
      ]
     },
     "execution_count": 30,
     "metadata": {},
     "output_type": "execute_result"
    }
   ],
   "source": [
    "#here geniune value is\n",
    "type(age)"
   ]
  },
  {
   "cell_type": "code",
   "execution_count": 31,
   "id": "39de69ee-9656-47e0-b9af-f40cabc7b71d",
   "metadata": {},
   "outputs": [
    {
     "name": "stdin",
     "output_type": "stream",
     "text": [
      "please tell me your name Saifuddin\n",
      "please enter yor age 19\n"
     ]
    },
    {
     "name": "stdout",
     "output_type": "stream",
     "text": [
      "Your name is Saifuddin. Your age is 19\n"
     ]
    }
   ],
   "source": [
    "name = input(\"please tell me your name\")\n",
    "age = int(input(\"please enter yor age\"))\n",
    "#your name is Saifuddin. Your age is 19.0\n",
    "print(\"Your name is \"+name+\". Your age is \"+str(age))"
   ]
  },
  {
   "cell_type": "markdown",
   "id": "406a8579-1013-4028-9691-be84cf77b389",
   "metadata": {},
   "source": [
    "# String Format"
   ]
  },
  {
   "cell_type": "code",
   "execution_count": 35,
   "id": "63c9ba18-f19e-4091-98d8-60a8a5cfdd7f",
   "metadata": {},
   "outputs": [
    {
     "name": "stdin",
     "output_type": "stream",
     "text": [
      "please tell me your name Saifuddin\n",
      "please enter yor age 19\n"
     ]
    },
    {
     "name": "stdout",
     "output_type": "stream",
     "text": [
      "Your name is Saifuddin. Your age is 19.\n"
     ]
    }
   ],
   "source": [
    "#first value of format goes to first bracket and second goes to second bracket\n",
    "#index position of first bracket is 0 and second is 1\n",
    "#these brackets are called place holder\n",
    "name = input(\"please tell me your name\")\n",
    "age = int(input(\"please enter yor age\"))\n",
    "text = \"Your name is {0}. Your age is {1}.\".format(name,age)\n",
    "print(text)"
   ]
  },
  {
   "cell_type": "code",
   "execution_count": 38,
   "id": "3657b1fd-f347-469e-93cc-8237b25cf6d4",
   "metadata": {},
   "outputs": [
    {
     "name": "stdin",
     "output_type": "stream",
     "text": [
      "please tell me your name Saifuddin\n",
      "please enter yor age 19\n"
     ]
    },
    {
     "name": "stdout",
     "output_type": "stream",
     "text": [
      "Your name is Saifuddin. Your age is 19.\n"
     ]
    }
   ],
   "source": [
    "name = input(\"please tell me your name\")\n",
    "age = int(input(\"please enter yor age\"))\n",
    "text = f\"Your name is {name}. Your age is {age}.\"\n",
    "print(text)"
   ]
  },
  {
   "cell_type": "code",
   "execution_count": 42,
   "id": "e10563c4-dde9-4d91-8a35-d8d14baf7853",
   "metadata": {},
   "outputs": [
    {
     "name": "stdin",
     "output_type": "stream",
     "text": [
      "your name SAIFUDDIN HANIF\n",
      "father name MUHAMMAD HANIF\n",
      "studentid 371344\n",
      "your age 19\n",
      "gender MALE\n",
      "course ARTIFICIAL INTELLIGENCE AND DATA SCIENCE\n",
      "institute ZAITOON ASHRAF IT PARK\n",
      "address YOUSAF GOTH BALDIA TOWN KEMARI Karachi\n"
     ]
    },
    {
     "name": "stdout",
     "output_type": "stream",
     "text": [
      "\n",
      "\n",
      "                  STUDENT IDENTITY CARD\n",
      "                  _____________________\n",
      "            STUDENT NAME : SAIFUDDIN HANIF\n",
      "            FATHER NAME  : MUHAMMAD HANIF\n",
      "            STUDENT ID   : 371344\n",
      "            AGE          : 19\n",
      "            GENDER       : MALE\n",
      "            COURSE       : ARTIFICIAL INTELLIGENCE AND DATA SCIENCE\n",
      "            INSTITUTE    : ZAITOON ASHRAF IT PARK\n",
      "            ADDRESS      : YOUSAF GOTH BALDIA TOWN KEMARI Karachi\n",
      "\n",
      "                 NOTE: IF FOUND RETURN TO THE SMIT\n",
      "\n",
      "\n",
      "\n",
      "\n",
      "\n",
      "\n",
      "\n",
      "\n",
      "\n"
     ]
    }
   ],
   "source": [
    "studentname=input(\"your name\")\n",
    "fathername=input(\"father name\")\n",
    "studentid=input(\"studentid\")\n",
    "age=int(float(input(\"your age\")))\n",
    "gender=input(\"gender\")\n",
    "course=input(\"course\")\n",
    "institute=input(\"institute\")\n",
    "address=input(\"address\")\n",
    "\n",
    "print(f\"\"\"\n",
    "\n",
    "                  STUDENT IDENTITY CARD\n",
    "                  _____________________\n",
    "            STUDENT NAME : {studentname}\n",
    "            FATHER NAME  : {fathername}\n",
    "            STUDENT ID   : {studentid}\n",
    "            AGE          : {age}\n",
    "            GENDER       : {gender}\n",
    "            COURSE       : {course}\n",
    "            INSTITUTE    : {institute}\n",
    "            ADDRESS      : {address}\n",
    "\n",
    "                 NOTE: IF FOUND RETURN TO THE SMIT\n",
    "\n",
    "\n",
    "\n",
    "\n",
    "\n",
    "\n",
    "\n",
    "\n",
    "\"\"\")"
   ]
  },
  {
   "cell_type": "code",
   "execution_count": null,
   "id": "cc51f4f8-ff00-4f60-8aa0-a21b5342212a",
   "metadata": {},
   "outputs": [],
   "source": []
  }
 ],
 "metadata": {
  "kernelspec": {
   "display_name": "Python 3 (ipykernel)",
   "language": "python",
   "name": "python3"
  },
  "language_info": {
   "codemirror_mode": {
    "name": "ipython",
    "version": 3
   },
   "file_extension": ".py",
   "mimetype": "text/x-python",
   "name": "python",
   "nbconvert_exporter": "python",
   "pygments_lexer": "ipython3",
   "version": "3.12.7"
  }
 },
 "nbformat": 4,
 "nbformat_minor": 5
}
