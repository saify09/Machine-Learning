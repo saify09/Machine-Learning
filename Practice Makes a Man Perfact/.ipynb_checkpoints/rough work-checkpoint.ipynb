{
 "cells": [
  {
   "cell_type": "code",
   "execution_count": 1,
   "id": "650bfe79-7728-4b31-9932-16bda189df25",
   "metadata": {
    "scrolled": true
   },
   "outputs": [
    {
     "name": "stdin",
     "output_type": "stream",
     "text": [
      "is today is election day?True/False yes\n",
      "do you have a valid cnic? yes\n",
      "is your name is in list? yes\n"
     ]
    },
    {
     "name": "stdout",
     "output_type": "stream",
     "text": [
      "You Can Cast Vote\n"
     ]
    }
   ],
   "source": [
    "# to cast a vote\n",
    "#CNIC\n",
    "#VOTER LIST\n",
    "#ELECTION DAY\n",
    "\n",
    "election_day = input (\"is today is election day?True/False\")\n",
    "cnic = input (\"do you have a valid cnic?\")\n",
    "voter_list = input(\"is your name is in list?\")\n",
    "if election_day == \"yes\":\n",
    "    if cnic == \"yes\":\n",
    "        if voter_list == \"yes\":\n",
    "            print(\"You Can Cast Vote\")\n",
    "        else:\n",
    "            print(\"Your name is not in voter list.You can not cast vote\")\n",
    "    else:\n",
    "        print(\"You have not a valid cnic.You can not cast vote\")\n",
    "else:\n",
    "    print(\"Today is not election day.You can not cast vote\")"
   ]
  },
  {
   "cell_type": "code",
   "execution_count": 24,
   "id": "bd5adb75-8426-4b16-987f-a216372836c8",
   "metadata": {},
   "outputs": [
    {
     "name": "stdin",
     "output_type": "stream",
     "text": [
      "enter you salary 60000\n",
      "years of experience 10\n"
     ]
    },
    {
     "name": "stdout",
     "output_type": "stream",
     "text": [
      "you have Bonus of Rs60000.0\n",
      "new_salary=120000.0\n"
     ]
    }
   ],
   "source": [
    " salary = int(float(input(\"enter you salary\")))\n",
    "experience = int(float(input(\"years of experience\")))\n",
    "if experience >= 10:\n",
    "    bonus = salary * (100 / 100)  # 100% bonus\n",
    "elif experience >= 5:\n",
    "    bonus = salary * (50 / 100)   # 50% bonus\n",
    "elif experience >= 0:\n",
    "    bonus = salary * (10 / 100)   # 10% bonus for less than 5 years\n",
    "print(f\"you have Bonus of Rs{bonus}\")\n",
    "print(f\"new_salary={salary+bonus}\")"
   ]
  },
  {
   "cell_type": "code",
   "execution_count": 25,
   "id": "1b821920-2cdb-4fd1-bf2c-1976b7637e19",
   "metadata": {},
   "outputs": [
    {
     "name": "stdin",
     "output_type": "stream",
     "text": [
      "enter you salary 60000\n",
      "years of experience 5\n"
     ]
    },
    {
     "name": "stdout",
     "output_type": "stream",
     "text": [
      "you have Bonus of Rs30000.0\n",
      "new_salary=90000.0\n"
     ]
    }
   ],
   "source": [
    "salary = int(float(input(\"enter you salary\")))\n",
    "experience = int(float(input(\"years of experience\")))\n",
    "if experience >= 10:\n",
    "    bonus = salary * (100 / 100)  # 100% bonus\n",
    "elif experience >= 5:\n",
    "    bonus = salary * (50 / 100)   # 50% bonus\n",
    "elif experience >= 0:\n",
    "    bonus = salary * (10 / 100)   # 10% bonus for less than 5 years\n",
    "print(f\"you have Bonus of Rs{bonus}\")\n",
    "print(f\"new_salary={salary+bonus}\")"
   ]
  },
  {
   "cell_type": "code",
   "execution_count": 26,
   "id": "8dead71e-863a-4b6f-80c1-5353ddb81b56",
   "metadata": {},
   "outputs": [
    {
     "name": "stdin",
     "output_type": "stream",
     "text": [
      "enter you salary 60000\n",
      "years of experience 4\n"
     ]
    },
    {
     "name": "stdout",
     "output_type": "stream",
     "text": [
      "you have Bonus of Rs6000.0\n",
      "new_salary=66000.0\n"
     ]
    }
   ],
   "source": [
    "salary = int(float(input(\"enter you salary\")))\n",
    "experience = int(float(input(\"years of experience\")))\n",
    "if experience >= 10:\n",
    "    bonus = salary * (100 / 100)  # 100% bonus\n",
    "elif experience >= 5:\n",
    "    bonus = salary * (50 / 100)   # 50% bonus\n",
    "elif experience >= 0:\n",
    "    bonus = salary * (10 / 100)   # 10% bonus for less than 5 years\n",
    "print(f\"you have Bonus of Rs{bonus}\")\n",
    "print(f\"new_salary={salary+bonus}\")"
   ]
  },
  {
   "cell_type": "markdown",
   "id": "81c5d1dc-591c-4eaa-b2d8-259d0c9d3ace",
   "metadata": {},
   "source": [
    "# python collections : python data structures\n",
    "list\n",
    "\n",
    "tuple\n",
    "\n",
    "dictionary\n",
    "\n",
    "set"
   ]
  },
  {
   "cell_type": "code",
   "execution_count": 8,
   "id": "b6e5fb29-cef3-461a-a8a2-ca4a295c4c6b",
   "metadata": {},
   "outputs": [],
   "source": [
    "courses= [\"mobile, apple, sasung, tecno \"]"
   ]
  },
  {
   "cell_type": "code",
   "execution_count": 6,
   "id": "bcd7857e-82ef-4dcb-9f25-97dd850ce0b9",
   "metadata": {},
   "outputs": [],
   "source": [
    "courses.clear()"
   ]
  },
  {
   "cell_type": "code",
   "execution_count": 9,
   "id": "66bddd95-1531-4236-87da-cf5b80436842",
   "metadata": {},
   "outputs": [
    {
     "data": {
      "text/plain": [
       "['mobile, apple, sasung, tecno ']"
      ]
     },
     "execution_count": 9,
     "metadata": {},
     "output_type": "execute_result"
    }
   ],
   "source": [
    "courses"
   ]
  },
  {
   "cell_type": "code",
   "execution_count": 1,
   "id": "36196d0a-f2b5-4c9b-a9e4-c0a8ce9c7303",
   "metadata": {},
   "outputs": [],
   "source": [
    "subjects = [\"English, Urdu, Pakistan Studies, Mathematics, Chemistry, Biology, Physics, Sindhi, Islamiat\"]"
   ]
  },
  {
   "cell_type": "code",
   "execution_count": 2,
   "id": "18a736da-a565-4bb6-b1ea-bae93f8a6f20",
   "metadata": {},
   "outputs": [
    {
     "name": "stdout",
     "output_type": "stream",
     "text": [
      "<class 'list'>\n"
     ]
    }
   ],
   "source": [
    "print(type(subjects))"
   ]
  },
  {
   "cell_type": "code",
   "execution_count": 13,
   "id": "55925c65-4721-43cd-948a-80f4dc427a4a",
   "metadata": {},
   "outputs": [
    {
     "name": "stdout",
     "output_type": "stream",
     "text": [
      "['English, Urdu, Pakistan Studies, Mathematics, Chemistry, Biology, Physics, Sindhi, Islamiat'] <class 'list'>\n"
     ]
    }
   ],
   "source": [
    "print(subjects,type(subjects))"
   ]
  },
  {
   "cell_type": "code",
   "execution_count": 18,
   "id": "5ec4a5b7-dcdd-4a00-b50e-7e98c3758fb1",
   "metadata": {},
   "outputs": [],
   "source": [
    "dd = [\"yt\"]"
   ]
  },
  {
   "cell_type": "code",
   "execution_count": 19,
   "id": "9cb9bc66-7efe-4e69-a193-8cf725d674b1",
   "metadata": {},
   "outputs": [
    {
     "data": {
      "text/plain": [
       "list"
      ]
     },
     "execution_count": 19,
     "metadata": {},
     "output_type": "execute_result"
    }
   ],
   "source": [
    "type(dd)"
   ]
  },
  {
   "cell_type": "code",
   "execution_count": 2,
   "id": "d54c7712-9065-428c-a766-8f8bab10682f",
   "metadata": {},
   "outputs": [
    {
     "name": "stdin",
     "output_type": "stream",
     "text": [
      "enter your name MUHAMMAD SHUKAIB\n",
      "enter your father name MUHAMMAD HANIF\n",
      "enter your roll number 09\n",
      "enter your class 8TH\n",
      "enter your section BOYS\n",
      "enter your address YOUSAF GOTH\n"
     ]
    },
    {
     "name": "stdout",
     "output_type": "stream",
     "text": [
      "\n",
      "                        STUDENT IDENTITY CARD\n",
      "                        _____________________\n",
      "                NAME        :    MUHAMMAD SHUKAIB\n",
      "                FATHER NAME :    MUHAMMAD HANIF\n",
      "                ROLL NUMBER :    09\n",
      "                CLASS       :    8TH\n",
      "                SECTION     :    BOYS\n",
      "                ADDRESS     :    YOUSAF GOTH\n",
      "\n",
      "                  NOTE : IF LOST RS-50 WILL BE CHARGED\n",
      "\n",
      "\n",
      "\n",
      "\n",
      "\n"
     ]
    }
   ],
   "source": [
    "name=input(\"enter your name\")\n",
    "father=input(\"enter your father name\")\n",
    "roll=input(\"enter your roll number\")\n",
    "clas=input(\"enter your class\")\n",
    "section=input(\"enter your section\")\n",
    "adress=input(\"enter your address\")\n",
    "print(f\"\"\"\n",
    "                        STUDENT IDENTITY CARD\n",
    "                        _____________________\n",
    "                NAME        :    {name}\n",
    "                FATHER NAME :    {father}\n",
    "                ROLL NUMBER :    {roll}\n",
    "                CLASS       :    {clas}\n",
    "                SECTION     :    {section}\n",
    "                ADDRESS     :    {adress}\n",
    "\n",
    "                  NOTE : IF LOST RS-50 WILL BE CHARGED\n",
    "\n",
    "\n",
    "\n",
    "\n",
    "\"\"\")"
   ]
  },
  {
   "cell_type": "code",
   "execution_count": 5,
   "id": "74de8e35-93ae-4865-9f59-06ca9ce66fc9",
   "metadata": {},
   "outputs": [
    {
     "name": "stdin",
     "output_type": "stream",
     "text": [
      "enter your name MUHAMMAD SHUKAIB\n",
      "enter your father name MUHAMMAD HANIF\n",
      "enter your roll number 09\n",
      "enter your gr no 2127\n",
      "enter your class 8th\n",
      "enter your section BOYS\n",
      "enter your address YOUSAF GOTH BALDIA TOWN KARACHI\n"
     ]
    },
    {
     "name": "stdout",
     "output_type": "stream",
     "text": [
      "\n",
      "                        STUDENT IDENTITY CARD\n",
      "                        _____________________\n",
      "                NAME        :    MUHAMMAD SHUKAIB\n",
      "                FATHER NAME :    MUHAMMAD HANIF\n",
      "                ROLL NUMBER :    09\n",
      "                G.R NUMBER  :    2127\n",
      "                CLASS       :    8th\n",
      "                SECTION     :    BOYS\n",
      "                ADDRESS     :    YOUSAF GOTH BALDIA TOWN KARACHI\n",
      "\n",
      "                  NOTE : IF LOST RS-50 WILL BE CHARGED\n",
      "\n",
      "\n",
      "\n",
      "\n",
      "\n"
     ]
    }
   ],
   "source": [
    "name=input(\"enter your name\")\n",
    "father=input(\"enter your father name\")\n",
    "roll=input(\"enter your roll number\")\n",
    "gr=input(\"enter your gr no\")\n",
    "clas=input(\"enter your class\")\n",
    "section=input(\"enter your section\")\n",
    "adress=input(\"enter your address\")\n",
    "print(f\"\"\"\n",
    "                        STUDENT IDENTITY CARD\n",
    "                        _____________________\n",
    "                NAME        :    {name}\n",
    "                FATHER NAME :    {father}\n",
    "                ROLL NUMBER :    {roll}\n",
    "                G.R NUMBER  :    {gr}\n",
    "                CLASS       :    {clas}\n",
    "                SECTION     :    {section}\n",
    "                ADDRESS     :    {adress}\n",
    "\n",
    "                  NOTE : IF LOST RS-50 WILL BE CHARGED\n",
    "\n",
    "\n",
    "\n",
    "\n",
    "\"\"\")"
   ]
  },
  {
   "cell_type": "markdown",
   "id": "62726925-7282-4ad5-b7b9-dca09e5ae757",
   "metadata": {},
   "source": [
    "# Functions:\n",
    "      - to reduce codee\n",
    "      - code readibility\n",
    "      - easy code debugging\n",
    "      - reduce redundancy"
   ]
  },
  {
   "cell_type": "code",
   "execution_count": 1,
   "id": "8b90a2f5-8059-41fc-a911-90bdc897bfc6",
   "metadata": {},
   "outputs": [],
   "source": [
    "def identity_card():\n",
    "    name=input(\"enter your name\")\n",
    "    father=input(\"enter your father name\")\n",
    "    roll=input(\"enter your roll number\")\n",
    "    gr=input(\"enter your gr no\")\n",
    "    clas=input(\"enter your class\")\n",
    "    section=input(\"enter your section\")\n",
    "    adress=input(\"enter your address\")\n",
    "    print(f\"\"\"\n",
    "                            STUDENT IDENTITY CARD\n",
    "                            _____________________\n",
    "                    NAME        :    {name}\n",
    "                    FATHER NAME :    {father}\n",
    "                    ROLL NUMBER :    {roll}\n",
    "                    G.R NUMBER  :    {gr}\n",
    "                    CLASS       :    {clas}\n",
    "                    SECTION     :    {section}\n",
    "                    ADDRESS     :    {adress}\n",
    "    \n",
    "                      NOTE : IF LOST RS-50 WILL BE CHARGED\"\"\")"
   ]
  },
  {
   "cell_type": "code",
   "execution_count": 2,
   "id": "791171b3-9c6d-4910-bbbd-9df7d11eeb08",
   "metadata": {},
   "outputs": [
    {
     "name": "stdin",
     "output_type": "stream",
     "text": [
      "enter your name SAIFUDDIN\n",
      "enter your father name MUHAMMAD HANIF\n",
      "enter your roll number 371344\n",
      "enter your gr no 2124\n",
      "enter your class 2nd Year\n",
      "enter your section BOYS\n",
      "enter your address YOUSAF GOTH BALDIA TOWN KARACHII\n"
     ]
    },
    {
     "name": "stdout",
     "output_type": "stream",
     "text": [
      "\n",
      "                            STUDENT IDENTITY CARD\n",
      "                            _____________________\n",
      "                    NAME        :    SAIFUDDIN\n",
      "                    FATHER NAME :    MUHAMMAD HANIF\n",
      "                    ROLL NUMBER :    371344\n",
      "                    G.R NUMBER  :    2124\n",
      "                    CLASS       :    2nd Year\n",
      "                    SECTION     :    BOYS\n",
      "                    ADDRESS     :    YOUSAF GOTH BALDIA TOWN KARACHII\n",
      "    \n",
      "                      NOTE : IF LOST RS-50 WILL BE CHARGED\n"
     ]
    }
   ],
   "source": [
    "identity_card()"
   ]
  },
  {
   "cell_type": "code",
   "execution_count": 9,
   "id": "c550ff9f-278c-49ef-829d-1e60911f01cf",
   "metadata": {},
   "outputs": [],
   "source": [
    "def Grocery_list():\n",
    "    grocery_list = []\n",
    "    while True:\n",
    "        product = input(\"Enter Grocery Product + Quantity : Type stop for break   \").lower()\n",
    "        if product == 'stop':\n",
    "            break\n",
    "        else:\n",
    "            grocery_list.append(product)\n",
    "    print(f'\\nGrocery_list = {grocery_list}')"
   ]
  },
  {
   "cell_type": "code",
   "execution_count": 10,
   "id": "1204f271-62db-4fb7-8ba3-25d4721e4635",
   "metadata": {},
   "outputs": [
    {
     "name": "stdin",
     "output_type": "stream",
     "text": [
      "Enter Grocery Product + Quantity : Type stop for break aata  50kg\n",
      "Enter Grocery Product + Quantity : Type stop for break stop\n"
     ]
    },
    {
     "name": "stdout",
     "output_type": "stream",
     "text": [
      "\n",
      "Grocery_list = ['aata  50kg']\n"
     ]
    }
   ],
   "source": [
    "Grocery_list()"
   ]
  },
  {
   "cell_type": "code",
   "execution_count": 16,
   "id": "d5d38eff-26f5-407d-903f-f3914d1c84d9",
   "metadata": {},
   "outputs": [],
   "source": [
    "def Result():\n",
    "    grade = input(\"Enter your grade: \").upper()\n",
    "    if grade == 'A+':\n",
    "        print(\"CONGRATULATIONS YOU ARE PASS!\")\n",
    "    elif grade == 'A':\n",
    "        print(\"CONGRATULATIONS YOU ARE PASS!\")\n",
    "    elif grade == 'B':\n",
    "        print(\"CONGRATULATIONS YOU ARE PASS!\")\n",
    "    elif grade == 'C':\n",
    "        print(\"CONGRATULATIONS YOU ARE PASS!\")\n",
    "    if grade == 'D':\n",
    "        print(\"CONGRATULATIONS YOU ARE PASS!\")\n",
    "    elif grade == 'E':\n",
    "        print(\"HARD LUCK YOU ARE FAIL!\")"
   ]
  },
  {
   "cell_type": "code",
   "execution_count": 22,
   "id": "a3b10c6b-53ef-49c6-a0bb-29f7ca00e739",
   "metadata": {},
   "outputs": [],
   "source": [
    "del Result"
   ]
  },
  {
   "cell_type": "code",
   "execution_count": 23,
   "id": "c6d66e04-cb4f-4872-a391-41ec0139273e",
   "metadata": {},
   "outputs": [
    {
     "ename": "NameError",
     "evalue": "name 'Result' is not defined",
     "output_type": "error",
     "traceback": [
      "\u001b[1;31m---------------------------------------------------------------------------\u001b[0m",
      "\u001b[1;31mNameError\u001b[0m                                 Traceback (most recent call last)",
      "Cell \u001b[1;32mIn[23], line 1\u001b[0m\n\u001b[1;32m----> 1\u001b[0m Result()\n",
      "\u001b[1;31mNameError\u001b[0m: name 'Result' is not defined"
     ]
    }
   ],
   "source": [
    "Result()"
   ]
  },
  {
   "cell_type": "code",
   "execution_count": null,
   "id": "1c8cd4a7-5924-4d34-8db8-f554a9d90930",
   "metadata": {},
   "outputs": [],
   "source": []
  }
 ],
 "metadata": {
  "kernelspec": {
   "display_name": "Python 3 (ipykernel)",
   "language": "python",
   "name": "python3"
  },
  "language_info": {
   "codemirror_mode": {
    "name": "ipython",
    "version": 3
   },
   "file_extension": ".py",
   "mimetype": "text/x-python",
   "name": "python",
   "nbconvert_exporter": "python",
   "pygments_lexer": "ipython3",
   "version": "3.12.7"
  }
 },
 "nbformat": 4,
 "nbformat_minor": 5
}
