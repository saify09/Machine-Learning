{
 "cells": [
  {
   "cell_type": "code",
   "execution_count": 2,
   "id": "34a3a327-fae4-4780-bd88-863d61262d46",
   "metadata": {},
   "outputs": [],
   "source": [
    "papo_bhai_easyload = {'handsfree':{'price':250, 'quantity':100}, \n",
    "                      'charger':{'price':500, 'quantity':10},\n",
    "                      \"data_cable\":{'price':150, 'quantity':30},\n",
    "                      'power_bank':{'price':3000, 'quantity':5}, \n",
    "                      'usb':{'price':800, 'quantity':10}, \n",
    "                      'earbuds':{'price':2000, 'quantity':10},\n",
    "                      'mobile_cover':{'price':400, 'quantity':25},\n",
    "                      'protector':{'price':150, 'quantity':100}, \n",
    "                      'mouse':{'price':500, 'quantity':12}, \n",
    "                      'keyboard':{'price':1000, 'quantity':5},\n",
    "                      'mouse_pad':{'price':100, 'quantity':100}}"
   ]
  },
  {
   "cell_type": "code",
   "execution_count": 7,
   "id": "e7aed771-8249-48ce-906c-ed91e946f6ea",
   "metadata": {},
   "outputs": [
    {
     "name": "stdin",
     "output_type": "stream",
     "text": [
      "Kia chaye? usb\n"
     ]
    },
    {
     "name": "stdout",
     "output_type": "stream",
     "text": [
      "usb is of Rs. 800\n"
     ]
    },
    {
     "name": "stdin",
     "output_type": "stream",
     "text": [
      "Kinte chahye hen? 1\n",
      "Or kutch chahye nahi\n"
     ]
    },
    {
     "name": "stdout",
     "output_type": "stream",
     "text": [
      "1 usb k total 800 hogae\n",
      "Total purchased amt: 800\n",
      "Discount amt: 0\n",
      "Amount payable: 800\n"
     ]
    }
   ],
   "source": [
    "total = 0\n",
    "while True:\n",
    "    item = input(f\"Kia chaye?\").lower()\n",
    "    if item in papo_bhai_easyload:\n",
    "        print(f\"{item} is of Rs. {papo_bhai_easyload[item]['price']}\")\n",
    "        quantity = int(input(\"Kinte chahye hen?\"))\n",
    "        if quantity<=papo_bhai_easyload[item]['quantity']:\n",
    "            total += quantity*papo_bhai_easyload[item]['price'] \n",
    "            \n",
    "            if total>=50000:\n",
    "                 discount = total*0.02\n",
    "            elif total>=25000:\n",
    "                 discount = total*0.01\n",
    "            else:\n",
    "                discount = total*0\n",
    "            papo_bhai_easyload[item]['quantity']-=quantity\n",
    "            if input(\"Or kutch chahye\").lower()=='nahi':\n",
    "                print(f\"{quantity} {item} k total {total} hogae\")\n",
    "                break\n",
    "            else:\n",
    "                continue\n",
    "                \n",
    "        else:\n",
    "            print(\"Itne sarey nahi hen. mazrat\")\n",
    "            \n",
    "    else:\n",
    "        print(\"Not Avaialble\")\n",
    "print(f\"Total purchased amt: {total}\")\n",
    "print(f\"Discount amt: {discount}\")\n",
    "print(f\"Amount payable: {total-discount}\")"
   ]
  },
  {
   "cell_type": "code",
   "execution_count": 9,
   "id": "4d0b21ed-5d2e-464e-a680-2f4ef6965dae",
   "metadata": {},
   "outputs": [
    {
     "data": {
      "text/plain": [
       "100"
      ]
     },
     "execution_count": 9,
     "metadata": {},
     "output_type": "execute_result"
    }
   ],
   "source": [
    "papo_bhai_easyload[item]['quantity']"
   ]
  },
  {
   "cell_type": "code",
   "execution_count": 16,
   "id": "e4ec67ca-5b94-4c24-b7ff-53d661ef2f0b",
   "metadata": {},
   "outputs": [
    {
     "data": {
      "text/plain": [
       "{'handsfree': {'price': 250, 'quantity': 100},\n",
       " 'charger': {'price': 500, 'quantity': 0},\n",
       " 'data_cable': {'price': 150, 'quantity': 30},\n",
       " 'power_bank': {'price': 3000, 'quantity': 5},\n",
       " 'usb': {'price': 800, 'quantity': 10},\n",
       " 'earbuds': {'price': 2000, 'quantity': 10},\n",
       " 'mobile_cover': {'price': 400, 'quantity': 25},\n",
       " 'protector': {'price': 150, 'quantity': 100},\n",
       " 'mouse': {'price': 500, 'quantity': 12},\n",
       " 'keyboard': {'price': 1000, 'quantity': 5},\n",
       " 'mouse_pad': {'price': 100, 'quantity': 100}}"
      ]
     },
     "execution_count": 16,
     "metadata": {},
     "output_type": "execute_result"
    }
   ],
   "source": [
    "papo_bhai_easyload"
   ]
  },
  {
   "cell_type": "code",
   "execution_count": 26,
   "id": "49544fb2-0647-478f-ac8d-184b3a3435a6",
   "metadata": {},
   "outputs": [],
   "source": [
    "a = 10"
   ]
  },
  {
   "cell_type": "code",
   "execution_count": 27,
   "id": "1d8ea5fe-ac97-42bf-a340-30cbdba3af52",
   "metadata": {},
   "outputs": [],
   "source": [
    "a = 12\n"
   ]
  },
  {
   "cell_type": "code",
   "execution_count": 31,
   "id": "2763cc72-4a44-4185-a515-fd3a3ad31f9d",
   "metadata": {},
   "outputs": [],
   "source": [
    "a+=12"
   ]
  },
  {
   "cell_type": "code",
   "execution_count": 32,
   "id": "1e58e6aa-dc26-4268-aa97-be62f29aaa04",
   "metadata": {},
   "outputs": [
    {
     "data": {
      "text/plain": [
       "36"
      ]
     },
     "execution_count": 32,
     "metadata": {},
     "output_type": "execute_result"
    }
   ],
   "source": [
    "a"
   ]
  },
  {
   "cell_type": "code",
   "execution_count": null,
   "id": "ac5e8316-80e8-4718-94c0-02719442518f",
   "metadata": {},
   "outputs": [],
   "source": []
  },
  {
   "cell_type": "code",
   "execution_count": null,
   "id": "346425b7-6634-4172-ac66-ad526228b69c",
   "metadata": {},
   "outputs": [],
   "source": []
  }
 ],
 "metadata": {
  "kernelspec": {
   "display_name": "Python 3 (ipykernel)",
   "language": "python",
   "name": "python3"
  },
  "language_info": {
   "codemirror_mode": {
    "name": "ipython",
    "version": 3
   },
   "file_extension": ".py",
   "mimetype": "text/x-python",
   "name": "python",
   "nbconvert_exporter": "python",
   "pygments_lexer": "ipython3",
   "version": "3.12.7"
  }
 },
 "nbformat": 4,
 "nbformat_minor": 5
}
