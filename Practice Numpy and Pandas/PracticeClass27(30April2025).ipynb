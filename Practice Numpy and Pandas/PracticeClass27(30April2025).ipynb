{
 "cells": [
  {
   "cell_type": "code",
   "execution_count": 52,
   "id": "8210b85e-8ce1-4fff-888c-77065e5c7377",
   "metadata": {},
   "outputs": [],
   "source": [
    "import pandas as pd\n",
    "import numpy as np\n",
    "import matplotlib.pyplot as plt"
   ]
  },
  {
   "cell_type": "markdown",
   "id": "f5da1339-bea7-416e-96de-f783e6cc8ddb",
   "metadata": {},
   "source": [
    "# Pandas\n",
    "     - Python Library\n",
    "     - Pandas deals in all types of data\n",
    "     - Backend Numpy\n",
    "# Panda Data Structure\n",
    "     - Pandas Series\n",
    "     - Pandas Data Frame\n",
    "### Pandas Series\n",
    "     - Data in single Columns (Univariate) is series"
   ]
  },
  {
   "cell_type": "code",
   "execution_count": 53,
   "id": "a8340a11-b55f-4748-9e33-b93a51c1aa00",
   "metadata": {},
   "outputs": [
    {
     "data": {
      "text/plain": [
       "0    23\n",
       "1    45\n",
       "2    67\n",
       "3    89\n",
       "4    34\n",
       "dtype: int64"
      ]
     },
     "execution_count": 53,
     "metadata": {},
     "output_type": "execute_result"
    }
   ],
   "source": [
    "# Creating series\n",
    "s1 = pd.Series([23,45,67,89,34])\n",
    "s1"
   ]
  },
  {
   "cell_type": "raw",
   "id": "de79dfa0-3b4b-42ec-90ca-368156c69c02",
   "metadata": {},
   "source": [
    "components: index , values , datatype(dtype)"
   ]
  },
  {
   "cell_type": "code",
   "execution_count": 54,
   "id": "8ec42a85-a6b2-45e2-931c-8a68cfae1f0c",
   "metadata": {},
   "outputs": [
    {
     "data": {
      "text/plain": [
       "array([23, 45, 67, 89, 34], dtype=int64)"
      ]
     },
     "execution_count": 54,
     "metadata": {},
     "output_type": "execute_result"
    }
   ],
   "source": [
    "s1.values"
   ]
  },
  {
   "cell_type": "code",
   "execution_count": 55,
   "id": "a9d59d88-342c-4da2-ba31-7813c5675ea6",
   "metadata": {},
   "outputs": [
    {
     "data": {
      "text/plain": [
       "RangeIndex(start=0, stop=5, step=1)"
      ]
     },
     "execution_count": 55,
     "metadata": {},
     "output_type": "execute_result"
    }
   ],
   "source": [
    "s1.index"
   ]
  },
  {
   "cell_type": "code",
   "execution_count": 56,
   "id": "5cdf981f-f3da-4aaf-9f11-93c6aac4b7be",
   "metadata": {},
   "outputs": [
    {
     "data": {
      "text/plain": [
       "0    23.0\n",
       "1    45.0\n",
       "2    67.0\n",
       "3    89.0\n",
       "4    34.0\n",
       "dtype: float64"
      ]
     },
     "execution_count": 56,
     "metadata": {},
     "output_type": "execute_result"
    }
   ],
   "source": [
    "# Creating series\n",
    "s1 = pd.Series([23,45,67.0,89,34])\n",
    "s1"
   ]
  },
  {
   "cell_type": "code",
   "execution_count": 57,
   "id": "8f64eef4-c95f-4d21-9bbb-4cc4810e3982",
   "metadata": {},
   "outputs": [
    {
     "data": {
      "text/plain": [
       "array([23., 45., 67., 89., 34.])"
      ]
     },
     "execution_count": 57,
     "metadata": {},
     "output_type": "execute_result"
    }
   ],
   "source": [
    "s1.values"
   ]
  },
  {
   "cell_type": "code",
   "execution_count": 58,
   "id": "11bb0c12-06af-4c6e-b0fc-6644146069d1",
   "metadata": {},
   "outputs": [
    {
     "data": {
      "text/plain": [
       "RangeIndex(start=0, stop=5, step=1)"
      ]
     },
     "execution_count": 58,
     "metadata": {},
     "output_type": "execute_result"
    }
   ],
   "source": [
    "s1.index"
   ]
  },
  {
   "cell_type": "code",
   "execution_count": 59,
   "id": "3f02662c-9cb5-4861-aa07-d2654c2bb580",
   "metadata": {},
   "outputs": [
    {
     "data": {
      "text/plain": [
       "0      Headphone\n",
       "1         Laptop\n",
       "2    Mobilephone\n",
       "3         Python\n",
       "4      Powerbank\n",
       "dtype: object"
      ]
     },
     "execution_count": 59,
     "metadata": {},
     "output_type": "execute_result"
    }
   ],
   "source": [
    "s2 = pd.Series(['Headphone','Laptop','Mobilephone','Python','Powerbank'])\n",
    "s2"
   ]
  },
  {
   "cell_type": "markdown",
   "id": "f0a52847-e22e-4f76-b146-5e88464ec099",
   "metadata": {},
   "source": [
    "# Indexing"
   ]
  },
  {
   "cell_type": "code",
   "execution_count": 60,
   "id": "8b145c0b-78a5-4e37-b59e-22ef3d255fe0",
   "metadata": {},
   "outputs": [
    {
     "data": {
      "text/plain": [
       "'Python'"
      ]
     },
     "execution_count": 60,
     "metadata": {},
     "output_type": "execute_result"
    }
   ],
   "source": [
    "s2[3]"
   ]
  },
  {
   "cell_type": "code",
   "execution_count": 61,
   "id": "2656b252-33a6-42f5-9699-1f788847582f",
   "metadata": {},
   "outputs": [
    {
     "data": {
      "text/plain": [
       "'Headphone'"
      ]
     },
     "execution_count": 61,
     "metadata": {},
     "output_type": "execute_result"
    }
   ],
   "source": [
    "s2[0]"
   ]
  },
  {
   "cell_type": "markdown",
   "id": "978e5653-cb74-4297-906f-6fe1410c3102",
   "metadata": {},
   "source": [
    "# Slicing"
   ]
  },
  {
   "cell_type": "code",
   "execution_count": 62,
   "id": "7ea94287-fcd2-4701-b943-4ffe8a22ba19",
   "metadata": {},
   "outputs": [
    {
     "data": {
      "text/plain": [
       "1         Laptop\n",
       "2    Mobilephone\n",
       "3         Python\n",
       "dtype: object"
      ]
     },
     "execution_count": 62,
     "metadata": {},
     "output_type": "execute_result"
    }
   ],
   "source": [
    "s2[1:4]"
   ]
  },
  {
   "cell_type": "raw",
   "id": "4e4a17a2-ead3-48ce-b54d-00c27f2f0bd8",
   "metadata": {},
   "source": [
    "Lables: index are default sequences (0,1,2,......) where as lables are the index provided by us."
   ]
  },
  {
   "cell_type": "code",
   "execution_count": 63,
   "id": "19cf4814-6606-4357-8254-33a75c0ec1cb",
   "metadata": {},
   "outputs": [
    {
     "data": {
      "text/plain": [
       "0      Apples\n",
       "1     Mangoes\n",
       "2     Bananas\n",
       "3     Peaches\n",
       "4    Cherries\n",
       "5      Guavas\n",
       "6     Oranges\n",
       "dtype: object"
      ]
     },
     "execution_count": 63,
     "metadata": {},
     "output_type": "execute_result"
    }
   ],
   "source": [
    "fruits = pd.Series(['Apples','Mangoes','Bananas','Peaches','Cherries','Guavas','Oranges'])\n",
    "fruits"
   ]
  },
  {
   "cell_type": "code",
   "execution_count": 64,
   "id": "25a93221-e2af-47ba-a66e-044e2cf0d4e3",
   "metadata": {},
   "outputs": [
    {
     "data": {
      "text/plain": [
       "Apples      11\n",
       "Mangoes     12\n",
       "Bananas     13\n",
       "Peaches     14\n",
       "Cherries    15\n",
       "Guavas      16\n",
       "Oranges     17\n",
       "dtype: int64"
      ]
     },
     "execution_count": 64,
     "metadata": {},
     "output_type": "execute_result"
    }
   ],
   "source": [
    "fruits = pd.Series([11,12,13,14,15,16,17] , index = ['Apples','Mangoes','Bananas','Peaches','Cherries','Guavas','Oranges'])\n",
    "fruits"
   ]
  },
  {
   "cell_type": "code",
   "execution_count": 65,
   "id": "285703dc-b13d-4489-aebf-d17486537903",
   "metadata": {},
   "outputs": [
    {
     "data": {
      "text/plain": [
       "13"
      ]
     },
     "execution_count": 65,
     "metadata": {},
     "output_type": "execute_result"
    }
   ],
   "source": [
    "fruits['Bananas']"
   ]
  },
  {
   "cell_type": "code",
   "execution_count": 66,
   "id": "12c83127-8acb-460f-a505-3a9ae9a90455",
   "metadata": {},
   "outputs": [
    {
     "data": {
      "text/plain": [
       "11"
      ]
     },
     "execution_count": 66,
     "metadata": {},
     "output_type": "execute_result"
    }
   ],
   "source": [
    "fruits['Apples']"
   ]
  },
  {
   "cell_type": "code",
   "execution_count": 67,
   "id": "db70498d-4823-4ab7-8809-7f5fdc2ff9d6",
   "metadata": {},
   "outputs": [
    {
     "data": {
      "text/plain": [
       "Mangoes     12\n",
       "Bananas     13\n",
       "Peaches     14\n",
       "Cherries    15\n",
       "Guavas      16\n",
       "dtype: int64"
      ]
     },
     "execution_count": 67,
     "metadata": {},
     "output_type": "execute_result"
    }
   ],
   "source": [
    "fruits['Mangoes':'Guavas']"
   ]
  },
  {
   "cell_type": "code",
   "execution_count": 68,
   "id": "5c1137f6-b53c-4186-aa39-05b8a8fa7ba5",
   "metadata": {},
   "outputs": [
    {
     "data": {
      "text/plain": [
       "Apples      11\n",
       "Bananas     13\n",
       "Cherries    15\n",
       "Oranges     17\n",
       "dtype: int64"
      ]
     },
     "execution_count": 68,
     "metadata": {},
     "output_type": "execute_result"
    }
   ],
   "source": [
    "fruits[::2]"
   ]
  },
  {
   "cell_type": "code",
   "execution_count": 69,
   "id": "a72ad446-d63b-4c9d-8a8f-8ec3fba3f9d1",
   "metadata": {},
   "outputs": [
    {
     "data": {
      "text/plain": [
       "Apples      False\n",
       "Mangoes     False\n",
       "Bananas     False\n",
       "Peaches     False\n",
       "Cherries    False\n",
       "Guavas      False\n",
       "Oranges     False\n",
       "dtype: bool"
      ]
     },
     "execution_count": 69,
     "metadata": {},
     "output_type": "execute_result"
    }
   ],
   "source": [
    "# returns boolean series\n",
    "fruits==10"
   ]
  },
  {
   "cell_type": "code",
   "execution_count": 70,
   "id": "50979133-c8b1-4dd1-9af8-533f2521c8a7",
   "metadata": {},
   "outputs": [
    {
     "data": {
      "text/plain": [
       "Apples       True\n",
       "Mangoes     False\n",
       "Bananas     False\n",
       "Peaches     False\n",
       "Cherries    False\n",
       "Guavas      False\n",
       "Oranges     False\n",
       "dtype: bool"
      ]
     },
     "execution_count": 70,
     "metadata": {},
     "output_type": "execute_result"
    }
   ],
   "source": [
    "fruits==11"
   ]
  },
  {
   "cell_type": "code",
   "execution_count": 71,
   "id": "04e16058-f1b3-41b5-835a-161cd2f684f4",
   "metadata": {},
   "outputs": [
    {
     "data": {
      "text/plain": [
       "Apples      False\n",
       "Mangoes     False\n",
       "Bananas     False\n",
       "Peaches      True\n",
       "Cherries    False\n",
       "Guavas      False\n",
       "Oranges     False\n",
       "dtype: bool"
      ]
     },
     "execution_count": 71,
     "metadata": {},
     "output_type": "execute_result"
    }
   ],
   "source": [
    "fruits==14"
   ]
  },
  {
   "cell_type": "markdown",
   "id": "05b90124-5b75-4281-9c1d-6beffaa5e776",
   "metadata": {},
   "source": [
    "# Boolean Indexing"
   ]
  },
  {
   "cell_type": "code",
   "execution_count": 72,
   "id": "44d0661c-1a91-4e60-845b-5ed1cedf995a",
   "metadata": {},
   "outputs": [],
   "source": [
    "# boolean array or List\n",
    "abc = [True, False, False, True, True, True, False]"
   ]
  },
  {
   "cell_type": "code",
   "execution_count": 73,
   "id": "03481c58-3ef2-47b5-90a9-1a61fa3fdfd0",
   "metadata": {},
   "outputs": [
    {
     "data": {
      "text/plain": [
       "Apples      11\n",
       "Peaches     14\n",
       "Cherries    15\n",
       "Guavas      16\n",
       "dtype: int64"
      ]
     },
     "execution_count": 73,
     "metadata": {},
     "output_type": "execute_result"
    }
   ],
   "source": [
    "fruits[abc]"
   ]
  },
  {
   "cell_type": "code",
   "execution_count": 74,
   "id": "2a718cb8-b3cf-4e1a-93c1-1e5800190dcb",
   "metadata": {},
   "outputs": [
    {
     "data": {
      "text/plain": [
       "Bananas     13\n",
       "Peaches     14\n",
       "Cherries    15\n",
       "Guavas      16\n",
       "Oranges     17\n",
       "dtype: int64"
      ]
     },
     "execution_count": 74,
     "metadata": {},
     "output_type": "execute_result"
    }
   ],
   "source": [
    "fruits[fruits>12] # Masking"
   ]
  },
  {
   "cell_type": "code",
   "execution_count": 75,
   "id": "fb4fd11d-eaf5-4796-a44d-386f21a33368",
   "metadata": {
    "scrolled": true
   },
   "outputs": [
    {
     "data": {
      "text/plain": [
       "Bananas     13\n",
       "Peaches     14\n",
       "Cherries    15\n",
       "dtype: int64"
      ]
     },
     "execution_count": 75,
     "metadata": {},
     "output_type": "execute_result"
    }
   ],
   "source": [
    "fruits[(fruits>12) & (fruits<16)]"
   ]
  },
  {
   "cell_type": "code",
   "execution_count": 76,
   "id": "a8999d04-3a3b-4930-97ff-cea0eb5847cb",
   "metadata": {},
   "outputs": [
    {
     "data": {
      "text/plain": [
       "Mangoes    12\n",
       "Guavas     16\n",
       "dtype: int64"
      ]
     },
     "execution_count": 76,
     "metadata": {},
     "output_type": "execute_result"
    }
   ],
   "source": [
    "fruits[(fruits==12) | (fruits==16)]"
   ]
  },
  {
   "cell_type": "code",
   "execution_count": 77,
   "id": "508b5841-8d01-40e0-b6d3-66bbe5e3895f",
   "metadata": {},
   "outputs": [
    {
     "data": {
      "text/plain": [
       "(7,)"
      ]
     },
     "execution_count": 77,
     "metadata": {},
     "output_type": "execute_result"
    }
   ],
   "source": [
    "fruits.shape"
   ]
  },
  {
   "cell_type": "code",
   "execution_count": 78,
   "id": "e9c80463-1bd6-4a46-a9e3-c95f1addcd54",
   "metadata": {},
   "outputs": [
    {
     "data": {
      "text/plain": [
       "7"
      ]
     },
     "execution_count": 78,
     "metadata": {},
     "output_type": "execute_result"
    }
   ],
   "source": [
    "fruits.size"
   ]
  },
  {
   "cell_type": "code",
   "execution_count": 79,
   "id": "5f4da9be-99d8-4f14-b388-e1e78413075e",
   "metadata": {},
   "outputs": [
    {
     "data": {
      "text/plain": [
       "1"
      ]
     },
     "execution_count": 79,
     "metadata": {},
     "output_type": "execute_result"
    }
   ],
   "source": [
    "fruits.ndim"
   ]
  },
  {
   "cell_type": "markdown",
   "id": "c1edf102-e379-4734-bba4-728ffd15f6bd",
   "metadata": {},
   "source": [
    "# Pandas data frame\n",
    "       - Data in more than 1 column is dataframe"
   ]
  },
  {
   "cell_type": "code",
   "execution_count": 127,
   "id": "0a5ba232-2a4f-472d-bfc2-16c474f44ec5",
   "metadata": {},
   "outputs": [],
   "source": [
    "Result = {'roll#':[1,2,3,4,5,6,7,8,9,10],\n",
    "         'name':['asad','ali','atif','jamal','jamil','saif','suhaib','usman','hassan','basir'],\n",
    "         'python':[78,67,89,45,34,100,90,89,34,50],\n",
    "         'numpy':[45,67,56,78,98,100,98,99,9,45],\n",
    "         'pandas':[56,67,45,87,45,100,96,96,89,54]}"
   ]
  },
  {
   "cell_type": "code",
   "execution_count": 128,
   "id": "ff0e9d39-35ce-4ba7-84c4-e64561127a2d",
   "metadata": {},
   "outputs": [
    {
     "data": {
      "text/html": [
       "<div>\n",
       "<style scoped>\n",
       "    .dataframe tbody tr th:only-of-type {\n",
       "        vertical-align: middle;\n",
       "    }\n",
       "\n",
       "    .dataframe tbody tr th {\n",
       "        vertical-align: top;\n",
       "    }\n",
       "\n",
       "    .dataframe thead th {\n",
       "        text-align: right;\n",
       "    }\n",
       "</style>\n",
       "<table border=\"1\" class=\"dataframe\">\n",
       "  <thead>\n",
       "    <tr style=\"text-align: right;\">\n",
       "      <th></th>\n",
       "      <th>roll#</th>\n",
       "      <th>name</th>\n",
       "      <th>python</th>\n",
       "      <th>numpy</th>\n",
       "      <th>pandas</th>\n",
       "    </tr>\n",
       "  </thead>\n",
       "  <tbody>\n",
       "    <tr>\n",
       "      <th>0</th>\n",
       "      <td>1</td>\n",
       "      <td>asad</td>\n",
       "      <td>78</td>\n",
       "      <td>45</td>\n",
       "      <td>56</td>\n",
       "    </tr>\n",
       "    <tr>\n",
       "      <th>1</th>\n",
       "      <td>2</td>\n",
       "      <td>ali</td>\n",
       "      <td>67</td>\n",
       "      <td>67</td>\n",
       "      <td>67</td>\n",
       "    </tr>\n",
       "    <tr>\n",
       "      <th>2</th>\n",
       "      <td>3</td>\n",
       "      <td>atif</td>\n",
       "      <td>89</td>\n",
       "      <td>56</td>\n",
       "      <td>45</td>\n",
       "    </tr>\n",
       "    <tr>\n",
       "      <th>3</th>\n",
       "      <td>4</td>\n",
       "      <td>jamal</td>\n",
       "      <td>45</td>\n",
       "      <td>78</td>\n",
       "      <td>87</td>\n",
       "    </tr>\n",
       "    <tr>\n",
       "      <th>4</th>\n",
       "      <td>5</td>\n",
       "      <td>jamil</td>\n",
       "      <td>34</td>\n",
       "      <td>98</td>\n",
       "      <td>45</td>\n",
       "    </tr>\n",
       "    <tr>\n",
       "      <th>5</th>\n",
       "      <td>6</td>\n",
       "      <td>saif</td>\n",
       "      <td>100</td>\n",
       "      <td>100</td>\n",
       "      <td>100</td>\n",
       "    </tr>\n",
       "    <tr>\n",
       "      <th>6</th>\n",
       "      <td>7</td>\n",
       "      <td>suhaib</td>\n",
       "      <td>90</td>\n",
       "      <td>98</td>\n",
       "      <td>96</td>\n",
       "    </tr>\n",
       "    <tr>\n",
       "      <th>7</th>\n",
       "      <td>8</td>\n",
       "      <td>usman</td>\n",
       "      <td>89</td>\n",
       "      <td>99</td>\n",
       "      <td>96</td>\n",
       "    </tr>\n",
       "    <tr>\n",
       "      <th>8</th>\n",
       "      <td>9</td>\n",
       "      <td>hassan</td>\n",
       "      <td>34</td>\n",
       "      <td>9</td>\n",
       "      <td>89</td>\n",
       "    </tr>\n",
       "    <tr>\n",
       "      <th>9</th>\n",
       "      <td>10</td>\n",
       "      <td>basir</td>\n",
       "      <td>50</td>\n",
       "      <td>45</td>\n",
       "      <td>54</td>\n",
       "    </tr>\n",
       "  </tbody>\n",
       "</table>\n",
       "</div>"
      ],
      "text/plain": [
       "   roll#    name  python  numpy  pandas\n",
       "0      1    asad      78     45      56\n",
       "1      2     ali      67     67      67\n",
       "2      3    atif      89     56      45\n",
       "3      4   jamal      45     78      87\n",
       "4      5   jamil      34     98      45\n",
       "5      6    saif     100    100     100\n",
       "6      7  suhaib      90     98      96\n",
       "7      8   usman      89     99      96\n",
       "8      9  hassan      34      9      89\n",
       "9     10   basir      50     45      54"
      ]
     },
     "execution_count": 128,
     "metadata": {},
     "output_type": "execute_result"
    }
   ],
   "source": [
    "result = pd.DataFrame(Result)\n",
    "result"
   ]
  },
  {
   "cell_type": "code",
   "execution_count": 129,
   "id": "a5d0273e-5de1-4e6d-88c3-c0afe3856706",
   "metadata": {},
   "outputs": [
    {
     "name": "stdout",
     "output_type": "stream",
     "text": [
      "   roll#    name  python  numpy  pandas\n",
      "0      1    asad      78     45      56\n",
      "1      2     ali      67     67      67\n",
      "2      3    atif      89     56      45\n",
      "3      4   jamal      45     78      87\n",
      "4      5   jamil      34     98      45\n",
      "5      6    saif     100    100     100\n",
      "6      7  suhaib      90     98      96\n",
      "7      8   usman      89     99      96\n",
      "8      9  hassan      34      9      89\n",
      "9     10   basir      50     45      54\n"
     ]
    }
   ],
   "source": [
    "result = pd.DataFrame(Result)\n",
    "print(result)"
   ]
  },
  {
   "cell_type": "code",
   "execution_count": 130,
   "id": "3939a3a2-6915-43c0-8eee-e91184266a6c",
   "metadata": {},
   "outputs": [
    {
     "data": {
      "text/plain": [
       "RangeIndex(start=0, stop=10, step=1)"
      ]
     },
     "execution_count": 130,
     "metadata": {},
     "output_type": "execute_result"
    }
   ],
   "source": [
    "result.index"
   ]
  },
  {
   "cell_type": "code",
   "execution_count": 131,
   "id": "90196515-fe1b-4e10-8a88-e60cbf96ba40",
   "metadata": {},
   "outputs": [
    {
     "data": {
      "text/plain": [
       "array([[1, 'asad', 78, 45, 56],\n",
       "       [2, 'ali', 67, 67, 67],\n",
       "       [3, 'atif', 89, 56, 45],\n",
       "       [4, 'jamal', 45, 78, 87],\n",
       "       [5, 'jamil', 34, 98, 45],\n",
       "       [6, 'saif', 100, 100, 100],\n",
       "       [7, 'suhaib', 90, 98, 96],\n",
       "       [8, 'usman', 89, 99, 96],\n",
       "       [9, 'hassan', 34, 9, 89],\n",
       "       [10, 'basir', 50, 45, 54]], dtype=object)"
      ]
     },
     "execution_count": 131,
     "metadata": {},
     "output_type": "execute_result"
    }
   ],
   "source": [
    "result.values"
   ]
  },
  {
   "cell_type": "code",
   "execution_count": 132,
   "id": "a2aff29d-39b5-4d83-8e52-8de9799755c4",
   "metadata": {},
   "outputs": [
    {
     "data": {
      "text/plain": [
       "Index(['roll#', 'name', 'python', 'numpy', 'pandas'], dtype='object')"
      ]
     },
     "execution_count": 132,
     "metadata": {},
     "output_type": "execute_result"
    }
   ],
   "source": [
    "result.columns"
   ]
  },
  {
   "cell_type": "code",
   "execution_count": 133,
   "id": "98daf1ca-0b19-4f43-b1d4-e9c37bfcc4f1",
   "metadata": {},
   "outputs": [
    {
     "data": {
      "text/plain": [
       "pandas.core.frame.DataFrame"
      ]
     },
     "execution_count": 133,
     "metadata": {},
     "output_type": "execute_result"
    }
   ],
   "source": [
    "type(result)"
   ]
  },
  {
   "cell_type": "code",
   "execution_count": 134,
   "id": "60f0f22a-d2c6-4c39-be42-af4132903fb0",
   "metadata": {},
   "outputs": [
    {
     "data": {
      "text/html": [
       "<div>\n",
       "<style scoped>\n",
       "    .dataframe tbody tr th:only-of-type {\n",
       "        vertical-align: middle;\n",
       "    }\n",
       "\n",
       "    .dataframe tbody tr th {\n",
       "        vertical-align: top;\n",
       "    }\n",
       "\n",
       "    .dataframe thead th {\n",
       "        text-align: right;\n",
       "    }\n",
       "</style>\n",
       "<table border=\"1\" class=\"dataframe\">\n",
       "  <thead>\n",
       "    <tr style=\"text-align: right;\">\n",
       "      <th></th>\n",
       "      <th>Serial</th>\n",
       "      <th>Emp_ID</th>\n",
       "      <th>Designation</th>\n",
       "      <th>Department</th>\n",
       "      <th>Age</th>\n",
       "      <th>Salary</th>\n",
       "    </tr>\n",
       "  </thead>\n",
       "  <tbody>\n",
       "    <tr>\n",
       "      <th>0</th>\n",
       "      <td>1</td>\n",
       "      <td>1101</td>\n",
       "      <td>Manager</td>\n",
       "      <td>Accounts</td>\n",
       "      <td>50.0</td>\n",
       "      <td>200000.0</td>\n",
       "    </tr>\n",
       "    <tr>\n",
       "      <th>1</th>\n",
       "      <td>2</td>\n",
       "      <td>1107</td>\n",
       "      <td>Officer</td>\n",
       "      <td>IT</td>\n",
       "      <td>30.0</td>\n",
       "      <td>80000.0</td>\n",
       "    </tr>\n",
       "    <tr>\n",
       "      <th>2</th>\n",
       "      <td>3</td>\n",
       "      <td>1203</td>\n",
       "      <td>Officer</td>\n",
       "      <td>HR</td>\n",
       "      <td>28.0</td>\n",
       "      <td>NaN</td>\n",
       "    </tr>\n",
       "    <tr>\n",
       "      <th>3</th>\n",
       "      <td>4</td>\n",
       "      <td>1005</td>\n",
       "      <td>Manager</td>\n",
       "      <td>HR</td>\n",
       "      <td>45.0</td>\n",
       "      <td>120000.0</td>\n",
       "    </tr>\n",
       "    <tr>\n",
       "      <th>4</th>\n",
       "      <td>5</td>\n",
       "      <td>2123</td>\n",
       "      <td>Office Boy</td>\n",
       "      <td>Accounts</td>\n",
       "      <td>27.0</td>\n",
       "      <td>45000.0</td>\n",
       "    </tr>\n",
       "    <tr>\n",
       "      <th>5</th>\n",
       "      <td>6</td>\n",
       "      <td>2451</td>\n",
       "      <td>Accountant</td>\n",
       "      <td>NaN</td>\n",
       "      <td>34.0</td>\n",
       "      <td>100000.0</td>\n",
       "    </tr>\n",
       "    <tr>\n",
       "      <th>6</th>\n",
       "      <td>7</td>\n",
       "      <td>1111</td>\n",
       "      <td>Accountant</td>\n",
       "      <td>Accounts</td>\n",
       "      <td>NaN</td>\n",
       "      <td>110000.0</td>\n",
       "    </tr>\n",
       "    <tr>\n",
       "      <th>7</th>\n",
       "      <td>8</td>\n",
       "      <td>1001</td>\n",
       "      <td>Officer</td>\n",
       "      <td>IT</td>\n",
       "      <td>25.0</td>\n",
       "      <td>75000.0</td>\n",
       "    </tr>\n",
       "    <tr>\n",
       "      <th>8</th>\n",
       "      <td>9</td>\n",
       "      <td>1234</td>\n",
       "      <td>Manager</td>\n",
       "      <td>IT</td>\n",
       "      <td>23.0</td>\n",
       "      <td>NaN</td>\n",
       "    </tr>\n",
       "    <tr>\n",
       "      <th>9</th>\n",
       "      <td>10</td>\n",
       "      <td>2156</td>\n",
       "      <td>Engineer</td>\n",
       "      <td>Production</td>\n",
       "      <td>45.0</td>\n",
       "      <td>89000.0</td>\n",
       "    </tr>\n",
       "    <tr>\n",
       "      <th>10</th>\n",
       "      <td>11</td>\n",
       "      <td>6543</td>\n",
       "      <td>Officer</td>\n",
       "      <td>Production</td>\n",
       "      <td>29.0</td>\n",
       "      <td>100000.0</td>\n",
       "    </tr>\n",
       "    <tr>\n",
       "      <th>11</th>\n",
       "      <td>12</td>\n",
       "      <td>3214</td>\n",
       "      <td>Accountant</td>\n",
       "      <td>Account</td>\n",
       "      <td>49.0</td>\n",
       "      <td>123000.0</td>\n",
       "    </tr>\n",
       "    <tr>\n",
       "      <th>12</th>\n",
       "      <td>13</td>\n",
       "      <td>2156</td>\n",
       "      <td>Engineer</td>\n",
       "      <td>Production</td>\n",
       "      <td>45.0</td>\n",
       "      <td>89000.0</td>\n",
       "    </tr>\n",
       "    <tr>\n",
       "      <th>13</th>\n",
       "      <td>14</td>\n",
       "      <td>1098</td>\n",
       "      <td>Officer</td>\n",
       "      <td>IT</td>\n",
       "      <td>25.0</td>\n",
       "      <td>100000.0</td>\n",
       "    </tr>\n",
       "    <tr>\n",
       "      <th>14</th>\n",
       "      <td>15</td>\n",
       "      <td>2912</td>\n",
       "      <td>Officer</td>\n",
       "      <td>IT</td>\n",
       "      <td>31.0</td>\n",
       "      <td>90000.0</td>\n",
       "    </tr>\n",
       "    <tr>\n",
       "      <th>15</th>\n",
       "      <td>16</td>\n",
       "      <td>1222</td>\n",
       "      <td>Officer</td>\n",
       "      <td>NaN</td>\n",
       "      <td>25.0</td>\n",
       "      <td>NaN</td>\n",
       "    </tr>\n",
       "    <tr>\n",
       "      <th>16</th>\n",
       "      <td>17</td>\n",
       "      <td>2156</td>\n",
       "      <td>Engineer</td>\n",
       "      <td>Production</td>\n",
       "      <td>45.0</td>\n",
       "      <td>89000.0</td>\n",
       "    </tr>\n",
       "    <tr>\n",
       "      <th>17</th>\n",
       "      <td>18</td>\n",
       "      <td>2123</td>\n",
       "      <td>Office Boy</td>\n",
       "      <td>Accounts</td>\n",
       "      <td>27.0</td>\n",
       "      <td>45000.0</td>\n",
       "    </tr>\n",
       "  </tbody>\n",
       "</table>\n",
       "</div>"
      ],
      "text/plain": [
       "    Serial  Emp_ID Designation  Department   Age    Salary\n",
       "0        1    1101     Manager    Accounts  50.0  200000.0\n",
       "1        2    1107     Officer          IT  30.0   80000.0\n",
       "2        3    1203     Officer          HR  28.0       NaN\n",
       "3        4    1005     Manager          HR  45.0  120000.0\n",
       "4        5    2123  Office Boy    Accounts  27.0   45000.0\n",
       "5        6    2451  Accountant         NaN  34.0  100000.0\n",
       "6        7    1111  Accountant    Accounts   NaN  110000.0\n",
       "7        8    1001     Officer          IT  25.0   75000.0\n",
       "8        9    1234     Manager          IT  23.0       NaN\n",
       "9       10    2156    Engineer  Production  45.0   89000.0\n",
       "10      11    6543     Officer  Production  29.0  100000.0\n",
       "11      12    3214  Accountant     Account  49.0  123000.0\n",
       "12      13    2156    Engineer  Production  45.0   89000.0\n",
       "13      14    1098     Officer          IT  25.0  100000.0\n",
       "14      15    2912     Officer          IT  31.0   90000.0\n",
       "15      16    1222     Officer         NaN  25.0       NaN\n",
       "16      17    2156    Engineer  Production  45.0   89000.0\n",
       "17      18    2123  Office Boy    Accounts  27.0   45000.0"
      ]
     },
     "execution_count": 134,
     "metadata": {},
     "output_type": "execute_result"
    }
   ],
   "source": [
    "emp = pd.read_excel(\"employee.xlsx\")\n",
    "emp"
   ]
  },
  {
   "cell_type": "markdown",
   "id": "8cec9e8f-ce37-4e8f-9337-ddba6d1c618f",
   "metadata": {},
   "source": [
    "# Result Data"
   ]
  },
  {
   "cell_type": "code",
   "execution_count": 135,
   "id": "078354c9-9cbc-4c63-9a39-5cf22a594d53",
   "metadata": {},
   "outputs": [
    {
     "data": {
      "text/html": [
       "<div>\n",
       "<style scoped>\n",
       "    .dataframe tbody tr th:only-of-type {\n",
       "        vertical-align: middle;\n",
       "    }\n",
       "\n",
       "    .dataframe tbody tr th {\n",
       "        vertical-align: top;\n",
       "    }\n",
       "\n",
       "    .dataframe thead th {\n",
       "        text-align: right;\n",
       "    }\n",
       "</style>\n",
       "<table border=\"1\" class=\"dataframe\">\n",
       "  <thead>\n",
       "    <tr style=\"text-align: right;\">\n",
       "      <th></th>\n",
       "      <th>roll#</th>\n",
       "      <th>name</th>\n",
       "      <th>python</th>\n",
       "      <th>numpy</th>\n",
       "      <th>pandas</th>\n",
       "    </tr>\n",
       "  </thead>\n",
       "  <tbody>\n",
       "    <tr>\n",
       "      <th>0</th>\n",
       "      <td>1</td>\n",
       "      <td>asad</td>\n",
       "      <td>78</td>\n",
       "      <td>45</td>\n",
       "      <td>56</td>\n",
       "    </tr>\n",
       "    <tr>\n",
       "      <th>1</th>\n",
       "      <td>2</td>\n",
       "      <td>ali</td>\n",
       "      <td>67</td>\n",
       "      <td>67</td>\n",
       "      <td>67</td>\n",
       "    </tr>\n",
       "    <tr>\n",
       "      <th>2</th>\n",
       "      <td>3</td>\n",
       "      <td>atif</td>\n",
       "      <td>89</td>\n",
       "      <td>56</td>\n",
       "      <td>45</td>\n",
       "    </tr>\n",
       "    <tr>\n",
       "      <th>3</th>\n",
       "      <td>4</td>\n",
       "      <td>jamal</td>\n",
       "      <td>45</td>\n",
       "      <td>78</td>\n",
       "      <td>87</td>\n",
       "    </tr>\n",
       "    <tr>\n",
       "      <th>4</th>\n",
       "      <td>5</td>\n",
       "      <td>jamil</td>\n",
       "      <td>34</td>\n",
       "      <td>98</td>\n",
       "      <td>45</td>\n",
       "    </tr>\n",
       "    <tr>\n",
       "      <th>5</th>\n",
       "      <td>6</td>\n",
       "      <td>saif</td>\n",
       "      <td>100</td>\n",
       "      <td>100</td>\n",
       "      <td>100</td>\n",
       "    </tr>\n",
       "    <tr>\n",
       "      <th>6</th>\n",
       "      <td>7</td>\n",
       "      <td>suhaib</td>\n",
       "      <td>90</td>\n",
       "      <td>98</td>\n",
       "      <td>96</td>\n",
       "    </tr>\n",
       "    <tr>\n",
       "      <th>7</th>\n",
       "      <td>8</td>\n",
       "      <td>usman</td>\n",
       "      <td>89</td>\n",
       "      <td>99</td>\n",
       "      <td>96</td>\n",
       "    </tr>\n",
       "    <tr>\n",
       "      <th>8</th>\n",
       "      <td>9</td>\n",
       "      <td>hassan</td>\n",
       "      <td>34</td>\n",
       "      <td>9</td>\n",
       "      <td>89</td>\n",
       "    </tr>\n",
       "    <tr>\n",
       "      <th>9</th>\n",
       "      <td>10</td>\n",
       "      <td>basir</td>\n",
       "      <td>50</td>\n",
       "      <td>45</td>\n",
       "      <td>54</td>\n",
       "    </tr>\n",
       "  </tbody>\n",
       "</table>\n",
       "</div>"
      ],
      "text/plain": [
       "   roll#    name  python  numpy  pandas\n",
       "0      1    asad      78     45      56\n",
       "1      2     ali      67     67      67\n",
       "2      3    atif      89     56      45\n",
       "3      4   jamal      45     78      87\n",
       "4      5   jamil      34     98      45\n",
       "5      6    saif     100    100     100\n",
       "6      7  suhaib      90     98      96\n",
       "7      8   usman      89     99      96\n",
       "8      9  hassan      34      9      89\n",
       "9     10   basir      50     45      54"
      ]
     },
     "execution_count": 135,
     "metadata": {},
     "output_type": "execute_result"
    }
   ],
   "source": [
    "result"
   ]
  },
  {
   "cell_type": "markdown",
   "id": "9afaa779-9f2e-4792-abf2-47f9b89e273f",
   "metadata": {},
   "source": [
    "# Columns\n",
    "    - Accessing a column\n",
    "    - Accessing more than 1 clm\n",
    "    - del a clm\n",
    "    - add a clm"
   ]
  },
  {
   "cell_type": "code",
   "execution_count": 136,
   "id": "a32dbf52-00b6-4d76-afea-569391cd6a30",
   "metadata": {},
   "outputs": [
    {
     "data": {
      "text/plain": [
       "(10, 5)"
      ]
     },
     "execution_count": 136,
     "metadata": {},
     "output_type": "execute_result"
    }
   ],
   "source": [
    "result.shape"
   ]
  },
  {
   "cell_type": "code",
   "execution_count": 137,
   "id": "836f69ae-16c0-4431-9d00-d7197f40f67e",
   "metadata": {},
   "outputs": [
    {
     "data": {
      "text/plain": [
       "2"
      ]
     },
     "execution_count": 137,
     "metadata": {},
     "output_type": "execute_result"
    }
   ],
   "source": [
    "result.ndim"
   ]
  },
  {
   "cell_type": "code",
   "execution_count": 138,
   "id": "ba9f0d10-949f-43c5-9a4f-d962516a8026",
   "metadata": {},
   "outputs": [
    {
     "data": {
      "text/plain": [
       "pandas.core.series.Series"
      ]
     },
     "execution_count": 138,
     "metadata": {},
     "output_type": "execute_result"
    }
   ],
   "source": [
    "type(result['name'])"
   ]
  },
  {
   "cell_type": "markdown",
   "id": "c259b1ab-9e34-4d52-b7b8-a38f277c4cd9",
   "metadata": {},
   "source": [
    "# Accessing a column"
   ]
  },
  {
   "cell_type": "code",
   "execution_count": 139,
   "id": "f3934173-e3c0-4902-b1de-83183e535ce0",
   "metadata": {},
   "outputs": [
    {
     "data": {
      "text/plain": [
       "0      asad\n",
       "1       ali\n",
       "2      atif\n",
       "3     jamal\n",
       "4     jamil\n",
       "5      saif\n",
       "6    suhaib\n",
       "7     usman\n",
       "8    hassan\n",
       "9     basir\n",
       "Name: name, dtype: object"
      ]
     },
     "execution_count": 139,
     "metadata": {},
     "output_type": "execute_result"
    }
   ],
   "source": [
    "result['name']"
   ]
  },
  {
   "cell_type": "code",
   "execution_count": 140,
   "id": "3c6cfe9a-1ead-4b26-8c59-69cf3a251435",
   "metadata": {},
   "outputs": [
    {
     "data": {
      "text/plain": [
       "0      asad\n",
       "1       ali\n",
       "2      atif\n",
       "3     jamal\n",
       "4     jamil\n",
       "5      saif\n",
       "6    suhaib\n",
       "7     usman\n",
       "8    hassan\n",
       "9     basir\n",
       "Name: name, dtype: object"
      ]
     },
     "execution_count": 140,
     "metadata": {},
     "output_type": "execute_result"
    }
   ],
   "source": [
    "result.name"
   ]
  },
  {
   "cell_type": "code",
   "execution_count": 141,
   "id": "cd504ea6-e0f1-4de6-8329-1cc25702a8f9",
   "metadata": {},
   "outputs": [
    {
     "data": {
      "text/plain": [
       "0     78\n",
       "1     67\n",
       "2     89\n",
       "3     45\n",
       "4     34\n",
       "5    100\n",
       "6     90\n",
       "7     89\n",
       "8     34\n",
       "9     50\n",
       "Name: python, dtype: int64"
      ]
     },
     "execution_count": 141,
     "metadata": {},
     "output_type": "execute_result"
    }
   ],
   "source": [
    "result.python"
   ]
  },
  {
   "cell_type": "markdown",
   "id": "b0affda1-282b-4f20-a872-b89d1bc04bba",
   "metadata": {},
   "source": [
    "### Accesing more than 1 column"
   ]
  },
  {
   "cell_type": "code",
   "execution_count": 142,
   "id": "b4dfa899-2775-461e-94ee-1db688e53614",
   "metadata": {},
   "outputs": [
    {
     "data": {
      "text/html": [
       "<div>\n",
       "<style scoped>\n",
       "    .dataframe tbody tr th:only-of-type {\n",
       "        vertical-align: middle;\n",
       "    }\n",
       "\n",
       "    .dataframe tbody tr th {\n",
       "        vertical-align: top;\n",
       "    }\n",
       "\n",
       "    .dataframe thead th {\n",
       "        text-align: right;\n",
       "    }\n",
       "</style>\n",
       "<table border=\"1\" class=\"dataframe\">\n",
       "  <thead>\n",
       "    <tr style=\"text-align: right;\">\n",
       "      <th></th>\n",
       "      <th>name</th>\n",
       "      <th>python</th>\n",
       "    </tr>\n",
       "  </thead>\n",
       "  <tbody>\n",
       "    <tr>\n",
       "      <th>0</th>\n",
       "      <td>asad</td>\n",
       "      <td>78</td>\n",
       "    </tr>\n",
       "    <tr>\n",
       "      <th>1</th>\n",
       "      <td>ali</td>\n",
       "      <td>67</td>\n",
       "    </tr>\n",
       "    <tr>\n",
       "      <th>2</th>\n",
       "      <td>atif</td>\n",
       "      <td>89</td>\n",
       "    </tr>\n",
       "    <tr>\n",
       "      <th>3</th>\n",
       "      <td>jamal</td>\n",
       "      <td>45</td>\n",
       "    </tr>\n",
       "    <tr>\n",
       "      <th>4</th>\n",
       "      <td>jamil</td>\n",
       "      <td>34</td>\n",
       "    </tr>\n",
       "    <tr>\n",
       "      <th>5</th>\n",
       "      <td>saif</td>\n",
       "      <td>100</td>\n",
       "    </tr>\n",
       "    <tr>\n",
       "      <th>6</th>\n",
       "      <td>suhaib</td>\n",
       "      <td>90</td>\n",
       "    </tr>\n",
       "    <tr>\n",
       "      <th>7</th>\n",
       "      <td>usman</td>\n",
       "      <td>89</td>\n",
       "    </tr>\n",
       "    <tr>\n",
       "      <th>8</th>\n",
       "      <td>hassan</td>\n",
       "      <td>34</td>\n",
       "    </tr>\n",
       "    <tr>\n",
       "      <th>9</th>\n",
       "      <td>basir</td>\n",
       "      <td>50</td>\n",
       "    </tr>\n",
       "  </tbody>\n",
       "</table>\n",
       "</div>"
      ],
      "text/plain": [
       "     name  python\n",
       "0    asad      78\n",
       "1     ali      67\n",
       "2    atif      89\n",
       "3   jamal      45\n",
       "4   jamil      34\n",
       "5    saif     100\n",
       "6  suhaib      90\n",
       "7   usman      89\n",
       "8  hassan      34\n",
       "9   basir      50"
      ]
     },
     "execution_count": 142,
     "metadata": {},
     "output_type": "execute_result"
    }
   ],
   "source": [
    "result[['name','python']]"
   ]
  },
  {
   "cell_type": "code",
   "execution_count": 143,
   "id": "e414384d-462a-4cb9-9c92-adec0c36fe4e",
   "metadata": {},
   "outputs": [
    {
     "data": {
      "text/html": [
       "<div>\n",
       "<style scoped>\n",
       "    .dataframe tbody tr th:only-of-type {\n",
       "        vertical-align: middle;\n",
       "    }\n",
       "\n",
       "    .dataframe tbody tr th {\n",
       "        vertical-align: top;\n",
       "    }\n",
       "\n",
       "    .dataframe thead th {\n",
       "        text-align: right;\n",
       "    }\n",
       "</style>\n",
       "<table border=\"1\" class=\"dataframe\">\n",
       "  <thead>\n",
       "    <tr style=\"text-align: right;\">\n",
       "      <th></th>\n",
       "      <th>name</th>\n",
       "      <th>numpy</th>\n",
       "      <th>python</th>\n",
       "    </tr>\n",
       "  </thead>\n",
       "  <tbody>\n",
       "    <tr>\n",
       "      <th>0</th>\n",
       "      <td>asad</td>\n",
       "      <td>45</td>\n",
       "      <td>78</td>\n",
       "    </tr>\n",
       "    <tr>\n",
       "      <th>1</th>\n",
       "      <td>ali</td>\n",
       "      <td>67</td>\n",
       "      <td>67</td>\n",
       "    </tr>\n",
       "    <tr>\n",
       "      <th>2</th>\n",
       "      <td>atif</td>\n",
       "      <td>56</td>\n",
       "      <td>89</td>\n",
       "    </tr>\n",
       "    <tr>\n",
       "      <th>3</th>\n",
       "      <td>jamal</td>\n",
       "      <td>78</td>\n",
       "      <td>45</td>\n",
       "    </tr>\n",
       "    <tr>\n",
       "      <th>4</th>\n",
       "      <td>jamil</td>\n",
       "      <td>98</td>\n",
       "      <td>34</td>\n",
       "    </tr>\n",
       "    <tr>\n",
       "      <th>5</th>\n",
       "      <td>saif</td>\n",
       "      <td>100</td>\n",
       "      <td>100</td>\n",
       "    </tr>\n",
       "    <tr>\n",
       "      <th>6</th>\n",
       "      <td>suhaib</td>\n",
       "      <td>98</td>\n",
       "      <td>90</td>\n",
       "    </tr>\n",
       "    <tr>\n",
       "      <th>7</th>\n",
       "      <td>usman</td>\n",
       "      <td>99</td>\n",
       "      <td>89</td>\n",
       "    </tr>\n",
       "    <tr>\n",
       "      <th>8</th>\n",
       "      <td>hassan</td>\n",
       "      <td>9</td>\n",
       "      <td>34</td>\n",
       "    </tr>\n",
       "    <tr>\n",
       "      <th>9</th>\n",
       "      <td>basir</td>\n",
       "      <td>45</td>\n",
       "      <td>50</td>\n",
       "    </tr>\n",
       "  </tbody>\n",
       "</table>\n",
       "</div>"
      ],
      "text/plain": [
       "     name  numpy  python\n",
       "0    asad     45      78\n",
       "1     ali     67      67\n",
       "2    atif     56      89\n",
       "3   jamal     78      45\n",
       "4   jamil     98      34\n",
       "5    saif    100     100\n",
       "6  suhaib     98      90\n",
       "7   usman     99      89\n",
       "8  hassan      9      34\n",
       "9   basir     45      50"
      ]
     },
     "execution_count": 143,
     "metadata": {},
     "output_type": "execute_result"
    }
   ],
   "source": [
    "result[['name','numpy','python']]"
   ]
  },
  {
   "cell_type": "markdown",
   "id": "69c52c2c-e090-482f-8338-3fca2bdc5535",
   "metadata": {},
   "source": [
    "# Adding more columns in data\n",
    "            - Broadcasting a value to all records\n",
    "            - Generate data from data\n",
    "                    - conditional"
   ]
  },
  {
   "cell_type": "code",
   "execution_count": 144,
   "id": "a893d768-e00f-47e3-a87f-6fb551fe3672",
   "metadata": {},
   "outputs": [
    {
     "data": {
      "text/html": [
       "<div>\n",
       "<style scoped>\n",
       "    .dataframe tbody tr th:only-of-type {\n",
       "        vertical-align: middle;\n",
       "    }\n",
       "\n",
       "    .dataframe tbody tr th {\n",
       "        vertical-align: top;\n",
       "    }\n",
       "\n",
       "    .dataframe thead th {\n",
       "        text-align: right;\n",
       "    }\n",
       "</style>\n",
       "<table border=\"1\" class=\"dataframe\">\n",
       "  <thead>\n",
       "    <tr style=\"text-align: right;\">\n",
       "      <th></th>\n",
       "      <th>roll#</th>\n",
       "      <th>name</th>\n",
       "      <th>python</th>\n",
       "      <th>numpy</th>\n",
       "      <th>pandas</th>\n",
       "      <th>total</th>\n",
       "    </tr>\n",
       "  </thead>\n",
       "  <tbody>\n",
       "    <tr>\n",
       "      <th>0</th>\n",
       "      <td>1</td>\n",
       "      <td>asad</td>\n",
       "      <td>78</td>\n",
       "      <td>45</td>\n",
       "      <td>56</td>\n",
       "      <td>179</td>\n",
       "    </tr>\n",
       "    <tr>\n",
       "      <th>1</th>\n",
       "      <td>2</td>\n",
       "      <td>ali</td>\n",
       "      <td>67</td>\n",
       "      <td>67</td>\n",
       "      <td>67</td>\n",
       "      <td>201</td>\n",
       "    </tr>\n",
       "    <tr>\n",
       "      <th>2</th>\n",
       "      <td>3</td>\n",
       "      <td>atif</td>\n",
       "      <td>89</td>\n",
       "      <td>56</td>\n",
       "      <td>45</td>\n",
       "      <td>190</td>\n",
       "    </tr>\n",
       "    <tr>\n",
       "      <th>3</th>\n",
       "      <td>4</td>\n",
       "      <td>jamal</td>\n",
       "      <td>45</td>\n",
       "      <td>78</td>\n",
       "      <td>87</td>\n",
       "      <td>210</td>\n",
       "    </tr>\n",
       "    <tr>\n",
       "      <th>4</th>\n",
       "      <td>5</td>\n",
       "      <td>jamil</td>\n",
       "      <td>34</td>\n",
       "      <td>98</td>\n",
       "      <td>45</td>\n",
       "      <td>177</td>\n",
       "    </tr>\n",
       "    <tr>\n",
       "      <th>5</th>\n",
       "      <td>6</td>\n",
       "      <td>saif</td>\n",
       "      <td>100</td>\n",
       "      <td>100</td>\n",
       "      <td>100</td>\n",
       "      <td>300</td>\n",
       "    </tr>\n",
       "    <tr>\n",
       "      <th>6</th>\n",
       "      <td>7</td>\n",
       "      <td>suhaib</td>\n",
       "      <td>90</td>\n",
       "      <td>98</td>\n",
       "      <td>96</td>\n",
       "      <td>284</td>\n",
       "    </tr>\n",
       "    <tr>\n",
       "      <th>7</th>\n",
       "      <td>8</td>\n",
       "      <td>usman</td>\n",
       "      <td>89</td>\n",
       "      <td>99</td>\n",
       "      <td>96</td>\n",
       "      <td>284</td>\n",
       "    </tr>\n",
       "    <tr>\n",
       "      <th>8</th>\n",
       "      <td>9</td>\n",
       "      <td>hassan</td>\n",
       "      <td>34</td>\n",
       "      <td>9</td>\n",
       "      <td>89</td>\n",
       "      <td>132</td>\n",
       "    </tr>\n",
       "    <tr>\n",
       "      <th>9</th>\n",
       "      <td>10</td>\n",
       "      <td>basir</td>\n",
       "      <td>50</td>\n",
       "      <td>45</td>\n",
       "      <td>54</td>\n",
       "      <td>149</td>\n",
       "    </tr>\n",
       "  </tbody>\n",
       "</table>\n",
       "</div>"
      ],
      "text/plain": [
       "   roll#    name  python  numpy  pandas  total\n",
       "0      1    asad      78     45      56    179\n",
       "1      2     ali      67     67      67    201\n",
       "2      3    atif      89     56      45    190\n",
       "3      4   jamal      45     78      87    210\n",
       "4      5   jamil      34     98      45    177\n",
       "5      6    saif     100    100     100    300\n",
       "6      7  suhaib      90     98      96    284\n",
       "7      8   usman      89     99      96    284\n",
       "8      9  hassan      34      9      89    132\n",
       "9     10   basir      50     45      54    149"
      ]
     },
     "execution_count": 144,
     "metadata": {},
     "output_type": "execute_result"
    }
   ],
   "source": [
    "result['total'] = result.python + result.pandas + result.numpy\n",
    "result"
   ]
  },
  {
   "cell_type": "code",
   "execution_count": 145,
   "id": "82ae9725-f11e-4fc4-a57c-666b28a2cce7",
   "metadata": {},
   "outputs": [
    {
     "data": {
      "text/html": [
       "<div>\n",
       "<style scoped>\n",
       "    .dataframe tbody tr th:only-of-type {\n",
       "        vertical-align: middle;\n",
       "    }\n",
       "\n",
       "    .dataframe tbody tr th {\n",
       "        vertical-align: top;\n",
       "    }\n",
       "\n",
       "    .dataframe thead th {\n",
       "        text-align: right;\n",
       "    }\n",
       "</style>\n",
       "<table border=\"1\" class=\"dataframe\">\n",
       "  <thead>\n",
       "    <tr style=\"text-align: right;\">\n",
       "      <th></th>\n",
       "      <th>roll#</th>\n",
       "      <th>name</th>\n",
       "      <th>python</th>\n",
       "      <th>numpy</th>\n",
       "      <th>pandas</th>\n",
       "      <th>total</th>\n",
       "      <th>Percentage</th>\n",
       "    </tr>\n",
       "  </thead>\n",
       "  <tbody>\n",
       "    <tr>\n",
       "      <th>0</th>\n",
       "      <td>1</td>\n",
       "      <td>asad</td>\n",
       "      <td>78</td>\n",
       "      <td>45</td>\n",
       "      <td>56</td>\n",
       "      <td>179</td>\n",
       "      <td>59.67</td>\n",
       "    </tr>\n",
       "    <tr>\n",
       "      <th>1</th>\n",
       "      <td>2</td>\n",
       "      <td>ali</td>\n",
       "      <td>67</td>\n",
       "      <td>67</td>\n",
       "      <td>67</td>\n",
       "      <td>201</td>\n",
       "      <td>67.00</td>\n",
       "    </tr>\n",
       "    <tr>\n",
       "      <th>2</th>\n",
       "      <td>3</td>\n",
       "      <td>atif</td>\n",
       "      <td>89</td>\n",
       "      <td>56</td>\n",
       "      <td>45</td>\n",
       "      <td>190</td>\n",
       "      <td>63.33</td>\n",
       "    </tr>\n",
       "    <tr>\n",
       "      <th>3</th>\n",
       "      <td>4</td>\n",
       "      <td>jamal</td>\n",
       "      <td>45</td>\n",
       "      <td>78</td>\n",
       "      <td>87</td>\n",
       "      <td>210</td>\n",
       "      <td>70.00</td>\n",
       "    </tr>\n",
       "    <tr>\n",
       "      <th>4</th>\n",
       "      <td>5</td>\n",
       "      <td>jamil</td>\n",
       "      <td>34</td>\n",
       "      <td>98</td>\n",
       "      <td>45</td>\n",
       "      <td>177</td>\n",
       "      <td>59.00</td>\n",
       "    </tr>\n",
       "    <tr>\n",
       "      <th>5</th>\n",
       "      <td>6</td>\n",
       "      <td>saif</td>\n",
       "      <td>100</td>\n",
       "      <td>100</td>\n",
       "      <td>100</td>\n",
       "      <td>300</td>\n",
       "      <td>100.00</td>\n",
       "    </tr>\n",
       "    <tr>\n",
       "      <th>6</th>\n",
       "      <td>7</td>\n",
       "      <td>suhaib</td>\n",
       "      <td>90</td>\n",
       "      <td>98</td>\n",
       "      <td>96</td>\n",
       "      <td>284</td>\n",
       "      <td>94.67</td>\n",
       "    </tr>\n",
       "    <tr>\n",
       "      <th>7</th>\n",
       "      <td>8</td>\n",
       "      <td>usman</td>\n",
       "      <td>89</td>\n",
       "      <td>99</td>\n",
       "      <td>96</td>\n",
       "      <td>284</td>\n",
       "      <td>94.67</td>\n",
       "    </tr>\n",
       "    <tr>\n",
       "      <th>8</th>\n",
       "      <td>9</td>\n",
       "      <td>hassan</td>\n",
       "      <td>34</td>\n",
       "      <td>9</td>\n",
       "      <td>89</td>\n",
       "      <td>132</td>\n",
       "      <td>44.00</td>\n",
       "    </tr>\n",
       "    <tr>\n",
       "      <th>9</th>\n",
       "      <td>10</td>\n",
       "      <td>basir</td>\n",
       "      <td>50</td>\n",
       "      <td>45</td>\n",
       "      <td>54</td>\n",
       "      <td>149</td>\n",
       "      <td>49.67</td>\n",
       "    </tr>\n",
       "  </tbody>\n",
       "</table>\n",
       "</div>"
      ],
      "text/plain": [
       "   roll#    name  python  numpy  pandas  total  Percentage\n",
       "0      1    asad      78     45      56    179       59.67\n",
       "1      2     ali      67     67      67    201       67.00\n",
       "2      3    atif      89     56      45    190       63.33\n",
       "3      4   jamal      45     78      87    210       70.00\n",
       "4      5   jamil      34     98      45    177       59.00\n",
       "5      6    saif     100    100     100    300      100.00\n",
       "6      7  suhaib      90     98      96    284       94.67\n",
       "7      8   usman      89     99      96    284       94.67\n",
       "8      9  hassan      34      9      89    132       44.00\n",
       "9     10   basir      50     45      54    149       49.67"
      ]
     },
     "execution_count": 145,
     "metadata": {},
     "output_type": "execute_result"
    }
   ],
   "source": [
    "result['Percentage']=round(result.total/300*100,2)\n",
    "result"
   ]
  },
  {
   "cell_type": "code",
   "execution_count": 146,
   "id": "60807e3e-dae1-4139-9117-4774ad9ba1ee",
   "metadata": {},
   "outputs": [
    {
     "data": {
      "text/html": [
       "<div>\n",
       "<style scoped>\n",
       "    .dataframe tbody tr th:only-of-type {\n",
       "        vertical-align: middle;\n",
       "    }\n",
       "\n",
       "    .dataframe tbody tr th {\n",
       "        vertical-align: top;\n",
       "    }\n",
       "\n",
       "    .dataframe thead th {\n",
       "        text-align: right;\n",
       "    }\n",
       "</style>\n",
       "<table border=\"1\" class=\"dataframe\">\n",
       "  <thead>\n",
       "    <tr style=\"text-align: right;\">\n",
       "      <th></th>\n",
       "      <th>roll#</th>\n",
       "      <th>name</th>\n",
       "      <th>python</th>\n",
       "      <th>numpy</th>\n",
       "      <th>pandas</th>\n",
       "      <th>total</th>\n",
       "      <th>Percentage</th>\n",
       "      <th>status</th>\n",
       "    </tr>\n",
       "  </thead>\n",
       "  <tbody>\n",
       "    <tr>\n",
       "      <th>0</th>\n",
       "      <td>1</td>\n",
       "      <td>asad</td>\n",
       "      <td>78</td>\n",
       "      <td>45</td>\n",
       "      <td>56</td>\n",
       "      <td>179</td>\n",
       "      <td>59.67</td>\n",
       "      <td>Fail</td>\n",
       "    </tr>\n",
       "    <tr>\n",
       "      <th>1</th>\n",
       "      <td>2</td>\n",
       "      <td>ali</td>\n",
       "      <td>67</td>\n",
       "      <td>67</td>\n",
       "      <td>67</td>\n",
       "      <td>201</td>\n",
       "      <td>67.00</td>\n",
       "      <td>Fail</td>\n",
       "    </tr>\n",
       "    <tr>\n",
       "      <th>2</th>\n",
       "      <td>3</td>\n",
       "      <td>atif</td>\n",
       "      <td>89</td>\n",
       "      <td>56</td>\n",
       "      <td>45</td>\n",
       "      <td>190</td>\n",
       "      <td>63.33</td>\n",
       "      <td>Fail</td>\n",
       "    </tr>\n",
       "    <tr>\n",
       "      <th>3</th>\n",
       "      <td>4</td>\n",
       "      <td>jamal</td>\n",
       "      <td>45</td>\n",
       "      <td>78</td>\n",
       "      <td>87</td>\n",
       "      <td>210</td>\n",
       "      <td>70.00</td>\n",
       "      <td>Fail</td>\n",
       "    </tr>\n",
       "    <tr>\n",
       "      <th>4</th>\n",
       "      <td>5</td>\n",
       "      <td>jamil</td>\n",
       "      <td>34</td>\n",
       "      <td>98</td>\n",
       "      <td>45</td>\n",
       "      <td>177</td>\n",
       "      <td>59.00</td>\n",
       "      <td>Fail</td>\n",
       "    </tr>\n",
       "    <tr>\n",
       "      <th>5</th>\n",
       "      <td>6</td>\n",
       "      <td>saif</td>\n",
       "      <td>100</td>\n",
       "      <td>100</td>\n",
       "      <td>100</td>\n",
       "      <td>300</td>\n",
       "      <td>100.00</td>\n",
       "      <td>Pass</td>\n",
       "    </tr>\n",
       "    <tr>\n",
       "      <th>6</th>\n",
       "      <td>7</td>\n",
       "      <td>suhaib</td>\n",
       "      <td>90</td>\n",
       "      <td>98</td>\n",
       "      <td>96</td>\n",
       "      <td>284</td>\n",
       "      <td>94.67</td>\n",
       "      <td>Pass</td>\n",
       "    </tr>\n",
       "    <tr>\n",
       "      <th>7</th>\n",
       "      <td>8</td>\n",
       "      <td>usman</td>\n",
       "      <td>89</td>\n",
       "      <td>99</td>\n",
       "      <td>96</td>\n",
       "      <td>284</td>\n",
       "      <td>94.67</td>\n",
       "      <td>Pass</td>\n",
       "    </tr>\n",
       "    <tr>\n",
       "      <th>8</th>\n",
       "      <td>9</td>\n",
       "      <td>hassan</td>\n",
       "      <td>34</td>\n",
       "      <td>9</td>\n",
       "      <td>89</td>\n",
       "      <td>132</td>\n",
       "      <td>44.00</td>\n",
       "      <td>Fail</td>\n",
       "    </tr>\n",
       "    <tr>\n",
       "      <th>9</th>\n",
       "      <td>10</td>\n",
       "      <td>basir</td>\n",
       "      <td>50</td>\n",
       "      <td>45</td>\n",
       "      <td>54</td>\n",
       "      <td>149</td>\n",
       "      <td>49.67</td>\n",
       "      <td>Fail</td>\n",
       "    </tr>\n",
       "  </tbody>\n",
       "</table>\n",
       "</div>"
      ],
      "text/plain": [
       "   roll#    name  python  numpy  pandas  total  Percentage status\n",
       "0      1    asad      78     45      56    179       59.67   Fail\n",
       "1      2     ali      67     67      67    201       67.00   Fail\n",
       "2      3    atif      89     56      45    190       63.33   Fail\n",
       "3      4   jamal      45     78      87    210       70.00   Fail\n",
       "4      5   jamil      34     98      45    177       59.00   Fail\n",
       "5      6    saif     100    100     100    300      100.00   Pass\n",
       "6      7  suhaib      90     98      96    284       94.67   Pass\n",
       "7      8   usman      89     99      96    284       94.67   Pass\n",
       "8      9  hassan      34      9      89    132       44.00   Fail\n",
       "9     10   basir      50     45      54    149       49.67   Fail"
      ]
     },
     "execution_count": 146,
     "metadata": {},
     "output_type": "execute_result"
    }
   ],
   "source": [
    "result['status'] = [\"Pass\" if marks >= 225 else \"Fail\" for marks in result.total]\n",
    "result"
   ]
  },
  {
   "cell_type": "code",
   "execution_count": 151,
   "id": "040e78e7-68fb-42c5-bb22-c8d085b9537a",
   "metadata": {},
   "outputs": [
    {
     "data": {
      "text/html": [
       "<div>\n",
       "<style scoped>\n",
       "    .dataframe tbody tr th:only-of-type {\n",
       "        vertical-align: middle;\n",
       "    }\n",
       "\n",
       "    .dataframe tbody tr th {\n",
       "        vertical-align: top;\n",
       "    }\n",
       "\n",
       "    .dataframe thead th {\n",
       "        text-align: right;\n",
       "    }\n",
       "</style>\n",
       "<table border=\"1\" class=\"dataframe\">\n",
       "  <thead>\n",
       "    <tr style=\"text-align: right;\">\n",
       "      <th></th>\n",
       "      <th>roll#</th>\n",
       "      <th>name</th>\n",
       "      <th>python</th>\n",
       "      <th>numpy</th>\n",
       "      <th>pandas</th>\n",
       "      <th>total</th>\n",
       "      <th>Percentage</th>\n",
       "      <th>status</th>\n",
       "      <th>grade</th>\n",
       "    </tr>\n",
       "  </thead>\n",
       "  <tbody>\n",
       "    <tr>\n",
       "      <th>0</th>\n",
       "      <td>1</td>\n",
       "      <td>asad</td>\n",
       "      <td>78</td>\n",
       "      <td>45</td>\n",
       "      <td>56</td>\n",
       "      <td>179</td>\n",
       "      <td>59.67</td>\n",
       "      <td>Fail</td>\n",
       "      <td>D</td>\n",
       "    </tr>\n",
       "    <tr>\n",
       "      <th>1</th>\n",
       "      <td>2</td>\n",
       "      <td>ali</td>\n",
       "      <td>67</td>\n",
       "      <td>67</td>\n",
       "      <td>67</td>\n",
       "      <td>201</td>\n",
       "      <td>67.00</td>\n",
       "      <td>Fail</td>\n",
       "      <td>C</td>\n",
       "    </tr>\n",
       "    <tr>\n",
       "      <th>2</th>\n",
       "      <td>3</td>\n",
       "      <td>atif</td>\n",
       "      <td>89</td>\n",
       "      <td>56</td>\n",
       "      <td>45</td>\n",
       "      <td>190</td>\n",
       "      <td>63.33</td>\n",
       "      <td>Fail</td>\n",
       "      <td>C</td>\n",
       "    </tr>\n",
       "    <tr>\n",
       "      <th>3</th>\n",
       "      <td>4</td>\n",
       "      <td>jamal</td>\n",
       "      <td>45</td>\n",
       "      <td>78</td>\n",
       "      <td>87</td>\n",
       "      <td>210</td>\n",
       "      <td>70.00</td>\n",
       "      <td>Fail</td>\n",
       "      <td>B</td>\n",
       "    </tr>\n",
       "    <tr>\n",
       "      <th>4</th>\n",
       "      <td>5</td>\n",
       "      <td>jamil</td>\n",
       "      <td>34</td>\n",
       "      <td>98</td>\n",
       "      <td>45</td>\n",
       "      <td>177</td>\n",
       "      <td>59.00</td>\n",
       "      <td>Fail</td>\n",
       "      <td>D</td>\n",
       "    </tr>\n",
       "    <tr>\n",
       "      <th>5</th>\n",
       "      <td>6</td>\n",
       "      <td>saif</td>\n",
       "      <td>100</td>\n",
       "      <td>100</td>\n",
       "      <td>100</td>\n",
       "      <td>300</td>\n",
       "      <td>100.00</td>\n",
       "      <td>Pass</td>\n",
       "      <td>A*</td>\n",
       "    </tr>\n",
       "    <tr>\n",
       "      <th>6</th>\n",
       "      <td>7</td>\n",
       "      <td>suhaib</td>\n",
       "      <td>90</td>\n",
       "      <td>98</td>\n",
       "      <td>96</td>\n",
       "      <td>284</td>\n",
       "      <td>94.67</td>\n",
       "      <td>Pass</td>\n",
       "      <td>A*</td>\n",
       "    </tr>\n",
       "    <tr>\n",
       "      <th>7</th>\n",
       "      <td>8</td>\n",
       "      <td>usman</td>\n",
       "      <td>89</td>\n",
       "      <td>99</td>\n",
       "      <td>96</td>\n",
       "      <td>284</td>\n",
       "      <td>94.67</td>\n",
       "      <td>Pass</td>\n",
       "      <td>A*</td>\n",
       "    </tr>\n",
       "    <tr>\n",
       "      <th>8</th>\n",
       "      <td>9</td>\n",
       "      <td>hassan</td>\n",
       "      <td>34</td>\n",
       "      <td>9</td>\n",
       "      <td>89</td>\n",
       "      <td>132</td>\n",
       "      <td>44.00</td>\n",
       "      <td>Fail</td>\n",
       "      <td>F</td>\n",
       "    </tr>\n",
       "    <tr>\n",
       "      <th>9</th>\n",
       "      <td>10</td>\n",
       "      <td>basir</td>\n",
       "      <td>50</td>\n",
       "      <td>45</td>\n",
       "      <td>54</td>\n",
       "      <td>149</td>\n",
       "      <td>49.67</td>\n",
       "      <td>Fail</td>\n",
       "      <td>F</td>\n",
       "    </tr>\n",
       "  </tbody>\n",
       "</table>\n",
       "</div>"
      ],
      "text/plain": [
       "   roll#    name  python  numpy  pandas  total  Percentage status grade\n",
       "0      1    asad      78     45      56    179       59.67   Fail     D\n",
       "1      2     ali      67     67      67    201       67.00   Fail     C\n",
       "2      3    atif      89     56      45    190       63.33   Fail     C\n",
       "3      4   jamal      45     78      87    210       70.00   Fail     B\n",
       "4      5   jamil      34     98      45    177       59.00   Fail     D\n",
       "5      6    saif     100    100     100    300      100.00   Pass    A*\n",
       "6      7  suhaib      90     98      96    284       94.67   Pass    A*\n",
       "7      8   usman      89     99      96    284       94.67   Pass    A*\n",
       "8      9  hassan      34      9      89    132       44.00   Fail     F\n",
       "9     10   basir      50     45      54    149       49.67   Fail     F"
      ]
     },
     "execution_count": 151,
     "metadata": {},
     "output_type": "execute_result"
    }
   ],
   "source": [
    "result['grade']=['A*' if p>=90\n",
    "              else 'A' if p>=80\n",
    "              else 'B' if p>=70\n",
    "              else 'C' if p>=60\n",
    "              else 'D' if p>=50\n",
    "              else 'F'\n",
    "              for p in result.Percentage]\n",
    "result"
   ]
  },
  {
   "cell_type": "code",
   "execution_count": null,
   "id": "0fbed508-f6a6-426a-bd8e-37b5b64ca063",
   "metadata": {},
   "outputs": [],
   "source": []
  }
 ],
 "metadata": {
  "kernelspec": {
   "display_name": "Python 3 (ipykernel)",
   "language": "python",
   "name": "python3"
  },
  "language_info": {
   "codemirror_mode": {
    "name": "ipython",
    "version": 3
   },
   "file_extension": ".py",
   "mimetype": "text/x-python",
   "name": "python",
   "nbconvert_exporter": "python",
   "pygments_lexer": "ipython3",
   "version": "3.12.7"
  }
 },
 "nbformat": 4,
 "nbformat_minor": 5
}
