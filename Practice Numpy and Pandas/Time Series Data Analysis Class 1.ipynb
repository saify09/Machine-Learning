{
 "cells": [
  {
   "cell_type": "markdown",
   "id": "0e84dd3e-8b0d-4d3c-8319-cd34bae0f596",
   "metadata": {},
   "source": [
    "# Time Series Data Analysis\n",
    "### What is a Time Series?\n",
    "A time series is a sequence of data points collected, recorded, or measured at successive, evenly-spaced time intervals.\n",
    "\n",
    "Each data point represents observations or measurements taken over time, such as stock prices, temperature readings, or sales figures. Time series data is commonly represented graphically with time on the horizontal axis and the variable of interest on the vertical axis, allowing analysts to identify trends, patterns, and changes over time.\n",
    "\n",
    "Time series data is often represented graphically as a line plot, with time depicted on the horizontal x-axis and the variable's values displayed on the vertical y-axis. This graphical representation facilitates the visualization of trends, patterns, and fluctuations in the variable over time, aiding in the analysis and interpretation of the data."
   ]
  },
  {
   "cell_type": "code",
   "execution_count": 7,
   "id": "68c8b870-7fac-4cb9-8e45-5a731059c244",
   "metadata": {},
   "outputs": [
    {
     "name": "stdout",
     "output_type": "stream",
     "text": [
      "Defaulting to user installation because normal site-packages is not writeable\n",
      "Collecting pandas_datareader\n",
      "  Using cached pandas_datareader-0.10.0-py3-none-any.whl.metadata (2.9 kB)\n",
      "Requirement already satisfied: lxml in c:\\programdata\\anaconda3\\lib\\site-packages (from pandas_datareader) (5.2.1)\n",
      "Requirement already satisfied: pandas>=0.23 in c:\\programdata\\anaconda3\\lib\\site-packages (from pandas_datareader) (2.2.2)\n",
      "Requirement already satisfied: requests>=2.19.0 in c:\\programdata\\anaconda3\\lib\\site-packages (from pandas_datareader) (2.32.3)\n",
      "Requirement already satisfied: numpy>=1.26.0 in c:\\programdata\\anaconda3\\lib\\site-packages (from pandas>=0.23->pandas_datareader) (1.26.4)\n",
      "Requirement already satisfied: python-dateutil>=2.8.2 in c:\\programdata\\anaconda3\\lib\\site-packages (from pandas>=0.23->pandas_datareader) (2.9.0.post0)\n",
      "Requirement already satisfied: pytz>=2020.1 in c:\\programdata\\anaconda3\\lib\\site-packages (from pandas>=0.23->pandas_datareader) (2024.1)\n",
      "Requirement already satisfied: tzdata>=2022.7 in c:\\programdata\\anaconda3\\lib\\site-packages (from pandas>=0.23->pandas_datareader) (2023.3)\n",
      "Requirement already satisfied: charset-normalizer<4,>=2 in c:\\programdata\\anaconda3\\lib\\site-packages (from requests>=2.19.0->pandas_datareader) (3.3.2)\n",
      "Requirement already satisfied: idna<4,>=2.5 in c:\\programdata\\anaconda3\\lib\\site-packages (from requests>=2.19.0->pandas_datareader) (3.7)\n",
      "Requirement already satisfied: urllib3<3,>=1.21.1 in c:\\programdata\\anaconda3\\lib\\site-packages (from requests>=2.19.0->pandas_datareader) (2.2.3)\n",
      "Requirement already satisfied: certifi>=2017.4.17 in c:\\programdata\\anaconda3\\lib\\site-packages (from requests>=2.19.0->pandas_datareader) (2024.8.30)\n",
      "Requirement already satisfied: six>=1.5 in c:\\programdata\\anaconda3\\lib\\site-packages (from python-dateutil>=2.8.2->pandas>=0.23->pandas_datareader) (1.16.0)\n",
      "Using cached pandas_datareader-0.10.0-py3-none-any.whl (109 kB)\n",
      "Installing collected packages: pandas_datareader\n",
      "Successfully installed pandas_datareader-0.10.0\n",
      "Note: you may need to restart the kernel to use updated packages.\n"
     ]
    }
   ],
   "source": [
    "pip install pandas_datareader"
   ]
  },
  {
   "cell_type": "code",
   "execution_count": 9,
   "id": "d6a269ae-3002-46ed-a35f-ad53a5cba6e3",
   "metadata": {},
   "outputs": [],
   "source": [
    "from datetime import datetime\n",
    "import yfinance as yf\n",
    "import pandas_datareader.data as pdr\n",
    "import pandas as pd\n",
    "import numpy as np\n",
    "import matplotlib.pyplot as plt\n",
    "import seaborn as sns\n",
    "import plotly.express as px\n",
    "## import datetime\n",
    "## date.function"
   ]
  },
  {
   "cell_type": "code",
   "execution_count": 3,
   "id": "862bf456-6947-424f-b21a-b1053ac02625",
   "metadata": {},
   "outputs": [
    {
     "data": {
      "text/plain": [
       "datetime.datetime(2025, 6, 18, 16, 17, 52, 185309)"
      ]
     },
     "execution_count": 3,
     "metadata": {},
     "output_type": "execute_result"
    }
   ],
   "source": [
    "now =  datetime.now()\n",
    "now"
   ]
  },
  {
   "cell_type": "code",
   "execution_count": 4,
   "id": "778467e6-3248-45ed-8114-e6b3363c4b43",
   "metadata": {},
   "outputs": [
    {
     "data": {
      "text/plain": [
       "2025"
      ]
     },
     "execution_count": 4,
     "metadata": {},
     "output_type": "execute_result"
    }
   ],
   "source": [
    "now.year"
   ]
  },
  {
   "cell_type": "code",
   "execution_count": null,
   "id": "d7e346e0-a88a-4b42-b1a9-db87a1e2f700",
   "metadata": {},
   "outputs": [],
   "source": [
    "now.month"
   ]
  },
  {
   "cell_type": "code",
   "execution_count": null,
   "id": "aed92fc7-1515-4803-8907-781a78debd93",
   "metadata": {},
   "outputs": [],
   "source": [
    "now.day"
   ]
  },
  {
   "cell_type": "code",
   "execution_count": null,
   "id": "06a88720-6f19-46ca-9b89-93010b0ced43",
   "metadata": {},
   "outputs": [],
   "source": [
    "now.hour"
   ]
  },
  {
   "cell_type": "code",
   "execution_count": null,
   "id": "7fba770b-2822-41f5-815e-1fab331e772e",
   "metadata": {
    "scrolled": true
   },
   "outputs": [],
   "source": [
    "now.minute"
   ]
  },
  {
   "cell_type": "code",
   "execution_count": null,
   "id": "361b8867-66a7-4f80-a78b-82fff1584f15",
   "metadata": {},
   "outputs": [],
   "source": [
    "now.second"
   ]
  },
  {
   "cell_type": "code",
   "execution_count": null,
   "id": "1763c6c2-3971-49d7-a53d-ccf10df3ed56",
   "metadata": {},
   "outputs": [],
   "source": [
    "d1 = datetime(2025,1,1)\n",
    "d2 = datetime(2024,1,1)"
   ]
  },
  {
   "cell_type": "code",
   "execution_count": null,
   "id": "1f84ba4d-9a9a-428e-b164-09bbb0406e52",
   "metadata": {},
   "outputs": [],
   "source": [
    "delta_d = d1-d2\n",
    "delta_d"
   ]
  },
  {
   "cell_type": "markdown",
   "id": "9e7e08c5-9b4f-4f71-8bb5-437b718835c9",
   "metadata": {},
   "source": [
    "# Converting Between String and Datetime"
   ]
  },
  {
   "cell_type": "code",
   "execution_count": null,
   "id": "00bcc111-d7a1-4064-9d13-15fc292b032b",
   "metadata": {},
   "outputs": [],
   "source": [
    "stamp = datetime(2011,1,3)\n",
    "stamp"
   ]
  },
  {
   "cell_type": "code",
   "execution_count": null,
   "id": "fa0a0d90-067a-41ab-a3cc-297783c41aa2",
   "metadata": {},
   "outputs": [],
   "source": [
    "stamp.strftime(\"%Y-%m-%d\")\n",
    "stamp\n",
    "# stamp.strftime(\"%y-%m-%d\")\n",
    "# stamp\n",
    "# stamp.strftime(\"%d-%m-%Y\")\n",
    "# stamp"
   ]
  },
  {
   "cell_type": "code",
   "execution_count": null,
   "id": "b0fb10aa-fb60-4e86-b180-792eef29ca13",
   "metadata": {},
   "outputs": [],
   "source": [
    "dt_str=str(stamp)\n",
    "dt_str"
   ]
  },
  {
   "cell_type": "code",
   "execution_count": 8,
   "id": "4244af59-7627-4656-8bad-51e7daf3ce09",
   "metadata": {},
   "outputs": [],
   "source": [
    "import warnings\n",
    "warnings.filterwarnings(\"ignore\")"
   ]
  },
  {
   "cell_type": "code",
   "execution_count": null,
   "id": "c9e9100d-a825-4f00-8eb0-434feb3f4deb",
   "metadata": {},
   "outputs": [],
   "source": []
  }
 ],
 "metadata": {
  "kernelspec": {
   "display_name": "Python 3 (ipykernel)",
   "language": "python",
   "name": "python3"
  },
  "language_info": {
   "codemirror_mode": {
    "name": "ipython",
    "version": 3
   },
   "file_extension": ".py",
   "mimetype": "text/x-python",
   "name": "python",
   "nbconvert_exporter": "python",
   "pygments_lexer": "ipython3",
   "version": "3.12.7"
  }
 },
 "nbformat": 4,
 "nbformat_minor": 5
}
