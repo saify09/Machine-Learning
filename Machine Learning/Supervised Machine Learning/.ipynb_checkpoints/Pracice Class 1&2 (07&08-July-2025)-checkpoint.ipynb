{
 "cells": [
  {
   "cell_type": "markdown",
   "id": "41fd4b3d-0e71-4003-81a3-f751507983e5",
   "metadata": {},
   "source": [
    "# Machine Learning\n",
    "what is Machine Learning?\n",
    "\n",
    "    - Programming Paradigm ( Classical Approch)\n",
    "    - Machine Learning Paradigm (Modern Approch)\n",
    "    \n",
    " Machine Learning:\n",
    "  - Supervised Learning\n",
    "  - Unsupervised leraning\n",
    "  - Semi Supervised Learning\n",
    "  - Reinforcement Learning\n",
    "Supervised Learning:\n",
    "    If we supervised learning our ML algo by supplying data + ans\n",
    "Unsupervised Learning:\n",
    "    "
   ]
  },
  {
   "cell_type": "code",
   "execution_count": null,
   "id": "ded25381-34a7-4ef4-bc72-6ad8f42f3794",
   "metadata": {},
   "outputs": [],
   "source": []
  },
  {
   "cell_type": "code",
   "execution_count": null,
   "id": "d64e2e42-09f1-42b7-ab5a-77a8d85a2982",
   "metadata": {},
   "outputs": [],
   "source": []
  },
  {
   "cell_type": "code",
   "execution_count": null,
   "id": "2aaf23c4-cecb-4e7f-b828-0eed1670c3dd",
   "metadata": {},
   "outputs": [],
   "source": []
  },
  {
   "cell_type": "code",
   "execution_count": null,
   "id": "a8ffd713-2bd7-4fbc-8418-d0bec6d9f8af",
   "metadata": {},
   "outputs": [],
   "source": []
  },
  {
   "cell_type": "code",
   "execution_count": null,
   "id": "d9632326-b4b1-4a85-9c19-0a33f4046ad6",
   "metadata": {},
   "outputs": [],
   "source": []
  },
  {
   "cell_type": "code",
   "execution_count": null,
   "id": "d76a6872-44a0-4802-84a9-24f1c7b11c61",
   "metadata": {},
   "outputs": [],
   "source": []
  }
 ],
 "metadata": {
  "kernelspec": {
   "display_name": "Python 3 (ipykernel)",
   "language": "python",
   "name": "python3"
  },
  "language_info": {
   "codemirror_mode": {
    "name": "ipython",
    "version": 3
   },
   "file_extension": ".py",
   "mimetype": "text/x-python",
   "name": "python",
   "nbconvert_exporter": "python",
   "pygments_lexer": "ipython3",
   "version": "3.12.7"
  }
 },
 "nbformat": 4,
 "nbformat_minor": 5
}
