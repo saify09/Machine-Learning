{
 "cells": [
  {
   "cell_type": "code",
   "execution_count": 1,
   "id": "d754fe7a-2aac-4e02-9a15-7950b9189b44",
   "metadata": {},
   "outputs": [],
   "source": [
    "import numpy as np\n",
    "import pandas as pd\n",
    "import matplotlib.pyplot as plt"
   ]
  },
  {
   "cell_type": "code",
   "execution_count": 4,
   "id": "e6f50233-859c-4971-ba2f-387f2aac2e89",
   "metadata": {},
   "outputs": [
    {
     "data": {
      "text/plain": [
       "Gender\n",
       "Male      5000\n",
       "Female    5000\n",
       "Name: count, dtype: int64"
      ]
     },
     "execution_count": 4,
     "metadata": {},
     "output_type": "execute_result"
    }
   ],
   "source": [
    "dataset=pd.read_csv(\"weight-height.csv\")\n",
    "dataset.Gender.value_counts()"
   ]
  },
  {
   "cell_type": "code",
   "execution_count": 3,
   "id": "8e67e77a-b4e0-4e67-865f-3e2db98efec6",
   "metadata": {},
   "outputs": [],
   "source": [
    "X= dataset[['Gender', 'Height']]\n",
    "y = dataset['Weight']"
   ]
  },
  {
   "cell_type": "code",
   "execution_count": 5,
   "id": "7d7fe028-5a72-4245-ad25-5353cd2b54d3",
   "metadata": {},
   "outputs": [],
   "source": [
    "from sklearn.model_selection import train_test_split\n",
    "X_train,X_test,y_train,y_test=train_test_split(X,y,test_size=.30,random_state=123)"
   ]
  },
  {
   "cell_type": "code",
   "execution_count": 6,
   "id": "c891c35e-9bc8-4876-b2af-6cab55820835",
   "metadata": {},
   "outputs": [
    {
     "data": {
      "text/plain": [
       "Gender\n",
       "Male      3515\n",
       "Female    3485\n",
       "Name: count, dtype: int64"
      ]
     },
     "execution_count": 6,
     "metadata": {},
     "output_type": "execute_result"
    }
   ],
   "source": [
    "X_train.Gender.value_counts()"
   ]
  },
  {
   "cell_type": "code",
   "execution_count": 7,
   "id": "0cbf71cf-9d4c-4af9-b2ba-c17f66723b71",
   "metadata": {},
   "outputs": [
    {
     "data": {
      "text/plain": [
       "Gender\n",
       "Female    1515\n",
       "Male      1485\n",
       "Name: count, dtype: int64"
      ]
     },
     "execution_count": 7,
     "metadata": {},
     "output_type": "execute_result"
    }
   ],
   "source": [
    "X_test.Gender.value_counts()"
   ]
  },
  {
   "cell_type": "code",
   "execution_count": 8,
   "id": "3cc96ba8-a67e-4e9f-a702-a5a6591c00c9",
   "metadata": {},
   "outputs": [],
   "source": [
    "train = X.sh"
   ]
  },
  {
   "cell_type": "code",
   "execution_count": 9,
   "id": "95047274-bcf6-427b-bcb0-448dc89e3d17",
   "metadata": {},
   "outputs": [
    {
     "data": {
      "text/plain": [
       "Gender\n",
       "Female    3518\n",
       "Male      3482\n",
       "Name: count, dtype: int64"
      ]
     },
     "execution_count": 9,
     "metadata": {},
     "output_type": "execute_result"
    }
   ],
   "source": [
    "train.Gender.value_counts()"
   ]
  },
  {
   "cell_type": "code",
   "execution_count": 10,
   "id": "63577449-eb8f-410b-a923-dd8c3f2dac0a",
   "metadata": {},
   "outputs": [],
   "source": [
    "import pickle"
   ]
  },
  {
   "cell_type": "code",
   "execution_count": 11,
   "id": "85ea0537-ba73-4993-95af-5b9d4b62a9f5",
   "metadata": {},
   "outputs": [],
   "source": [
    "# load the model\n",
    "linear_model = pickle.load(open('linear_regression_model.sav', 'rb'))"
   ]
  },
  {
   "cell_type": "code",
   "execution_count": 14,
   "id": "941f2045-82b7-4398-8aeb-156e3ae9a36e",
   "metadata": {},
   "outputs": [],
   "source": [
    "def predictedWeight(height):\n",
    "    return linear_model.predict([[height]])"
   ]
  },
  {
   "cell_type": "code",
   "execution_count": 15,
   "id": "a68da8ac-0eb6-4c88-a284-e9eeff79e436",
   "metadata": {},
   "outputs": [
    {
     "name": "stdin",
     "output_type": "stream",
     "text": [
      "if you wana guess your wait please provide me your height in inches 63.867992\n"
     ]
    },
    {
     "name": "stdout",
     "output_type": "stream",
     "text": [
      "Our model says your weight is about [64.42014896] Kgs\n"
     ]
    },
    {
     "name": "stderr",
     "output_type": "stream",
     "text": [
      "C:\\Users\\Nasir Hussain\\anaconda3\\Lib\\site-packages\\sklearn\\utils\\validation.py:2739: UserWarning: X does not have valid feature names, but LinearRegression was fitted with feature names\n",
      "  warnings.warn(\n"
     ]
    }
   ],
   "source": [
    "height = float(input(\"if you wana guess your wait please provide me your height in inches\"))\n",
    "print(f\"Our model says your weight is about {(predictedWeight(height)*0.453592)} Kgs\")"
   ]
  },
  {
   "cell_type": "code",
   "execution_count": null,
   "id": "00c792fa-bb65-40b5-aa05-f22224ffbb36",
   "metadata": {},
   "outputs": [],
   "source": [
    "142"
   ]
  },
  {
   "cell_type": "code",
   "execution_count": 16,
   "id": "ca6263d0-e297-443e-ae99-54a4f51aa58c",
   "metadata": {},
   "outputs": [
    {
     "data": {
      "text/plain": [
       "128.4753188"
      ]
     },
     "execution_count": 16,
     "metadata": {},
     "output_type": "execute_result"
    }
   ],
   "source": [
    "y.iloc[9997]"
   ]
  },
  {
   "cell_type": "code",
   "execution_count": null,
   "id": "8d98ba81-6829-400d-a888-ff84dc5308cd",
   "metadata": {},
   "outputs": [],
   "source": []
  }
 ],
 "metadata": {
  "kernelspec": {
   "display_name": "Python 3 (ipykernel)",
   "language": "python",
   "name": "python3"
  },
  "language_info": {
   "codemirror_mode": {
    "name": "ipython",
    "version": 3
   },
   "file_extension": ".py",
   "mimetype": "text/x-python",
   "name": "python",
   "nbconvert_exporter": "python",
   "pygments_lexer": "ipython3",
   "version": "3.12.3"
  }
 },
 "nbformat": 4,
 "nbformat_minor": 5
}
