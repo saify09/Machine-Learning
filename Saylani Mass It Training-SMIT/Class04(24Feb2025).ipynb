{
 "cells": [
  {
   "cell_type": "markdown",
   "id": "6c2d4e73-f978-498e-925e-f62aa073e160",
   "metadata": {},
   "source": [
    "# User Input : Console input"
   ]
  },
  {
   "cell_type": "code",
   "execution_count": 3,
   "id": "f0f20f43-51d3-4dd5-8497-7b62766f3103",
   "metadata": {},
   "outputs": [
    {
     "name": "stdin",
     "output_type": "stream",
     "text": [
      "Enter a number:  34\n"
     ]
    },
    {
     "name": "stdout",
     "output_type": "stream",
     "text": [
      "The double of the number is 68\n"
     ]
    }
   ],
   "source": [
    "num1 = int(input(\"Enter a number: \"))\n",
    "print(f\"The double of the number is {num1*2}\")"
   ]
  },
  {
   "cell_type": "markdown",
   "id": "58f03a8f-988d-49ed-ad6f-45eccf551325",
   "metadata": {},
   "source": [
    "# Conditional Statements \n",
    "         - if statement\n",
    "         - if clause      "
   ]
  },
  {
   "attachments": {
    "7b8d2668-eee9-4b63-978e-b99dd4b99421.png": {
     "image/png": "[encoded data removed]"
    },
    "a45e31c2-d55a-4e06-bdaa-baef9e24fd27.png": {
     "image/png": "[encoded data removed]"
    }
   },
   "cell_type": "markdown",
   "id": "87c1f5cc-0395-44c2-96a8-36a86dd2c779",
   "metadata": {},
   "source": [
    "![image.png](attachment:7b8d2668-eee9-4b63-978e-b99dd4b99421.png)![image.png](attachment:a45e31c2-d55a-4e06-bdaa-baef9e24fd27.png)"
   ]
  },
  {
   "cell_type": "code",
   "execution_count": 3,
   "id": "9d68a6ae-5546-4144-bd19-5ba02f711254",
   "metadata": {},
   "outputs": [],
   "source": [
    "a = 10 \n",
    "if a < 5:\n",
    "    print(\"a is greater than 5\")\n",
    "    print(\"a is greater than 5\")"
   ]
  },
  {
   "cell_type": "code",
   "execution_count": 4,
   "id": "7ddd211b-f9bd-4496-8c50-d345ea338da3",
   "metadata": {},
   "outputs": [
    {
     "name": "stdin",
     "output_type": "stream",
     "text": [
      "Please enter your age:  19\n"
     ]
    },
    {
     "name": "stdout",
     "output_type": "stream",
     "text": [
      "NIC ban sakta hy\n",
      "Nikah hosakta hy\n",
      "liscence ban sakta hy\n",
      "Vote dal sakta hy\n",
      "Can apply for job\n"
     ]
    }
   ],
   "source": [
    "age = int(input(\"Please enter your age: \"))\n",
    "if age >=18:\n",
    "    print(\"NIC ban sakta hy\")\n",
    "    print(\"Nikah hosakta hy\")\n",
    "    print(\"liscence ban sakta hy\")\n",
    "    print(\"Vote dal sakta hy\")\n",
    "    print(\"Can apply for job\")\n",
    "    \n",
    "    \n",
    "else:\n",
    "    print(\"Dahi la kar diya karo\")\n",
    "    print(\"Cartoon network dega karo\")"
   ]
  },
  {
   "cell_type": "code",
   "execution_count": 17,
   "id": "08b3912d-f9f7-4594-9a23-f619d992ae4f",
   "metadata": {},
   "outputs": [
    {
     "name": "stdin",
     "output_type": "stream",
     "text": [
      "Enter a number:  11\n"
     ]
    },
    {
     "name": "stdout",
     "output_type": "stream",
     "text": [
      "11 is odd\n"
     ]
    }
   ],
   "source": [
    "num = int(input(\"Enter a number: \"))\n",
    "if num%2==0:\n",
    "    print(f\"{num} is even\")\n",
    "else:\n",
    "    print(f\"{num} is odd\")\n",
    "    "
   ]
  },
  {
   "cell_type": "code",
   "execution_count": 19,
   "id": "0ff34849-8242-45dd-bf7f-4a4dd8975e27",
   "metadata": {},
   "outputs": [
    {
     "name": "stdin",
     "output_type": "stream",
     "text": [
      "Enter a number:  45\n"
     ]
    },
    {
     "name": "stdout",
     "output_type": "stream",
     "text": [
      "Odd number45\n"
     ]
    }
   ],
   "source": [
    "num = int(input(\"Enter a number: \"))\n",
    "if num%2==0:\n",
    "    print(\"Even number\"+ str(num))\n",
    "else:\n",
    "    print(\"Odd number\"+ str(num))\n",
    "    "
   ]
  },
  {
   "cell_type": "code",
   "execution_count": 22,
   "id": "20296eee-ce90-4496-9fe9-e7e59969268b",
   "metadata": {},
   "outputs": [
    {
     "name": "stdin",
     "output_type": "stream",
     "text": [
      "Enter a number:  45\n"
     ]
    },
    {
     "name": "stdout",
     "output_type": "stream",
     "text": [
      "Odd number-45\n"
     ]
    }
   ],
   "source": [
    "num = int(input(\"Enter a number: \"))\n",
    "if num%2==0:\n",
    "    print(\"Even number\", num, sep=\"-\")\n",
    "else:\n",
    "    print(\"Odd number\", num,sep=\"-\")\n",
    "    "
   ]
  },
  {
   "cell_type": "code",
   "execution_count": 5,
   "id": "e541776f-5ec9-4c52-addf-6530fcbf674b",
   "metadata": {},
   "outputs": [
    {
     "name": "stdin",
     "output_type": "stream",
     "text": [
      "What is the color of signal light now:  RED\n"
     ]
    },
    {
     "name": "stdout",
     "output_type": "stream",
     "text": [
      "Stop the vehicle\n"
     ]
    }
   ],
   "source": [
    "signal_light_color = input(\"What is the color of signal light now: \").upper()\n",
    "if signal_light_color == \"RED\":\n",
    "    print(\"Stop the vehicle\")\n",
    "elif signal_light_color == \"YELLOW\":\n",
    "    print(\"Wait till the Light turns green\")\n",
    "else sgnal_\n",
    "    print(\"You can move ahead\")"
   ]
  },
  {
   "cell_type": "code",
   "execution_count": 26,
   "id": "7b768ce9-5482-46eb-89b7-ccd11c9833c9",
   "metadata": {},
   "outputs": [
    {
     "data": {
      "text/plain": [
       "('red', 'red', 'red')"
      ]
     },
     "execution_count": 26,
     "metadata": {},
     "output_type": "execute_result"
    }
   ],
   "source": [
    "\"red\".lower(), \"RED\".lower(), \"Red\".lower()"
   ]
  },
  {
   "cell_type": "code",
   "execution_count": 32,
   "id": "06954d8d-bdba-4c9a-b0e2-eaa14f87f5da",
   "metadata": {},
   "outputs": [
    {
     "name": "stdin",
     "output_type": "stream",
     "text": [
      "Enter your python:  56\n",
      "Enter your html:  78\n",
      "Enter your css:  78\n",
      "Enter your java:  89\n",
      "Enter your nextjs:  45\n"
     ]
    },
    {
     "name": "stdout",
     "output_type": "stream",
     "text": [
      "You are Pass your total is 346\n"
     ]
    }
   ],
   "source": [
    "python = int(input(\"Enter your python: \"))\n",
    "html = int(input(\"Enter your html: \"))\n",
    "css = int(input(\"Enter your css: \"))\n",
    "java = int(input(\"Enter your java: \"))\n",
    "nextjs = int(input(\"Enter your nextjs: \"))\n",
    "total = python + html + css + java + nextjs\n",
    "\n",
    "if total >=250:\n",
    "    print(f\"You are Pass your total is {total}\")\n",
    "else:\n",
    "    print(f\"You are Fail your total is {total}\")"
   ]
  },
  {
   "cell_type": "raw",
   "id": "14da8c7e-fb36-4714-b109-9ecbab56f4e4",
   "metadata": {},
   "source": [
    "# agar toamaotr 10 ?? 20 \n",
    "                20  ??? 15\n",
    "                25   10 \n",
    "                50   1 "
   ]
  },
  {
   "cell_type": "code",
   "execution_count": 41,
   "id": "9f30ffed-1b83-4001-aaae-1bbf202d3ee4",
   "metadata": {},
   "outputs": [
    {
     "name": "stdin",
     "output_type": "stream",
     "text": [
      "Kese diye 25\n"
     ]
    },
    {
     "name": "stdout",
     "output_type": "stream",
     "text": [
      "10 Kg dedo\n"
     ]
    }
   ],
   "source": [
    "tomato_price = int(input(\"Kese diye\"))\n",
    "if tomato_price<=10:\n",
    "    print(\"20 Kg Dedo\")\n",
    "elif tomato_price<=20:\n",
    "    print(\"15 Kg Dedo\")\n",
    "elif tomato_price<=25:\n",
    "    print(\"10 Kg dedo\")\n",
    "else:\n",
    "    print(\"1 kg dedo\")"
   ]
  },
  {
   "cell_type": "code",
   "execution_count": 42,
   "id": "fa2ae140-96e4-4ae4-a2e7-8a2770a1fad0",
   "metadata": {},
   "outputs": [
    {
     "name": "stdin",
     "output_type": "stream",
     "text": [
      "How much 25\n"
     ]
    },
    {
     "name": "stdout",
     "output_type": "stream",
     "text": [
      "1 kg\n"
     ]
    }
   ],
   "source": [
    "tomato_price = int(input(\"How much\"))\n",
    "if tomato_price>=25:\n",
    "    print(\"1 kg\")\n",
    "elif tomato_price>=20:\n",
    "    print(\"10 kg\")\n",
    "elif tomato_price>=15:\n",
    "    print(\"15 Kg\")\n",
    "else:\n",
    "    print(\"20 Kg\")"
   ]
  },
  {
   "cell_type": "code",
   "execution_count": 44,
   "id": "b87c5733-c297-4e68-af41-322dec2adb52",
   "metadata": {},
   "outputs": [
    {
     "name": "stdin",
     "output_type": "stream",
     "text": [
      "How much 34\n"
     ]
    },
    {
     "name": "stdout",
     "output_type": "stream",
     "text": [
      "20 Kg\n"
     ]
    }
   ],
   "source": [
    "# check if the boolena condition is wrong\n",
    "tomato_price = int(input(\"How much\"))\n",
    "if tomato_price<=25:\n",
    "    print(\"1 kg\")\n",
    "elif tomato_price<=20:\n",
    "    print(\"10 kg\")\n",
    "elif tomato_price<=15:\n",
    "    print(\"15 Kg\")\n",
    "else:\n",
    "    print(\"20 Kg\")"
   ]
  },
  {
   "cell_type": "code",
   "execution_count": 45,
   "id": "b18553b3-77be-4c2b-9f87-d921560f3be2",
   "metadata": {},
   "outputs": [
    {
     "name": "stdin",
     "output_type": "stream",
     "text": [
      "Enter your python:  78\n",
      "Enter your html:  90\n",
      "Enter your css:  67\n",
      "Enter your java:  98\n",
      "Enter your nextjs:  90\n"
     ]
    },
    {
     "name": "stdout",
     "output_type": "stream",
     "text": [
      "\n",
      "       Total:      423\n",
      "       Percentage: 84.6\n",
      "       Grade:      A\n"
     ]
    }
   ],
   "source": [
    "python = int(input(\"Enter your python: \"))\n",
    "html = int(input(\"Enter your html: \"))\n",
    "css = int(input(\"Enter your css: \"))\n",
    "java = int(input(\"Enter your java: \"))\n",
    "nextjs = int(input(\"Enter your nextjs: \"))\n",
    "total = python + html + css + java + nextjs\n",
    "percentage = total/500*100\n",
    "grade=None\n",
    "if percentage >=90:\n",
    "    grade='A*'\n",
    "elif percentage >=80:\n",
    "    grade= \"A\"\n",
    "elif percentage >=70:\n",
    "    grade = \"B\"\n",
    "elif percentage >=60:\n",
    "    grade = \"C\"\n",
    "elif percentage >=50:\n",
    "    grade = \"D\"\n",
    "else:\n",
    "    grade= \"F\"\n",
    "print(f\"\"\"\n",
    "       Total:      {total}\n",
    "       Percentage: {percentage}\n",
    "       Grade:      {grade}\"\"\") "
   ]
  },
  {
   "cell_type": "code",
   "execution_count": null,
   "id": "4ad5a908-b7d4-4337-98e6-cda12629a83d",
   "metadata": {},
   "outputs": [],
   "source": []
  }
 ],
 "metadata": {
  "kernelspec": {
   "display_name": "Python 3 (ipykernel)",
   "language": "python",
   "name": "python3"
  },
  "language_info": {
   "codemirror_mode": {
    "name": "ipython",
    "version": 3
   },
   "file_extension": ".py",
   "mimetype": "text/x-python",
   "name": "python",
   "nbconvert_exporter": "python",
   "pygments_lexer": "ipython3",
   "version": "3.12.7"
  }
 },
 "nbformat": 4,
 "nbformat_minor": 5
}
