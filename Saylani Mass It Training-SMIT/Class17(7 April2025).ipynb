{
 "cells": [
  {
   "cell_type": "code",
   "execution_count": 44,
   "id": "5308b488-96ca-4c52-b0c8-b7f60b8b9eb2",
   "metadata": {},
   "outputs": [
    {
     "name": "stdout",
     "output_type": "stream",
     "text": [
      "{1: 1, 2: 4, 3: 9, 4: 16, 5: 25, 6: 36, 7: 49, 8: 64, 9: 81, 10: 100}\n"
     ]
    }
   ],
   "source": [
    "square_list([1,2,3,4,5,6,7,8,9,10])"
   ]
  },
  {
   "cell_type": "markdown",
   "id": "60079156-d478-431d-89af-26fdebff7e83",
   "metadata": {},
   "source": [
    "# Functions\n",
    "   - reduce code\n",
    "   - resuability increase\n",
    "   - redundanacy decrease\n",
    "   - debugging easily\n",
    "### python function\n",
    "    - print()\n",
    "    - len()\n",
    "    - type()\n",
    "    - input()\n",
    "    - range()\n",
    "    - int()\n",
    "    - float()\n",
    "    - min()\n",
    "    - max()\n",
    "    etc...\n",
    "### type realted\n",
    "      - \"string\".()\n",
    "      - list.()\n",
    "      - dict.()\n",
    "      - set.()\n",
    "      - tuple.()\n",
    "### userdefined function()\n",
    "     - when we defined our own function "
   ]
  },
  {
   "cell_type": "code",
   "execution_count": 11,
   "id": "77f74e9c-73b2-4971-a1af-aba20963995c",
   "metadata": {},
   "outputs": [],
   "source": [
    "# function definition\n",
    "def say_hello():\n",
    "    print(\"Hello, Welcome!\") "
   ]
  },
  {
   "cell_type": "code",
   "execution_count": 12,
   "id": "8c9039bc-ec88-415a-a9a8-2c7211635640",
   "metadata": {},
   "outputs": [
    {
     "name": "stdout",
     "output_type": "stream",
     "text": [
      "Hello, Welcome!\n"
     ]
    }
   ],
   "source": [
    "# function calling\n",
    "say_hello()"
   ]
  },
  {
   "cell_type": "code",
   "execution_count": 13,
   "id": "fa484b37-9c39-4c75-ba5b-00287acb3778",
   "metadata": {},
   "outputs": [
    {
     "name": "stdout",
     "output_type": "stream",
     "text": [
      "Hello, Welcome!\n"
     ]
    }
   ],
   "source": [
    "say_hello()"
   ]
  },
  {
   "cell_type": "code",
   "execution_count": 14,
   "id": "83d35e80-71a1-4a28-a900-bd3c3bf5c215",
   "metadata": {},
   "outputs": [
    {
     "name": "stdout",
     "output_type": "stream",
     "text": [
      "Hello, Welcome!\n"
     ]
    }
   ],
   "source": [
    "say_hello()"
   ]
  },
  {
   "cell_type": "code",
   "execution_count": 9,
   "id": "2e806a46-fbff-413f-89c7-b407b1396976",
   "metadata": {},
   "outputs": [],
   "source": [
    "# del say_hello"
   ]
  },
  {
   "cell_type": "code",
   "execution_count": 15,
   "id": "b7406ced-f60c-40b8-af46-4b4ea4d0cd8c",
   "metadata": {},
   "outputs": [
    {
     "name": "stdout",
     "output_type": "stream",
     "text": [
      "Hello, Welcome!\n"
     ]
    }
   ],
   "source": [
    "say_hello()"
   ]
  },
  {
   "cell_type": "code",
   "execution_count": 16,
   "id": "65127c64-5a9e-4e51-b77b-eaf5aa38959e",
   "metadata": {},
   "outputs": [],
   "source": [
    "def say_hello(name): # parameter\n",
    "    print(f\"Hello! Mr. {name} \")  "
   ]
  },
  {
   "cell_type": "code",
   "execution_count": 19,
   "id": "968347f0-b3b9-4b52-bac4-ef0ebb98ac6c",
   "metadata": {
    "scrolled": true
   },
   "outputs": [
    {
     "ename": "TypeError",
     "evalue": "say_hello() missing 1 required positional argument: 'name'",
     "output_type": "error",
     "traceback": [
      "\u001b[1;31m---------------------------------------------------------------------------\u001b[0m",
      "\u001b[1;31mTypeError\u001b[0m                                 Traceback (most recent call last)",
      "Cell \u001b[1;32mIn[19], line 1\u001b[0m\n\u001b[1;32m----> 1\u001b[0m say_hello()\n",
      "\u001b[1;31mTypeError\u001b[0m: say_hello() missing 1 required positional argument: 'name'"
     ]
    }
   ],
   "source": [
    "say_hello()"
   ]
  },
  {
   "cell_type": "code",
   "execution_count": 20,
   "id": "c1f0ba45-225b-4f54-9a87-f7795df64c91",
   "metadata": {},
   "outputs": [
    {
     "name": "stdout",
     "output_type": "stream",
     "text": [
      "Hello! Mr. Atif \n"
     ]
    }
   ],
   "source": [
    "say_hello(\"Atif\")"
   ]
  },
  {
   "cell_type": "code",
   "execution_count": 21,
   "id": "24b4c267-43e8-425a-aa42-bbf84a862e0b",
   "metadata": {},
   "outputs": [
    {
     "ename": "TypeError",
     "evalue": "say_hello() takes 1 positional argument but 2 were given",
     "output_type": "error",
     "traceback": [
      "\u001b[1;31m---------------------------------------------------------------------------\u001b[0m",
      "\u001b[1;31mTypeError\u001b[0m                                 Traceback (most recent call last)",
      "Cell \u001b[1;32mIn[21], line 1\u001b[0m\n\u001b[1;32m----> 1\u001b[0m say_hello(\u001b[38;5;124m\"\u001b[39m\u001b[38;5;124mAtif\u001b[39m\u001b[38;5;124m\"\u001b[39m, \u001b[38;5;124m\"\u001b[39m\u001b[38;5;124mAsif\u001b[39m\u001b[38;5;124m\"\u001b[39m)\n",
      "\u001b[1;31mTypeError\u001b[0m: say_hello() takes 1 positional argument but 2 were given"
     ]
    }
   ],
   "source": [
    "say_hello(\"Atif\", \"Asif\")"
   ]
  },
  {
   "cell_type": "code",
   "execution_count": 22,
   "id": "cb846644-6ec6-42a5-a043-b78048fc564f",
   "metadata": {},
   "outputs": [],
   "source": [
    "def say_hello(name1, name2): # parameter\n",
    "    print(f\"Hello! Mr. {name1} \") \n",
    "    print(f\"Hello! Mr. {name2} \")"
   ]
  },
  {
   "cell_type": "code",
   "execution_count": 23,
   "id": "7e070e1f-2837-4bba-90cb-1c98987ec2f6",
   "metadata": {},
   "outputs": [
    {
     "name": "stdout",
     "output_type": "stream",
     "text": [
      "Hello! Mr. Atif \n",
      "Hello! Mr. Asif \n"
     ]
    }
   ],
   "source": [
    "say_hello(\"Atif\", \"Asif\")"
   ]
  },
  {
   "cell_type": "code",
   "execution_count": 24,
   "id": "8f94725f-f7ff-4824-972d-49e1573190be",
   "metadata": {},
   "outputs": [
    {
     "ename": "TypeError",
     "evalue": "say_hello() missing 1 required positional argument: 'name2'",
     "output_type": "error",
     "traceback": [
      "\u001b[1;31m---------------------------------------------------------------------------\u001b[0m",
      "\u001b[1;31mTypeError\u001b[0m                                 Traceback (most recent call last)",
      "Cell \u001b[1;32mIn[24], line 1\u001b[0m\n\u001b[1;32m----> 1\u001b[0m say_hello(\u001b[38;5;124m'\u001b[39m\u001b[38;5;124mnasir\u001b[39m\u001b[38;5;124m'\u001b[39m)\n",
      "\u001b[1;31mTypeError\u001b[0m: say_hello() missing 1 required positional argument: 'name2'"
     ]
    }
   ],
   "source": [
    "say_hello('nasir')"
   ]
  },
  {
   "cell_type": "code",
   "execution_count": 25,
   "id": "88ce1a8a-27f4-4fa7-902f-cf7f9031da47",
   "metadata": {},
   "outputs": [],
   "source": [
    "# define a function that take a number and prints if the number is even or odd\n",
    "def even_odd(n):\n",
    "    if n%2==0:\n",
    "        print(f\"{n} is even\")\n",
    "    else:\n",
    "        print(f\"{n} is odd\")"
   ]
  },
  {
   "cell_type": "code",
   "execution_count": 26,
   "id": "bcacd033-5524-4a6f-92ef-aa27dca482b8",
   "metadata": {},
   "outputs": [
    {
     "name": "stdout",
     "output_type": "stream",
     "text": [
      "5 is odd\n"
     ]
    }
   ],
   "source": [
    "even_odd(5)"
   ]
  },
  {
   "cell_type": "code",
   "execution_count": 27,
   "id": "6b9dfc36-32dc-4cff-80c3-ab350d6b87af",
   "metadata": {},
   "outputs": [
    {
     "name": "stdout",
     "output_type": "stream",
     "text": [
      "8 is even\n"
     ]
    }
   ],
   "source": [
    "even_odd(8)"
   ]
  },
  {
   "cell_type": "code",
   "execution_count": 36,
   "id": "d94ca74d-1a3e-4106-9766-f85e1c968d3a",
   "metadata": {},
   "outputs": [],
   "source": [
    "# define a function that take a list and prints the square list.\n",
    "def square_list(lst):\n",
    "    sqr=[]\n",
    "    for a in lst:\n",
    "        sqr.append(a**2)\n",
    "    print(sqr)    "
   ]
  },
  {
   "cell_type": "code",
   "execution_count": 37,
   "id": "ff82e801-3160-42fe-b27e-3fb70aac224f",
   "metadata": {},
   "outputs": [
    {
     "name": "stdout",
     "output_type": "stream",
     "text": [
      "[4, 16, 36, 25, 49, 64, 81]\n"
     ]
    }
   ],
   "source": [
    "square_list([2,4,6,5,7,8,9])  # {2:4,4:16,6:36}"
   ]
  },
  {
   "cell_type": "code",
   "execution_count": null,
   "id": "30313c91-00fc-4494-b46e-ff9db473c5d2",
   "metadata": {},
   "outputs": [],
   "source": [
    "# define a function that takes a list and prints a dictinanry with each list value square"
   ]
  },
  {
   "cell_type": "code",
   "execution_count": 43,
   "id": "d9343ed8-bb8d-4a14-b68f-b11afa0041f5",
   "metadata": {},
   "outputs": [],
   "source": [
    "def square_list(lst):\n",
    "    dic={}\n",
    "    for a in lst:\n",
    "        dic[a] = a**2\n",
    "    print(dic)"
   ]
  },
  {
   "cell_type": "code",
   "execution_count": 42,
   "id": "21e65d5e-cc2b-4bfd-970a-25eb26ac23d3",
   "metadata": {},
   "outputs": [
    {
     "name": "stdout",
     "output_type": "stream",
     "text": [
      "{1: 1, 2: 4, 3: 9, 4: 16, 5: 25, 6: 36, 7: 49, 8: 64, 9: 81, 10: 100}\n"
     ]
    }
   ],
   "source": [
    "square_list([1,2,3,4,5,6,7,8,9,10])"
   ]
  },
  {
   "cell_type": "code",
   "execution_count": 38,
   "id": "36a935c5-fe2d-4295-a2cc-55ad6776aee5",
   "metadata": {},
   "outputs": [],
   "source": [
    "adic={}"
   ]
  },
  {
   "cell_type": "code",
   "execution_count": 39,
   "id": "e1d3802c-4ae0-451f-b12a-30f2579e7b7d",
   "metadata": {},
   "outputs": [],
   "source": [
    "adic['name']= \"nasir\""
   ]
  },
  {
   "cell_type": "code",
   "execution_count": 40,
   "id": "fbeb5df4-9acf-4754-b846-b12d17d9cb35",
   "metadata": {},
   "outputs": [
    {
     "data": {
      "text/plain": [
       "{'name': 'nasir'}"
      ]
     },
     "execution_count": 40,
     "metadata": {},
     "output_type": "execute_result"
    }
   ],
   "source": [
    "adic"
   ]
  },
  {
   "cell_type": "markdown",
   "id": "33ab1584-e59d-4840-b48e-f385230f1efa",
   "metadata": {},
   "source": [
    "#### Default Parameter"
   ]
  },
  {
   "cell_type": "code",
   "execution_count": 47,
   "id": "ed2f49fd-94cf-489e-a5e1-73299f05a48f",
   "metadata": {},
   "outputs": [],
   "source": [
    "def add(a,b,c):\n",
    "    print(a+b+c)"
   ]
  },
  {
   "cell_type": "code",
   "execution_count": 48,
   "id": "22bf60f0-d6c3-4dca-80f3-6b335db2e6b9",
   "metadata": {},
   "outputs": [
    {
     "name": "stdout",
     "output_type": "stream",
     "text": [
      "12\n"
     ]
    }
   ],
   "source": [
    "add(2,4,6)"
   ]
  },
  {
   "cell_type": "code",
   "execution_count": 49,
   "id": "1730a309-82a1-4b40-a595-4aff5f31b210",
   "metadata": {},
   "outputs": [
    {
     "ename": "TypeError",
     "evalue": "add() missing 1 required positional argument: 'c'",
     "output_type": "error",
     "traceback": [
      "\u001b[1;31m---------------------------------------------------------------------------\u001b[0m",
      "\u001b[1;31mTypeError\u001b[0m                                 Traceback (most recent call last)",
      "Cell \u001b[1;32mIn[49], line 1\u001b[0m\n\u001b[1;32m----> 1\u001b[0m add(\u001b[38;5;241m2\u001b[39m,\u001b[38;5;241m4\u001b[39m)\n",
      "\u001b[1;31mTypeError\u001b[0m: add() missing 1 required positional argument: 'c'"
     ]
    }
   ],
   "source": [
    "add(2,4)"
   ]
  },
  {
   "cell_type": "code",
   "execution_count": 60,
   "id": "2d4c7924-5c62-49cb-be7a-ba1b6ada5f58",
   "metadata": {},
   "outputs": [],
   "source": [
    "def add(a=0,b=0,c=0):\n",
    "    print(a+b+c)"
   ]
  },
  {
   "cell_type": "code",
   "execution_count": 53,
   "id": "3168bcda-bf0e-4e8b-8096-dccd57072461",
   "metadata": {},
   "outputs": [
    {
     "name": "stdout",
     "output_type": "stream",
     "text": [
      "50\n"
     ]
    }
   ],
   "source": [
    "add(20,30)"
   ]
  },
  {
   "cell_type": "code",
   "execution_count": 54,
   "id": "f75af509-95a7-4dfe-a58f-fcd5972fbf60",
   "metadata": {},
   "outputs": [
    {
     "name": "stdout",
     "output_type": "stream",
     "text": [
      "6\n"
     ]
    }
   ],
   "source": [
    "add(1,2,3)"
   ]
  },
  {
   "cell_type": "code",
   "execution_count": 55,
   "id": "af81f1c1-e528-4534-8b80-87fca7c2f388",
   "metadata": {},
   "outputs": [
    {
     "name": "stdout",
     "output_type": "stream",
     "text": [
      "3\n"
     ]
    }
   ],
   "source": [
    "add(1,2)"
   ]
  },
  {
   "cell_type": "code",
   "execution_count": 56,
   "id": "5e449c49-acfc-4157-8990-d3beb344fa24",
   "metadata": {},
   "outputs": [
    {
     "name": "stdout",
     "output_type": "stream",
     "text": [
      "1\n"
     ]
    }
   ],
   "source": [
    "add(1)"
   ]
  },
  {
   "cell_type": "code",
   "execution_count": 61,
   "id": "43ab34f4-da81-45ec-aa24-be9c79cca6c4",
   "metadata": {},
   "outputs": [
    {
     "name": "stdout",
     "output_type": "stream",
     "text": [
      "0\n"
     ]
    }
   ],
   "source": [
    "add()"
   ]
  },
  {
   "cell_type": "code",
   "execution_count": 62,
   "id": "89e7f90f-c31d-46ca-a497-f7cb434ee32a",
   "metadata": {},
   "outputs": [
    {
     "ename": "TypeError",
     "evalue": "add() takes from 0 to 3 positional arguments but 5 were given",
     "output_type": "error",
     "traceback": [
      "\u001b[1;31m---------------------------------------------------------------------------\u001b[0m",
      "\u001b[1;31mTypeError\u001b[0m                                 Traceback (most recent call last)",
      "Cell \u001b[1;32mIn[62], line 1\u001b[0m\n\u001b[1;32m----> 1\u001b[0m add(\u001b[38;5;241m1\u001b[39m,\u001b[38;5;241m2\u001b[39m,\u001b[38;5;241m3\u001b[39m,\u001b[38;5;241m4\u001b[39m,\u001b[38;5;241m5\u001b[39m)\n",
      "\u001b[1;31mTypeError\u001b[0m: add() takes from 0 to 3 positional arguments but 5 were given"
     ]
    }
   ],
   "source": [
    "add(1,2,3,4,5)"
   ]
  },
  {
   "cell_type": "markdown",
   "id": "b594781c-e835-4368-93e2-5db51d28f662",
   "metadata": {},
   "source": [
    "# Arbitrary Arguments"
   ]
  },
  {
   "cell_type": "code",
   "execution_count": 65,
   "id": "fa29c704-041a-437d-9b74-da4b7e222f45",
   "metadata": {},
   "outputs": [],
   "source": [
    "def add(*a):\n",
    "    print(sum(a))"
   ]
  },
  {
   "cell_type": "code",
   "execution_count": 66,
   "id": "22f18547-76c5-40e1-a75c-39db217a96c7",
   "metadata": {},
   "outputs": [
    {
     "name": "stdout",
     "output_type": "stream",
     "text": [
      "44\n"
     ]
    }
   ],
   "source": [
    "add(2,3,4,5,6,7,8,9)"
   ]
  },
  {
   "cell_type": "code",
   "execution_count": 67,
   "id": "f6570567-a536-4893-aec3-80c67a95ecbe",
   "metadata": {},
   "outputs": [
    {
     "name": "stdout",
     "output_type": "stream",
     "text": [
      "4\n"
     ]
    }
   ],
   "source": [
    "add(1,3)"
   ]
  },
  {
   "cell_type": "code",
   "execution_count": 68,
   "id": "0a2c9689-9eb8-4d8f-b078-1894a3420ae7",
   "metadata": {},
   "outputs": [
    {
     "name": "stdout",
     "output_type": "stream",
     "text": [
      "128\n"
     ]
    }
   ],
   "source": [
    "add(1,2,3,4,5,6,7,8,9,8,7,6,6,5,4,34,3,2,2,2,2,2)"
   ]
  },
  {
   "cell_type": "code",
   "execution_count": 70,
   "id": "7eba4aac-56f4-4066-8dca-65dd9ffa49a2",
   "metadata": {},
   "outputs": [],
   "source": [
    "def find_max(*num):\n",
    "    print(max(num))"
   ]
  },
  {
   "cell_type": "code",
   "execution_count": 71,
   "id": "08339ac7-3498-4418-8f01-be9e057ac7ce",
   "metadata": {},
   "outputs": [
    {
     "name": "stdout",
     "output_type": "stream",
     "text": [
      "1234\n"
     ]
    }
   ],
   "source": [
    "find_max(3,4,54,5,5,6,6,7,8,4,23,4,678,1234,321)"
   ]
  },
  {
   "cell_type": "code",
   "execution_count": 72,
   "id": "61173d93-4025-4f94-90d4-1936645802c4",
   "metadata": {},
   "outputs": [],
   "source": [
    "def find_avg(*num):\n",
    "    s = sum(num)\n",
    "    avg = s / len(num)\n",
    "    print(avg)"
   ]
  },
  {
   "cell_type": "code",
   "execution_count": 73,
   "id": "b73d0140-d436-4f57-923e-eb4b3fd4ae3a",
   "metadata": {},
   "outputs": [
    {
     "name": "stdout",
     "output_type": "stream",
     "text": [
      "12.636363636363637\n"
     ]
    }
   ],
   "source": [
    "find_avg(12,12,13,11,12,13,14,15,12,12,13)"
   ]
  },
  {
   "cell_type": "code",
   "execution_count": 78,
   "id": "b3dfa6a3-5792-4cff-97ff-6cadcf07469a",
   "metadata": {},
   "outputs": [],
   "source": [
    "# defne a function that print the sum of even numbers \n",
    "# from the given all numbers\n",
    "def even_sums(*nums):\n",
    "    evens=[]\n",
    "    for a in nums:\n",
    "        if a%2==0:\n",
    "            evens.append(a)\n",
    "    print(sum(evens))"
   ]
  },
  {
   "cell_type": "code",
   "execution_count": 79,
   "id": "8112d973-ddef-4f56-8d0f-a0a6145838fc",
   "metadata": {},
   "outputs": [
    {
     "name": "stdout",
     "output_type": "stream",
     "text": [
      "30\n"
     ]
    }
   ],
   "source": [
    "even_sums(1,2,3,4,5,6,7,8,9,10)"
   ]
  },
  {
   "cell_type": "code",
   "execution_count": 80,
   "id": "eda6526b-7e08-40d5-a97d-75100e854f8f",
   "metadata": {},
   "outputs": [],
   "source": [
    "def even_sums(*nums):\n",
    "    sums=0\n",
    "    for a in nums:\n",
    "        if a%2==0:\n",
    "            sums+=a\n",
    "    print(sums)"
   ]
  },
  {
   "cell_type": "code",
   "execution_count": 81,
   "id": "f4e77ecc-fc18-401e-89e3-43d405591154",
   "metadata": {},
   "outputs": [
    {
     "name": "stdout",
     "output_type": "stream",
     "text": [
      "30\n"
     ]
    }
   ],
   "source": [
    "even_sums(1,2,3,4,5,6,7,8,9,10)"
   ]
  },
  {
   "cell_type": "markdown",
   "id": "8c8980a8-5833-44e9-a30b-74cce880efee",
   "metadata": {},
   "source": [
    "# KeyWord Arguments"
   ]
  },
  {
   "cell_type": "code",
   "execution_count": 89,
   "id": "ec470941-806f-40a6-aadf-f7e8c5d7110c",
   "metadata": {},
   "outputs": [],
   "source": [
    "def calc_tax(amt,tax_per):\n",
    "    tax_amt = amt * (tax_per/100)\n",
    "    print(tax_amt)"
   ]
  },
  {
   "cell_type": "code",
   "execution_count": 90,
   "id": "5cc471d6-55f6-4e47-add7-87edb3da0a03",
   "metadata": {},
   "outputs": [
    {
     "name": "stdout",
     "output_type": "stream",
     "text": [
      "15000.0\n"
     ]
    }
   ],
   "source": [
    "calc_tax(100000,15)"
   ]
  },
  {
   "cell_type": "code",
   "execution_count": 91,
   "id": "f0c87663-ad51-43f1-8ad7-845c005a93f1",
   "metadata": {},
   "outputs": [
    {
     "name": "stdout",
     "output_type": "stream",
     "text": [
      "150.0\n"
     ]
    }
   ],
   "source": [
    "calc_tax(.15,100000)"
   ]
  },
  {
   "cell_type": "code",
   "execution_count": 92,
   "id": "8dd0da99-dfb8-4111-958f-41a69465aed0",
   "metadata": {},
   "outputs": [],
   "source": [
    "def biodata(name,age,gender,bloodgp,height,weight):\n",
    "    bio_data={'name':name, 'age':age,'gender':gender,\n",
    "              \"bloodgp\":bloodgp, 'height':height,\n",
    "              'weight':weight}\n",
    "    print(bio_data)"
   ]
  },
  {
   "cell_type": "code",
   "execution_count": 93,
   "id": "39be194c-00ea-4067-8c7f-f7c420e6c523",
   "metadata": {},
   "outputs": [
    {
     "name": "stdout",
     "output_type": "stream",
     "text": [
      "{'name': 'ahmed', 'age': 20, 'gender': 'Male', 'bloodgp': 'AB-', 'height': '6ft', 'weight': '97kg'}\n"
     ]
    }
   ],
   "source": [
    "biodata('ahmed',20,'Male','AB-',\"6ft\", '97kg') # positional"
   ]
  },
  {
   "cell_type": "code",
   "execution_count": 94,
   "id": "6c3600b2-ddb3-4dae-8558-4ba0f122c5e7",
   "metadata": {},
   "outputs": [
    {
     "name": "stdout",
     "output_type": "stream",
     "text": [
      "{'name': 'Ahmed', 'age': 20, 'gender': 'Male', 'bloodgp': 'AB-', 'height': '6ft', 'weight': 97}\n"
     ]
    }
   ],
   "source": [
    "biodata(gender='Male', height=\"6ft\", name=\"Ahmed\", age=20,weight=97,bloodgp=\"AB-\")\n",
    "# keyword"
   ]
  },
  {
   "cell_type": "code",
   "execution_count": 95,
   "id": "3ff96020-58ae-40c0-903f-35ca081b680d",
   "metadata": {},
   "outputs": [
    {
     "name": "stdout",
     "output_type": "stream",
     "text": [
      "{'name': 'ahmed', 'age': 20, 'gender': 'Male', 'bloodgp': 'AB-', 'height': 6, 'weight': 97}\n"
     ]
    }
   ],
   "source": [
    "biodata('ahmed', 20, 'Male', weight=97,bloodgp='AB-', height=6)\n",
    "# mix of positional and keyword"
   ]
  },
  {
   "cell_type": "code",
   "execution_count": 98,
   "id": "06f37bbd-d217-4066-9364-32852e8bf143",
   "metadata": {},
   "outputs": [],
   "source": [
    "def create_profile(name, age, qualification,subject, *other_info ):\n",
    "    print(name)\n",
    "    print(age)\n",
    "    print(qualification)\n",
    "    print(subject)\n",
    "    for info in other_info:\n",
    "        print(info)"
   ]
  },
  {
   "cell_type": "code",
   "execution_count": 99,
   "id": "378e25b6-56c2-4fcf-90d8-be53e68b0e0e",
   "metadata": {},
   "outputs": [
    {
     "name": "stdout",
     "output_type": "stream",
     "text": [
      "Ahmed\n",
      "20\n",
      "BS\n",
      "Chemistry\n",
      "6ft\n",
      "97\n",
      "Ab-\n"
     ]
    }
   ],
   "source": [
    "create_profile('Ahmed', 20, 'BS', 'Chemistry', '6ft', 97, 'Ab-')"
   ]
  },
  {
   "cell_type": "code",
   "execution_count": 101,
   "id": "8bc9d091-3d1b-4274-85ee-365d5bba6891",
   "metadata": {},
   "outputs": [],
   "source": [
    "def create_profile(name, age, qualification,subject, **other_info ): # keywords arugments\n",
    "    print(name)\n",
    "    print(age)\n",
    "    print(qualification)\n",
    "    print(subject)\n",
    "    print(other_info)\n",
    "    # for info in other_info:\n",
    "    #     print(info)"
   ]
  },
  {
   "cell_type": "code",
   "execution_count": 102,
   "id": "a2ec1223-aee9-45e9-b341-191b2f9d681f",
   "metadata": {},
   "outputs": [
    {
     "name": "stdout",
     "output_type": "stream",
     "text": [
      "Ahmed\n",
      "20\n",
      "Phd\n",
      "Physics\n",
      "{'hieght': 6, 'weight': 97, 'bloodgp': 'ab-', 'gender': 'Male'}\n"
     ]
    }
   ],
   "source": [
    "create_profile(name='Ahmed', age=20,qualification='Phd',subject='Physics', hieght=6, weight=97, bloodgp=\"ab-\",gender=\"Male\")"
   ]
  },
  {
   "cell_type": "code",
   "execution_count": 103,
   "id": "73ad6c91-0d09-4b6f-80fa-4e4f0c0bdb04",
   "metadata": {},
   "outputs": [],
   "source": [
    "def create_profile(name, age, qualification,subject, **other_info ): # keywords arugments\n",
    "    profile={}\n",
    "    profile['name']=name\n",
    "    profile['age'] = age\n",
    "    profile['qualification']=qualification\n",
    "    profile['subject']=subject\n",
    "    profile.update(other_info)\n",
    "    print(profile)"
   ]
  },
  {
   "cell_type": "code",
   "execution_count": 105,
   "id": "eea7d21d-2f59-4564-809b-3e2312ec34c4",
   "metadata": {},
   "outputs": [
    {
     "name": "stdout",
     "output_type": "stream",
     "text": [
      "{'name': 'Ahmed', 'age': 20, 'qualification': 'Phd', 'subject': 'Physics', 'hieght': 6, 'weight': 97, 'bloodgp': 'ab-', 'gender': 'Male', 'location': 'Karachi', 'Fav_food': 'Biryani', 'Fav_Drink': 'Tea'}\n"
     ]
    }
   ],
   "source": [
    "create_profile(name='Ahmed', age=20,qualification='Phd',subject='Physics', hieght=6, weight=97, bloodgp=\"ab-\",gender=\"Male\",\n",
    "              location=\"Karachi\", Fav_food='Biryani', Fav_Drink='Tea')"
   ]
  },
  {
   "cell_type": "markdown",
   "id": "af7aadac-4dba-467a-bcaa-926742872047",
   "metadata": {},
   "source": [
    "# Return "
   ]
  },
  {
   "cell_type": "code",
   "execution_count": 122,
   "id": "6ca87028-8422-42f1-b2f8-473b783bc531",
   "metadata": {},
   "outputs": [],
   "source": [
    "def multiply(n1,n2):\n",
    "    ans = n1 * n2  # local variable: nnot accessbile outside the function\n",
    "    return ans"
   ]
  },
  {
   "cell_type": "code",
   "execution_count": 123,
   "id": "4f004cac-2fc3-421d-bdb8-96240039d836",
   "metadata": {},
   "outputs": [
    {
     "data": {
      "text/plain": [
       "8"
      ]
     },
     "execution_count": 123,
     "metadata": {},
     "output_type": "execute_result"
    }
   ],
   "source": [
    "multiply(2,4)"
   ]
  },
  {
   "cell_type": "code",
   "execution_count": 124,
   "id": "7af1300d-4e9a-4a3f-8b59-288774d12543",
   "metadata": {},
   "outputs": [],
   "source": [
    "def create_profile(name, age, qualification,subject, **other_info ): # keywords arugments\n",
    "    profile={}\n",
    "    profile['name']=name\n",
    "    profile['age'] = age\n",
    "    profile['qualification']=qualification\n",
    "    profile['subject']=subject\n",
    "    profile.update(other_info)\n",
    "    return profile"
   ]
  },
  {
   "cell_type": "code",
   "execution_count": 125,
   "id": "c17fc06f-0a44-4e86-b1c5-332ddcfd62bf",
   "metadata": {},
   "outputs": [
    {
     "data": {
      "text/plain": [
       "{'name': 'Ahmed',\n",
       " 'age': 20,\n",
       " 'qualification': 'Phd',\n",
       " 'subject': 'Physics',\n",
       " 'hieght': 6,\n",
       " 'weight': 97,\n",
       " 'bloodgp': 'ab-',\n",
       " 'gender': 'Male',\n",
       " 'location': 'Karachi',\n",
       " 'Fav_food': 'Biryani',\n",
       " 'Fav_Drink': 'Tea'}"
      ]
     },
     "execution_count": 125,
     "metadata": {},
     "output_type": "execute_result"
    }
   ],
   "source": [
    "create_profile(name='Ahmed', age=20,qualification='Phd',subject='Physics', hieght=6, weight=97, bloodgp=\"ab-\",gender=\"Male\",\n",
    "              location=\"Karachi\", Fav_food='Biryani', Fav_Drink='Tea')"
   ]
  },
  {
   "cell_type": "code",
   "execution_count": null,
   "id": "cf9166ee-b2e9-432d-8f4a-815e4f10123f",
   "metadata": {},
   "outputs": [],
   "source": []
  }
 ],
 "metadata": {
  "kernelspec": {
   "display_name": "Python 3 (ipykernel)",
   "language": "python",
   "name": "python3"
  },
  "language_info": {
   "codemirror_mode": {
    "name": "ipython",
    "version": 3
   },
   "file_extension": ".py",
   "mimetype": "text/x-python",
   "name": "python",
   "nbconvert_exporter": "python",
   "pygments_lexer": "ipython3",
   "version": "3.12.3"
  }
 },
 "nbformat": 4,
 "nbformat_minor": 5
}
