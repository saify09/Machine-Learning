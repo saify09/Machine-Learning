{
 "cells": [
  {
   "cell_type": "markdown",
   "id": "72e3dde8-79ea-4154-a9ca-bde5e343711f",
   "metadata": {},
   "source": [
    "### Operators\n",
    "    - Arithmetic Operator \n",
    "        - Addition (+)\n",
    "        - Subtraction (-)\n",
    "        - Multiplication (*)\n",
    "        - Float Division (/)\n",
    "        - Floor Divsion( // )\n",
    "        - Exponent(power) (**)\n",
    "        - Modulo (%)\n",
    "    - Relational/ Comparision Operators\n",
    "        - EqualTo (==)\n",
    "        - NotEqualTo (!=)\n",
    "        - Greater than (>)\n",
    "        - Less Than  (<)\n",
    "        - Greater than and equal to (>=)\n",
    "        - Less than and equal to (<=)\n",
    "    - Logical Operator \n",
    "       - Logical AND\n",
    "       - Logical OR\n",
    "       - Logical NOT\n",
    "# Increment Decrement Operator\n",
    "# Operator Precedence \n",
    "     - PEMDAS\n",
    "# Solving Expression / Resolving Expression Ambiguity\n"
   ]
  },
  {
   "cell_type": "code",
   "execution_count": 1,
   "id": "728322de-579f-4467-b53d-854826ca2676",
   "metadata": {},
   "outputs": [
    {
     "data": {
      "text/plain": [
       "400"
      ]
     },
     "execution_count": 1,
     "metadata": {},
     "output_type": "execute_result"
    }
   ],
   "source": [
    "100 + 300 "
   ]
  },
  {
   "cell_type": "code",
   "execution_count": 2,
   "id": "36caab1f-bd4d-424f-96b8-44a4dc8cd5cc",
   "metadata": {},
   "outputs": [
    {
     "data": {
      "text/plain": [
       "134.6"
      ]
     },
     "execution_count": 2,
     "metadata": {},
     "output_type": "execute_result"
    }
   ],
   "source": [
    "100 + 34.6 "
   ]
  },
  {
   "cell_type": "code",
   "execution_count": 3,
   "id": "a94acf72-8a02-4bdd-a37c-601c05c89950",
   "metadata": {},
   "outputs": [
    {
     "data": {
      "text/plain": [
       "-19"
      ]
     },
     "execution_count": 3,
     "metadata": {},
     "output_type": "execute_result"
    }
   ],
   "source": [
    "15 - 34 "
   ]
  },
  {
   "cell_type": "code",
   "execution_count": 4,
   "id": "531a4d68-237d-4eb3-b1cf-c5e2c23c454c",
   "metadata": {},
   "outputs": [
    {
     "data": {
      "text/plain": [
       "180"
      ]
     },
     "execution_count": 4,
     "metadata": {},
     "output_type": "execute_result"
    }
   ],
   "source": [
    "45 * 4 "
   ]
  },
  {
   "cell_type": "code",
   "execution_count": 5,
   "id": "e7f0f8fa-c4b6-4ad9-8bb7-4fce98be0fb7",
   "metadata": {},
   "outputs": [
    {
     "data": {
      "text/plain": [
       "6.666666666666667"
      ]
     },
     "execution_count": 5,
     "metadata": {},
     "output_type": "execute_result"
    }
   ],
   "source": [
    "100 / 15 # float"
   ]
  },
  {
   "cell_type": "code",
   "execution_count": 6,
   "id": "9233740c-09e3-40c3-856b-eaf6acc3d1b6",
   "metadata": {},
   "outputs": [
    {
     "data": {
      "text/plain": [
       "6"
      ]
     },
     "execution_count": 6,
     "metadata": {},
     "output_type": "execute_result"
    }
   ],
   "source": [
    "100 // 15  # int "
   ]
  },
  {
   "cell_type": "code",
   "execution_count": 7,
   "id": "442584be-f0fb-470e-bcb2-3a1661efdb32",
   "metadata": {},
   "outputs": [
    {
     "data": {
      "text/plain": [
       "125"
      ]
     },
     "execution_count": 7,
     "metadata": {},
     "output_type": "execute_result"
    }
   ],
   "source": [
    "5 ** 3 "
   ]
  },
  {
   "cell_type": "code",
   "execution_count": 9,
   "id": "db4f1d75-a6a0-4913-b141-dfec6173d64a",
   "metadata": {},
   "outputs": [
    {
     "data": {
      "text/plain": [
       "3"
      ]
     },
     "execution_count": 9,
     "metadata": {},
     "output_type": "execute_result"
    }
   ],
   "source": [
    "13 % 5 # returns remainder"
   ]
  },
  {
   "cell_type": "code",
   "execution_count": 10,
   "id": "ba803b68-5f2a-43b9-ab2a-5ed3f02f8862",
   "metadata": {},
   "outputs": [
    {
     "data": {
      "text/plain": [
       "True"
      ]
     },
     "execution_count": 10,
     "metadata": {},
     "output_type": "execute_result"
    }
   ],
   "source": [
    "12 > 10 # Results in boolean"
   ]
  },
  {
   "cell_type": "code",
   "execution_count": 11,
   "id": "0c094caf-b844-4b8c-8f24-1f8915b1aa6c",
   "metadata": {},
   "outputs": [
    {
     "data": {
      "text/plain": [
       "False"
      ]
     },
     "execution_count": 11,
     "metadata": {},
     "output_type": "execute_result"
    }
   ],
   "source": [
    "12 < 10 "
   ]
  },
  {
   "cell_type": "code",
   "execution_count": 13,
   "id": "49a540af-cfaf-4f1f-a198-e3dd523180e4",
   "metadata": {},
   "outputs": [
    {
     "data": {
      "text/plain": [
       "False"
      ]
     },
     "execution_count": 13,
     "metadata": {},
     "output_type": "execute_result"
    }
   ],
   "source": [
    "100 >= 200"
   ]
  },
  {
   "cell_type": "code",
   "execution_count": 14,
   "id": "e78f0732-9590-44f5-9870-b702d96897c9",
   "metadata": {},
   "outputs": [
    {
     "data": {
      "text/plain": [
       "True"
      ]
     },
     "execution_count": 14,
     "metadata": {},
     "output_type": "execute_result"
    }
   ],
   "source": [
    "200 >=200"
   ]
  },
  {
   "cell_type": "code",
   "execution_count": 15,
   "id": "eeeabc79-b442-4aaa-869d-f7fd35d59f0f",
   "metadata": {},
   "outputs": [
    {
     "data": {
      "text/plain": [
       "False"
      ]
     },
     "execution_count": 15,
     "metadata": {},
     "output_type": "execute_result"
    }
   ],
   "source": [
    "200==300"
   ]
  },
  {
   "cell_type": "code",
   "execution_count": 16,
   "id": "570e9447-708f-4f6a-bf09-32dee5b1da50",
   "metadata": {},
   "outputs": [
    {
     "data": {
      "text/plain": [
       "True"
      ]
     },
     "execution_count": 16,
     "metadata": {},
     "output_type": "execute_result"
    }
   ],
   "source": [
    "200!=300"
   ]
  },
  {
   "cell_type": "raw",
   "id": "87a10f6a-02bc-43e0-92fb-7685cf65a3d9",
   "metadata": {},
   "source": [
    "OR Operator\n",
    "\"Or operator 1 True dhondta hy  pori expression True l liye\"\n",
    "\n",
    "True   or(+)    True     =   True\n",
    "True   or(+)    False    =   True\n",
    "False  or(+)    True     =   True\n",
    "False  or(+)    False   =    False\n"
   ]
  },
  {
   "cell_type": "raw",
   "id": "6843f22c-36d0-4bdb-8d92-6507d9362eb7",
   "metadata": {},
   "source": [
    "AND Operator\n",
    "\"AND operator 1 False dhonta hy pro expression ko false karne k liye\"\n",
    "\n",
    "True   and(*)    True     =   True\n",
    "True   and(*)    False    =   False\n",
    "False  and(*)    True     =   False\n",
    "False  and(*)    False   =    False\n"
   ]
  },
  {
   "cell_type": "code",
   "execution_count": 19,
   "id": "7b8e7d64-85b7-451e-b3fa-9a96fb23d8fb",
   "metadata": {},
   "outputs": [],
   "source": [
    "# Logical Operators may be used when testing more than one condition\n",
    "amir= 20\n",
    "basit=25\n",
    "carlos= 30"
   ]
  },
  {
   "cell_type": "code",
   "execution_count": 20,
   "id": "56429666-6278-4620-a305-4692cbf51aeb",
   "metadata": {},
   "outputs": [
    {
     "data": {
      "text/plain": [
       "True"
      ]
     },
     "execution_count": 20,
     "metadata": {},
     "output_type": "execute_result"
    }
   ],
   "source": [
    "(basit>amir ) or (carlos>amir )  or (amir>amir)\n",
    "   # T                   T                F"
   ]
  },
  {
   "cell_type": "code",
   "execution_count": 22,
   "id": "953a46df-952f-42b5-84c1-cb735b8bf1a7",
   "metadata": {},
   "outputs": [
    {
     "data": {
      "text/plain": [
       "False"
      ]
     },
     "execution_count": 22,
     "metadata": {},
     "output_type": "execute_result"
    }
   ],
   "source": [
    "(basit>amir ) and (carlos>amir )  and (amir>amir)\n",
    "  # T                   T                   F"
   ]
  },
  {
   "cell_type": "markdown",
   "id": "e29b3dc5-44f3-46a8-84e0-22e7d17986dd",
   "metadata": {},
   "source": [
    "# Operator Precedence\n",
    "     - P : Parethesis (Brackets)\n",
    "     - E : Exponent (power) \n",
    "     - M : Multiplication\n",
    "     - D : Division\n",
    "     - A : Addition\n",
    "     - S : Subtraction"
   ]
  },
  {
   "cell_type": "code",
   "execution_count": 23,
   "id": "54a04ff8-fade-4ef3-9514-1fc61b8e4d5e",
   "metadata": {},
   "outputs": [
    {
     "data": {
      "text/plain": [
       "73"
      ]
     },
     "execution_count": 23,
     "metadata": {},
     "output_type": "execute_result"
    }
   ],
   "source": [
    "4*5+3*(5-1)**2+5\n",
    "# 4*5+3*4**2+5\n",
    "# 4*5+3*16+5\n",
    "# 20+48+5\n",
    "# 73"
   ]
  },
  {
   "cell_type": "code",
   "execution_count": 26,
   "id": "b8b3aa7b-2fb1-45bc-bb93-ed5f205366cb",
   "metadata": {},
   "outputs": [
    {
     "data": {
      "text/plain": [
       "True"
      ]
     },
     "execution_count": 26,
     "metadata": {},
     "output_type": "execute_result"
    }
   ],
   "source": [
    "10/5 == 50/25"
   ]
  },
  {
   "cell_type": "code",
   "execution_count": 27,
   "id": "a7a6712c-082f-487b-b68f-886e3e9fa658",
   "metadata": {},
   "outputs": [
    {
     "data": {
      "text/plain": [
       "False"
      ]
     },
     "execution_count": 27,
     "metadata": {},
     "output_type": "execute_result"
    }
   ],
   "source": [
    "1.1+2.2 == 3.3"
   ]
  },
  {
   "cell_type": "code",
   "execution_count": 28,
   "id": "4fea7707-2276-425a-8902-bbf303fc6064",
   "metadata": {},
   "outputs": [
    {
     "data": {
      "text/plain": [
       "3.3000000000000003"
      ]
     },
     "execution_count": 28,
     "metadata": {},
     "output_type": "execute_result"
    }
   ],
   "source": [
    "1.1+2.2"
   ]
  },
  {
   "cell_type": "code",
   "execution_count": 33,
   "id": "61a48ef6-5db5-455d-a1cd-f924d48bde14",
   "metadata": {},
   "outputs": [
    {
     "data": {
      "text/plain": [
       "True"
      ]
     },
     "execution_count": 33,
     "metadata": {},
     "output_type": "execute_result"
    }
   ],
   "source": [
    "x=True\n",
    "isinstance(x, bool)"
   ]
  },
  {
   "cell_type": "code",
   "execution_count": 35,
   "id": "8ba2c08e-9423-4654-9782-4da03eb25522",
   "metadata": {},
   "outputs": [
    {
     "data": {
      "text/plain": [
       "True"
      ]
     },
     "execution_count": 35,
     "metadata": {},
     "output_type": "execute_result"
    }
   ],
   "source": [
    "type(x)==bool"
   ]
  },
  {
   "cell_type": "code",
   "execution_count": 36,
   "id": "c89646d5-9f71-4e03-9d04-341fdbe56a6d",
   "metadata": {},
   "outputs": [
    {
     "data": {
      "text/plain": [
       "True"
      ]
     },
     "execution_count": 36,
     "metadata": {},
     "output_type": "execute_result"
    }
   ],
   "source": [
    "(100==100) or (100>200)\n",
    "   "
   ]
  },
  {
   "cell_type": "code",
   "execution_count": 37,
   "id": "d5105fc2-3159-4a15-9bb2-6af3d815d2bb",
   "metadata": {},
   "outputs": [
    {
     "data": {
      "text/plain": [
       "100"
      ]
     },
     "execution_count": 37,
     "metadata": {},
     "output_type": "execute_result"
    }
   ],
   "source": [
    "100 or 200"
   ]
  },
  {
   "cell_type": "code",
   "execution_count": 38,
   "id": "0002d928-97e6-4b7f-beb6-10bbcea32ca7",
   "metadata": {},
   "outputs": [
    {
     "data": {
      "text/plain": [
       "True"
      ]
     },
     "execution_count": 38,
     "metadata": {},
     "output_type": "execute_result"
    }
   ],
   "source": [
    "bool(1)"
   ]
  },
  {
   "cell_type": "code",
   "execution_count": 39,
   "id": "65f0adce-ec86-4e0a-87f3-e16d1f3c76a7",
   "metadata": {},
   "outputs": [
    {
     "data": {
      "text/plain": [
       "False"
      ]
     },
     "execution_count": 39,
     "metadata": {},
     "output_type": "execute_result"
    }
   ],
   "source": [
    "bool(0)"
   ]
  },
  {
   "cell_type": "code",
   "execution_count": 40,
   "id": "ebf4e653-53fc-4f36-855a-a1467db0f07f",
   "metadata": {},
   "outputs": [
    {
     "data": {
      "text/plain": [
       "True"
      ]
     },
     "execution_count": 40,
     "metadata": {},
     "output_type": "execute_result"
    }
   ],
   "source": [
    "bool('apple')"
   ]
  },
  {
   "cell_type": "code",
   "execution_count": 41,
   "id": "d49acaa5-2e5e-43c5-b6f2-30c66fc3fdc6",
   "metadata": {},
   "outputs": [
    {
     "data": {
      "text/plain": [
       "True"
      ]
     },
     "execution_count": 41,
     "metadata": {},
     "output_type": "execute_result"
    }
   ],
   "source": [
    "bool(2345)"
   ]
  },
  {
   "cell_type": "code",
   "execution_count": 42,
   "id": "cb32127c-6e93-436d-be56-858ba3b2f903",
   "metadata": {},
   "outputs": [
    {
     "data": {
      "text/plain": [
       "False"
      ]
     },
     "execution_count": 42,
     "metadata": {},
     "output_type": "execute_result"
    }
   ],
   "source": [
    "bool(\"\")"
   ]
  },
  {
   "cell_type": "code",
   "execution_count": 43,
   "id": "61eb082b-22aa-468e-8512-81f6233f913d",
   "metadata": {},
   "outputs": [
    {
     "data": {
      "text/plain": [
       "False"
      ]
     },
     "execution_count": 43,
     "metadata": {},
     "output_type": "execute_result"
    }
   ],
   "source": [
    "bool([])"
   ]
  },
  {
   "cell_type": "code",
   "execution_count": 44,
   "id": "ed736c8f-19db-401a-a71c-fcc7941a014e",
   "metadata": {},
   "outputs": [
    {
     "data": {
      "text/plain": [
       "True"
      ]
     },
     "execution_count": 44,
     "metadata": {},
     "output_type": "execute_result"
    }
   ],
   "source": [
    "bool([3])"
   ]
  },
  {
   "cell_type": "code",
   "execution_count": 45,
   "id": "348d511b-53b0-4a34-9220-26879e7da795",
   "metadata": {},
   "outputs": [
    {
     "data": {
      "text/plain": [
       "100"
      ]
     },
     "execution_count": 45,
     "metadata": {},
     "output_type": "execute_result"
    }
   ],
   "source": [
    "100 or 200 or \"apple\" or \"\""
   ]
  },
  {
   "cell_type": "code",
   "execution_count": 53,
   "id": "060dafd1-90f9-45ef-90bc-bd71a1cba324",
   "metadata": {},
   "outputs": [
    {
     "data": {
      "text/plain": [
       "'orange'"
      ]
     },
     "execution_count": 53,
     "metadata": {},
     "output_type": "execute_result"
    }
   ],
   "source": [
    "100 and 200 and \"apple\" and \"orange\" "
   ]
  },
  {
   "cell_type": "code",
   "execution_count": 54,
   "id": "7f10c120-f1aa-441c-8262-9e3bc77bc6ee",
   "metadata": {},
   "outputs": [
    {
     "data": {
      "text/plain": [
       "[]"
      ]
     },
     "execution_count": 54,
     "metadata": {},
     "output_type": "execute_result"
    }
   ],
   "source": [
    "[] and '' and {}"
   ]
  },
  {
   "cell_type": "code",
   "execution_count": 56,
   "id": "e2c3463c-2aaf-4881-a1b9-eca3bd679946",
   "metadata": {},
   "outputs": [
    {
     "data": {
      "text/plain": [
       "{}"
      ]
     },
     "execution_count": 56,
     "metadata": {},
     "output_type": "execute_result"
    }
   ],
   "source": [
    "[] or \"\" or {} "
   ]
  },
  {
   "cell_type": "code",
   "execution_count": 57,
   "id": "6a53d182-362a-4fb5-9bf7-f3ed7932228d",
   "metadata": {},
   "outputs": [
    {
     "data": {
      "text/plain": [
       "False"
      ]
     },
     "execution_count": 57,
     "metadata": {},
     "output_type": "execute_result"
    }
   ],
   "source": [
    "x = -100\n",
    "from math import sqrt\n",
    "x > 0 and sqrt(x)"
   ]
  },
  {
   "cell_type": "code",
   "execution_count": 58,
   "id": "a399fa1b-5cd2-4a46-97e4-c1c67f1c90ae",
   "metadata": {},
   "outputs": [
    {
     "ename": "ValueError",
     "evalue": "math domain error",
     "output_type": "error",
     "traceback": [
      "\u001b[1;31m---------------------------------------------------------------------------\u001b[0m",
      "\u001b[1;31mValueError\u001b[0m                                Traceback (most recent call last)",
      "Cell \u001b[1;32mIn[58], line 1\u001b[0m\n\u001b[1;32m----> 1\u001b[0m sqrt(x)\n",
      "\u001b[1;31mValueError\u001b[0m: math domain error"
     ]
    }
   ],
   "source": [
    "sqrt(x)"
   ]
  },
  {
   "cell_type": "code",
   "execution_count": 59,
   "id": "df0ba745-9272-4adb-941e-f1d5d78236a8",
   "metadata": {},
   "outputs": [
    {
     "ename": "ValueError",
     "evalue": "math domain error",
     "output_type": "error",
     "traceback": [
      "\u001b[1;31m---------------------------------------------------------------------------\u001b[0m",
      "\u001b[1;31mValueError\u001b[0m                                Traceback (most recent call last)",
      "Cell \u001b[1;32mIn[59], line 3\u001b[0m\n\u001b[0;32m      1\u001b[0m x \u001b[38;5;241m=\u001b[39m \u001b[38;5;241m-\u001b[39m\u001b[38;5;241m100\u001b[39m\n\u001b[0;32m      2\u001b[0m \u001b[38;5;28;01mfrom\u001b[39;00m \u001b[38;5;21;01mmath\u001b[39;00m \u001b[38;5;28;01mimport\u001b[39;00m sqrt\n\u001b[1;32m----> 3\u001b[0m x \u001b[38;5;241m>\u001b[39m \u001b[38;5;241m0\u001b[39m \u001b[38;5;129;01mor\u001b[39;00m  sqrt(x)\n",
      "\u001b[1;31mValueError\u001b[0m: math domain error"
     ]
    }
   ],
   "source": [
    "x = -100\n",
    "from math import sqrt\n",
    "x > 0 or  sqrt(x)"
   ]
  },
  {
   "cell_type": "markdown",
   "id": "182774e1-e145-4297-bbf5-c197a54b81bc",
   "metadata": {},
   "source": [
    "# is operator ( identity operator)\n",
    "# id"
   ]
  },
  {
   "cell_type": "code",
   "execution_count": 61,
   "id": "feb2f9b7-741d-4630-91c2-aaf55dc29463",
   "metadata": {},
   "outputs": [],
   "source": [
    "a = 100"
   ]
  },
  {
   "cell_type": "code",
   "execution_count": 62,
   "id": "5fdeeac8-cec7-4184-9b34-e101cc2deb5c",
   "metadata": {},
   "outputs": [
    {
     "data": {
      "text/plain": [
       "140725817390616"
      ]
     },
     "execution_count": 62,
     "metadata": {},
     "output_type": "execute_result"
    }
   ],
   "source": [
    "id(a)"
   ]
  },
  {
   "cell_type": "code",
   "execution_count": 63,
   "id": "5d93bf31-a723-44b2-9aa3-41085e44e488",
   "metadata": {},
   "outputs": [
    {
     "data": {
      "text/plain": [
       "100"
      ]
     },
     "execution_count": 63,
     "metadata": {},
     "output_type": "execute_result"
    }
   ],
   "source": []
  },
  {
   "cell_type": "code",
   "execution_count": 64,
   "id": "105cb97d-cba4-4c81-a3db-14a87df3d96b",
   "metadata": {},
   "outputs": [],
   "source": [
    "name  = \"Ubaid Khan\""
   ]
  },
  {
   "cell_type": "code",
   "execution_count": 65,
   "id": "113b0b3c-2c29-4f8c-851f-d482e84f882b",
   "metadata": {},
   "outputs": [],
   "source": [
    "studentname = name"
   ]
  },
  {
   "cell_type": "code",
   "execution_count": 66,
   "id": "da129efd-a299-49c2-8330-8d96b0d33f03",
   "metadata": {},
   "outputs": [
    {
     "data": {
      "text/plain": [
       "2987143052528"
      ]
     },
     "execution_count": 66,
     "metadata": {},
     "output_type": "execute_result"
    }
   ],
   "source": [
    "id(name)"
   ]
  },
  {
   "cell_type": "code",
   "execution_count": 67,
   "id": "5e3abc87-9d40-4303-904a-419972c40b3f",
   "metadata": {},
   "outputs": [
    {
     "data": {
      "text/plain": [
       "2987143052528"
      ]
     },
     "execution_count": 67,
     "metadata": {},
     "output_type": "execute_result"
    }
   ],
   "source": [
    "id(studentname)"
   ]
  },
  {
   "cell_type": "code",
   "execution_count": 68,
   "id": "175a66dc-03e9-4ef8-bc00-85fc2be9514d",
   "metadata": {},
   "outputs": [
    {
     "data": {
      "text/plain": [
       "True"
      ]
     },
     "execution_count": 68,
     "metadata": {},
     "output_type": "execute_result"
    }
   ],
   "source": [
    "name is studentname"
   ]
  },
  {
   "cell_type": "code",
   "execution_count": 69,
   "id": "ad6569a2-b7d7-4ce5-adfe-eafed139a622",
   "metadata": {},
   "outputs": [],
   "source": [
    "v1 = 200"
   ]
  },
  {
   "cell_type": "code",
   "execution_count": 70,
   "id": "a7cd616b-b3b3-4fdd-81ad-fa63a9767522",
   "metadata": {},
   "outputs": [
    {
     "data": {
      "text/plain": [
       "140725817393816"
      ]
     },
     "execution_count": 70,
     "metadata": {},
     "output_type": "execute_result"
    }
   ],
   "source": [
    "id(v1)"
   ]
  },
  {
   "cell_type": "code",
   "execution_count": 71,
   "id": "ac9a200b-7a7b-4b5d-805a-642a39440c99",
   "metadata": {},
   "outputs": [],
   "source": [
    "v2 = v1"
   ]
  },
  {
   "cell_type": "code",
   "execution_count": 72,
   "id": "8d2317db-22aa-4094-8764-a0a42f2ef9ec",
   "metadata": {},
   "outputs": [
    {
     "data": {
      "text/plain": [
       "True"
      ]
     },
     "execution_count": 72,
     "metadata": {},
     "output_type": "execute_result"
    }
   ],
   "source": [
    "v2 is v1"
   ]
  },
  {
   "cell_type": "code",
   "execution_count": 73,
   "id": "00eabce6-d144-4523-9eee-fadf353cfc45",
   "metadata": {},
   "outputs": [],
   "source": [
    "v3 = 200"
   ]
  },
  {
   "cell_type": "code",
   "execution_count": 74,
   "id": "2484b239-0c39-4d08-ba3b-6125b2ce6838",
   "metadata": {},
   "outputs": [
    {
     "data": {
      "text/plain": [
       "140725817393816"
      ]
     },
     "execution_count": 74,
     "metadata": {},
     "output_type": "execute_result"
    }
   ],
   "source": [
    "id(v3)"
   ]
  },
  {
   "cell_type": "code",
   "execution_count": 75,
   "id": "d341c663-e687-48a5-93b4-0669d9cc1330",
   "metadata": {},
   "outputs": [
    {
     "data": {
      "text/plain": [
       "True"
      ]
     },
     "execution_count": 75,
     "metadata": {},
     "output_type": "execute_result"
    }
   ],
   "source": [
    "v3 is v1"
   ]
  },
  {
   "cell_type": "code",
   "execution_count": 76,
   "id": "71201d7b-246e-479e-933d-cc4b23b39bff",
   "metadata": {},
   "outputs": [],
   "source": [
    "v3 = 201"
   ]
  },
  {
   "cell_type": "code",
   "execution_count": 77,
   "id": "3cb3d509-c907-4f0a-a6bc-3de1368343bf",
   "metadata": {},
   "outputs": [
    {
     "data": {
      "text/plain": [
       "140725817393848"
      ]
     },
     "execution_count": 77,
     "metadata": {},
     "output_type": "execute_result"
    }
   ],
   "source": [
    "id(v3)"
   ]
  },
  {
   "cell_type": "code",
   "execution_count": 78,
   "id": "74c53a5d-e1c3-4fdd-b765-bc2b020f5d8e",
   "metadata": {},
   "outputs": [
    {
     "data": {
      "text/plain": [
       "False"
      ]
     },
     "execution_count": 78,
     "metadata": {},
     "output_type": "execute_result"
    }
   ],
   "source": [
    "v3 is v1"
   ]
  },
  {
   "cell_type": "markdown",
   "id": "87cd0c91-c83c-4187-93c4-e9f1e9979576",
   "metadata": {},
   "source": [
    "# Variables:\n",
    "    container - hold the value\n",
    "                changeable "
   ]
  },
  {
   "cell_type": "code",
   "execution_count": 81,
   "id": "9c29d10b-cf59-427a-85a6-a1488ed1a9a2",
   "metadata": {},
   "outputs": [],
   "source": [
    "marks  = 100"
   ]
  },
  {
   "cell_type": "code",
   "execution_count": 82,
   "id": "c933ad6f-7803-4768-9eb9-0e474d56054e",
   "metadata": {},
   "outputs": [],
   "source": [
    "marks = 200"
   ]
  },
  {
   "cell_type": "code",
   "execution_count": null,
   "id": "134eaa16-d7a3-4755-8ee3-46484f528946",
   "metadata": {},
   "outputs": [],
   "source": []
  }
 ],
 "metadata": {
  "kernelspec": {
   "display_name": "Python 3 (ipykernel)",
   "language": "python",
   "name": "python3"
  },
  "language_info": {
   "codemirror_mode": {
    "name": "ipython",
    "version": 3
   },
   "file_extension": ".py",
   "mimetype": "text/x-python",
   "name": "python",
   "nbconvert_exporter": "python",
   "pygments_lexer": "ipython3",
   "version": "3.12.7"
  }
 },
 "nbformat": 4,
 "nbformat_minor": 5
}
