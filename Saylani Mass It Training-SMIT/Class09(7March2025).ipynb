{
 "cells": [
  {
   "cell_type": "markdown",
   "id": "899f6d0f-0e05-43f9-ace6-2a6a7e121957",
   "metadata": {},
   "source": [
    "# Loop:\n",
    "    - chakkar"
   ]
  },
  {
   "cell_type": "code",
   "execution_count": 2,
   "id": "93e1016c-9c40-4b60-8188-6e4b5cc53ebb",
   "metadata": {},
   "outputs": [],
   "source": [
    "# to print your nama ten times"
   ]
  },
  {
   "cell_type": "code",
   "execution_count": 3,
   "id": "9dcbb97e-207b-43fe-baea-c090d588b1b3",
   "metadata": {},
   "outputs": [
    {
     "name": "stdout",
     "output_type": "stream",
     "text": [
      "Nasir Hussain\n",
      "Nasir Hussain\n",
      "Nasir Hussain\n",
      "Nasir Hussain\n",
      "Nasir Hussain\n",
      "Nasir Hussain\n",
      "Nasir Hussain\n",
      "Nasir Hussain\n",
      "Nasir Hussain\n",
      "Nasir Hussain\n"
     ]
    }
   ],
   "source": [
    "print(\"Nasir Hussain\")\n",
    "print(\"Nasir Hussain\")\n",
    "print(\"Nasir Hussain\")\n",
    "print(\"Nasir Hussain\")\n",
    "print(\"Nasir Hussain\")\n",
    "print(\"Nasir Hussain\")\n",
    "print(\"Nasir Hussain\")\n",
    "print(\"Nasir Hussain\")\n",
    "print(\"Nasir Hussain\")\n",
    "print(\"Nasir Hussain\")"
   ]
  },
  {
   "cell_type": "code",
   "execution_count": 5,
   "id": "3134eff3-f6e4-49df-a307-ffac8dc8952b",
   "metadata": {},
   "outputs": [
    {
     "name": "stdout",
     "output_type": "stream",
     "text": [
      "Nasir Hussain\n",
      "Nasir Hussain\n",
      "Nasir Hussain\n",
      "Nasir Hussain\n",
      "Nasir Hussain\n",
      "Nasir Hussain\n",
      "Nasir Hussain\n",
      "Nasir Hussain\n",
      "Nasir Hussain\n",
      "Nasir Hussain\n"
     ]
    }
   ],
   "source": [
    "for a in range(10):\n",
    "    print(\"Nasir Hussain\")"
   ]
  },
  {
   "cell_type": "code",
   "execution_count": 7,
   "id": "0d3a17d7-980c-4cc6-8c55-0a6423af6ed3",
   "metadata": {},
   "outputs": [
    {
     "name": "stdout",
     "output_type": "stream",
     "text": [
      "Hello sameer\n",
      "Hello fazal\n",
      "Hello usman\n",
      "Hello furqan\n",
      "Hello yahya\n",
      "Hello ubaid\n",
      "Hello junaid\n"
     ]
    }
   ],
   "source": [
    "for boss in [\"sameer\",'fazal','usman','furqan','yahya','ubaid','junaid']:\n",
    "    print(f\"Hello {boss}\")"
   ]
  },
  {
   "cell_type": "code",
   "execution_count": 13,
   "id": "dd52ba4e-6ccd-4cd9-b283-fb6a97abe42a",
   "metadata": {},
   "outputs": [],
   "source": [
    "name = 'anas'"
   ]
  },
  {
   "cell_type": "code",
   "execution_count": 14,
   "id": "5fcd342a-79ed-484c-a23d-0d1e9ba97fbd",
   "metadata": {},
   "outputs": [
    {
     "name": "stdout",
     "output_type": "stream",
     "text": [
      "anas is great man\n"
     ]
    }
   ],
   "source": [
    "print(f\"{name} is great man\")"
   ]
  },
  {
   "cell_type": "code",
   "execution_count": 15,
   "id": "1f9f5d9c-8430-46ee-858e-2e16884a8243",
   "metadata": {},
   "outputs": [],
   "source": [
    "students = [\"sameer\",'fazal','usman','furqan','yahya','ubaid','junaid']"
   ]
  },
  {
   "cell_type": "code",
   "execution_count": 16,
   "id": "6ef24898-d5f8-4263-ad3d-4acc93e580aa",
   "metadata": {},
   "outputs": [
    {
     "name": "stdout",
     "output_type": "stream",
     "text": [
      "MR.sameer ajj chutti hy\n",
      "MR.fazal ajj chutti hy\n",
      "MR.usman ajj chutti hy\n",
      "MR.furqan ajj chutti hy\n",
      "MR.yahya ajj chutti hy\n",
      "MR.ubaid ajj chutti hy\n",
      "MR.junaid ajj chutti hy\n"
     ]
    }
   ],
   "source": [
    "for student in students:\n",
    "    print(f\"MR.{student} ajj chutti hy\")   "
   ]
  },
  {
   "cell_type": "code",
   "execution_count": 17,
   "id": "671bd82c-529a-41fb-a6b7-1e2f9d728eeb",
   "metadata": {},
   "outputs": [
    {
     "name": "stdout",
     "output_type": "stream",
     "text": [
      "MR.sameer ajj ana hy\n",
      "MR.fazal ajj chutti hy\n",
      "MR.usman ajj chutti hy\n",
      "MR.furqan ajj ana hy\n",
      "MR.yahya ajj chutti hy\n",
      "MR.ubaid ajj chutti hy\n",
      "MR.junaid ajj ana hy\n"
     ]
    }
   ],
   "source": [
    "for student in students:\n",
    "    if len(student)==5:\n",
    "        print(f\"MR.{student} ajj chutti hy\")\n",
    "    else:\n",
    "        print(f\"MR.{student} ajj ana hy\")  \n",
    "       "
   ]
  },
  {
   "cell_type": "code",
   "execution_count": 31,
   "id": "3be34481-e48e-47e7-a487-5b65b2e28da3",
   "metadata": {},
   "outputs": [
    {
     "name": "stdout",
     "output_type": "stream",
     "text": [
      "0123456789"
     ]
    }
   ],
   "source": [
    "for a in range(10):\n",
    "    print(a, end=\"\")"
   ]
  },
  {
   "cell_type": "code",
   "execution_count": 32,
   "id": "bf8a461f-6dd2-45db-9697-416453be6cd1",
   "metadata": {},
   "outputs": [
    {
     "name": "stdout",
     "output_type": "stream",
     "text": [
      "123456789"
     ]
    }
   ],
   "source": [
    "for a in range(1,10):\n",
    "    print(a, end=\"\")"
   ]
  },
  {
   "cell_type": "code",
   "execution_count": 34,
   "id": "8158fe2f-8d0f-4869-ab0b-13c5739466f7",
   "metadata": {},
   "outputs": [
    {
     "name": "stdout",
     "output_type": "stream",
     "text": [
      "1,6,11,16,21,26,31,36,41,46,51,56,61,66,71,76,81,86,91,96,"
     ]
    }
   ],
   "source": [
    "for a in range(1,100,5):\n",
    "    print(a, end=\",\")"
   ]
  },
  {
   "cell_type": "code",
   "execution_count": 35,
   "id": "2bf27577-4c1f-40c5-b3ef-f0f460e565e1",
   "metadata": {},
   "outputs": [
    {
     "name": "stdout",
     "output_type": "stream",
     "text": [
      "100,95,90,85,80,75,70,65,60,55,50,45,40,35,30,25,20,15,10,5,"
     ]
    }
   ],
   "source": [
    "for a in range(100,1,-5):\n",
    "    print(a, end=\",\")"
   ]
  },
  {
   "cell_type": "code",
   "execution_count": 36,
   "id": "6351b736-a0b1-44f9-900c-a2809d902531",
   "metadata": {},
   "outputs": [
    {
     "name": "stdin",
     "output_type": "stream",
     "text": [
      "Enter your number 6\n"
     ]
    },
    {
     "name": "stdout",
     "output_type": "stream",
     "text": [
      "6 is even\n"
     ]
    }
   ],
   "source": [
    "num = int(input(\"Enter your number\"))\n",
    "if num%2==0:\n",
    "    print(f\"{num} is even\")\n",
    "else:\n",
    "    print(f\"{num} is odd\")"
   ]
  },
  {
   "cell_type": "code",
   "execution_count": 37,
   "id": "a55f1291-ce80-4f86-9174-425ac09dcc7f",
   "metadata": {},
   "outputs": [
    {
     "name": "stdin",
     "output_type": "stream",
     "text": [
      "Enter your number 5\n"
     ]
    },
    {
     "name": "stdout",
     "output_type": "stream",
     "text": [
      "5 is odd\n"
     ]
    },
    {
     "name": "stdin",
     "output_type": "stream",
     "text": [
      "Enter your number 8\n"
     ]
    },
    {
     "name": "stdout",
     "output_type": "stream",
     "text": [
      "8 is even\n"
     ]
    },
    {
     "name": "stdin",
     "output_type": "stream",
     "text": [
      "Enter your number 7898\n"
     ]
    },
    {
     "name": "stdout",
     "output_type": "stream",
     "text": [
      "7898 is even\n"
     ]
    },
    {
     "name": "stdin",
     "output_type": "stream",
     "text": [
      "Enter your number 2323\n"
     ]
    },
    {
     "name": "stdout",
     "output_type": "stream",
     "text": [
      "2323 is odd\n"
     ]
    },
    {
     "name": "stdin",
     "output_type": "stream",
     "text": [
      "Enter your number 455656\n"
     ]
    },
    {
     "name": "stdout",
     "output_type": "stream",
     "text": [
      "455656 is even\n"
     ]
    },
    {
     "name": "stdin",
     "output_type": "stream",
     "text": [
      "Enter your number 6\n"
     ]
    },
    {
     "name": "stdout",
     "output_type": "stream",
     "text": [
      "6 is even\n"
     ]
    },
    {
     "name": "stdin",
     "output_type": "stream",
     "text": [
      "Enter your number 0\n"
     ]
    },
    {
     "name": "stdout",
     "output_type": "stream",
     "text": [
      "0 is even\n"
     ]
    },
    {
     "name": "stdin",
     "output_type": "stream",
     "text": [
      "Enter your number 3\n"
     ]
    },
    {
     "name": "stdout",
     "output_type": "stream",
     "text": [
      "3 is odd\n"
     ]
    },
    {
     "name": "stdin",
     "output_type": "stream",
     "text": [
      "Enter your number 5\n"
     ]
    },
    {
     "name": "stdout",
     "output_type": "stream",
     "text": [
      "5 is odd\n"
     ]
    },
    {
     "name": "stdin",
     "output_type": "stream",
     "text": [
      "Enter your number 6\n"
     ]
    },
    {
     "name": "stdout",
     "output_type": "stream",
     "text": [
      "6 is even\n"
     ]
    }
   ],
   "source": [
    "for a in range(10):\n",
    "    num = int(input(\"Enter your number\"))\n",
    "    if num%2==0:\n",
    "        print(f\"{num} is even\")\n",
    "    else:\n",
    "        print(f\"{num} is odd\")\n"
   ]
  },
  {
   "cell_type": "code",
   "execution_count": 41,
   "id": "1e5e09de-da5c-4db3-b43f-ce5733274e26",
   "metadata": {},
   "outputs": [
    {
     "name": "stdin",
     "output_type": "stream",
     "text": [
      "Enter guest name:  Nasir Hussain\n",
      "Enter guest name:  Ubaid\n",
      "Enter guest name:  Ali\n",
      "Enter guest name:  B\n",
      "Enter guest name:  S\n",
      "Enter guest name:  D\n",
      "Enter guest name:  E\n",
      "Enter guest name:  R\n",
      "Enter guest name:  T\n",
      "Enter guest name:  G\n"
     ]
    },
    {
     "name": "stdout",
     "output_type": "stream",
     "text": [
      "['Nasir Hussain', 'Ubaid', 'Ali', 'B', 'S', 'D', 'E', 'R', 'T', 'G']\n"
     ]
    }
   ],
   "source": [
    "guests=[]\n",
    "for a in range(10):\n",
    "    guest_name = input(\"Enter guest name: \")\n",
    "    guests.append(guest_name)\n",
    "print(guests)"
   ]
  },
  {
   "cell_type": "code",
   "execution_count": 40,
   "id": "d647f924-1358-45f3-9957-3b1043baa91b",
   "metadata": {},
   "outputs": [
    {
     "data": {
      "text/plain": [
       "['Nasir Hussain']"
      ]
     },
     "execution_count": 40,
     "metadata": {},
     "output_type": "execute_result"
    }
   ],
   "source": [
    "guests"
   ]
  },
  {
   "cell_type": "code",
   "execution_count": 46,
   "id": "1ae6bedb-ac2e-4dc1-91b7-98c8a0c4d3e0",
   "metadata": {},
   "outputs": [
    {
     "name": "stdin",
     "output_type": "stream",
     "text": [
      "Enter table number:  3\n"
     ]
    },
    {
     "name": "stdout",
     "output_type": "stream",
     "text": [
      "3 * 1 =  3\n",
      "3 * 2 =  6\n",
      "3 * 3 =  9\n",
      "3 * 4 =  12\n",
      "3 * 5 =  15\n",
      "3 * 6 =  18\n",
      "3 * 7 =  21\n",
      "3 * 8 =  24\n",
      "3 * 9 =  27\n",
      "3 * 10 =  30\n"
     ]
    }
   ],
   "source": [
    "table_no = int(input(\"Enter table number: \"))\n",
    "for a in range(1,11):\n",
    "    print(f\"{table_no} * {a} =  {a*table_no}\")"
   ]
  },
  {
   "cell_type": "code",
   "execution_count": 47,
   "id": "deaf50ed-51af-4f68-87e7-4713f3c8c8dd",
   "metadata": {},
   "outputs": [
    {
     "name": "stdout",
     "output_type": "stream",
     "text": [
      "0\n",
      "1\n",
      "2\n",
      "3\n",
      "4\n"
     ]
    }
   ],
   "source": [
    "for a in range(10):\n",
    "    if a==5:\n",
    "        break\n",
    "    else:\n",
    "        print(a)"
   ]
  },
  {
   "cell_type": "code",
   "execution_count": 48,
   "id": "228c4511-e126-4c50-8b65-2edbe1b6ac46",
   "metadata": {},
   "outputs": [
    {
     "name": "stdout",
     "output_type": "stream",
     "text": [
      "0\n",
      "1\n",
      "2\n",
      "3\n",
      "4\n",
      "6\n",
      "7\n",
      "8\n",
      "9\n"
     ]
    }
   ],
   "source": [
    "for a in range(10):\n",
    "    if a==5:\n",
    "        continue\n",
    "    else:\n",
    "        print(a)"
   ]
  },
  {
   "cell_type": "code",
   "execution_count": 49,
   "id": "b8918122-0c48-4fad-8c5a-2ae75ceb974a",
   "metadata": {},
   "outputs": [
    {
     "name": "stdin",
     "output_type": "stream",
     "text": [
      "Enter your username:  nasirh\n",
      "Enter your username:  ubaidk\n",
      "Enter your username:  admin\n",
      "Enter your username:  Admin\n",
      "Enter your username:  waqas\n",
      "Enter your username:  asadf\n",
      "Enter your username:  garar\n",
      "Enter your username:  rtyui\n",
      "Enter your username:  nasir\n",
      "Enter your username:  nasirh\n"
     ]
    }
   ],
   "source": [
    "usernames = []\n",
    "for a in range(10):\n",
    "    username = input(\"Enter your username: \").lower()\n",
    "    if username=='admin':\n",
    "        continue\n",
    "    else:\n",
    "        usernames.append(username)"
   ]
  },
  {
   "cell_type": "code",
   "execution_count": 50,
   "id": "b4fae4af-181c-4d7f-a82f-33f570fdddb9",
   "metadata": {},
   "outputs": [
    {
     "data": {
      "text/plain": [
       "['nasirh', 'ubaidk', 'waqas', 'asadf', 'garar', 'rtyui', 'nasir', 'nasirh']"
      ]
     },
     "execution_count": 50,
     "metadata": {},
     "output_type": "execute_result"
    }
   ],
   "source": [
    "usernames"
   ]
  },
  {
   "cell_type": "code",
   "execution_count": 55,
   "id": "4419efd4-481d-4654-9e0b-5e17a386babb",
   "metadata": {},
   "outputs": [
    {
     "name": "stdin",
     "output_type": "stream",
     "text": [
      "Enter your name:  admin \n",
      "Enter your name:  admin\n",
      "Enter your name:  nasir\n",
      "Enter your name:  hussain\n",
      "Enter your name:  hasan\n"
     ]
    }
   ],
   "source": [
    "usernames = []\n",
    "for a in range(5):\n",
    "    username = input(\"Enter your name: \").lower().strip()\n",
    "    if (username=='admin') or (username in usernames):\n",
    "        continue\n",
    "    else:\n",
    "        usernames.append(username)"
   ]
  },
  {
   "cell_type": "code",
   "execution_count": 56,
   "id": "a0f43b6f-0f03-49c2-945e-9ed794c0d723",
   "metadata": {},
   "outputs": [
    {
     "data": {
      "text/plain": [
       "['nasir', 'hussain', 'hasan']"
      ]
     },
     "execution_count": 56,
     "metadata": {},
     "output_type": "execute_result"
    }
   ],
   "source": [
    "usernames"
   ]
  },
  {
   "cell_type": "code",
   "execution_count": 57,
   "id": "e6f9b741-1df9-4c28-8424-e1ab7ffe70d2",
   "metadata": {},
   "outputs": [
    {
     "name": "stdin",
     "output_type": "stream",
     "text": [
      "Enter your text:  hello dear sir how are you?\n"
     ]
    }
   ],
   "source": [
    "# space removal\n",
    "text = input(\"Enter your text: \").lower()\n",
    "count=0\n",
    "vowels =\"aeiou\"\n",
    "for char in text:\n",
    "    if char in vowels:\n",
    "        count+=1"
   ]
  },
  {
   "cell_type": "code",
   "execution_count": 58,
   "id": "e92ae8f3-6386-4b12-b18e-dc4fa9602d4e",
   "metadata": {},
   "outputs": [
    {
     "data": {
      "text/plain": [
       "10"
      ]
     },
     "execution_count": 58,
     "metadata": {},
     "output_type": "execute_result"
    }
   ],
   "source": [
    "count"
   ]
  },
  {
   "cell_type": "code",
   "execution_count": 59,
   "id": "b3761b27-a05c-486c-b091-609ae9c4636e",
   "metadata": {},
   "outputs": [
    {
     "name": "stdin",
     "output_type": "stream",
     "text": [
      "Enter your text:  hello dear sir how are you?\n"
     ]
    }
   ],
   "source": [
    "text = input(\"Enter your text: \").lower()\n",
    "count_a=text.count('a')\n",
    "count_e=text.count('e')\n",
    "count_i=text.count('i')\n",
    "count_o=text.count('o')\n",
    "count_u=text.count('u')\n"
   ]
  },
  {
   "cell_type": "code",
   "execution_count": 61,
   "id": "bd138b03-07ce-41fe-9a96-d2549ca035c7",
   "metadata": {},
   "outputs": [
    {
     "data": {
      "text/plain": [
       "(2, 3, 1, 3, 1)"
      ]
     },
     "execution_count": 61,
     "metadata": {},
     "output_type": "execute_result"
    }
   ],
   "source": [
    "count_a,count_e,count_i,count_o,count_u"
   ]
  },
  {
   "cell_type": "code",
   "execution_count": null,
   "id": "c93f8708-a954-4f13-b8e8-fe376190f9c2",
   "metadata": {},
   "outputs": [],
   "source": []
  },
  {
   "cell_type": "code",
   "execution_count": null,
   "id": "cd259403-b40e-4204-bdc0-852d39a55e04",
   "metadata": {},
   "outputs": [],
   "source": []
  },
  {
   "cell_type": "code",
   "execution_count": null,
   "id": "6f3b4e4e-2b16-4686-bb34-25d348317dc9",
   "metadata": {},
   "outputs": [],
   "source": []
  },
  {
   "cell_type": "code",
   "execution_count": null,
   "id": "a06fd48d-8196-4a91-91c0-5a3236c7b5d1",
   "metadata": {},
   "outputs": [],
   "source": []
  },
  {
   "cell_type": "code",
   "execution_count": null,
   "id": "c14fcbe9-baf3-46fd-8411-4eef23d8ec95",
   "metadata": {},
   "outputs": [],
   "source": []
  },
  {
   "cell_type": "code",
   "execution_count": 18,
   "id": "ae2c1208-dfc8-4f5e-b952-29f62a5f33a2",
   "metadata": {},
   "outputs": [],
   "source": [
    "student = {'name':'Ubaid', 'age':20, 'Course':'Python',\n",
    "            \"roll\":23, 'institute':'SMIT', 'Gender':'Male'}"
   ]
  },
  {
   "cell_type": "code",
   "execution_count": 19,
   "id": "2024cad9-e59d-47b8-a51d-3224f41d74f4",
   "metadata": {},
   "outputs": [
    {
     "name": "stdout",
     "output_type": "stream",
     "text": [
      "name\n",
      "age\n",
      "Course\n",
      "roll\n",
      "institute\n",
      "Gender\n"
     ]
    }
   ],
   "source": [
    "# by default pics the keys if we dont mention\n",
    "for a in student:\n",
    "    print(a)"
   ]
  },
  {
   "cell_type": "code",
   "execution_count": 20,
   "id": "bc82665c-32cd-485e-b81f-7f4731699947",
   "metadata": {},
   "outputs": [
    {
     "name": "stdout",
     "output_type": "stream",
     "text": [
      "name\n",
      "age\n",
      "Course\n",
      "roll\n",
      "institute\n",
      "Gender\n"
     ]
    }
   ],
   "source": [
    "for a in student.keys():\n",
    "    print(a)"
   ]
  },
  {
   "cell_type": "code",
   "execution_count": 21,
   "id": "6a02e62e-e319-44ac-9a81-b785b3d77a55",
   "metadata": {},
   "outputs": [
    {
     "name": "stdout",
     "output_type": "stream",
     "text": [
      "Ubaid\n",
      "20\n",
      "Python\n",
      "23\n",
      "SMIT\n",
      "Male\n"
     ]
    }
   ],
   "source": [
    "for a in student.values():\n",
    "    print(a)"
   ]
  },
  {
   "cell_type": "code",
   "execution_count": 29,
   "id": "bae54c07-86c1-4f6e-9088-cfdf1be7b284",
   "metadata": {},
   "outputs": [
    {
     "name": "stdout",
     "output_type": "stream",
     "text": [
      "           Keys       Values\n",
      "           \n",
      "           name       Ubaid\n",
      "           \n",
      "           \n",
      "           \n",
      "           age       20\n",
      "           \n",
      "           \n",
      "           \n",
      "           Course       Python\n",
      "           \n",
      "           \n",
      "           \n",
      "           roll       23\n",
      "           \n",
      "           \n",
      "           \n",
      "           institute       SMIT\n",
      "           \n",
      "           \n",
      "           \n",
      "           Gender       Male\n",
      "           \n",
      "           \n"
     ]
    }
   ],
   "source": [
    "print(\"           Keys       Values\")\n",
    "for key,value in student.items():\n",
    "\n",
    "    print(f\"\"\"           \n",
    "           {key}       {value}\n",
    "           \n",
    "           \"\"\")"
   ]
  },
  {
   "cell_type": "code",
   "execution_count": 62,
   "id": "9c8e326b-a226-4992-b84f-ec3cd05efd6b",
   "metadata": {},
   "outputs": [
    {
     "name": "stdout",
     "output_type": "stream",
     "text": [
      "P\n",
      "a\n",
      "k\n",
      "i\n",
      "s\n",
      "t\n",
      "a\n",
      "n\n"
     ]
    }
   ],
   "source": [
    "for char in \"Pakistan\":\n",
    "    print(char)"
   ]
  },
  {
   "cell_type": "code",
   "execution_count": null,
   "id": "72e3d9bd-ef6e-4193-a2c0-27ba47521056",
   "metadata": {},
   "outputs": [],
   "source": []
  }
 ],
 "metadata": {
  "kernelspec": {
   "display_name": "Python 3 (ipykernel)",
   "language": "python",
   "name": "python3"
  },
  "language_info": {
   "codemirror_mode": {
    "name": "ipython",
    "version": 3
   },
   "file_extension": ".py",
   "mimetype": "text/x-python",
   "name": "python",
   "nbconvert_exporter": "python",
   "pygments_lexer": "ipython3",
   "version": "3.12.7"
  }
 },
 "nbformat": 4,
 "nbformat_minor": 5
}
