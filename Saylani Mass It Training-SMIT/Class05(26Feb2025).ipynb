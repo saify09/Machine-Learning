{
 "cells": [
  {
   "cell_type": "code",
   "execution_count": 1,
   "id": "7ed63fb4-4a43-45b7-a5f6-ddad5166d7d6",
   "metadata": {},
   "outputs": [
    {
     "name": "stdin",
     "output_type": "stream",
     "text": [
      "Is today is electionday? yes/no yes\n",
      "Do you have a valid CNIC? yes\n",
      "Is your name is list? yes\n"
     ]
    },
    {
     "name": "stdout",
     "output_type": "stream",
     "text": [
      "you can cast vote\n"
     ]
    }
   ],
   "source": [
    "# to cast a vote \n",
    "# CNIC\n",
    "# voterlist\n",
    "# electionday \n",
    "\n",
    "election_day = input(\"Is today is electionday? yes/no\")\n",
    "if election_day==\"yes\":\n",
    "    cnic   = input(\"Do you have a valid CNIC?\")\n",
    "    if cnic == 'yes':\n",
    "        voter_list = input(\"Is your name is list?\")\n",
    "        if voter_list==\"yes\":\n",
    "            print(\"you can cast vote\")\n",
    "        else:\n",
    "            print(\"Your name is not in list. You can not cast vote\")\n",
    "    else:\n",
    "        print(\"You dont have Valid CNIC. You can not cast vote\")        \n",
    "else:\n",
    "    print(\"Today is not election. You can not cast vote\")\n",
    "    "
   ]
  },
  {
   "cell_type": "code",
   "execution_count": 6,
   "id": "4a6e7629-2b63-4586-9cb7-bf10528c3830",
   "metadata": {},
   "outputs": [
    {
     "name": "stdin",
     "output_type": "stream",
     "text": [
      "Enter your python:  100\n",
      "Enter your html:  100\n",
      "Enter your css:  100\n",
      "Enter your java:  100\n",
      "Enter your nextjs:  100\n"
     ]
    },
    {
     "name": "stdout",
     "output_type": "stream",
     "text": [
      "\n",
      "        Python  |  HTML  |  CSS  |   Java | NEXTjs\n",
      "          100       100     100      100      100\n",
      "       Total:      500\n",
      "       Percentage: 100.0\n",
      "       Grade:      A*\n",
      "       Subjects_Failed : None\n",
      "       Result:     Pass\n",
      "       \n"
     ]
    }
   ],
   "source": [
    "python = int(input(\"Enter your python: \"))\n",
    "html = int(input(\"Enter your html: \"))\n",
    "css = int(input(\"Enter your css: \"))\n",
    "java = int(input(\"Enter your java: \"))\n",
    "nextjs = int(input(\"Enter your nextjs: \"))\n",
    "total = python + html + css + java + nextjs\n",
    "percentage = total/500*100\n",
    "result = None\n",
    "subjects_failed = None\n",
    "grade=None\n",
    "if python>=60:\n",
    "    if html>=60:\n",
    "        if css>=60:\n",
    "            if java>=60:\n",
    "                if nextjs>=60:\n",
    "                    result = \"Pass\"\n",
    "                    \n",
    "                else:\n",
    "                    result = \"Fails\"\n",
    "                    subjects_failed =\"NextJS\"\n",
    "                    \n",
    "            else:\n",
    "                result = \"Fails\"\n",
    "                subjects_failed = \"JAVA\"\n",
    "                \n",
    "        else:\n",
    "           result = \"Fails\"\n",
    "           subjects_failed = \"CSS\"\n",
    "    else:\n",
    "        result = \"Fails\"\n",
    "        subjects_failed = \"HTML\"\n",
    "else:\n",
    "    result = \"Fails\"\n",
    "    subjects_failed = \"Python\"\n",
    "if result==\"Pass\":\n",
    "    \n",
    "    if percentage >=90:\n",
    "        grade='A*'\n",
    "    elif percentage >=80:\n",
    "        grade= \"A\"\n",
    "    elif percentage >=70:\n",
    "        grade = \"B\"\n",
    "    elif percentage >=60:\n",
    "        grade = \"C\"\n",
    "    elif percentage >=50:\n",
    "        grade = \"D\"\n",
    "    else:\n",
    "        grade= \"F\"\n",
    "\n",
    "    \n",
    "print(f\"\"\"\n",
    "        Python  |  HTML  |  CSS  |   Java | NEXTjs\n",
    "          {python}       {html}     {css}      {java}      {nextjs}\n",
    "       Total:      {total}\n",
    "       Percentage: {percentage}\n",
    "       Grade:      {grade}\n",
    "       Subjects_Failed : {subjects_failed}\n",
    "       Result:     {result}\n",
    "       \"\"\")"
   ]
  },
  {
   "cell_type": "markdown",
   "id": "621d8ace-525e-40b5-abba-24022803e5f7",
   "metadata": {},
   "source": [
    "# 1) A company decided to give bonus of \n",
    "     5% to employee if his/her year of service is more than 5 years.\n",
    "     10% to employee if his/her year of service is more than 10 years.\n",
    "     15% to employee if his/her year of service is more than 15 years.\n",
    "     20% to employee if his/her year of service is more than 20 years.\n",
    "     50%.Ask user for their salary and year of service and print the net bonus amount."
   ]
  },
  {
   "cell_type": "code",
   "execution_count": 22,
   "id": "57173a7a-7dfd-405d-87ad-b821edd8906d",
   "metadata": {},
   "outputs": [
    {
     "name": "stdin",
     "output_type": "stream",
     "text": [
      "Enter your salary:  100000\n",
      "Years of experience:  10\n"
     ]
    },
    {
     "name": "stdout",
     "output_type": "stream",
     "text": [
      "Your bonus amount is Rs:15000.0\n"
     ]
    }
   ],
   "source": [
    "salary = int(input(\"Enter your salary: \"))\n",
    "exp   = float(input(\"Years of experience: \"))\n",
    "bonus = 0\n",
    "if exp<5:\n",
    "    bonus = salary*0\n",
    "elif exp<10:\n",
    "    bonus = salary*.05\n",
    "elif exp<15:\n",
    "    bonus = salary*.15\n",
    "elif exp<20:\n",
    "    bonus = salary*.20\n",
    "else:\n",
    "    bonus = salary*.50\n",
    "print(\"Your bonus amount is Rs:\"+ str(bonus))"
   ]
  },
  {
   "cell_type": "code",
   "execution_count": 24,
   "id": "8b86162a-937c-4191-bd99-55a444797346",
   "metadata": {},
   "outputs": [
    {
     "name": "stdin",
     "output_type": "stream",
     "text": [
      "Enter your salary:  130000\n",
      "Years of experience:  7\n"
     ]
    },
    {
     "name": "stdout",
     "output_type": "stream",
     "text": [
      "Your bonus amount is Rs:6500.0\n"
     ]
    }
   ],
   "source": [
    "salary = int(input(\"Enter your salary: \"))\n",
    "exp   = float(input(\"Years of experience: \"))\n",
    "bonus = 0\n",
    "if exp>=20:\n",
    "    bonus = salary*.20\n",
    "elif exp>=15:\n",
    "    bonus = salary*.15\n",
    "elif exp>=10:\n",
    "    bonus = salary*.10\n",
    "elif exp>=5:\n",
    "    bonus = salary*.05\n",
    "else:\n",
    "    bonus = salary*0\n",
    "print(\"Your bonus amount is Rs:\"+ str(bonus))"
   ]
  },
  {
   "cell_type": "markdown",
   "id": "1b84e6e3-1984-4893-9422-d06e6a280662",
   "metadata": {},
   "source": [
    "# 2) Write a program to check whether a person is eligible for voting or not.  ask age of the person , if age is more than or equal to 18 then eligible if less than 18 no eligible"
   ]
  },
  {
   "cell_type": "markdown",
   "id": "bdf6acb2-23a6-4467-bf11-405fcbbe0e8b",
   "metadata": {},
   "source": [
    "# 3) Take values of length and breadth of a rectangle from user and check if it is square or not.11"
   ]
  },
  {
   "cell_type": "markdown",
   "id": "16a4cb8b-898a-48c7-ab71-9ce63dea88e5",
   "metadata": {},
   "source": [
    "# 4) Write a program to check whether a number entered by user is even or odd.\n",
    "\n",
    "Hint: Use modulo operator (%) to check remainder when divideing with 2 , if remainder is 0 even, else odd "
   ]
  },
  {
   "cell_type": "markdown",
   "id": "7d875f59-1f08-425d-be32-fbbd420f20ce",
   "metadata": {},
   "source": [
    "# Write a program to check whether a number is divisible by 7 or not.\n",
    "\n",
    "# Hint: Use modulo operator (%) to check remainder when divideing with 7 , if remainder is 0 divisible, else not divisible"
   ]
  },
  {
   "cell_type": "code",
   "execution_count": null,
   "id": "c9a408e5-86f6-4db7-a603-87f0385002c6",
   "metadata": {},
   "outputs": [],
   "source": [
    "7) Write a program to calculate the electricity bill (accept number of unit from user) \n",
    "according to the following criteria :\n",
    "     Unit                                                     Price  \n",
    "upto 100 units                                              No charge\n",
    "Next 200 units                                              Rs 5 per unit\n",
    "After 300 units                                             Rs 10 per unit\n",
    "(For example if input unit is 350 than total bill amount is Rs.1500\n",
    "(For example if input unit is 97 than total bill amount is Rs.0\n",
    "(For example if input unit is 150 than total bill amount is Rs.250"
   ]
  },
  {
   "cell_type": "markdown",
   "id": "dd7f67e7-e64d-4164-9fef-3cfe49349890",
   "metadata": {},
   "source": [
    "# 7) Write a program to display the last digit of a number."
   ]
  },
  {
   "cell_type": "code",
   "execution_count": 37,
   "id": "3a76190e-b6b8-453b-802b-5c8706479e4f",
   "metadata": {},
   "outputs": [
    {
     "name": "stdin",
     "output_type": "stream",
     "text": [
      "Enter a number:  677878\n"
     ]
    },
    {
     "data": {
      "text/plain": [
       "78"
      ]
     },
     "execution_count": 37,
     "metadata": {},
     "output_type": "execute_result"
    }
   ],
   "source": [
    "number = input(\"Enter a number: \")\n",
    "last_digit =int( number[:])\n",
    "last_digit"
   ]
  },
  {
   "cell_type": "code",
   "execution_count": 26,
   "id": "ba15c18b-a030-4224-ae32-a624b7669328",
   "metadata": {},
   "outputs": [
    {
     "data": {
      "text/plain": [
       "'f'"
      ]
     },
     "execution_count": 26,
     "metadata": {},
     "output_type": "execute_result"
    }
   ],
   "source": [
    "\"dfdf\"[-1]"
   ]
  },
  {
   "cell_type": "code",
   "execution_count": 31,
   "id": "86403ffc-0b43-4eb7-995e-193046f99a7d",
   "metadata": {},
   "outputs": [
    {
     "data": {
      "text/plain": [
       "5"
      ]
     },
     "execution_count": 31,
     "metadata": {},
     "output_type": "execute_result"
    }
   ],
   "source": [
    "3134565%10"
   ]
  },
  {
   "cell_type": "code",
   "execution_count": 32,
   "id": "2292147b-9cae-4f4b-a85c-bd42972a091a",
   "metadata": {},
   "outputs": [
    {
     "data": {
      "text/plain": [
       "2"
      ]
     },
     "execution_count": 32,
     "metadata": {},
     "output_type": "execute_result"
    }
   ],
   "source": [
    "12%10"
   ]
  },
  {
   "cell_type": "code",
   "execution_count": 34,
   "id": "5c1b6a10-ac40-47f8-a74e-37c5dddca6a6",
   "metadata": {},
   "outputs": [
    {
     "data": {
      "text/plain": [
       "90"
      ]
     },
     "execution_count": 34,
     "metadata": {},
     "output_type": "execute_result"
    }
   ],
   "source": [
    "45567687890%100"
   ]
  },
  {
   "cell_type": "markdown",
   "id": "adb4ceeb-c89e-4530-ab5c-c9a644fd66d8",
   "metadata": {},
   "source": [
    "10) A shop will give discount of 10% if the cost of purchased quantity is more than 10000.\n",
    "    \n",
    "- Ask user for quantity\n",
    "- Suppose, one unit will cost 100.\n",
    "- Judge and print total cost for user."
   ]
  },
  {
   "cell_type": "code",
   "execution_count": 40,
   "id": "bcae35e8-456a-4b8c-917b-4b619e745f67",
   "metadata": {},
   "outputs": [
    {
     "name": "stdin",
     "output_type": "stream",
     "text": [
      "How many watches you wana buy? 30\n"
     ]
    },
    {
     "name": "stdout",
     "output_type": "stream",
     "text": [
      "You got a discount of Rs: 2100.0. Your payable amount is 18900.0\n"
     ]
    }
   ],
   "source": [
    "watch_price  = 700\n",
    "numberofwatches = int(input(\"How many watches you wana buy?\"))\n",
    "total = numberofwatches * watch_price\n",
    "if total >= 10000:\n",
    "    discount = total*.10\n",
    "print(f\"You got a discount of Rs: {discount}. Your payable amount is {total - discount}\")"
   ]
  },
  {
   "cell_type": "raw",
   "id": "c00bba35-5a07-45dd-8777-bac7efb3e2c2",
   "metadata": {},
   "source": [
    "13)A student will not be allowed to sit in exam if his/her attendence is less than 75%.\n",
    "\n",
    "Take following input from user\n",
    "\n",
    "Number of classes held\n",
    "\n",
    "Number of classes attended.\n",
    "\n",
    "And print\n",
    "\n",
    "percentage of class attended\n",
    "\n",
    "Is student is allowed to sit in exam or not.\n"
   ]
  },
  {
   "cell_type": "raw",
   "id": "ce82fcc8-5d6b-4f8d-a4f3-54531b6e2961",
   "metadata": {},
   "source": [
    "16) Ask user to enter age, gender ( M or F ), marital status ( Y or N ) and then using following rules print their place of service.\n",
    "\n",
    "if employee is female, then she will work only in urban areas.\n",
    "\n",
    "if employee is a male and age is in between 20 to 40 then he may work in anywhere\n",
    "\n",
    "if employee is male and age is in between 40 t0 60 then he will work in urban areas only.\n",
    "\n",
    "And any other input of age should print \"ERROR\""
   ]
  }
 ],
 "metadata": {
  "kernelspec": {
   "display_name": "Python 3 (ipykernel)",
   "language": "python",
   "name": "python3"
  },
  "language_info": {
   "codemirror_mode": {
    "name": "ipython",
    "version": 3
   },
   "file_extension": ".py",
   "mimetype": "text/x-python",
   "name": "python",
   "nbconvert_exporter": "python",
   "pygments_lexer": "ipython3",
   "version": "3.12.7"
  }
 },
 "nbformat": 4,
 "nbformat_minor": 5
}
