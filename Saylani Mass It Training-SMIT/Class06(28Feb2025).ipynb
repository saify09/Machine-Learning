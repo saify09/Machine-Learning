{
 "cells": [
  {
   "cell_type": "markdown",
   "id": "403dc18b-8f2c-425c-a081-036f57fe044d",
   "metadata": {},
   "source": [
    "# Python Collections: Python Data Structures \n",
    "     - List\n",
    "     - Tuple\n",
    "     - Dictionary\n",
    "     - Set"
   ]
  },
  {
   "cell_type": "markdown",
   "id": "5a11d42c-0f78-4cb9-b0e4-e1f52b8d017a",
   "metadata": {},
   "source": [
    "### Simple Variable (Primitive Data Type)\n",
    "       String, Float, Int, Boolean\n",
    "### Derived Type\n",
    "       Collections"
   ]
  },
  {
   "cell_type": "code",
   "execution_count": 1,
   "id": "6807f2a3-c15a-4166-b811-026009b493ac",
   "metadata": {},
   "outputs": [],
   "source": [
    "name = \"Nasir\""
   ]
  },
  {
   "cell_type": "code",
   "execution_count": 2,
   "id": "71fe8c5d-91d6-45f4-aa8f-cf149d828f65",
   "metadata": {},
   "outputs": [],
   "source": [
    "marks = 34"
   ]
  },
  {
   "cell_type": "markdown",
   "id": "7e29ffa4-b12b-4b1a-b9a1-387df115e52c",
   "metadata": {},
   "source": [
    "# Python List\n",
    "     - [ ]\n",
    "     - mutable\n",
    "     - iterable\n",
    "     - can hold misc data"
   ]
  },
  {
   "cell_type": "code",
   "execution_count": 3,
   "id": "9f7f19e2-f922-44dc-9dc3-b75b508a3e84",
   "metadata": {},
   "outputs": [],
   "source": [
    "courses = ['AI-DS', 'WebDev', 'Data Engg', 'Graphics Designing', 'Networking']"
   ]
  },
  {
   "cell_type": "code",
   "execution_count": 4,
   "id": "9c2cb2ab-e272-4fb0-864f-6fefdf71555e",
   "metadata": {},
   "outputs": [
    {
     "name": "stdout",
     "output_type": "stream",
     "text": [
      "<class 'list'>\n"
     ]
    }
   ],
   "source": [
    "print(type(courses))"
   ]
  },
  {
   "cell_type": "code",
   "execution_count": 5,
   "id": "d8f5ac1e-4e35-495c-81e6-50850376c5ef",
   "metadata": {},
   "outputs": [],
   "source": [
    "items = [234, \"Laptop\", 'True']"
   ]
  },
  {
   "cell_type": "code",
   "execution_count": 6,
   "id": "b16dc1f8-7ae1-4e6f-ac30-7751535f6753",
   "metadata": {},
   "outputs": [
    {
     "name": "stdout",
     "output_type": "stream",
     "text": [
      "<class 'list'>\n"
     ]
    }
   ],
   "source": [
    "print(type(items))"
   ]
  },
  {
   "cell_type": "code",
   "execution_count": 7,
   "id": "bf0bcba8-8492-48a5-896e-fbc607d90b0b",
   "metadata": {},
   "outputs": [],
   "source": [
    "misc = []"
   ]
  },
  {
   "cell_type": "code",
   "execution_count": 8,
   "id": "16f33648-4f3f-41bc-9d5b-0a17b97033b3",
   "metadata": {},
   "outputs": [
    {
     "name": "stdout",
     "output_type": "stream",
     "text": [
      "<class 'list'>\n"
     ]
    }
   ],
   "source": [
    "print(type(misc))"
   ]
  },
  {
   "cell_type": "code",
   "execution_count": 9,
   "id": "15c616a4-362c-405b-962e-623ecb31759c",
   "metadata": {},
   "outputs": [
    {
     "data": {
      "text/plain": [
       "['AI-DS', 'WebDev', 'Data Engg', 'Graphics Designing', 'Networking']"
      ]
     },
     "execution_count": 9,
     "metadata": {},
     "output_type": "execute_result"
    }
   ],
   "source": [
    "courses"
   ]
  },
  {
   "cell_type": "code",
   "execution_count": 11,
   "id": "8f4d0151-f7d9-43c1-8fb0-37ab576b1806",
   "metadata": {},
   "outputs": [
    {
     "data": {
      "text/plain": [
       "5"
      ]
     },
     "execution_count": 11,
     "metadata": {},
     "output_type": "execute_result"
    }
   ],
   "source": [
    "len(courses)"
   ]
  },
  {
   "cell_type": "code",
   "execution_count": 12,
   "id": "1a29c782-77a9-4e43-a289-3ed69cf457da",
   "metadata": {},
   "outputs": [
    {
     "data": {
      "text/plain": [
       "5"
      ]
     },
     "execution_count": 12,
     "metadata": {},
     "output_type": "execute_result"
    }
   ],
   "source": [
    "len(name)"
   ]
  },
  {
   "cell_type": "markdown",
   "id": "4c7019dc-03f9-4bc0-8031-6f2447f16f1c",
   "metadata": {},
   "source": [
    "# Index : position"
   ]
  },
  {
   "cell_type": "code",
   "execution_count": 17,
   "id": "cee3d1bd-7b3f-4d25-99bb-154f4aaab825",
   "metadata": {},
   "outputs": [],
   "source": [
    "# index -ve  -5        -4           -3             -2                    -1\n",
    "courses = ['AI-DS', 'WebDev', 'Data Engg', 'Graphics Designing', 'Networking']\n",
    "# index +ve   0         1          2                3                  4"
   ]
  },
  {
   "cell_type": "code",
   "execution_count": 14,
   "id": "fc0d24e6-1690-4a83-ab83-a77ac8b8c718",
   "metadata": {},
   "outputs": [
    {
     "data": {
      "text/plain": [
       "'Graphics Designing'"
      ]
     },
     "execution_count": 14,
     "metadata": {},
     "output_type": "execute_result"
    }
   ],
   "source": [
    "courses[3]"
   ]
  },
  {
   "cell_type": "code",
   "execution_count": 15,
   "id": "ac164764-dcd8-49a4-b2e8-0a5a5e0aea63",
   "metadata": {},
   "outputs": [
    {
     "data": {
      "text/plain": [
       "'Data Engg'"
      ]
     },
     "execution_count": 15,
     "metadata": {},
     "output_type": "execute_result"
    }
   ],
   "source": [
    "courses[2]"
   ]
  },
  {
   "cell_type": "code",
   "execution_count": 16,
   "id": "4fddfedb-cf14-415f-84a4-1539cae3f636",
   "metadata": {},
   "outputs": [
    {
     "data": {
      "text/plain": [
       "'AI-DS'"
      ]
     },
     "execution_count": 16,
     "metadata": {},
     "output_type": "execute_result"
    }
   ],
   "source": [
    "courses[0]"
   ]
  },
  {
   "cell_type": "code",
   "execution_count": 18,
   "id": "b7ffc4b3-fb9d-4cdb-ac03-ae5106400430",
   "metadata": {},
   "outputs": [
    {
     "data": {
      "text/plain": [
       "'Data Engg'"
      ]
     },
     "execution_count": 18,
     "metadata": {},
     "output_type": "execute_result"
    }
   ],
   "source": [
    "courses[-3]"
   ]
  },
  {
   "cell_type": "code",
   "execution_count": 20,
   "id": "6e7997e9-d890-4fb1-b00a-134a98f0bf74",
   "metadata": {},
   "outputs": [
    {
     "data": {
      "text/plain": [
       "'Networking'"
      ]
     },
     "execution_count": 20,
     "metadata": {},
     "output_type": "execute_result"
    }
   ],
   "source": [
    "courses[-1]"
   ]
  },
  {
   "cell_type": "code",
   "execution_count": 25,
   "id": "e429f4fe-0076-4861-a8bb-f351ed929f99",
   "metadata": {},
   "outputs": [
    {
     "name": "stdout",
     "output_type": "stream",
     "text": [
      "Data Engg <class 'str'>\n",
      "<class 'str'>\n"
     ]
    }
   ],
   "source": [
    "print(courses[2], type(courses[2]))\n",
    "print(type(courses[2]))"
   ]
  },
  {
   "cell_type": "markdown",
   "id": "708a76a7-6da0-4708-b53c-c553ddca5444",
   "metadata": {},
   "source": [
    "# Slicing\n",
    "    - slicing gives us a copy of sub list"
   ]
  },
  {
   "cell_type": "code",
   "execution_count": 26,
   "id": "f893e7c9-4566-4980-95a5-4edbe356f300",
   "metadata": {},
   "outputs": [
    {
     "data": {
      "text/plain": [
       "['AI-DS', 'WebDev', 'Data Engg', 'Graphics Designing', 'Networking']"
      ]
     },
     "execution_count": 26,
     "metadata": {},
     "output_type": "execute_result"
    }
   ],
   "source": [
    "# index -ve  -5        -4           -3             -2                    -1\n",
    "courses = ['AI-DS', 'WebDev', 'Data Engg', 'Graphics Designing', 'Networking']\n",
    "# index +ve   0         1          2                3                  4"
   ]
  },
  {
   "cell_type": "code",
   "execution_count": 27,
   "id": "fb5d5453-a20b-4471-9eaf-6848fd914964",
   "metadata": {},
   "outputs": [
    {
     "data": {
      "text/plain": [
       "['Data Engg', 'Graphics Designing']"
      ]
     },
     "execution_count": 27,
     "metadata": {},
     "output_type": "execute_result"
    }
   ],
   "source": [
    "courses[2:4]"
   ]
  },
  {
   "cell_type": "code",
   "execution_count": 28,
   "id": "5b3d0b39-a09b-43b0-8a5c-558e8e71bb1a",
   "metadata": {},
   "outputs": [
    {
     "data": {
      "text/plain": [
       "['WebDev', 'Data Engg', 'Graphics Designing']"
      ]
     },
     "execution_count": 28,
     "metadata": {},
     "output_type": "execute_result"
    }
   ],
   "source": [
    "courses[1:4]"
   ]
  },
  {
   "cell_type": "code",
   "execution_count": 30,
   "id": "a5fb2e19-9f3f-431c-8638-daa54f732f52",
   "metadata": {},
   "outputs": [
    {
     "data": {
      "text/plain": [
       "['WebDev', 'Data Engg', 'Graphics Designing', 'Networking']"
      ]
     },
     "execution_count": 30,
     "metadata": {},
     "output_type": "execute_result"
    }
   ],
   "source": [
    "courses[1:5]"
   ]
  },
  {
   "cell_type": "code",
   "execution_count": 35,
   "id": "fbf71833-159f-47ed-874e-4e3dc8b3f8b2",
   "metadata": {},
   "outputs": [],
   "source": [
    "nums = [0,1,2,3,4,5,6,7,8,9,10,11,12,13,14,15,16,17,18,19,20]"
   ]
  },
  {
   "cell_type": "code",
   "execution_count": 36,
   "id": "08a96049-fa43-4740-bf4d-785ae0619912",
   "metadata": {},
   "outputs": [
    {
     "data": {
      "text/plain": [
       "[0, 1, 2, 3, 4, 5, 6, 7, 8, 9, 10, 11, 12]"
      ]
     },
     "execution_count": 36,
     "metadata": {},
     "output_type": "execute_result"
    }
   ],
   "source": [
    "nums[:13]"
   ]
  },
  {
   "cell_type": "code",
   "execution_count": 34,
   "id": "8ae6c574-74fa-4d0f-88b8-b35ed4fc7503",
   "metadata": {},
   "outputs": [
    {
     "data": {
      "text/plain": [
       "[1, 2, 3, 4, 5, 6, 7, 8]"
      ]
     },
     "execution_count": 34,
     "metadata": {},
     "output_type": "execute_result"
    }
   ],
   "source": [
    "nums[:8]"
   ]
  },
  {
   "cell_type": "code",
   "execution_count": 37,
   "id": "13c98f95-f358-4047-810e-55e417e11fea",
   "metadata": {},
   "outputs": [
    {
     "data": {
      "text/plain": [
       "[9, 10, 11, 12, 13, 14]"
      ]
     },
     "execution_count": 37,
     "metadata": {},
     "output_type": "execute_result"
    }
   ],
   "source": [
    "nums[9:15]"
   ]
  },
  {
   "cell_type": "code",
   "execution_count": 41,
   "id": "87881158-5fcd-4603-a4cc-b8bfe9f2caed",
   "metadata": {},
   "outputs": [],
   "source": [
    " # -    1,0,9,8,7,6,5,4,3,2,1, 0, 9, 8, 7, 6, 5, 4, 3, 2, 1\n",
    "nums = [0,1,2,3,4,5,6,7,8,9,10,11,12,13,14,15,16,17,18,19,20]\n",
    "#       "
   ]
  },
  {
   "cell_type": "code",
   "execution_count": 39,
   "id": "2d1e3d98-0713-42dc-b8fb-0877577b4589",
   "metadata": {},
   "outputs": [
    {
     "data": {
      "text/plain": [
       "[6, 7, 8]"
      ]
     },
     "execution_count": 39,
     "metadata": {},
     "output_type": "execute_result"
    }
   ],
   "source": [
    "nums[-15:9]"
   ]
  },
  {
   "cell_type": "code",
   "execution_count": 40,
   "id": "872326c4-1761-43b0-bfeb-eda761756c8d",
   "metadata": {},
   "outputs": [
    {
     "data": {
      "text/plain": [
       "[]"
      ]
     },
     "execution_count": 40,
     "metadata": {},
     "output_type": "execute_result"
    }
   ],
   "source": [
    "nums[-5:-17]"
   ]
  },
  {
   "cell_type": "code",
   "execution_count": 42,
   "id": "fe567d04-0d18-44f8-8596-3561bd7c5e02",
   "metadata": {},
   "outputs": [
    {
     "data": {
      "text/plain": [
       "[16, 15, 14, 13, 12, 11, 10, 9, 8, 7, 6, 5]"
      ]
     },
     "execution_count": 42,
     "metadata": {},
     "output_type": "execute_result"
    }
   ],
   "source": [
    "nums[-5:-17:-1]  # starting, ending-1, step(+1)"
   ]
  },
  {
   "cell_type": "code",
   "execution_count": 43,
   "id": "3a94313b-c0b1-4a5d-85d9-cf437ca60f6c",
   "metadata": {},
   "outputs": [
    {
     "data": {
      "text/plain": [
       "[0, 1, 2, 3, 4, 5, 6, 7, 8, 9, 10, 11, 12, 13, 14, 15, 16, 17, 18, 19, 20]"
      ]
     },
     "execution_count": 43,
     "metadata": {},
     "output_type": "execute_result"
    }
   ],
   "source": [
    "nums[:]"
   ]
  },
  {
   "cell_type": "code",
   "execution_count": 44,
   "id": "03b0bea0-63c4-4b26-9d62-c9fa31c4c56c",
   "metadata": {},
   "outputs": [
    {
     "data": {
      "text/plain": [
       "[20, 19, 18, 17, 16, 15, 14, 13, 12, 11, 10, 9, 8, 7, 6, 5, 4, 3, 2, 1, 0]"
      ]
     },
     "execution_count": 44,
     "metadata": {},
     "output_type": "execute_result"
    }
   ],
   "source": [
    "nums[::-1]"
   ]
  },
  {
   "cell_type": "code",
   "execution_count": 48,
   "id": "2f41a7c2-4cb2-49e5-a5b5-e2ce907fba7b",
   "metadata": {},
   "outputs": [
    {
     "data": {
      "text/plain": [
       "[0, 3, 6, 9, 12, 15, 18]"
      ]
     },
     "execution_count": 48,
     "metadata": {},
     "output_type": "execute_result"
    }
   ],
   "source": [
    "nums[::3]"
   ]
  },
  {
   "cell_type": "code",
   "execution_count": 49,
   "id": "e0670f0d-fa97-45d3-9a00-216878e8fbf3",
   "metadata": {},
   "outputs": [],
   "source": [
    " # -    1,0,9,8,7,6,5,4,3,2,1, 0, 9, 8, 7, 6, 5, 4, 3, 2, 1\n",
    "nums = [0,1,2,3,4,5,6,7,8,9,10,11,12,13,14,15,16,17,18,19,20]\n",
    "#       "
   ]
  },
  {
   "cell_type": "code",
   "execution_count": 52,
   "id": "4f5458d6-7cb6-4d4d-8639-cd251b9eada1",
   "metadata": {},
   "outputs": [
    {
     "data": {
      "text/plain": [
       "[16, 14, 12, 10, 8, 6, 4]"
      ]
     },
     "execution_count": 52,
     "metadata": {},
     "output_type": "execute_result"
    }
   ],
   "source": [
    "nums[16:3:-2]"
   ]
  },
  {
   "cell_type": "code",
   "execution_count": 53,
   "id": "26e51663-57ca-43ae-9764-3cccde51dd2d",
   "metadata": {},
   "outputs": [
    {
     "data": {
      "text/plain": [
       "[1, 2, 3, 4, 5]"
      ]
     },
     "execution_count": 53,
     "metadata": {},
     "output_type": "execute_result"
    }
   ],
   "source": [
    "nums[1:6]"
   ]
  },
  {
   "cell_type": "code",
   "execution_count": 54,
   "id": "314cff7d-b5e2-46f3-85bd-ad0e6e64af16",
   "metadata": {},
   "outputs": [],
   "source": [
    "# Creating a list\n",
    "alist = [\"Asad\", 'Umair']"
   ]
  },
  {
   "cell_type": "code",
   "execution_count": 55,
   "id": "1840d486-9e5d-4e46-8303-6ed91e11cb61",
   "metadata": {},
   "outputs": [
    {
     "data": {
      "text/plain": [
       "'Umair'"
      ]
     },
     "execution_count": 55,
     "metadata": {},
     "output_type": "execute_result"
    }
   ],
   "source": [
    "# Accesing memebers of list\n",
    "alist[1]"
   ]
  },
  {
   "cell_type": "code",
   "execution_count": 56,
   "id": "b318d6d8-a7cd-468f-a051-960cb6d20d1f",
   "metadata": {},
   "outputs": [
    {
     "data": {
      "text/plain": [
       "['Asad', 'Umair']"
      ]
     },
     "execution_count": 56,
     "metadata": {},
     "output_type": "execute_result"
    }
   ],
   "source": [
    "# slicing(copying) a part of list (sublist) \n",
    "alist[:2]"
   ]
  },
  {
   "cell_type": "markdown",
   "id": "d54bdf76-3703-4c9a-bb8f-75a39b1f39e0",
   "metadata": {},
   "source": [
    "# adding more memeber to an existing list\n",
    "   - append() : adds value to the very last index\n",
    "   - extend()\n",
    "   - insert()\n",
    "   -  (+) \n"
   ]
  },
  {
   "cell_type": "code",
   "execution_count": 58,
   "id": "321bf504-2f20-472f-85dc-b651e0418d07",
   "metadata": {},
   "outputs": [
    {
     "data": {
      "text/plain": [
       "['AI-DS', 'WebDev', 'Data Engg', 'Graphics Designing', 'Networking']"
      ]
     },
     "execution_count": 58,
     "metadata": {},
     "output_type": "execute_result"
    }
   ],
   "source": [
    "courses"
   ]
  },
  {
   "cell_type": "code",
   "execution_count": 65,
   "id": "9f847b30-2b9f-4a13-bbf1-829695cdae3b",
   "metadata": {},
   "outputs": [],
   "source": [
    "courses.append('Flutter')"
   ]
  },
  {
   "cell_type": "code",
   "execution_count": 66,
   "id": "774d93a2-e22a-41fa-bba3-cb763f105d9d",
   "metadata": {},
   "outputs": [
    {
     "data": {
      "text/plain": [
       "['AI-DS',\n",
       " 'WebDev',\n",
       " 'Data Engg',\n",
       " 'Graphics Designing',\n",
       " 'Networking',\n",
       " 'Flutter',\n",
       " 'Flutter',\n",
       " 'Flutter',\n",
       " 'Flutter']"
      ]
     },
     "execution_count": 66,
     "metadata": {},
     "output_type": "execute_result"
    }
   ],
   "source": [
    "courses"
   ]
  },
  {
   "cell_type": "code",
   "execution_count": 67,
   "id": "fc011d7d-dafa-482f-a24d-1bf464861424",
   "metadata": {},
   "outputs": [],
   "source": [
    "courses.insert(4,\"Python\")"
   ]
  },
  {
   "cell_type": "code",
   "execution_count": 68,
   "id": "1ae7c775-ab9b-4893-888e-daa4811b19a3",
   "metadata": {},
   "outputs": [
    {
     "data": {
      "text/plain": [
       "['AI-DS',\n",
       " 'WebDev',\n",
       " 'Data Engg',\n",
       " 'Graphics Designing',\n",
       " 'Python',\n",
       " 'Networking',\n",
       " 'Flutter',\n",
       " 'Flutter',\n",
       " 'Flutter',\n",
       " 'Flutter']"
      ]
     },
     "execution_count": 68,
     "metadata": {},
     "output_type": "execute_result"
    }
   ],
   "source": [
    "courses"
   ]
  },
  {
   "cell_type": "code",
   "execution_count": 69,
   "id": "7587f4af-cf0c-4752-8700-ba2c5fe5923a",
   "metadata": {},
   "outputs": [
    {
     "data": {
      "text/plain": [
       "['AI-DS',\n",
       " 'WebDev',\n",
       " 'Data Engg',\n",
       " 'Graphics Designing',\n",
       " 124354,\n",
       " 'Python',\n",
       " 'Networking',\n",
       " 'Flutter',\n",
       " 'Flutter',\n",
       " 'Flutter',\n",
       " 'Flutter']"
      ]
     },
     "execution_count": 69,
     "metadata": {},
     "output_type": "execute_result"
    }
   ],
   "source": [
    "courses.insert(4,124354)\n",
    "courses"
   ]
  },
  {
   "cell_type": "code",
   "execution_count": 71,
   "id": "9d7329fb-0393-400e-ba18-c01330e8f232",
   "metadata": {},
   "outputs": [],
   "source": [
    "new_courses = ['Digital Marketing', \"GenAi\", 'Shopify']"
   ]
  },
  {
   "cell_type": "code",
   "execution_count": 72,
   "id": "0e684b7e-b229-4bd8-9351-867fe388ffe2",
   "metadata": {},
   "outputs": [],
   "source": [
    "courses.append(new_courses)"
   ]
  },
  {
   "cell_type": "code",
   "execution_count": 73,
   "id": "c9d59e0e-452e-4656-85a2-f7a3d61cab8e",
   "metadata": {},
   "outputs": [
    {
     "data": {
      "text/plain": [
       "['AI-DS',\n",
       " 'WebDev',\n",
       " 'Data Engg',\n",
       " 'Graphics Designing',\n",
       " 124354,\n",
       " 'Python',\n",
       " 'Networking',\n",
       " 'Flutter',\n",
       " 'Flutter',\n",
       " 'Flutter',\n",
       " 'Flutter',\n",
       " ['Digital Marketing', 'GenAi', 'Shopify']]"
      ]
     },
     "execution_count": 73,
     "metadata": {},
     "output_type": "execute_result"
    }
   ],
   "source": [
    "courses"
   ]
  },
  {
   "cell_type": "code",
   "execution_count": 74,
   "id": "b2775000-8943-4b10-bd43-c828333d242a",
   "metadata": {},
   "outputs": [
    {
     "data": {
      "text/plain": [
       "['AI-DS',\n",
       " 'WebDev',\n",
       " 'Data Engg',\n",
       " 'Graphics Designing',\n",
       " 124354,\n",
       " 'Python',\n",
       " 'Networking',\n",
       " 'Flutter',\n",
       " 'Flutter',\n",
       " 'Flutter',\n",
       " 'Flutter',\n",
       " ['Digital Marketing', 'GenAi', 'Shopify'],\n",
       " 'Digital Marketing',\n",
       " 'GenAi',\n",
       " 'Shopify']"
      ]
     },
     "execution_count": 74,
     "metadata": {},
     "output_type": "execute_result"
    }
   ],
   "source": [
    "courses.extend(new_courses)\n",
    "courses"
   ]
  },
  {
   "cell_type": "code",
   "execution_count": 75,
   "id": "e9f4320f-db26-4e1b-b5f1-44eba19e9ee4",
   "metadata": {},
   "outputs": [
    {
     "data": {
      "text/plain": [
       "['AI-DS',\n",
       " 'WebDev',\n",
       " 'Data Engg',\n",
       " 'Graphics Designing',\n",
       " 124354,\n",
       " 'Python',\n",
       " 'Networking',\n",
       " 'Flutter',\n",
       " 'Flutter',\n",
       " 'Flutter',\n",
       " 'Flutter',\n",
       " ['Digital Marketing', 'GenAi', 'Shopify'],\n",
       " 'Digital Marketing',\n",
       " 'GenAi',\n",
       " 'Shopify',\n",
       " 'Digital Marketing',\n",
       " 'GenAi',\n",
       " 'Shopify']"
      ]
     },
     "execution_count": 75,
     "metadata": {},
     "output_type": "execute_result"
    }
   ],
   "source": [
    "courses + new_courses"
   ]
  },
  {
   "cell_type": "markdown",
   "id": "6fa3741f-0d5a-40c4-9dcf-e3ee383a3763",
   "metadata": {},
   "source": [
    "# Deleting Items from an existing list\n",
    "     - del statement : removes via index\n",
    "     - remove        : removes via values\n",
    "     - pop           : removes va index+end also returns the removed valued\n",
    "     - clear         : clears all the list "
   ]
  },
  {
   "cell_type": "code",
   "execution_count": 76,
   "id": "40f03784-c66d-42e9-8882-a6a1778b0cde",
   "metadata": {},
   "outputs": [
    {
     "data": {
      "text/plain": [
       "['AI-DS',\n",
       " 'WebDev',\n",
       " 'Data Engg',\n",
       " 'Graphics Designing',\n",
       " 124354,\n",
       " 'Python',\n",
       " 'Networking',\n",
       " 'Flutter',\n",
       " 'Flutter',\n",
       " 'Flutter',\n",
       " 'Flutter',\n",
       " ['Digital Marketing', 'GenAi', 'Shopify'],\n",
       " 'Digital Marketing',\n",
       " 'GenAi',\n",
       " 'Shopify']"
      ]
     },
     "execution_count": 76,
     "metadata": {},
     "output_type": "execute_result"
    }
   ],
   "source": [
    "courses"
   ]
  },
  {
   "cell_type": "code",
   "execution_count": 77,
   "id": "3ccf2376-3e81-4631-ba1c-ec235b8c0f7e",
   "metadata": {},
   "outputs": [
    {
     "data": {
      "text/plain": [
       "['AI-DS',\n",
       " 'WebDev',\n",
       " 'Data Engg',\n",
       " 'Graphics Designing',\n",
       " 124354,\n",
       " 'Python',\n",
       " 'Networking',\n",
       " 'Flutter',\n",
       " 'Flutter',\n",
       " 'Flutter',\n",
       " 'Flutter',\n",
       " 'Digital Marketing',\n",
       " 'GenAi',\n",
       " 'Shopify']"
      ]
     },
     "execution_count": 77,
     "metadata": {},
     "output_type": "execute_result"
    }
   ],
   "source": [
    "del courses[11]\n",
    "courses"
   ]
  },
  {
   "cell_type": "code",
   "execution_count": 78,
   "id": "1f5339b6-5a94-4d11-a8b3-c4f6cd81e746",
   "metadata": {},
   "outputs": [],
   "source": [
    "name = \"ubaid\""
   ]
  },
  {
   "cell_type": "code",
   "execution_count": 79,
   "id": "18462df3-9bfc-4bbf-a130-9969f511a30a",
   "metadata": {},
   "outputs": [
    {
     "data": {
      "text/plain": [
       "'ubaid'"
      ]
     },
     "execution_count": 79,
     "metadata": {},
     "output_type": "execute_result"
    }
   ],
   "source": [
    "name"
   ]
  },
  {
   "cell_type": "code",
   "execution_count": 80,
   "id": "6c802b34-7284-4e1c-9d84-823eb35fa927",
   "metadata": {},
   "outputs": [],
   "source": [
    "del name"
   ]
  },
  {
   "cell_type": "code",
   "execution_count": 81,
   "id": "b28de84f-28b0-4ab8-9c0b-bd130e0619fe",
   "metadata": {},
   "outputs": [
    {
     "ename": "NameError",
     "evalue": "name 'name' is not defined",
     "output_type": "error",
     "traceback": [
      "\u001b[1;31m---------------------------------------------------------------------------\u001b[0m",
      "\u001b[1;31mNameError\u001b[0m                                 Traceback (most recent call last)",
      "Cell \u001b[1;32mIn[81], line 1\u001b[0m\n\u001b[1;32m----> 1\u001b[0m name\n",
      "\u001b[1;31mNameError\u001b[0m: name 'name' is not defined"
     ]
    }
   ],
   "source": [
    "name"
   ]
  },
  {
   "cell_type": "code",
   "execution_count": 86,
   "id": "e982becf-4c46-426a-a149-354c0f08779b",
   "metadata": {},
   "outputs": [],
   "source": [
    "courses.remove(\"Flutter\")"
   ]
  },
  {
   "cell_type": "code",
   "execution_count": 87,
   "id": "10bc816e-f79c-40d8-95d2-a87f92a63ba6",
   "metadata": {},
   "outputs": [
    {
     "data": {
      "text/plain": [
       "['AI-DS',\n",
       " 'WebDev',\n",
       " 'Data Engg',\n",
       " 'Graphics Designing',\n",
       " 124354,\n",
       " 'Python',\n",
       " 'Networking',\n",
       " 'Digital Marketing',\n",
       " 'GenAi',\n",
       " 'Shopify']"
      ]
     },
     "execution_count": 87,
     "metadata": {},
     "output_type": "execute_result"
    }
   ],
   "source": [
    "courses"
   ]
  },
  {
   "cell_type": "code",
   "execution_count": 89,
   "id": "709d80e9-82be-4702-a9a1-e99b7665a4a9",
   "metadata": {},
   "outputs": [
    {
     "ename": "ValueError",
     "evalue": "list.remove(x): x not in list",
     "output_type": "error",
     "traceback": [
      "\u001b[1;31m---------------------------------------------------------------------------\u001b[0m",
      "\u001b[1;31mValueError\u001b[0m                                Traceback (most recent call last)",
      "Cell \u001b[1;32mIn[89], line 1\u001b[0m\n\u001b[1;32m----> 1\u001b[0m courses\u001b[38;5;241m.\u001b[39mremove(\u001b[38;5;124m\"\u001b[39m\u001b[38;5;124mFlutter\u001b[39m\u001b[38;5;124m\"\u001b[39m)\n",
      "\u001b[1;31mValueError\u001b[0m: list.remove(x): x not in list"
     ]
    }
   ],
   "source": [
    "courses.remove(\"Flutter\")"
   ]
  },
  {
   "cell_type": "code",
   "execution_count": 90,
   "id": "b5d27d4c-db60-4f63-908b-0ff5b37f9532",
   "metadata": {},
   "outputs": [
    {
     "data": {
      "text/plain": [
       "'Shopify'"
      ]
     },
     "execution_count": 90,
     "metadata": {},
     "output_type": "execute_result"
    }
   ],
   "source": [
    "courses.pop()"
   ]
  },
  {
   "cell_type": "code",
   "execution_count": 91,
   "id": "487d6dc1-34b0-479a-8d1c-f798cef024e1",
   "metadata": {},
   "outputs": [
    {
     "data": {
      "text/plain": [
       "['AI-DS',\n",
       " 'WebDev',\n",
       " 'Data Engg',\n",
       " 'Graphics Designing',\n",
       " 124354,\n",
       " 'Python',\n",
       " 'Networking',\n",
       " 'Digital Marketing',\n",
       " 'GenAi']"
      ]
     },
     "execution_count": 91,
     "metadata": {},
     "output_type": "execute_result"
    }
   ],
   "source": [
    "courses"
   ]
  },
  {
   "cell_type": "code",
   "execution_count": 92,
   "id": "5aa6d549-70fc-4fbd-b15c-077fbcd0919a",
   "metadata": {},
   "outputs": [
    {
     "data": {
      "text/plain": [
       "124354"
      ]
     },
     "execution_count": 92,
     "metadata": {},
     "output_type": "execute_result"
    }
   ],
   "source": [
    "courses.pop(4)"
   ]
  },
  {
   "cell_type": "code",
   "execution_count": 95,
   "id": "9de083db-c652-405c-bce6-b146c5e6c90f",
   "metadata": {},
   "outputs": [
    {
     "data": {
      "text/plain": [
       "[]"
      ]
     },
     "execution_count": 95,
     "metadata": {},
     "output_type": "execute_result"
    }
   ],
   "source": [
    "courses.clear()\n",
    "courses"
   ]
  },
  {
   "cell_type": "code",
   "execution_count": 96,
   "id": "6faea4dd-172f-483d-ad77-6a666fcacd8d",
   "metadata": {},
   "outputs": [],
   "source": [
    "courses = ['AI-DS', 'WebDev', 'Data Engg', 'Graphics Designing', 'Networking']"
   ]
  },
  {
   "cell_type": "code",
   "execution_count": 99,
   "id": "e63167bd-e338-4467-b368-872c14d8ed30",
   "metadata": {},
   "outputs": [
    {
     "data": {
      "text/plain": [
       "['AI-DS', 'Graphics Designing', 'Networking']"
      ]
     },
     "execution_count": 99,
     "metadata": {},
     "output_type": "execute_result"
    }
   ],
   "source": [
    "del courses[1:3]\n",
    "courses"
   ]
  },
  {
   "cell_type": "code",
   "execution_count": 100,
   "id": "5526950a-cfb8-4e9e-b0ab-62fbd7f0f034",
   "metadata": {},
   "outputs": [],
   "source": [
    "courses = ['AI-DS', 'WebDev', 'Data Engg', 'Graphics Designing', 'Networking']"
   ]
  },
  {
   "cell_type": "code",
   "execution_count": null,
   "id": "d702fada-bcdd-43c8-9df6-b33cde31df78",
   "metadata": {},
   "outputs": [],
   "source": [
    "del cour"
   ]
  }
 ],
 "metadata": {
  "kernelspec": {
   "display_name": "Python 3 (ipykernel)",
   "language": "python",
   "name": "python3"
  },
  "language_info": {
   "codemirror_mode": {
    "name": "ipython",
    "version": 3
   },
   "file_extension": ".py",
   "mimetype": "text/x-python",
   "name": "python",
   "nbconvert_exporter": "python",
   "pygments_lexer": "ipython3",
   "version": "3.12.7"
  }
 },
 "nbformat": 4,
 "nbformat_minor": 5
}
