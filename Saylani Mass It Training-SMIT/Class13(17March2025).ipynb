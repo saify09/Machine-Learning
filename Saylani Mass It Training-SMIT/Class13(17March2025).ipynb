{
 "cells": [
  {
   "cell_type": "markdown",
   "id": "5f96cbf8-e01d-4505-ab2a-b9d2919d59ef",
   "metadata": {},
   "source": [
    "# Functions\n",
    "    - Python function\n",
    "            - print()\n",
    "            - len()\n",
    "            - type\n",
    "            - id()\n",
    "            - input()\n",
    "            - int()\n",
    "            - float()\n",
    "            - str()\n",
    "            - min()\n",
    "            - max()\n",
    "            -sum()\n",
    "    - Class Function\n",
    "            - class.function()\n",
    "    - Userdefined Functions\n",
    "           - say_hello()"
   ]
  },
  {
   "cell_type": "code",
   "execution_count": 8,
   "id": "b63f3911-328a-46d7-886d-f57efce707a4",
   "metadata": {},
   "outputs": [
    {
     "name": "stdout",
     "output_type": "stream",
     "text": [
      "3\n"
     ]
    },
    {
     "data": {
      "text/plain": [
       "(None, 5, int)"
      ]
     },
     "execution_count": 8,
     "metadata": {},
     "output_type": "execute_result"
    }
   ],
   "source": [
    "print(\"3\"), len(\"rrgff\"), type(23), lower()"
   ]
  },
  {
   "cell_type": "code",
   "execution_count": 1,
   "id": "c8c9f9b9-9bff-46ff-b984-b39e5448803a",
   "metadata": {},
   "outputs": [],
   "source": [
    "# declare \n",
    "def say_salam():\n",
    "    print(\"Assalam.o.Alikum\")"
   ]
  },
  {
   "cell_type": "code",
   "execution_count": 2,
   "id": "7d4d063a-b6a8-449a-9f82-a8b999857592",
   "metadata": {},
   "outputs": [
    {
     "name": "stdout",
     "output_type": "stream",
     "text": [
      "Assalam.o.Alikum\n"
     ]
    }
   ],
   "source": [
    "#call\n",
    "say_salam()"
   ]
  },
  {
   "cell_type": "code",
   "execution_count": 3,
   "id": "e8bbe355-e59c-4402-a7ba-a85a136794e9",
   "metadata": {},
   "outputs": [
    {
     "name": "stdout",
     "output_type": "stream",
     "text": [
      "Assalam.o.Alikum\n"
     ]
    }
   ],
   "source": [
    "say_salam()"
   ]
  },
  {
   "cell_type": "code",
   "execution_count": 4,
   "id": "77f60d78-b49c-49e8-9ab6-1e63d8292bb1",
   "metadata": {},
   "outputs": [
    {
     "name": "stdout",
     "output_type": "stream",
     "text": [
      "Assalam.o.Alikum\n"
     ]
    }
   ],
   "source": [
    "say_salam()"
   ]
  },
  {
   "cell_type": "code",
   "execution_count": 9,
   "id": "af42c5b6-7648-4bb4-aa83-0fbb232c1638",
   "metadata": {},
   "outputs": [],
   "source": [
    "def add():\n",
    "    a=10\n",
    "    b=20\n",
    "    c=a+b\n",
    "    print(c)"
   ]
  },
  {
   "cell_type": "code",
   "execution_count": 11,
   "id": "f148cd8f-5caa-4d1c-93ad-999c0a76e2d6",
   "metadata": {},
   "outputs": [
    {
     "name": "stdout",
     "output_type": "stream",
     "text": [
      "30\n"
     ]
    }
   ],
   "source": [
    "add()"
   ]
  },
  {
   "cell_type": "code",
   "execution_count": 12,
   "id": "3b3bf2e7-bb10-41bf-b080-9a021574cd27",
   "metadata": {},
   "outputs": [
    {
     "name": "stdout",
     "output_type": "stream",
     "text": [
      "30\n"
     ]
    }
   ],
   "source": [
    "add()"
   ]
  },
  {
   "cell_type": "code",
   "execution_count": 13,
   "id": "1e3241a7-af14-4536-8422-29d366cda8b0",
   "metadata": {},
   "outputs": [
    {
     "name": "stdout",
     "output_type": "stream",
     "text": [
      "30\n"
     ]
    }
   ],
   "source": [
    "add()"
   ]
  },
  {
   "cell_type": "code",
   "execution_count": 14,
   "id": "33fcb71e-b3e4-46ce-8e19-a70813c1ac1d",
   "metadata": {},
   "outputs": [],
   "source": [
    "def greet():\n",
    "    print(\"Welcome to my Channel\")"
   ]
  },
  {
   "cell_type": "code",
   "execution_count": 15,
   "id": "df6ed009-39c0-4524-a6ad-d147e8186418",
   "metadata": {},
   "outputs": [
    {
     "name": "stdout",
     "output_type": "stream",
     "text": [
      "Welcome to my Channel\n"
     ]
    }
   ],
   "source": [
    "greet()"
   ]
  },
  {
   "cell_type": "code",
   "execution_count": 19,
   "id": "d68d64fe-3689-42f4-8ead-6d5cd667a2fa",
   "metadata": {},
   "outputs": [],
   "source": [
    "# parameters and arguments\n",
    "\n",
    "def greet(name):# parameter\n",
    "    print(f\"Welcome Mr.{name} to my Channel\")"
   ]
  },
  {
   "cell_type": "code",
   "execution_count": 20,
   "id": "df592eba-5b4b-45d5-81e4-ac82cc2dc513",
   "metadata": {},
   "outputs": [
    {
     "ename": "TypeError",
     "evalue": "greet() missing 1 required positional argument: 'name'",
     "output_type": "error",
     "traceback": [
      "\u001b[1;31m---------------------------------------------------------------------------\u001b[0m",
      "\u001b[1;31mTypeError\u001b[0m                                 Traceback (most recent call last)",
      "Cell \u001b[1;32mIn[20], line 1\u001b[0m\n\u001b[1;32m----> 1\u001b[0m greet()\n",
      "\u001b[1;31mTypeError\u001b[0m: greet() missing 1 required positional argument: 'name'"
     ]
    }
   ],
   "source": [
    "greet()"
   ]
  },
  {
   "cell_type": "code",
   "execution_count": 21,
   "id": "4db47048-d1eb-456a-a6b5-7083846a6ba6",
   "metadata": {},
   "outputs": [
    {
     "name": "stdout",
     "output_type": "stream",
     "text": [
      "Welcome Mr.Ubaid to my Channel\n"
     ]
    }
   ],
   "source": [
    "greet('Ubaid')"
   ]
  },
  {
   "cell_type": "code",
   "execution_count": 22,
   "id": "b2157580-8a74-470b-99ef-13fb77c2c0cd",
   "metadata": {},
   "outputs": [
    {
     "name": "stdout",
     "output_type": "stream",
     "text": [
      "Welcome Mr.Kashif to my Channel\n"
     ]
    }
   ],
   "source": [
    "greet(\"Kashif\")"
   ]
  },
  {
   "cell_type": "code",
   "execution_count": 23,
   "id": "c5ee16f4-15b8-4781-8ef4-260771443d32",
   "metadata": {},
   "outputs": [
    {
     "name": "stdout",
     "output_type": "stream",
     "text": [
      "Welcome Mr.ahmed to my Channel\n"
     ]
    }
   ],
   "source": [
    "greet(\"ahmed\")"
   ]
  },
  {
   "cell_type": "code",
   "execution_count": 24,
   "id": "f4b4ef0a-6246-4206-8d5e-bbe29114c50d",
   "metadata": {},
   "outputs": [],
   "source": [
    "def add(a,b):\n",
    "    print(a+b)"
   ]
  },
  {
   "cell_type": "code",
   "execution_count": 25,
   "id": "797c4958-3020-4c91-bfb3-18c58dba19cf",
   "metadata": {},
   "outputs": [
    {
     "name": "stdout",
     "output_type": "stream",
     "text": [
      "30\n"
     ]
    }
   ],
   "source": [
    "add(10,20)"
   ]
  },
  {
   "cell_type": "code",
   "execution_count": 26,
   "id": "eb168335-c917-4313-8e77-bb09d61ad661",
   "metadata": {},
   "outputs": [
    {
     "name": "stdout",
     "output_type": "stream",
     "text": [
      "39\n"
     ]
    }
   ],
   "source": [
    "add(34,5)"
   ]
  },
  {
   "cell_type": "code",
   "execution_count": 27,
   "id": "dc592c84-cc77-4510-beee-9309b915f270",
   "metadata": {},
   "outputs": [
    {
     "name": "stdout",
     "output_type": "stream",
     "text": [
      "500\n"
     ]
    }
   ],
   "source": [
    "add(200,300)"
   ]
  },
  {
   "cell_type": "code",
   "execution_count": 33,
   "id": "75377e0c-cde1-406b-aa70-19d1e93ec446",
   "metadata": {},
   "outputs": [],
   "source": [
    "def sayfullname(firstname, middlename,lastname):\n",
    "    print(f\"{firstname} {middlename} {lastname}\")"
   ]
  },
  {
   "cell_type": "code",
   "execution_count": 34,
   "id": "bf3edb7b-9ab0-4273-8074-a7f39947668e",
   "metadata": {},
   "outputs": [],
   "source": [
    "def tax_calc(amt):\n",
    "    if amt<600000:\n",
    "        tax=amt*0\n",
    "    elif amt<1200000:\n",
    "        tax = amt*.10\n",
    "    elif amt<2500000:\n",
    "        tax = amt*.15\n",
    "    else:\n",
    "        tax = amt*.35\n",
    "    print(amt)\n",
    "    print(tax)"
   ]
  },
  {
   "cell_type": "code",
   "execution_count": 37,
   "id": "9cd0bdcd-e134-4597-b87f-a3fc61a10adc",
   "metadata": {},
   "outputs": [
    {
     "name": "stdout",
     "output_type": "stream",
     "text": [
      "1500000\n",
      "225000.0\n"
     ]
    }
   ],
   "source": [
    "tax_calc(1500000)"
   ]
  },
  {
   "cell_type": "code",
   "execution_count": 61,
   "id": "d6b1049b-a838-42b4-b400-1eed04e3c63a",
   "metadata": {},
   "outputs": [
    {
     "name": "stderr",
     "output_type": "stream",
     "text": [
      "<>:1: SyntaxWarning: invalid escape sequence '\\]'\n",
      "<>:1: SyntaxWarning: invalid escape sequence '\\]'\n",
      "C:\\Users\\Nasir Hussain\\AppData\\Local\\Temp\\ipykernel_21204\\2116244875.py:1: SyntaxWarning: invalid escape sequence '\\]'\n",
      "  puntuation=\"!”#$%&'()*+,-./:;<=>?@[\\]^_`{|}~\"\n"
     ]
    }
   ],
   "source": [
    "puntuation=\"!”#$%&'()*+,-./:;<=>?@[\\]^_`{|}~\"\n",
    "vowels=\"aeiouAEIOU\"\n",
    "freq= {}\n",
    "def text_analyzer(text):\n",
    "    length= len(text)\n",
    "    sentence = len(text.split(\".\"))-1\n",
    "    words = text.count(\" \")+1\n",
    "    upper_count=0\n",
    "    lower_count=0\n",
    "    space_count=0\n",
    "    punc_count = 0\n",
    "    vowel_count=0\n",
    "    digit_count=0\n",
    "    for char in text:\n",
    "        freq[char]=text.count(char)\n",
    "        if char.isupper():\n",
    "            upper_count+=1\n",
    "            if char in vowels:\n",
    "                vowel_count+=1\n",
    "                \n",
    "        elif char.islower():\n",
    "            lower_count+=1\n",
    "            if char in vowels:\n",
    "                vowel_count+=1\n",
    "        elif char.isspace():\n",
    "            space_count+=1\n",
    "        elif char in puntuation:\n",
    "            punc_count+=1\n",
    "        elif char.isdigit():\n",
    "            digit_count+=1\n",
    "\n",
    "    print(f\"\"\"\n",
    "           Length :   {length}\n",
    "           Sentecnes: {sentence}\n",
    "           Words    : {words}\n",
    "           Upper : {upper_count}\n",
    "           Lower : {lower_count}\n",
    "           Vowels : {vowel_count}\n",
    "           Spaces : {space_count}\n",
    "           Punctaution: {punc_count}\n",
    "           Digits:    {digit_count}\n",
    "           Freq: {freq}\n",
    "\n",
    "           \n",
    "           \n",
    "           \"\"\")\n",
    "        \n",
    "             \n",
    "    "
   ]
  },
  {
   "cell_type": "code",
   "execution_count": 62,
   "id": "d9f82136-6c80-4358-9255-0b56f09a13e6",
   "metadata": {},
   "outputs": [
    {
     "name": "stdout",
     "output_type": "stream",
     "text": [
      "\n",
      "           Length :   976\n",
      "           Sentecnes: 7\n",
      "           Words    : 154\n",
      "           Upper : 8\n",
      "           Lower : 771\n",
      "           Vowels : 301\n",
      "           Spaces : 168\n",
      "           Punctaution: 16\n",
      "           Digits:    6\n",
      "           Freq: {'I': 3, 'n': 63, ' ': 153, 't': 78, 'h': 28, 'i': 51, 's': 44, 'c': 27, 'a': 65, 'p': 18, 'e': 72, 'r': 46, 'y': 18, 'o': 75, 'u': 35, '’': 7, 'l': 42, 'w': 8, '\\n': 15, 'f': 26, ',': 8, 'm': 16, 'd': 30, 'b': 4, 'k': 6, 'g': 11, 'j': 3, '.': 7, '7': 1, '8': 1, 'W': 1, 'v': 3, ';': 1, 'P': 1, 'Y': 2, 'x': 1, '2': 1, '3': 1, 'F': 1, 'z': 1, '5': 1, '6': 1}\n",
      "\n",
      "           \n",
      "           \n",
      "           \n"
     ]
    }
   ],
   "source": [
    "text_analyzer('''In this chapter you’ll learn to write\n",
    "functions, which are named blocks of code\n",
    "that are designed to do one specific job.78\n",
    "When you want to perform a particular task\n",
    "that you’ve defined in a function, you call the name\n",
    "of the function responsible for it. If you need to\n",
    "perform that task multiple times throughout your program, you don’t\n",
    "need to type all the code for the same task again and again; you just call\n",
    "the function dedicated to handling that task, and the call tells Python to\n",
    "run the code inside the function. You’ll find that using functions makes\n",
    "your programs easier to write, read, test, and fix.23\n",
    "In this chapter you’ll also learn ways to pass information to functions.\n",
    "You’ll learn how to write certain functions whose primary job is to display\n",
    "information and other functions designed to process data and return a\n",
    "value or set of values. Finally, you’ll learn to store functions in separate files\n",
    "called modules to help organize your main program files.56''')"
   ]
  },
  {
   "cell_type": "code",
   "execution_count": 51,
   "id": "c285e364-9bed-4e65-971b-3b4d1612885a",
   "metadata": {},
   "outputs": [
    {
     "data": {
      "text/plain": [
       "['In', 'this', 'chapter']"
      ]
     },
     "execution_count": 51,
     "metadata": {},
     "output_type": "execute_result"
    }
   ],
   "source": [
    "(\"In this chapter\".split(\" \"))"
   ]
  },
  {
   "cell_type": "code",
   "execution_count": 53,
   "id": "1f032de8-74f3-445f-b1c7-f0c6deff95b3",
   "metadata": {},
   "outputs": [
    {
     "data": {
      "text/plain": [
       "3"
      ]
     },
     "execution_count": 53,
     "metadata": {},
     "output_type": "execute_result"
    }
   ],
   "source": [
    "\"In this  chapter\".count(\" \")"
   ]
  },
  {
   "cell_type": "code",
   "execution_count": 63,
   "id": "874992f8-16eb-417a-9ef0-b992188e822d",
   "metadata": {},
   "outputs": [
    {
     "data": {
      "text/plain": [
       "'In this chapter you’ll learn to write\\nfunctions, which are named blocks of code\\nthat are designed to do one specific job.78\\nWhen you want to perform a particular task\\nthat you’ve defined in a function, you call the name\\nof the function responsible for it. If you need to\\nperform that task multiple times throughout your program, you don’t\\nneed to type all the code for the same task again and again; you just call\\nthe function dedicated to handling that task, and the call tells Python to\\nrun the code inside the function. You’ll find that using functions makes\\nyour programs easier to write, read, test, and fix.23\\nIn this chapter you’ll also learn ways to pass information to functions.\\nYou’ll learn how to write certain functions whose primary job is to display\\ninformation and other functions designed to process data and return a\\nvalue or set of values. Finally, you’ll learn to store functions in separate files\\ncalled modules to help organize your main program files.56'"
      ]
     },
     "execution_count": 63,
     "metadata": {},
     "output_type": "execute_result"
    }
   ],
   "source": [
    "'''In this chapter you’ll learn to write\n",
    "functions, which are named blocks of code\n",
    "that are designed to do one specific job.78\n",
    "When you want to perform a particular task\n",
    "that you’ve defined in a function, you call the name\n",
    "of the function responsible for it. If you need to\n",
    "perform that task multiple times throughout your program, you don’t\n",
    "need to type all the code for the same task again and again; you just call\n",
    "the function dedicated to handling that task, and the call tells Python to\n",
    "run the code inside the function. You’ll find that using functions makes\n",
    "your programs easier to write, read, test, and fix.23\n",
    "In this chapter you’ll also learn ways to pass information to functions.\n",
    "You’ll learn how to write certain functions whose primary job is to display\n",
    "information and other functions designed to process data and return a\n",
    "value or set of values. Finally, you’ll learn to store functions in separate files\n",
    "called modules to help organize your main program files.56'''"
   ]
  },
  {
   "cell_type": "code",
   "execution_count": null,
   "id": "a8958a9e-4952-4161-b96d-27705d771aaa",
   "metadata": {},
   "outputs": [],
   "source": [
    "def text_cleaner(text):\n",
    "    "
   ]
  },
  {
   "cell_type": "code",
   "execution_count": null,
   "id": "2c6ba4ff-9a22-4741-96d2-e5685f893081",
   "metadata": {},
   "outputs": [],
   "source": []
  },
  {
   "cell_type": "code",
   "execution_count": null,
   "id": "c9d7bdcf-5705-4f01-8744-550d8ab9d3c3",
   "metadata": {},
   "outputs": [],
   "source": []
  },
  {
   "cell_type": "code",
   "execution_count": null,
   "id": "66d16d0a-3004-4ed6-b768-2baa9871034e",
   "metadata": {},
   "outputs": [],
   "source": []
  },
  {
   "cell_type": "code",
   "execution_count": null,
   "id": "2278cabe-b628-484f-b622-cb541770c49b",
   "metadata": {},
   "outputs": [],
   "source": []
  },
  {
   "cell_type": "code",
   "execution_count": null,
   "id": "05d7bc50-d9e8-4c00-96df-cbb82f7ae028",
   "metadata": {},
   "outputs": [],
   "source": []
  },
  {
   "cell_type": "code",
   "execution_count": null,
   "id": "a3f518a8-a6e7-413a-9a35-df9251c6b692",
   "metadata": {},
   "outputs": [],
   "source": []
  },
  {
   "cell_type": "code",
   "execution_count": null,
   "id": "ce1ae481-deed-4e52-ae98-b3e8c5d0bf15",
   "metadata": {},
   "outputs": [],
   "source": []
  },
  {
   "cell_type": "code",
   "execution_count": null,
   "id": "dc720957-452e-4af9-8aa3-957d4704fa7c",
   "metadata": {},
   "outputs": [],
   "source": []
  },
  {
   "cell_type": "code",
   "execution_count": null,
   "id": "ff0130be-1152-467d-9f58-c98048b20b36",
   "metadata": {},
   "outputs": [],
   "source": []
  },
  {
   "cell_type": "code",
   "execution_count": null,
   "id": "bcc8c2d7-0285-46fd-8041-affa1632197c",
   "metadata": {},
   "outputs": [],
   "source": []
  },
  {
   "cell_type": "code",
   "execution_count": null,
   "id": "a6659fe4-49a9-4fcd-b53a-0020b3ed1a98",
   "metadata": {},
   "outputs": [],
   "source": []
  },
  {
   "cell_type": "code",
   "execution_count": null,
   "id": "2cd6ec3c-63d9-408e-93f2-50dabcf24788",
   "metadata": {},
   "outputs": [],
   "source": []
  },
  {
   "cell_type": "code",
   "execution_count": null,
   "id": "7b62e707-185d-42ee-af33-77deac96e7b7",
   "metadata": {},
   "outputs": [],
   "source": []
  },
  {
   "cell_type": "code",
   "execution_count": null,
   "id": "ed75f427-838e-44b8-9496-20ce44beaba5",
   "metadata": {},
   "outputs": [],
   "source": []
  },
  {
   "cell_type": "code",
   "execution_count": null,
   "id": "dd1973c4-e041-49b5-9a51-10236aba96f1",
   "metadata": {},
   "outputs": [],
   "source": []
  },
  {
   "cell_type": "code",
   "execution_count": null,
   "id": "87e45874-b18c-49c7-a311-65a2bd5c541e",
   "metadata": {},
   "outputs": [],
   "source": []
  },
  {
   "cell_type": "code",
   "execution_count": null,
   "id": "115de84a-fc2a-43b1-b00f-e9595037520e",
   "metadata": {},
   "outputs": [],
   "source": []
  },
  {
   "cell_type": "code",
   "execution_count": null,
   "id": "d166fb75-2290-43bd-b6ab-d2742d088a64",
   "metadata": {},
   "outputs": [],
   "source": []
  },
  {
   "cell_type": "code",
   "execution_count": null,
   "id": "4177e805-de89-4a1d-9d6a-a8305af8d841",
   "metadata": {},
   "outputs": [],
   "source": []
  },
  {
   "cell_type": "code",
   "execution_count": null,
   "id": "231eafdc-79e2-4cfe-930c-91c49f0f5455",
   "metadata": {},
   "outputs": [],
   "source": []
  },
  {
   "cell_type": "code",
   "execution_count": null,
   "id": "347dc84c-1813-4dae-af71-bb29ce31e215",
   "metadata": {},
   "outputs": [],
   "source": []
  },
  {
   "cell_type": "code",
   "execution_count": null,
   "id": "b3b7d0a9-f1cf-4eb3-a8a6-74a5b66fafc6",
   "metadata": {},
   "outputs": [],
   "source": []
  },
  {
   "cell_type": "code",
   "execution_count": 5,
   "id": "e600c1d0-6edf-4ae9-bead-d447f7c001e9",
   "metadata": {},
   "outputs": [
    {
     "name": "stdout",
     "output_type": "stream",
     "text": [
      "Assalam.o.Alikum\n"
     ]
    }
   ],
   "source": [
    "say_salam()"
   ]
  },
  {
   "cell_type": "code",
   "execution_count": null,
   "id": "8d21a1c8-75a1-4ff7-94a2-dc9c4236572d",
   "metadata": {},
   "outputs": [],
   "source": []
  },
  {
   "cell_type": "code",
   "execution_count": null,
   "id": "c5845442-2c49-4047-b2dc-326d3053c8a5",
   "metadata": {},
   "outputs": [],
   "source": []
  },
  {
   "cell_type": "code",
   "execution_count": null,
   "id": "a4e3f7d8-9fcf-45e5-85b9-3591223dce6d",
   "metadata": {},
   "outputs": [],
   "source": []
  },
  {
   "cell_type": "code",
   "execution_count": null,
   "id": "1c3fe2f6-4d6f-428b-8697-f8e3b8ecfaa7",
   "metadata": {},
   "outputs": [],
   "source": []
  }
 ],
 "metadata": {
  "kernelspec": {
   "display_name": "Python 3 (ipykernel)",
   "language": "python",
   "name": "python3"
  },
  "language_info": {
   "codemirror_mode": {
    "name": "ipython",
    "version": 3
   },
   "file_extension": ".py",
   "mimetype": "text/x-python",
   "name": "python",
   "nbconvert_exporter": "python",
   "pygments_lexer": "ipython3",
   "version": "3.12.3"
  }
 },
 "nbformat": 4,
 "nbformat_minor": 5
}
