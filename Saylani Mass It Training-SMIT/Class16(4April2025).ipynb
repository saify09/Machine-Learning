{
 "cells": [
  {
   "cell_type": "markdown",
   "id": "3cc65c9c-5032-4518-9527-dca72630ce47",
   "metadata": {},
   "source": [
    "# Loops\n",
    "    - For   : iterates over a collection\n",
    "    - While : runs till condition is True"
   ]
  },
  {
   "cell_type": "markdown",
   "id": "71ef5603-e4ba-47eb-80a5-fd50e2c82947",
   "metadata": {},
   "source": [
    "# Collection: \n",
    "   - range()\n",
    "   - list\n",
    "   - tuple\n",
    "   - dictionary\n",
    "   - set"
   ]
  },
  {
   "cell_type": "markdown",
   "id": "ce13e3d6-42a8-4ccf-badd-b9b760246fea",
   "metadata": {},
   "source": [
    "## Using for loop to iterate over collection items"
   ]
  },
  {
   "cell_type": "markdown",
   "id": "2489ba23-7f6c-45b6-8e9a-4eee342ef93d",
   "metadata": {},
   "source": [
    "#### Range()"
   ]
  },
  {
   "cell_type": "code",
   "execution_count": 5,
   "id": "25f19854-3ffc-4ec3-a6e6-24f447fa7296",
   "metadata": {},
   "outputs": [
    {
     "name": "stdout",
     "output_type": "stream",
     "text": [
      "1\n",
      "2\n",
      "3\n",
      "4\n",
      "6\n",
      "7\n",
      "8\n",
      "9\n"
     ]
    }
   ],
   "source": [
    "for a in range(1,10):\n",
    "    if a==5:\n",
    "        continue\n",
    "    else:\n",
    "        print(a)"
   ]
  },
  {
   "cell_type": "code",
   "execution_count": 36,
   "id": "3d38cc1b-2cbe-4883-998e-f80fabf534e0",
   "metadata": {},
   "outputs": [],
   "source": [
    "dic = {\"name\":\"Ubaid\", 'location':\"Karachi\", \"Course\":\"Python\"}"
   ]
  },
  {
   "cell_type": "code",
   "execution_count": 38,
   "id": "74c4a689-6b66-4365-89da-e221efe756e0",
   "metadata": {},
   "outputs": [
    {
     "name": "stdout",
     "output_type": "stream",
     "text": [
      "name\n",
      "location\n",
      "Course\n"
     ]
    }
   ],
   "source": [
    "for a in dic.keys():\n",
    "    print(a)"
   ]
  },
  {
   "cell_type": "markdown",
   "id": "4448f7a2-8bab-430d-b9f2-9cf6583bff85",
   "metadata": {},
   "source": [
    "#### Using While Loops to iterate over a collection"
   ]
  },
  {
   "cell_type": "code",
   "execution_count": 14,
   "id": "c373b30b-ca19-40ad-a95d-c9e9d71f5e64",
   "metadata": {},
   "outputs": [
    {
     "name": "stdout",
     "output_type": "stream",
     "text": [
      "10\n",
      "9\n",
      "8\n",
      "7\n",
      "6\n",
      "5\n",
      "4\n",
      "3\n",
      "2\n",
      "1\n",
      "0\n"
     ]
    }
   ],
   "source": [
    "a=10\n",
    "while a>=0:\n",
    "    print(a)\n",
    "    a-=1"
   ]
  },
  {
   "cell_type": "code",
   "execution_count": 15,
   "id": "56156f5a-9d63-4cdb-a536-c02dbbad1dbe",
   "metadata": {},
   "outputs": [],
   "source": [
    "alist = [1,2,3,4,5,6,7,8,9,10]"
   ]
  },
  {
   "cell_type": "code",
   "execution_count": 22,
   "id": "0d4fb1c3-e1a9-4c6c-8652-6979ac0d01a0",
   "metadata": {},
   "outputs": [
    {
     "name": "stdout",
     "output_type": "stream",
     "text": [
      "1 4 9 16 25 36 49 64 81 100 40000 "
     ]
    }
   ],
   "source": [
    "index=0\n",
    "while index<len(alist):\n",
    "    print(alist[index]**2,end=\" \")\n",
    "    index+=1"
   ]
  },
  {
   "cell_type": "code",
   "execution_count": 26,
   "id": "efe66724-f524-465d-a8ab-3b4a939e857e",
   "metadata": {},
   "outputs": [
    {
     "name": "stdout",
     "output_type": "stream",
     "text": [
      "40000 100 81 64 49 36 25 16 9 4 1 "
     ]
    }
   ],
   "source": [
    "index=len(alist)-1\n",
    "while index>=0:\n",
    "    print(alist[index]**2,end=\" \")\n",
    "    index-=1  "
   ]
  },
  {
   "cell_type": "code",
   "execution_count": 20,
   "id": "1342d0c8-ab6a-4bd9-a6fa-876f68a60dfd",
   "metadata": {},
   "outputs": [],
   "source": [
    "alist.append(200)"
   ]
  },
  {
   "cell_type": "code",
   "execution_count": 29,
   "id": "7071ed58-c651-4861-998a-8e769a0aa316",
   "metadata": {},
   "outputs": [
    {
     "name": "stdin",
     "output_type": "stream",
     "text": [
      "What do you want to buy? or q to quit  kurta\n",
      "What do you want to buy? or q to quit  sandle\n",
      "What do you want to buy? or q to quit  q\n"
     ]
    },
    {
     "data": {
      "text/plain": [
       "['kurta', 'sandle']"
      ]
     },
     "execution_count": 29,
     "metadata": {},
     "output_type": "execute_result"
    }
   ],
   "source": [
    "cart = []\n",
    "for a in range(6):\n",
    "    item = input(\"What do you want to buy? or q to quit \")\n",
    "    if item == \"q\":\n",
    "        break\n",
    "    cart.append(item)\n",
    "cart"
   ]
  },
  {
   "cell_type": "code",
   "execution_count": 30,
   "id": "1addeba7-7111-42cc-b112-f668edb6c8fe",
   "metadata": {},
   "outputs": [
    {
     "name": "stdin",
     "output_type": "stream",
     "text": [
      "What do you want to buy? or q to quit  shoes\n",
      "What do you want to buy? or q to quit  sandle\n",
      "What do you want to buy? or q to quit  kurta\n",
      "What do you want to buy? or q to quit  chain\n",
      "What do you want to buy? or q to quit  watch\n",
      "What do you want to buy? or q to quit  shirt\n",
      "What do you want to buy? or q to quit  paint\n",
      "What do you want to buy? or q to quit  perfume\n",
      "What do you want to buy? or q to quit  q\n"
     ]
    },
    {
     "data": {
      "text/plain": [
       "['shoes', 'sandle', 'kurta', 'chain', 'watch', 'shirt', 'paint', 'perfume']"
      ]
     },
     "execution_count": 30,
     "metadata": {},
     "output_type": "execute_result"
    }
   ],
   "source": [
    "cart = []\n",
    "while True:\n",
    "    item = input(\"What do you want to buy? or q to quit \")\n",
    "    if item == \"q\":\n",
    "        break\n",
    "    cart.append(item)\n",
    "cart  "
   ]
  },
  {
   "cell_type": "code",
   "execution_count": 31,
   "id": "fcbc3a66-ac85-47a1-8d62-9e096f686889",
   "metadata": {},
   "outputs": [],
   "source": [
    "# make a dictionary of items \n",
    "courses = {'nasir':'python', 'ali':'data analysis', 'faisal':'Artificial Intelligence',\n",
    "'ahmed':'microservices', 'atif':\"agnetic ai\"}"
   ]
  },
  {
   "cell_type": "code",
   "execution_count": 39,
   "id": "7762bcf7-47ad-434f-8ae3-0e5e942f66b5",
   "metadata": {},
   "outputs": [
    {
     "name": "stdout",
     "output_type": "stream",
     "text": [
      "nasir\n",
      "ali\n",
      "faisal\n",
      "Artificial Intelligence\n"
     ]
    }
   ],
   "source": [
    "for name in courses:\n",
    "    print(name)\n",
    "    if name==\"faisal\":\n",
    "        print(courses[name])\n",
    "        break"
   ]
  },
  {
   "cell_type": "code",
   "execution_count": 40,
   "id": "0e103f5d-2905-4b9f-9f16-df5d809b2a7b",
   "metadata": {},
   "outputs": [
    {
     "data": {
      "text/plain": [
       "'data analysis'"
      ]
     },
     "execution_count": 40,
     "metadata": {},
     "output_type": "execute_result"
    }
   ],
   "source": [
    "courses['ali']"
   ]
  },
  {
   "cell_type": "markdown",
   "id": "3c739c94-b7eb-4228-ba1c-aca608af1fc7",
   "metadata": {},
   "source": [
    "#### Question:\n",
    "Write a program which will find all such numbers which are divisible by 7 \n",
    "\n",
    "but are not a multiple of 5,\n",
    "\n",
    "between 2000 and 3200 (both included).\n",
    "\n",
    "The numbers obtained should be printed in a comma-separated sequence on a single line."
   ]
  },
  {
   "cell_type": "code",
   "execution_count": 2,
   "id": "674c7cd5-017e-42fd-9e48-61f32826b3b2",
   "metadata": {},
   "outputs": [
    {
     "name": "stdout",
     "output_type": "stream",
     "text": [
      "2002,2009,2016,2023,2037,2044,2051,2058,2072,2079,2086,2093,2107,2114,2121,2128,2142,2149,2156,2163,2177,2184,2191,2198,2212,2219,2226,2233,2247,2254,2261,2268,2282,2289,2296,2303,2317,2324,2331,2338,2352,2359,2366,2373,2387,2394,2401,2408,2422,2429,2436,2443,2457,2464,2471,2478,2492,2499,2506,2513,2527,2534,2541,2548,2562,2569,2576,2583,2597,2604,2611,2618,2632,2639,2646,2653,2667,2674,2681,2688,2702,2709,2716,2723,2737,2744,2751,2758,2772,2779,2786,2793,2807,2814,2821,2828,2842,2849,2856,2863,2877,2884,2891,2898,2912,2919,2926,2933,2947,2954,2961,2968,2982,2989,2996,3003,3017,3024,3031,3038,3052,3059,3066,3073,3087,3094,3101,3108,3122,3129,3136,3143,3157,3164,3171,3178,3192,3199,"
     ]
    }
   ],
   "source": [
    "a = 2000\n",
    "while a<=3200:\n",
    "    if (a%7==0) and (a%5!=0):\n",
    "        print(a, end=\",\")\n",
    "    a+=1"
   ]
  },
  {
   "cell_type": "code",
   "execution_count": 3,
   "id": "11e0a971-ce3b-4bdb-a5cc-dbe8de612658",
   "metadata": {},
   "outputs": [
    {
     "name": "stdout",
     "output_type": "stream",
     "text": [
      "2002,2009,2016,2023,2037,2044,2051,2058,2072,2079,2086,2093,2107,2114,2121,2128,2142,2149,2156,2163,2177,2184,2191,2198,2212,2219,2226,2233,2247,2254,2261,2268,2282,2289,2296,2303,2317,2324,2331,2338,2352,2359,2366,2373,2387,2394,2401,2408,2422,2429,2436,2443,2457,2464,2471,2478,2492,2499,2506,2513,2527,2534,2541,2548,2562,2569,2576,2583,2597,2604,2611,2618,2632,2639,2646,2653,2667,2674,2681,2688,2702,2709,2716,2723,2737,2744,2751,2758,2772,2779,2786,2793,2807,2814,2821,2828,2842,2849,2856,2863,2877,2884,2891,2898,2912,2919,2926,2933,2947,2954,2961,2968,2982,2989,2996,3003,3017,3024,3031,3038,3052,3059,3066,3073,3087,3094,3101,3108,3122,3129,3136,3143,3157,3164,3171,3178,3192,3199,"
     ]
    }
   ],
   "source": [
    "for a in range(2000,3201):\n",
    "    if (a%7==0) and (a%5!=0):\n",
    "        print(a, end=\",\")"
   ]
  },
  {
   "cell_type": "raw",
   "id": "c00e37c0-cd51-4079-ae2e-e82ae1a7f5bd",
   "metadata": {},
   "source": [
    "Question:\n",
    "Write a program, which will find all such numbers between 1000 and 3000 (both included) \n",
    "such that each digit of the number is an even number.\n",
    "The numbers obtained should be printed in a comma-separated sequence on a single line."
   ]
  },
  {
   "cell_type": "code",
   "execution_count": 10,
   "id": "53cf6fb7-14f2-486e-9d64-9c3308061fe0",
   "metadata": {},
   "outputs": [
    {
     "name": "stdout",
     "output_type": "stream",
     "text": [
      "2000,2002,2004,2006,2008,2020,2022,2024,2026,2028,2040,2042,2044,2046,2048,2060,2062,2064,2066,2068,2080,2082,2084,2086,2088,2200,2202,2204,2206,2208,2220,2222,2224,2226,2228,2240,2242,2244,2246,2248,2260,2262,2264,2266,2268,2280,2282,2284,2286,2288,2400,2402,2404,2406,2408,2420,2422,2424,2426,2428,2440,2442,2444,2446,2448,2460,2462,2464,2466,2468,2480,2482,2484,2486,2488,2600,2602,2604,2606,2608,2620,2622,2624,2626,2628,2640,2642,2644,2646,2648,2660,2662,2664,2666,2668,2680,2682,2684,2686,2688,2800,2802,2804,2806,2808,2820,2822,2824,2826,2828,2840,2842,2844,2846,2848,2860,2862,2864,2866,2868,2880,2882,2884,2886,2888,"
     ]
    }
   ],
   "source": [
    "for a in range(1000,3001):\n",
    "    a_s = str(a)\n",
    "    if int(a_s[0])%2==0:\n",
    "        if int(a_s[1])%2==0:\n",
    "            if int(a_s[2])%2==0:\n",
    "                if int(a_s[3])%2==0:\n",
    "                    print(a_s,end=\",\")              "
   ]
  },
  {
   "cell_type": "code",
   "execution_count": 11,
   "id": "d07ceb62-f43f-4154-a44e-1ba18a8dab72",
   "metadata": {},
   "outputs": [
    {
     "name": "stdout",
     "output_type": "stream",
     "text": [
      "2000,2002,2004,2006,2008,2020,2022,2024,2026,2028,2040,2042,2044,2046,2048,2060,2062,2064,2066,2068,2080,2082,2084,2086,2088,2200,2202,2204,2206,2208,2220,2222,2224,2226,2228,2240,2242,2244,2246,2248,2260,2262,2264,2266,2268,2280,2282,2284,2286,2288,2400,2402,2404,2406,2408,2420,2422,2424,2426,2428,2440,2442,2444,2446,2448,2460,2462,2464,2466,2468,2480,2482,2484,2486,2488,2600,2602,2604,2606,2608,2620,2622,2624,2626,2628,2640,2642,2644,2646,2648,2660,2662,2664,2666,2668,2680,2682,2684,2686,2688,2800,2802,2804,2806,2808,2820,2822,2824,2826,2828,2840,2842,2844,2846,2848,2860,2862,2864,2866,2868,2880,2882,2884,2886,2888,"
     ]
    }
   ],
   "source": [
    "for a in range(1000,3001):\n",
    "    a_s = str(a)\n",
    "    if (int(a_s[0])%2==0) and (int(a_s[1])%2==0) and (int(a_s[2])%2==0) and (int(a_s[3])%2==0):\n",
    "        print(a_s,end=\",\")              "
   ]
  },
  {
   "cell_type": "code",
   "execution_count": 22,
   "id": "b18b1d99-6d4e-4ccf-b7d7-c999b264b419",
   "metadata": {},
   "outputs": [
    {
     "name": "stdout",
     "output_type": "stream",
     "text": [
      "22,680,864280,"
     ]
    }
   ],
   "source": [
    "for a in [1122,22,345,680,541,864280]:\n",
    "    a_s = str(a)  \n",
    "    for d in a_s:\n",
    "        if int(d)%2!=0:\n",
    "            break\n",
    "    else:\n",
    "        print(a_s,end=',')"
   ]
  },
  {
   "cell_type": "code",
   "execution_count": 21,
   "id": "1d73a2fa-e64e-447c-bf66-4dca2d31ce04",
   "metadata": {},
   "outputs": [
    {
     "name": "stdout",
     "output_type": "stream",
     "text": [
      "Hello\n"
     ]
    }
   ],
   "source": [
    "for a in range(10):\n",
    "    if a>25:\n",
    "        \n",
    "        print(a)\n",
    "        break\n",
    "else:\n",
    "    print(\"Hello\")"
   ]
  },
  {
   "cell_type": "code",
   "execution_count": null,
   "id": "d516e0eb-d5f1-495e-a0fc-6d5faa68086e",
   "metadata": {},
   "outputs": [],
   "source": []
  }
 ],
 "metadata": {
  "kernelspec": {
   "display_name": "Python 3 (ipykernel)",
   "language": "python",
   "name": "python3"
  },
  "language_info": {
   "codemirror_mode": {
    "name": "ipython",
    "version": 3
   },
   "file_extension": ".py",
   "mimetype": "text/x-python",
   "name": "python",
   "nbconvert_exporter": "python",
   "pygments_lexer": "ipython3",
   "version": "3.12.3"
  }
 },
 "nbformat": 4,
 "nbformat_minor": 5
}
