{
 "cells": [
  {
   "cell_type": "raw",
   "id": "c902d158-9c04-49bc-a6f3-6794cda80c78",
   "metadata": {},
   "source": [
    "8-3. T-Shirt: Write a function called make_shirt() that accepts a size and the\n",
    "text of a message that should be printed on the shirt. The function should print\n",
    "a sentence summarizing the size of the shirt and the message printed on it.\n",
    "Call the function once using positional arguments to make a shirt. Call the\n",
    "function a second time using keyword arguments."
   ]
  },
  {
   "cell_type": "code",
   "execution_count": 6,
   "id": "51603f5f-84c5-4f25-a76b-56fd0b0d37e4",
   "metadata": {},
   "outputs": [],
   "source": [
    "def make_shirt(size,msg):\n",
    "    print(f\"\"\"\n",
    "        {msg}\n",
    "           {size}\"\"\")\n",
    "      "
   ]
  },
  {
   "cell_type": "code",
   "execution_count": 7,
   "id": "40aad3fb-cf1c-48f4-b11f-cc4e0193ba47",
   "metadata": {},
   "outputs": [
    {
     "name": "stdout",
     "output_type": "stream",
     "text": [
      "\n",
      "           EidMbarak\n",
      "           Large\n"
     ]
    }
   ],
   "source": [
    "make_shirt('Large', 'EidMbarak')"
   ]
  },
  {
   "cell_type": "code",
   "execution_count": 9,
   "id": "3229f4ef-da78-4cf6-a3f8-17c26067e4ab",
   "metadata": {},
   "outputs": [
    {
     "name": "stdout",
     "output_type": "stream",
     "text": [
      "\n",
      "           Welcome\n",
      "           Small\n"
     ]
    }
   ],
   "source": [
    "make_shirt(msg=\"Welcome\", size='Small')"
   ]
  },
  {
   "cell_type": "raw",
   "id": "0cad361e-ec87-458f-9df9-de2333d072db",
   "metadata": {},
   "source": [
    "8-4. Large Shirts: Modify the make_shirt() function so that shirts are large\n",
    "by default with a message that reads I love Python. Make a large shirt and a\n",
    "medium shirt with the default message, and a shirt of any size with a different\n",
    "message"
   ]
  },
  {
   "cell_type": "code",
   "execution_count": 12,
   "id": "22ef9adb-0801-4ad9-b16c-979f6ce6c3de",
   "metadata": {},
   "outputs": [],
   "source": [
    "def make_shirt(msg=\"I love Python\",size=\"Large\"):\n",
    "    print(f\"\"\"\n",
    "        {msg}\n",
    "           {size}\"\"\")"
   ]
  },
  {
   "cell_type": "code",
   "execution_count": 13,
   "id": "fdda90c6-3046-420a-8fb0-ead6e1d1f506",
   "metadata": {},
   "outputs": [
    {
     "name": "stdout",
     "output_type": "stream",
     "text": [
      "\n",
      "        I love Python\n",
      "           Large\n"
     ]
    }
   ],
   "source": [
    "make_shirt()"
   ]
  },
  {
   "cell_type": "code",
   "execution_count": 14,
   "id": "e9130cb2-df6c-4c23-8d68-e1812e69e209",
   "metadata": {},
   "outputs": [
    {
     "name": "stdout",
     "output_type": "stream",
     "text": [
      "\n",
      "        Once upon a time!!!\n",
      "           Large\n"
     ]
    }
   ],
   "source": [
    "make_shirt(\"Once upon a time!!!\")"
   ]
  },
  {
   "cell_type": "code",
   "execution_count": 15,
   "id": "e45ccf23-4582-45a9-a335-44b9ec1b1b92",
   "metadata": {},
   "outputs": [
    {
     "name": "stdout",
     "output_type": "stream",
     "text": [
      "\n",
      "        Once upon a time!!!\n",
      "           Small\n"
     ]
    }
   ],
   "source": [
    "make_shirt(\"Once upon a time!!!\", 'Small')"
   ]
  },
  {
   "cell_type": "raw",
   "id": "9d83603e-0e2b-47e8-8ac5-2d52ef12ff32",
   "metadata": {},
   "source": [
    "8-5. Cities: Write a function called describe_city() that accepts the name of\n",
    "a city and its country. The function should print a simple sentence, such as\n",
    "Reykjavik is in Iceland. Give the parameter for the country a default value.\n",
    "Call your function for three different cities, at least one of which is not in the\n",
    "default country"
   ]
  },
  {
   "cell_type": "code",
   "execution_count": 16,
   "id": "960bc233-69ae-4603-9962-905b55b0714c",
   "metadata": {},
   "outputs": [],
   "source": [
    "def build_person(first_name, last_name):\n",
    "    person = {'first': first_name, 'last': last_name}\n",
    "    return person"
   ]
  },
  {
   "cell_type": "code",
   "execution_count": 17,
   "id": "095c2a0a-b9ef-40f2-87da-af743be613ce",
   "metadata": {},
   "outputs": [
    {
     "name": "stdout",
     "output_type": "stream",
     "text": [
      "{'first': 'jimi', 'last': 'hendrix'}\n"
     ]
    }
   ],
   "source": [
    "musician = build_person('jimi', 'hendrix')\n",
    "print(musician)"
   ]
  },
  {
   "cell_type": "code",
   "execution_count": 19,
   "id": "61922ae6-62d7-4522-b57b-d4904eb34375",
   "metadata": {},
   "outputs": [],
   "source": [
    "def build_person(first_name, last_name, age):\n",
    " \n",
    " person = {'first': first_name, 'last': last_name, \"age\":age}\n",
    " \n",
    " return person\n"
   ]
  },
  {
   "cell_type": "code",
   "execution_count": 20,
   "id": "a5be4d5b-f34b-4fb3-a6de-a7d860e54fdb",
   "metadata": {},
   "outputs": [
    {
     "name": "stdout",
     "output_type": "stream",
     "text": [
      "{'first': 'jimi', 'last': 'hendrix', 'age': 27}\n"
     ]
    }
   ],
   "source": [
    "musician = build_person('jimi', 'hendrix', age=27)\n",
    "print(musician)"
   ]
  },
  {
   "cell_type": "code",
   "execution_count": 21,
   "id": "88bc195c-2a6c-4622-bfd3-bf476e9ab1f0",
   "metadata": {},
   "outputs": [
    {
     "ename": "TypeError",
     "evalue": "build_person() missing 1 required positional argument: 'age'",
     "output_type": "error",
     "traceback": [
      "\u001b[1;31m---------------------------------------------------------------------------\u001b[0m",
      "\u001b[1;31mTypeError\u001b[0m                                 Traceback (most recent call last)",
      "Cell \u001b[1;32mIn[21], line 1\u001b[0m\n\u001b[1;32m----> 1\u001b[0m poet \u001b[38;5;241m=\u001b[39m build_person(\u001b[38;5;124m'\u001b[39m\u001b[38;5;124mjimi\u001b[39m\u001b[38;5;124m'\u001b[39m, \u001b[38;5;124m'\u001b[39m\u001b[38;5;124mhendrix\u001b[39m\u001b[38;5;124m'\u001b[39m)\n\u001b[0;32m      2\u001b[0m \u001b[38;5;28mprint\u001b[39m(musician)\n",
      "\u001b[1;31mTypeError\u001b[0m: build_person() missing 1 required positional argument: 'age'"
     ]
    }
   ],
   "source": [
    "poet = build_person('jimi', 'hendrix')\n",
    "print(musician)"
   ]
  },
  {
   "cell_type": "code",
   "execution_count": 27,
   "id": "566847cd-083f-455b-afbf-bd38e486c43d",
   "metadata": {},
   "outputs": [],
   "source": [
    "def build_person(first_name, last_name, age=\"\"):\n",
    " \n",
    " person = {'first': first_name, 'last': last_name, \"age\":age}\n",
    " \n",
    " return person\n"
   ]
  },
  {
   "cell_type": "code",
   "execution_count": 29,
   "id": "1aba9a96-6e2b-45d2-a6c5-2d874539711f",
   "metadata": {},
   "outputs": [
    {
     "name": "stdout",
     "output_type": "stream",
     "text": [
      "{'first': 'jimi', 'last': 'hendrix', 'age': ''}\n"
     ]
    }
   ],
   "source": [
    "poet = build_person('jimi', 'hendrix')\n",
    "print(poet)"
   ]
  },
  {
   "cell_type": "code",
   "execution_count": 34,
   "id": "e25dec9f-6cf3-4376-8060-728cdaf3b0c2",
   "metadata": {},
   "outputs": [],
   "source": [
    "def build_person(first_name, last_name, age=\"\"):\n",
    " \n",
    "    person = {'first': first_name, 'last': last_name}\n",
    "    if age:\n",
    "        person['age']=age        \n",
    "\n",
    " \n",
    "    return person\n"
   ]
  },
  {
   "cell_type": "code",
   "execution_count": 35,
   "id": "d962622a-bd90-4ceb-bbd2-379d7e1baa16",
   "metadata": {},
   "outputs": [
    {
     "name": "stdout",
     "output_type": "stream",
     "text": [
      "{'first': 'jimi', 'last': 'hendrix'}\n"
     ]
    }
   ],
   "source": [
    "poet = build_person('jimi', 'hendrix')\n",
    "print(poet)"
   ]
  },
  {
   "cell_type": "code",
   "execution_count": 36,
   "id": "73fd31de-6f07-48af-8a1b-39306668cf66",
   "metadata": {},
   "outputs": [
    {
     "name": "stdout",
     "output_type": "stream",
     "text": [
      "{'first': 'jimi', 'last': 'hendrix', 'age': 23}\n"
     ]
    }
   ],
   "source": [
    "poet = build_person('jimi', 'hendrix',23)\n",
    "print(poet)"
   ]
  },
  {
   "cell_type": "code",
   "execution_count": 37,
   "id": "7a37891c-fa7a-41ff-b86c-ac1ae3ade0ed",
   "metadata": {},
   "outputs": [
    {
     "data": {
      "text/plain": [
       "True"
      ]
     },
     "execution_count": 37,
     "metadata": {},
     "output_type": "execute_result"
    }
   ],
   "source": [
    "bool(1)"
   ]
  },
  {
   "cell_type": "code",
   "execution_count": 38,
   "id": "69f39e53-636e-4e39-94f9-93ec338724bc",
   "metadata": {},
   "outputs": [
    {
     "data": {
      "text/plain": [
       "False"
      ]
     },
     "execution_count": 38,
     "metadata": {},
     "output_type": "execute_result"
    }
   ],
   "source": [
    "bool(0)"
   ]
  },
  {
   "cell_type": "code",
   "execution_count": 39,
   "id": "4e1a122b-8b7a-4605-bb03-29a803a72db5",
   "metadata": {},
   "outputs": [
    {
     "data": {
      "text/plain": [
       "True"
      ]
     },
     "execution_count": 39,
     "metadata": {},
     "output_type": "execute_result"
    }
   ],
   "source": [
    "bool(\"hello\")"
   ]
  },
  {
   "cell_type": "code",
   "execution_count": 40,
   "id": "58bc28cf-bb59-49bf-a95c-0ef8974ad3ee",
   "metadata": {},
   "outputs": [
    {
     "data": {
      "text/plain": [
       "False"
      ]
     },
     "execution_count": 40,
     "metadata": {},
     "output_type": "execute_result"
    }
   ],
   "source": [
    "bool(\"\")"
   ]
  },
  {
   "cell_type": "code",
   "execution_count": 41,
   "id": "73803f86-a675-4d75-8c99-b14d8fd7c187",
   "metadata": {},
   "outputs": [
    {
     "data": {
      "text/plain": [
       "True"
      ]
     },
     "execution_count": 41,
     "metadata": {},
     "output_type": "execute_result"
    }
   ],
   "source": [
    "bool([1,2,6])"
   ]
  },
  {
   "cell_type": "code",
   "execution_count": 42,
   "id": "e3afb3d3-7826-4b98-81d1-c44a2ad0781f",
   "metadata": {},
   "outputs": [
    {
     "data": {
      "text/plain": [
       "False"
      ]
     },
     "execution_count": 42,
     "metadata": {},
     "output_type": "execute_result"
    }
   ],
   "source": [
    "bool([])"
   ]
  },
  {
   "cell_type": "code",
   "execution_count": 43,
   "id": "38978066-83db-41b8-8bc7-0166b597cfd0",
   "metadata": {},
   "outputs": [],
   "source": [
    "def get_formatted_name(first_name, last_name, middle_name=''):\n",
    "    if middle_name:\n",
    "        full_name = first_name + ' ' + middle_name + ' ' + last_name\n",
    "    else:\n",
    "        full_name = first_name + ' ' + last_name\n",
    "    return full_name.title()"
   ]
  },
  {
   "cell_type": "code",
   "execution_count": 44,
   "id": "b3fb7891-5d52-4931-b582-3167e8c5d50f",
   "metadata": {},
   "outputs": [
    {
     "name": "stdout",
     "output_type": "stream",
     "text": [
      "Jimi Hendrix\n"
     ]
    }
   ],
   "source": [
    "musician = get_formatted_name('jimi', 'hendrix')\n",
    "print(musician)\n"
   ]
  },
  {
   "cell_type": "code",
   "execution_count": 45,
   "id": "577fb73e-880c-4e75-97bd-3e699c964a5a",
   "metadata": {},
   "outputs": [
    {
     "name": "stdout",
     "output_type": "stream",
     "text": [
      "Jimi Hendrix Johny\n"
     ]
    }
   ],
   "source": [
    "musician = get_formatted_name('jimi', \"johny\",'hendrix')\n",
    "print(musician)\n"
   ]
  },
  {
   "cell_type": "code",
   "execution_count": 2,
   "id": "0ec15ddd-fb02-4c5c-b6e9-8e095618705f",
   "metadata": {},
   "outputs": [
    {
     "name": "stdout",
     "output_type": "stream",
     "text": [
      "\n",
      "Please tell me your name: press q to exit\n"
     ]
    },
    {
     "name": "stdin",
     "output_type": "stream",
     "text": [
      "First name:  nasir\n",
      "Middle name hussain\n",
      "Last name:  agha\n"
     ]
    },
    {
     "name": "stdout",
     "output_type": "stream",
     "text": [
      "\n",
      "Hello, Nasir Hussain  Agha!\n",
      "\n",
      "Please tell me your name: press q to exit\n"
     ]
    },
    {
     "name": "stdin",
     "output_type": "stream",
     "text": [
      "First name:  q\n"
     ]
    }
   ],
   "source": [
    "def get_formatted_name(first_name, last_name, middle_name=''):\n",
    "    if middle_name:\n",
    "        full_name = f\"{first_name} {middle_name}  {last_name}\"\n",
    "    else:\n",
    "        full_name = f\"{first_name} {last_name}\"\n",
    "    return full_name.title()\n",
    "\n",
    "# This is an infinite loop!\n",
    "while True:\n",
    "    print(\"\\nPlease tell me your name: press q to exit\")\n",
    "    \n",
    "    f_name = input(\"First name: \")\n",
    "    if f_name=='q':\n",
    "        break\n",
    "    m_name = input(\"Middle name\")\n",
    "    if f_name=='q':\n",
    "        break\n",
    "    l_name = input(\"Last name: \")\n",
    "    if f_name=='q':\n",
    "        break\n",
    "\n",
    "    formatted_name = get_formatted_name(f_name, l_name,m_name)\n",
    "    print(\"\\nHello, \" + formatted_name + \"!\")"
   ]
  },
  {
   "cell_type": "code",
   "execution_count": null,
   "id": "50022e88-9560-41c1-86a8-69b9099a8188",
   "metadata": {},
   "outputs": [],
   "source": []
  }
 ],
 "metadata": {
  "kernelspec": {
   "display_name": "Python 3 (ipykernel)",
   "language": "python",
   "name": "python3"
  },
  "language_info": {
   "codemirror_mode": {
    "name": "ipython",
    "version": 3
   },
   "file_extension": ".py",
   "mimetype": "text/x-python",
   "name": "python",
   "nbconvert_exporter": "python",
   "pygments_lexer": "ipython3",
   "version": "3.12.3"
  }
 },
 "nbformat": 4,
 "nbformat_minor": 5
}
