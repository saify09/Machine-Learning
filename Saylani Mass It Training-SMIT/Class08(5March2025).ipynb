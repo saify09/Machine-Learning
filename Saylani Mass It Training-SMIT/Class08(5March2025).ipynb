{
 "cells": [
  {
   "cell_type": "markdown",
   "id": "d7eae34b-ceac-469e-8e49-bcc22c074f61",
   "metadata": {},
   "source": [
    "# Dictionary\n",
    "  - defined using {}\n",
    "  - A dictionary has key value pairs {key:value}\n",
    "  - mutable\n",
    "  - iterable\n",
    "  - there is no index in dictionary"
   ]
  },
  {
   "cell_type": "code",
   "execution_count": 4,
   "id": "ea831bd5-2fce-461a-a700-191987c69334",
   "metadata": {},
   "outputs": [
    {
     "name": "stdout",
     "output_type": "stream",
     "text": [
      "<class 'dict'>\n"
     ]
    }
   ],
   "source": [
    "# empty dictionary\n",
    "empty_dic ={}\n",
    "print(type(empty_dic))"
   ]
  },
  {
   "cell_type": "code",
   "execution_count": 5,
   "id": "b76005a3-8cad-4afd-8220-2f179a22f7db",
   "metadata": {},
   "outputs": [
    {
     "data": {
      "text/plain": [
       "1"
      ]
     },
     "execution_count": 5,
     "metadata": {},
     "output_type": "execute_result"
    }
   ],
   "source": [
    "# creating a dictionary with members(keys:values)\n",
    "items = {'bottle':400}\n",
    "len(items)"
   ]
  },
  {
   "cell_type": "code",
   "execution_count": 6,
   "id": "46c8c269-0ee1-4d71-9fcb-431560dc5aa0",
   "metadata": {},
   "outputs": [],
   "source": [
    "items = {'bottle':400, 'mouse':1000, 'keyboard':3000}"
   ]
  },
  {
   "cell_type": "code",
   "execution_count": 7,
   "id": "b6752022-7e8c-42ec-b983-cc7e7a751cc3",
   "metadata": {},
   "outputs": [
    {
     "data": {
      "text/plain": [
       "3"
      ]
     },
     "execution_count": 7,
     "metadata": {},
     "output_type": "execute_result"
    }
   ],
   "source": [
    "len(items)"
   ]
  },
  {
   "cell_type": "code",
   "execution_count": 8,
   "id": "d1626045-3d7a-45b8-9c1c-c410efab7d91",
   "metadata": {},
   "outputs": [
    {
     "data": {
      "text/plain": [
       "1000"
      ]
     },
     "execution_count": 8,
     "metadata": {},
     "output_type": "execute_result"
    }
   ],
   "source": [
    "# accesing a memeber from a dictionary \n",
    "items['mouse']"
   ]
  },
  {
   "cell_type": "code",
   "execution_count": 9,
   "id": "a90abba7-c808-471b-bbc5-994f9bd21c53",
   "metadata": {},
   "outputs": [
    {
     "data": {
      "text/plain": [
       "400"
      ]
     },
     "execution_count": 9,
     "metadata": {},
     "output_type": "execute_result"
    }
   ],
   "source": [
    "items['bottle']"
   ]
  },
  {
   "cell_type": "code",
   "execution_count": 10,
   "id": "1b230c10-fea1-4caf-84ab-b51bb2b528e0",
   "metadata": {},
   "outputs": [
    {
     "ename": "KeyError",
     "evalue": "'pen'",
     "output_type": "error",
     "traceback": [
      "\u001b[1;31m---------------------------------------------------------------------------\u001b[0m",
      "\u001b[1;31mKeyError\u001b[0m                                  Traceback (most recent call last)",
      "Cell \u001b[1;32mIn[10], line 1\u001b[0m\n\u001b[1;32m----> 1\u001b[0m items[\u001b[38;5;124m'\u001b[39m\u001b[38;5;124mpen\u001b[39m\u001b[38;5;124m'\u001b[39m]\n",
      "\u001b[1;31mKeyError\u001b[0m: 'pen'"
     ]
    }
   ],
   "source": [
    "# passing a key that doesnt exist in the dictionary: key error\n",
    "items['pen']"
   ]
  },
  {
   "cell_type": "code",
   "execution_count": 11,
   "id": "fc0f8725-a56f-4c90-b479-1c7bab508596",
   "metadata": {},
   "outputs": [],
   "source": [
    "# creating a student record in list\n",
    "student =  ['Ubaid',20, 'Python', 23, 'SMIT', 'Male']"
   ]
  },
  {
   "cell_type": "code",
   "execution_count": 13,
   "id": "29fefb90-afdd-4384-9758-9ef60e43e4ba",
   "metadata": {},
   "outputs": [],
   "source": [
    "student = {'name':'Ubaid', 'age':20, 'Course':'Python',\n",
    "            \"roll\":23, 'institute':'SMIT', 'Gender':'Male'}"
   ]
  },
  {
   "cell_type": "code",
   "execution_count": 14,
   "id": "6e4e9766-06d2-40f3-a8dc-4b1ac811f1e3",
   "metadata": {},
   "outputs": [
    {
     "data": {
      "text/plain": [
       "'Ubaid'"
      ]
     },
     "execution_count": 14,
     "metadata": {},
     "output_type": "execute_result"
    }
   ],
   "source": [
    "student['name']"
   ]
  },
  {
   "cell_type": "code",
   "execution_count": 15,
   "id": "2bcf7e24-d39f-4911-83e3-53491c52cde2",
   "metadata": {},
   "outputs": [
    {
     "data": {
      "text/plain": [
       "20"
      ]
     },
     "execution_count": 15,
     "metadata": {},
     "output_type": "execute_result"
    }
   ],
   "source": [
    "student['age']"
   ]
  },
  {
   "cell_type": "code",
   "execution_count": 20,
   "id": "532b325f-236a-4c5d-9bf0-5ec1bc36dc3c",
   "metadata": {},
   "outputs": [],
   "source": [
    "number_sqaures = {1:1, True:4, 3:9,4:16, 5:25,6:36,7:49}"
   ]
  },
  {
   "cell_type": "code",
   "execution_count": 21,
   "id": "379555bd-cb84-4777-8f34-64203f7305ee",
   "metadata": {},
   "outputs": [
    {
     "data": {
      "text/plain": [
       "4"
      ]
     },
     "execution_count": 21,
     "metadata": {},
     "output_type": "execute_result"
    }
   ],
   "source": [
    "number_sqaures[True]"
   ]
  },
  {
   "cell_type": "code",
   "execution_count": null,
   "id": "8f9f214c-3d06-4fa6-9eab-6ab418c27449",
   "metadata": {},
   "outputs": [],
   "source": [
    "student = {'name':'Ubaid', 'age':20, 'Course':'Python',\n",
    "            \"roll\":23, 'institute':'SMIT', 'Gender':'Male'}"
   ]
  },
  {
   "cell_type": "code",
   "execution_count": 24,
   "id": "d877d737-eb4d-47ee-8760-fcd43202824e",
   "metadata": {},
   "outputs": [
    {
     "data": {
      "text/plain": [
       "{'name': 'Ubaid',\n",
       " 'age': 20,\n",
       " 'Course': 'Python',\n",
       " 'roll': 23,\n",
       " 'institute': 'SMIT',\n",
       " 'Gender': 'Male',\n",
       " 'email': 'ubaid@gmail.com'}"
      ]
     },
     "execution_count": 24,
     "metadata": {},
     "output_type": "execute_result"
    }
   ],
   "source": [
    "# adding more members to an exissintg dictionary\n",
    "student['email'] = \"ubaid@gmail.com\"\n",
    "student"
   ]
  },
  {
   "cell_type": "code",
   "execution_count": 25,
   "id": "2de8f4b4-6c33-4b3d-8d3a-6d31467b5cbb",
   "metadata": {},
   "outputs": [
    {
     "data": {
      "text/plain": [
       "{'name': 'Ubaid',\n",
       " 'age': 50,\n",
       " 'Course': 'Python',\n",
       " 'roll': 23,\n",
       " 'institute': 'SMIT',\n",
       " 'Gender': 'Male',\n",
       " 'email': 'ubaid@gmail.com'}"
      ]
     },
     "execution_count": 25,
     "metadata": {},
     "output_type": "execute_result"
    }
   ],
   "source": [
    "# if keys exist it updates its value \n",
    "student['age'] = 50\n",
    "student"
   ]
  },
  {
   "cell_type": "code",
   "execution_count": 26,
   "id": "f0c374ea-a04c-4412-a023-30aed472a462",
   "metadata": {},
   "outputs": [
    {
     "data": {
      "text/plain": [
       "{'name': 'Akram',\n",
       " 'age': 20,\n",
       " 'Course': 'Python',\n",
       " 'roll': 23,\n",
       " 'institute': 'SMIT',\n",
       " 'Gender': 'Male'}"
      ]
     },
     "execution_count": 26,
     "metadata": {},
     "output_type": "execute_result"
    }
   ],
   "source": [
    "student = {'name':'Ubaid', 'age':20, 'Course':'Python',\n",
    "            \"roll\":23, 'institute':'SMIT', 'Gender':'Male', 'name':'Akram'}\n",
    "student"
   ]
  },
  {
   "cell_type": "code",
   "execution_count": 27,
   "id": "9e765659-171b-4ef5-a58f-ff3c97aa2718",
   "metadata": {},
   "outputs": [
    {
     "name": "stdout",
     "output_type": "stream",
     "text": [
      "o\n",
      "Web\n",
      "Python\n",
      "python\n"
     ]
    }
   ],
   "source": [
    "course = \"Python\"\n",
    "courses = ['Python', 'Web']\n",
    "courses_dic = {'course':'Python'}\n",
    "courses_tuple = ('python', 'java')\n",
    "\n",
    "print(course[-2])\n",
    "print(courses[1])\n",
    "print(courses_dic['course'])\n",
    "print(courses_tuple[0])"
   ]
  },
  {
   "cell_type": "code",
   "execution_count": 30,
   "id": "76a70fc0-6a47-4ca2-ae1b-e867ba13877e",
   "metadata": {},
   "outputs": [
    {
     "data": {
      "text/plain": [
       "('Python', 'Python')"
      ]
     },
     "execution_count": 30,
     "metadata": {},
     "output_type": "execute_result"
    }
   ],
   "source": [
    "student['Course'] , student.get('Course')"
   ]
  },
  {
   "cell_type": "code",
   "execution_count": 31,
   "id": "219b43df-2f78-443c-a790-e15ec6010c03",
   "metadata": {},
   "outputs": [
    {
     "data": {
      "text/plain": [
       "dict_keys(['name', 'age', 'Course', 'roll', 'institute', 'Gender'])"
      ]
     },
     "execution_count": 31,
     "metadata": {},
     "output_type": "execute_result"
    }
   ],
   "source": [
    "student.keys()"
   ]
  },
  {
   "cell_type": "code",
   "execution_count": 33,
   "id": "bb69bed6-03e0-43ba-af19-bfb2b6a2dd8e",
   "metadata": {},
   "outputs": [
    {
     "data": {
      "text/plain": [
       "dict_values(['Akram', 20, 'Python', 23, 'SMIT', 'Male'])"
      ]
     },
     "execution_count": 33,
     "metadata": {},
     "output_type": "execute_result"
    }
   ],
   "source": [
    "student.values()"
   ]
  },
  {
   "cell_type": "code",
   "execution_count": 34,
   "id": "adea6517-c2d6-412b-8489-443f890463cc",
   "metadata": {},
   "outputs": [
    {
     "data": {
      "text/plain": [
       "dict_items([('name', 'Akram'), ('age', 20), ('Course', 'Python'), ('roll', 23), ('institute', 'SMIT'), ('Gender', 'Male')])"
      ]
     },
     "execution_count": 34,
     "metadata": {},
     "output_type": "execute_result"
    }
   ],
   "source": [
    "student.items()"
   ]
  },
  {
   "cell_type": "code",
   "execution_count": 35,
   "id": "012695a6-3489-4330-8598-0e5919dad12e",
   "metadata": {},
   "outputs": [
    {
     "data": {
      "text/plain": [
       "'Male'"
      ]
     },
     "execution_count": 35,
     "metadata": {},
     "output_type": "execute_result"
    }
   ],
   "source": [
    "student.pop('Gender')"
   ]
  },
  {
   "cell_type": "code",
   "execution_count": 36,
   "id": "e7b59751-89ea-4bad-88d4-dc1b97731582",
   "metadata": {},
   "outputs": [
    {
     "data": {
      "text/plain": [
       "{'name': 'Akram',\n",
       " 'age': 20,\n",
       " 'Course': 'Python',\n",
       " 'roll': 23,\n",
       " 'institute': 'SMIT'}"
      ]
     },
     "execution_count": 36,
     "metadata": {},
     "output_type": "execute_result"
    }
   ],
   "source": [
    "student"
   ]
  },
  {
   "cell_type": "code",
   "execution_count": 37,
   "id": "64af570e-d2ba-4520-8d8e-c6311ee7a273",
   "metadata": {},
   "outputs": [
    {
     "data": {
      "text/plain": [
       "('institute', 'SMIT')"
      ]
     },
     "execution_count": 37,
     "metadata": {},
     "output_type": "execute_result"
    }
   ],
   "source": [
    "student.popitem()"
   ]
  },
  {
   "cell_type": "code",
   "execution_count": 38,
   "id": "bdfc7919-adab-4857-bace-18eafe1fb3c8",
   "metadata": {},
   "outputs": [],
   "source": [
    "meta_data = {'father':'aslam','city':'Hydb'}"
   ]
  },
  {
   "cell_type": "code",
   "execution_count": 39,
   "id": "02d0aa58-a889-4b80-ba79-dba40b83f668",
   "metadata": {},
   "outputs": [],
   "source": [
    "student['meta_data'] = meta_data"
   ]
  },
  {
   "cell_type": "code",
   "execution_count": 40,
   "id": "b49a006f-1297-4131-9349-e8b66fb07942",
   "metadata": {},
   "outputs": [
    {
     "data": {
      "text/plain": [
       "{'name': 'Akram',\n",
       " 'age': 20,\n",
       " 'Course': 'Python',\n",
       " 'roll': 23,\n",
       " 'meta_data': {'father': 'aslam', 'city': 'Hydb'}}"
      ]
     },
     "execution_count": 40,
     "metadata": {},
     "output_type": "execute_result"
    }
   ],
   "source": [
    "student"
   ]
  },
  {
   "cell_type": "code",
   "execution_count": 41,
   "id": "a2f0a1b2-de88-4120-a5d2-2112b08a08ce",
   "metadata": {},
   "outputs": [],
   "source": [
    "student.update(meta_data)"
   ]
  },
  {
   "cell_type": "code",
   "execution_count": 42,
   "id": "07352a46-1a2c-487e-b1af-79b08b74faf4",
   "metadata": {},
   "outputs": [
    {
     "data": {
      "text/plain": [
       "{'name': 'Akram',\n",
       " 'age': 20,\n",
       " 'Course': 'Python',\n",
       " 'roll': 23,\n",
       " 'meta_data': {'father': 'aslam', 'city': 'Hydb'},\n",
       " 'father': 'aslam',\n",
       " 'city': 'Hydb'}"
      ]
     },
     "execution_count": 42,
     "metadata": {},
     "output_type": "execute_result"
    }
   ],
   "source": [
    "student"
   ]
  },
  {
   "cell_type": "markdown",
   "id": "05625a44-b71b-412e-97d4-d3c87fad1087",
   "metadata": {},
   "source": [
    "# Set\n",
    "  - collection of well defined and unique object\n",
    "  - set immtable\n",
    "  - {2,3,4}"
   ]
  },
  {
   "cell_type": "code",
   "execution_count": 49,
   "id": "e7753714-8b3e-40ef-93c3-34a9aded3e28",
   "metadata": {},
   "outputs": [
    {
     "data": {
      "text/plain": [
       "set"
      ]
     },
     "execution_count": 49,
     "metadata": {},
     "output_type": "execute_result"
    }
   ],
   "source": [
    "aset = {5}\n",
    "type(aset)"
   ]
  },
  {
   "cell_type": "code",
   "execution_count": 50,
   "id": "6f62734d-88ec-4319-8167-4b7fa04fd370",
   "metadata": {},
   "outputs": [
    {
     "data": {
      "text/plain": [
       "9"
      ]
     },
     "execution_count": 50,
     "metadata": {},
     "output_type": "execute_result"
    }
   ],
   "source": [
    "aset = {1,2,3,4,5,6,7,8,9,1,2,3,4,5}\n",
    "len(aset)"
   ]
  },
  {
   "cell_type": "code",
   "execution_count": 51,
   "id": "a939cba4-eba3-4e26-85b4-7a77cf7aacfb",
   "metadata": {},
   "outputs": [
    {
     "data": {
      "text/plain": [
       "{1, 2, 3, 4, 5, 6, 7, 8, 9}"
      ]
     },
     "execution_count": 51,
     "metadata": {},
     "output_type": "execute_result"
    }
   ],
   "source": [
    "aset"
   ]
  },
  {
   "cell_type": "code",
   "execution_count": null,
   "id": "bb9be8f9-d2d1-43d2-8cb5-0f26eef43155",
   "metadata": {},
   "outputs": [],
   "source": []
  },
  {
   "cell_type": "code",
   "execution_count": null,
   "id": "cf48476f-d5f8-4a07-b392-27aafa184b1a",
   "metadata": {},
   "outputs": [],
   "source": []
  }
 ],
 "metadata": {
  "kernelspec": {
   "display_name": "Python 3 (ipykernel)",
   "language": "python",
   "name": "python3"
  },
  "language_info": {
   "codemirror_mode": {
    "name": "ipython",
    "version": 3
   },
   "file_extension": ".py",
   "mimetype": "text/x-python",
   "name": "python",
   "nbconvert_exporter": "python",
   "pygments_lexer": "ipython3",
   "version": "3.12.7"
  }
 },
 "nbformat": 4,
 "nbformat_minor": 5
}
