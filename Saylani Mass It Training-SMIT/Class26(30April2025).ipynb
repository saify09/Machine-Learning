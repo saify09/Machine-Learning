{
 "cells": [
  {
   "cell_type": "code",
   "execution_count": 3,
   "id": "4ed6387a-2f6e-44cb-b196-d65d48caf503",
   "metadata": {},
   "outputs": [],
   "source": [
    "import pandas as pd\n",
    "import numpy as np\n",
    "import matplotlib.pyplot as plt"
   ]
  },
  {
   "cell_type": "markdown",
   "id": "9ccaa60d-c681-4611-be53-1ceca839417c",
   "metadata": {},
   "source": [
    "# Pandas \n",
    "   - Python Library\n",
    "   - Pandas deals in al types of data\n",
    "   - Backend Numpy\n",
    "# Pandas Data Structure\n",
    "   - Pandas Series\n",
    "   - Pandas Data Frame\n",
    "     "
   ]
  },
  {
   "cell_type": "markdown",
   "id": "d46d6fe5-6c15-4414-abb2-b3ab9c0ce5fe",
   "metadata": {},
   "source": [
    "# Pandas Series\n",
    "     - Data in single columns (Univariate) is Series."
   ]
  },
  {
   "cell_type": "code",
   "execution_count": 9,
   "id": "ac79a88e-a429-40fe-a8d8-5ca275bef8bb",
   "metadata": {},
   "outputs": [
    {
     "data": {
      "text/plain": [
       "0    23.0\n",
       "1    45.0\n",
       "2    67.0\n",
       "3    89.0\n",
       "4    34.0\n",
       "dtype: float64"
      ]
     },
     "execution_count": 9,
     "metadata": {},
     "output_type": "execute_result"
    }
   ],
   "source": [
    "# Creating Series \n",
    "s1  = pd.Series([23,45,67.0,89,34])\n",
    "s1"
   ]
  },
  {
   "cell_type": "raw",
   "id": "6d0f8815-0d69-4709-8b3c-bfaea536010d",
   "metadata": {},
   "source": [
    "components:  index , values , dtype"
   ]
  },
  {
   "cell_type": "code",
   "execution_count": 6,
   "id": "92f770ae-1625-42d6-9d3d-c29c069a6de1",
   "metadata": {},
   "outputs": [
    {
     "data": {
      "text/plain": [
       "array([23, 45, 67, 89, 34], dtype=int64)"
      ]
     },
     "execution_count": 6,
     "metadata": {},
     "output_type": "execute_result"
    }
   ],
   "source": [
    "s1.values"
   ]
  },
  {
   "cell_type": "code",
   "execution_count": 7,
   "id": "b3e05b93-8bfc-424e-abd7-232a4ea3f3c3",
   "metadata": {},
   "outputs": [
    {
     "data": {
      "text/plain": [
       "RangeIndex(start=0, stop=5, step=1)"
      ]
     },
     "execution_count": 7,
     "metadata": {},
     "output_type": "execute_result"
    }
   ],
   "source": [
    "s1.index"
   ]
  },
  {
   "cell_type": "code",
   "execution_count": 8,
   "id": "8db5898a-437c-4a37-9a8b-253453cf3c52",
   "metadata": {},
   "outputs": [
    {
     "data": {
      "text/plain": [
       "dtype('int64')"
      ]
     },
     "execution_count": 8,
     "metadata": {},
     "output_type": "execute_result"
    }
   ],
   "source": [
    "s1.dtype"
   ]
  },
  {
   "cell_type": "code",
   "execution_count": 10,
   "id": "cffcc8d5-81ed-4af8-aa83-85a5e7e8c6cb",
   "metadata": {},
   "outputs": [
    {
     "data": {
      "text/plain": [
       "0      Headphone\n",
       "1         Laptop\n",
       "2    MobilePhone\n",
       "3         Python\n",
       "4      Powerbank\n",
       "dtype: object"
      ]
     },
     "execution_count": 10,
     "metadata": {},
     "output_type": "execute_result"
    }
   ],
   "source": [
    "s2 = pd.Series(['Headphone', 'Laptop', 'MobilePhone', 'Python', 'Powerbank'])\n",
    "s2"
   ]
  },
  {
   "cell_type": "markdown",
   "id": "0f17b985-280a-4b52-b7dc-13d1589fa836",
   "metadata": {},
   "source": [
    "# Indexing"
   ]
  },
  {
   "cell_type": "code",
   "execution_count": 11,
   "id": "32095048-dc1a-4f60-a7db-39b685c16522",
   "metadata": {},
   "outputs": [
    {
     "data": {
      "text/plain": [
       "'Python'"
      ]
     },
     "execution_count": 11,
     "metadata": {},
     "output_type": "execute_result"
    }
   ],
   "source": [
    "s2[3]"
   ]
  },
  {
   "cell_type": "code",
   "execution_count": 13,
   "id": "a7bec590-3d9c-434d-aadc-e0a53b0dc5eb",
   "metadata": {},
   "outputs": [
    {
     "data": {
      "text/plain": [
       "'Headphone'"
      ]
     },
     "execution_count": 13,
     "metadata": {},
     "output_type": "execute_result"
    }
   ],
   "source": [
    "s2[0]"
   ]
  },
  {
   "cell_type": "markdown",
   "id": "c5f660b7-8860-4852-90a8-7acf4a083237",
   "metadata": {},
   "source": [
    "# Slicing"
   ]
  },
  {
   "cell_type": "code",
   "execution_count": 14,
   "id": "943214c3-86b9-4d81-8398-8940cc9fcd01",
   "metadata": {},
   "outputs": [
    {
     "data": {
      "text/plain": [
       "1         Laptop\n",
       "2    MobilePhone\n",
       "3         Python\n",
       "dtype: object"
      ]
     },
     "execution_count": 14,
     "metadata": {},
     "output_type": "execute_result"
    }
   ],
   "source": [
    "s2[1:4]"
   ]
  },
  {
   "cell_type": "raw",
   "id": "ea228a10-f60d-4f98-b963-d69409859467",
   "metadata": {},
   "source": [
    "Lables: index are default sequences(0,1,2,.....) where as lables are the index provided by us. "
   ]
  },
  {
   "cell_type": "code",
   "execution_count": 20,
   "id": "78176fe1-73c0-401b-964b-7033cee1e993",
   "metadata": {},
   "outputs": [
    {
     "data": {
      "text/plain": [
       "Apples      12\n",
       "Mangoes     24\n",
       "Bananas     36\n",
       "Peeches     12\n",
       "Cherries    18\n",
       "Gauvas      12\n",
       "Oranges     24\n",
       "dtype: int64"
      ]
     },
     "execution_count": 20,
     "metadata": {},
     "output_type": "execute_result"
    }
   ],
   "source": [
    "fruits = pd.Series(data=[12,24,36,12,18,12,24],index=['Apples','Mangoes','Bananas','Peeches','Cherries','Gauvas','Oranges'])\n",
    "fruits"
   ]
  },
  {
   "cell_type": "code",
   "execution_count": 23,
   "id": "84d06ea8-c27f-4122-bc0f-72c835bb8b8c",
   "metadata": {},
   "outputs": [
    {
     "data": {
      "text/plain": [
       "36"
      ]
     },
     "execution_count": 23,
     "metadata": {},
     "output_type": "execute_result"
    }
   ],
   "source": [
    "fruits['Bananas']"
   ]
  },
  {
   "cell_type": "code",
   "execution_count": 24,
   "id": "1ef6ee71-7707-4bb3-a63e-0f77792a7e47",
   "metadata": {},
   "outputs": [
    {
     "data": {
      "text/plain": [
       "12"
      ]
     },
     "execution_count": 24,
     "metadata": {},
     "output_type": "execute_result"
    }
   ],
   "source": [
    "fruits['Apples']"
   ]
  },
  {
   "cell_type": "code",
   "execution_count": 25,
   "id": "3ebb8028-3a97-4489-b5d1-eb2efc1ec776",
   "metadata": {},
   "outputs": [
    {
     "data": {
      "text/plain": [
       "Mangoes     24\n",
       "Bananas     36\n",
       "Peeches     12\n",
       "Cherries    18\n",
       "Gauvas      12\n",
       "dtype: int64"
      ]
     },
     "execution_count": 25,
     "metadata": {},
     "output_type": "execute_result"
    }
   ],
   "source": [
    "fruits['Mangoes':'Gauvas']"
   ]
  },
  {
   "cell_type": "code",
   "execution_count": 26,
   "id": "b6541840-8404-4b5c-91c2-9fceefce48e1",
   "metadata": {},
   "outputs": [
    {
     "data": {
      "text/plain": [
       "Apples      12\n",
       "Bananas     36\n",
       "Cherries    18\n",
       "Oranges     24\n",
       "dtype: int64"
      ]
     },
     "execution_count": 26,
     "metadata": {},
     "output_type": "execute_result"
    }
   ],
   "source": [
    "fruits[::2]"
   ]
  },
  {
   "cell_type": "code",
   "execution_count": 27,
   "id": "2b4a3233-595c-459c-9cfc-4617e5cc9f7a",
   "metadata": {},
   "outputs": [
    {
     "data": {
      "text/plain": [
       "Apples       True\n",
       "Mangoes     False\n",
       "Bananas     False\n",
       "Peeches      True\n",
       "Cherries    False\n",
       "Gauvas       True\n",
       "Oranges     False\n",
       "dtype: bool"
      ]
     },
     "execution_count": 27,
     "metadata": {},
     "output_type": "execute_result"
    }
   ],
   "source": [
    "# returns boolean series\n",
    "fruits == 12"
   ]
  },
  {
   "cell_type": "markdown",
   "id": "679fd49b-2b11-483b-b8d7-4254757b7add",
   "metadata": {},
   "source": [
    "# Boolean Indexing: data is choosen on the basis of boolean True"
   ]
  },
  {
   "cell_type": "code",
   "execution_count": 30,
   "id": "b2c0f08e-9a97-4aec-992d-f2777387e5e5",
   "metadata": {},
   "outputs": [
    {
     "data": {
      "text/plain": [
       "Apples      12\n",
       "Mangoes     24\n",
       "Bananas     36\n",
       "Peeches     12\n",
       "Cherries    18\n",
       "Gauvas      12\n",
       "Oranges     24\n",
       "dtype: int64"
      ]
     },
     "execution_count": 30,
     "metadata": {},
     "output_type": "execute_result"
    }
   ],
   "source": [
    "fruits"
   ]
  },
  {
   "cell_type": "code",
   "execution_count": 28,
   "id": "9669e073-a5c9-457d-8578-e1ce1b71fc7a",
   "metadata": {},
   "outputs": [],
   "source": [
    "# boolean array or List\n",
    "abc  = [True, False, False ,True, True, True, False]"
   ]
  },
  {
   "cell_type": "code",
   "execution_count": 29,
   "id": "e3661933-c1fe-44f6-bd74-fd90bce47cbb",
   "metadata": {},
   "outputs": [
    {
     "data": {
      "text/plain": [
       "Apples      12\n",
       "Peeches     12\n",
       "Cherries    18\n",
       "Gauvas      12\n",
       "dtype: int64"
      ]
     },
     "execution_count": 29,
     "metadata": {},
     "output_type": "execute_result"
    }
   ],
   "source": [
    "fruits[abc]"
   ]
  },
  {
   "cell_type": "code",
   "execution_count": 31,
   "id": "c4042918-cff3-40c1-a382-570113fb9bb5",
   "metadata": {},
   "outputs": [
    {
     "data": {
      "text/plain": [
       "Apples     12\n",
       "Peeches    12\n",
       "Gauvas     12\n",
       "dtype: int64"
      ]
     },
     "execution_count": 31,
     "metadata": {},
     "output_type": "execute_result"
    }
   ],
   "source": [
    "fruits[fruits==12]"
   ]
  },
  {
   "cell_type": "code",
   "execution_count": 32,
   "id": "0097a178-31e4-47a3-8058-bcab2d107841",
   "metadata": {},
   "outputs": [
    {
     "data": {
      "text/plain": [
       "Mangoes     24\n",
       "Bananas     36\n",
       "Cherries    18\n",
       "Oranges     24\n",
       "dtype: int64"
      ]
     },
     "execution_count": 32,
     "metadata": {},
     "output_type": "execute_result"
    }
   ],
   "source": [
    "fruits[fruits>12]"
   ]
  },
  {
   "cell_type": "code",
   "execution_count": 34,
   "id": "47535c6b-5463-4cd8-8dba-f49b2e2472b0",
   "metadata": {},
   "outputs": [
    {
     "data": {
      "text/plain": [
       "Cherries    18\n",
       "dtype: int64"
      ]
     },
     "execution_count": 34,
     "metadata": {},
     "output_type": "execute_result"
    }
   ],
   "source": [
    "fruits[ (fruits>12) & (fruits<24) ]"
   ]
  },
  {
   "cell_type": "code",
   "execution_count": 35,
   "id": "44daf631-dfb5-4519-929a-c627cdbd204a",
   "metadata": {},
   "outputs": [
    {
     "data": {
      "text/plain": [
       "Apples     12\n",
       "Bananas    36\n",
       "Peeches    12\n",
       "Gauvas     12\n",
       "dtype: int64"
      ]
     },
     "execution_count": 35,
     "metadata": {},
     "output_type": "execute_result"
    }
   ],
   "source": [
    "fruits[ (fruits==12) | (fruits>24) ]"
   ]
  },
  {
   "cell_type": "code",
   "execution_count": 36,
   "id": "f8af785c-1aec-430f-9774-2467527aee2e",
   "metadata": {},
   "outputs": [
    {
     "data": {
      "text/plain": [
       "(7,)"
      ]
     },
     "execution_count": 36,
     "metadata": {},
     "output_type": "execute_result"
    }
   ],
   "source": [
    "fruits.shape"
   ]
  },
  {
   "cell_type": "code",
   "execution_count": 37,
   "id": "eac935e6-d33a-410d-bdaa-bb2c719eea9f",
   "metadata": {},
   "outputs": [
    {
     "data": {
      "text/plain": [
       "7"
      ]
     },
     "execution_count": 37,
     "metadata": {},
     "output_type": "execute_result"
    }
   ],
   "source": [
    "fruits.size"
   ]
  },
  {
   "cell_type": "code",
   "execution_count": 39,
   "id": "5ae7a569-d5ee-44d2-82b7-118ad8090f15",
   "metadata": {},
   "outputs": [
    {
     "data": {
      "text/plain": [
       "1"
      ]
     },
     "execution_count": 39,
     "metadata": {},
     "output_type": "execute_result"
    }
   ],
   "source": [
    "fruits.ndim"
   ]
  },
  {
   "cell_type": "markdown",
   "id": "8cd37da2-050e-41f6-9f7c-193c28645810",
   "metadata": {},
   "source": [
    "# Pandas DataFrame\n",
    "   - Data in more than 1 columns is dataframe"
   ]
  },
  {
   "cell_type": "code",
   "execution_count": 40,
   "id": "5b266a85-8535-47e1-a356-0c162f2ecaa5",
   "metadata": {},
   "outputs": [],
   "source": [
    "result = {'roll#':[1,2,3,4,5,6,7,8,9,10],\n",
    "         'name':['Asad','Ali','Basir','Atif', 'Fahad','Aslam', 'Babar','Tahir','Tariq','Umer'],\n",
    "         'python':[78,67,89,45,34,78,90,99,34,50],\n",
    "         'numpy': [78,89,90,89,78,76,76,75,78,67],\n",
    "         'pandas':[88,87,86,67,45,62,90,97,98,100]}"
   ]
  },
  {
   "cell_type": "code",
   "execution_count": 63,
   "id": "ce071583-15ef-4535-bc28-20b178928588",
   "metadata": {},
   "outputs": [
    {
     "data": {
      "text/html": [
       "<div>\n",
       "<style scoped>\n",
       "    .dataframe tbody tr th:only-of-type {\n",
       "        vertical-align: middle;\n",
       "    }\n",
       "\n",
       "    .dataframe tbody tr th {\n",
       "        vertical-align: top;\n",
       "    }\n",
       "\n",
       "    .dataframe thead th {\n",
       "        text-align: right;\n",
       "    }\n",
       "</style>\n",
       "<table border=\"1\" class=\"dataframe\">\n",
       "  <thead>\n",
       "    <tr style=\"text-align: right;\">\n",
       "      <th></th>\n",
       "      <th>roll#</th>\n",
       "      <th>name</th>\n",
       "      <th>python</th>\n",
       "      <th>numpy</th>\n",
       "      <th>pandas</th>\n",
       "    </tr>\n",
       "  </thead>\n",
       "  <tbody>\n",
       "    <tr>\n",
       "      <th>0</th>\n",
       "      <td>1</td>\n",
       "      <td>Asad</td>\n",
       "      <td>78</td>\n",
       "      <td>78</td>\n",
       "      <td>88</td>\n",
       "    </tr>\n",
       "    <tr>\n",
       "      <th>1</th>\n",
       "      <td>2</td>\n",
       "      <td>Ali</td>\n",
       "      <td>67</td>\n",
       "      <td>89</td>\n",
       "      <td>87</td>\n",
       "    </tr>\n",
       "    <tr>\n",
       "      <th>2</th>\n",
       "      <td>3</td>\n",
       "      <td>Basir</td>\n",
       "      <td>89</td>\n",
       "      <td>90</td>\n",
       "      <td>86</td>\n",
       "    </tr>\n",
       "    <tr>\n",
       "      <th>3</th>\n",
       "      <td>4</td>\n",
       "      <td>Atif</td>\n",
       "      <td>45</td>\n",
       "      <td>89</td>\n",
       "      <td>67</td>\n",
       "    </tr>\n",
       "    <tr>\n",
       "      <th>4</th>\n",
       "      <td>5</td>\n",
       "      <td>Fahad</td>\n",
       "      <td>34</td>\n",
       "      <td>78</td>\n",
       "      <td>45</td>\n",
       "    </tr>\n",
       "    <tr>\n",
       "      <th>5</th>\n",
       "      <td>6</td>\n",
       "      <td>Aslam</td>\n",
       "      <td>78</td>\n",
       "      <td>76</td>\n",
       "      <td>62</td>\n",
       "    </tr>\n",
       "    <tr>\n",
       "      <th>6</th>\n",
       "      <td>7</td>\n",
       "      <td>Babar</td>\n",
       "      <td>90</td>\n",
       "      <td>76</td>\n",
       "      <td>90</td>\n",
       "    </tr>\n",
       "    <tr>\n",
       "      <th>7</th>\n",
       "      <td>8</td>\n",
       "      <td>Tahir</td>\n",
       "      <td>99</td>\n",
       "      <td>75</td>\n",
       "      <td>97</td>\n",
       "    </tr>\n",
       "    <tr>\n",
       "      <th>8</th>\n",
       "      <td>9</td>\n",
       "      <td>Tariq</td>\n",
       "      <td>34</td>\n",
       "      <td>78</td>\n",
       "      <td>98</td>\n",
       "    </tr>\n",
       "    <tr>\n",
       "      <th>9</th>\n",
       "      <td>10</td>\n",
       "      <td>Umer</td>\n",
       "      <td>50</td>\n",
       "      <td>67</td>\n",
       "      <td>100</td>\n",
       "    </tr>\n",
       "  </tbody>\n",
       "</table>\n",
       "</div>"
      ],
      "text/plain": [
       "   roll#   name  python  numpy  pandas\n",
       "0      1   Asad      78     78      88\n",
       "1      2    Ali      67     89      87\n",
       "2      3  Basir      89     90      86\n",
       "3      4   Atif      45     89      67\n",
       "4      5  Fahad      34     78      45\n",
       "5      6  Aslam      78     76      62\n",
       "6      7  Babar      90     76      90\n",
       "7      8  Tahir      99     75      97\n",
       "8      9  Tariq      34     78      98\n",
       "9     10   Umer      50     67     100"
      ]
     },
     "execution_count": 63,
     "metadata": {},
     "output_type": "execute_result"
    }
   ],
   "source": [
    "result = pd.DataFrame(result)\n",
    "result"
   ]
  },
  {
   "cell_type": "code",
   "execution_count": 51,
   "id": "92076a05-4517-4ea3-b2f5-e95465faab71",
   "metadata": {},
   "outputs": [
    {
     "data": {
      "text/html": [
       "<div>\n",
       "<style scoped>\n",
       "    .dataframe tbody tr th:only-of-type {\n",
       "        vertical-align: middle;\n",
       "    }\n",
       "\n",
       "    .dataframe tbody tr th {\n",
       "        vertical-align: top;\n",
       "    }\n",
       "\n",
       "    .dataframe thead th {\n",
       "        text-align: right;\n",
       "    }\n",
       "</style>\n",
       "<table border=\"1\" class=\"dataframe\">\n",
       "  <thead>\n",
       "    <tr style=\"text-align: right;\">\n",
       "      <th></th>\n",
       "      <th>Serial</th>\n",
       "      <th>Emp_ID</th>\n",
       "      <th>Designation</th>\n",
       "      <th>Department</th>\n",
       "      <th>Age</th>\n",
       "      <th>Salary</th>\n",
       "    </tr>\n",
       "  </thead>\n",
       "  <tbody>\n",
       "    <tr>\n",
       "      <th>0</th>\n",
       "      <td>1</td>\n",
       "      <td>1101</td>\n",
       "      <td>Manager</td>\n",
       "      <td>Accounts</td>\n",
       "      <td>50.0</td>\n",
       "      <td>200000.0</td>\n",
       "    </tr>\n",
       "    <tr>\n",
       "      <th>1</th>\n",
       "      <td>2</td>\n",
       "      <td>1107</td>\n",
       "      <td>Officer</td>\n",
       "      <td>IT</td>\n",
       "      <td>30.0</td>\n",
       "      <td>80000.0</td>\n",
       "    </tr>\n",
       "    <tr>\n",
       "      <th>2</th>\n",
       "      <td>3</td>\n",
       "      <td>1203</td>\n",
       "      <td>Officer</td>\n",
       "      <td>HR</td>\n",
       "      <td>28.0</td>\n",
       "      <td>NaN</td>\n",
       "    </tr>\n",
       "    <tr>\n",
       "      <th>3</th>\n",
       "      <td>4</td>\n",
       "      <td>1005</td>\n",
       "      <td>Manager</td>\n",
       "      <td>HR</td>\n",
       "      <td>45.0</td>\n",
       "      <td>120000.0</td>\n",
       "    </tr>\n",
       "    <tr>\n",
       "      <th>4</th>\n",
       "      <td>5</td>\n",
       "      <td>2123</td>\n",
       "      <td>Office Boy</td>\n",
       "      <td>Accounts</td>\n",
       "      <td>27.0</td>\n",
       "      <td>45000.0</td>\n",
       "    </tr>\n",
       "    <tr>\n",
       "      <th>5</th>\n",
       "      <td>6</td>\n",
       "      <td>2451</td>\n",
       "      <td>Accountant</td>\n",
       "      <td>NaN</td>\n",
       "      <td>34.0</td>\n",
       "      <td>100000.0</td>\n",
       "    </tr>\n",
       "    <tr>\n",
       "      <th>6</th>\n",
       "      <td>7</td>\n",
       "      <td>1111</td>\n",
       "      <td>Accountant</td>\n",
       "      <td>Accounts</td>\n",
       "      <td>NaN</td>\n",
       "      <td>110000.0</td>\n",
       "    </tr>\n",
       "    <tr>\n",
       "      <th>7</th>\n",
       "      <td>8</td>\n",
       "      <td>1001</td>\n",
       "      <td>Officer</td>\n",
       "      <td>IT</td>\n",
       "      <td>25.0</td>\n",
       "      <td>75000.0</td>\n",
       "    </tr>\n",
       "    <tr>\n",
       "      <th>8</th>\n",
       "      <td>9</td>\n",
       "      <td>1234</td>\n",
       "      <td>Manager</td>\n",
       "      <td>IT</td>\n",
       "      <td>23.0</td>\n",
       "      <td>NaN</td>\n",
       "    </tr>\n",
       "    <tr>\n",
       "      <th>9</th>\n",
       "      <td>10</td>\n",
       "      <td>2156</td>\n",
       "      <td>Engineer</td>\n",
       "      <td>Production</td>\n",
       "      <td>45.0</td>\n",
       "      <td>89000.0</td>\n",
       "    </tr>\n",
       "    <tr>\n",
       "      <th>10</th>\n",
       "      <td>11</td>\n",
       "      <td>6543</td>\n",
       "      <td>Officer</td>\n",
       "      <td>Production</td>\n",
       "      <td>29.0</td>\n",
       "      <td>100000.0</td>\n",
       "    </tr>\n",
       "    <tr>\n",
       "      <th>11</th>\n",
       "      <td>12</td>\n",
       "      <td>3214</td>\n",
       "      <td>Accountant</td>\n",
       "      <td>Account</td>\n",
       "      <td>49.0</td>\n",
       "      <td>123000.0</td>\n",
       "    </tr>\n",
       "    <tr>\n",
       "      <th>12</th>\n",
       "      <td>13</td>\n",
       "      <td>2156</td>\n",
       "      <td>Engineer</td>\n",
       "      <td>Production</td>\n",
       "      <td>45.0</td>\n",
       "      <td>89000.0</td>\n",
       "    </tr>\n",
       "    <tr>\n",
       "      <th>13</th>\n",
       "      <td>14</td>\n",
       "      <td>1098</td>\n",
       "      <td>Officer</td>\n",
       "      <td>IT</td>\n",
       "      <td>25.0</td>\n",
       "      <td>100000.0</td>\n",
       "    </tr>\n",
       "    <tr>\n",
       "      <th>14</th>\n",
       "      <td>15</td>\n",
       "      <td>2912</td>\n",
       "      <td>Officer</td>\n",
       "      <td>IT</td>\n",
       "      <td>31.0</td>\n",
       "      <td>90000.0</td>\n",
       "    </tr>\n",
       "    <tr>\n",
       "      <th>15</th>\n",
       "      <td>16</td>\n",
       "      <td>1222</td>\n",
       "      <td>Officer</td>\n",
       "      <td>NaN</td>\n",
       "      <td>25.0</td>\n",
       "      <td>NaN</td>\n",
       "    </tr>\n",
       "    <tr>\n",
       "      <th>16</th>\n",
       "      <td>17</td>\n",
       "      <td>2156</td>\n",
       "      <td>Engineer</td>\n",
       "      <td>Production</td>\n",
       "      <td>45.0</td>\n",
       "      <td>89000.0</td>\n",
       "    </tr>\n",
       "    <tr>\n",
       "      <th>17</th>\n",
       "      <td>18</td>\n",
       "      <td>2123</td>\n",
       "      <td>Office Boy</td>\n",
       "      <td>Accounts</td>\n",
       "      <td>27.0</td>\n",
       "      <td>45000.0</td>\n",
       "    </tr>\n",
       "  </tbody>\n",
       "</table>\n",
       "</div>"
      ],
      "text/plain": [
       "    Serial  Emp_ID Designation  Department   Age    Salary\n",
       "0        1    1101     Manager    Accounts  50.0  200000.0\n",
       "1        2    1107     Officer          IT  30.0   80000.0\n",
       "2        3    1203     Officer          HR  28.0       NaN\n",
       "3        4    1005     Manager          HR  45.0  120000.0\n",
       "4        5    2123  Office Boy    Accounts  27.0   45000.0\n",
       "5        6    2451  Accountant         NaN  34.0  100000.0\n",
       "6        7    1111  Accountant    Accounts   NaN  110000.0\n",
       "7        8    1001     Officer          IT  25.0   75000.0\n",
       "8        9    1234     Manager          IT  23.0       NaN\n",
       "9       10    2156    Engineer  Production  45.0   89000.0\n",
       "10      11    6543     Officer  Production  29.0  100000.0\n",
       "11      12    3214  Accountant     Account  49.0  123000.0\n",
       "12      13    2156    Engineer  Production  45.0   89000.0\n",
       "13      14    1098     Officer          IT  25.0  100000.0\n",
       "14      15    2912     Officer          IT  31.0   90000.0\n",
       "15      16    1222     Officer         NaN  25.0       NaN\n",
       "16      17    2156    Engineer  Production  45.0   89000.0\n",
       "17      18    2123  Office Boy    Accounts  27.0   45000.0"
      ]
     },
     "execution_count": 51,
     "metadata": {},
     "output_type": "execute_result"
    }
   ],
   "source": [
    "emp =  pd.read_excel(\"employee.xlsx\")\n",
    "emp"
   ]
  },
  {
   "cell_type": "markdown",
   "id": "83e84df8-a039-4b76-ad7d-df6467c78392",
   "metadata": {},
   "source": [
    "# Result Data`"
   ]
  },
  {
   "cell_type": "markdown",
   "id": "f97f1fce-9cfd-480a-8018-5021c525c5ca",
   "metadata": {},
   "source": [
    "# Columns\n",
    "    - Accessing a col\n",
    "    - Accessing more than 1 col\n",
    "    - del a col \n",
    "    - add a col \n",
    "    "
   ]
  },
  {
   "cell_type": "code",
   "execution_count": 67,
   "id": "faffdf15-3d0f-43d6-926e-530208c55350",
   "metadata": {},
   "outputs": [
    {
     "data": {
      "text/html": [
       "<div>\n",
       "<style scoped>\n",
       "    .dataframe tbody tr th:only-of-type {\n",
       "        vertical-align: middle;\n",
       "    }\n",
       "\n",
       "    .dataframe tbody tr th {\n",
       "        vertical-align: top;\n",
       "    }\n",
       "\n",
       "    .dataframe thead th {\n",
       "        text-align: right;\n",
       "    }\n",
       "</style>\n",
       "<table border=\"1\" class=\"dataframe\">\n",
       "  <thead>\n",
       "    <tr style=\"text-align: right;\">\n",
       "      <th></th>\n",
       "      <th>roll#</th>\n",
       "      <th>name</th>\n",
       "      <th>python</th>\n",
       "      <th>numpy</th>\n",
       "      <th>pandas</th>\n",
       "    </tr>\n",
       "  </thead>\n",
       "  <tbody>\n",
       "    <tr>\n",
       "      <th>0</th>\n",
       "      <td>1</td>\n",
       "      <td>Asad</td>\n",
       "      <td>78</td>\n",
       "      <td>78</td>\n",
       "      <td>88</td>\n",
       "    </tr>\n",
       "    <tr>\n",
       "      <th>1</th>\n",
       "      <td>2</td>\n",
       "      <td>Ali</td>\n",
       "      <td>67</td>\n",
       "      <td>89</td>\n",
       "      <td>87</td>\n",
       "    </tr>\n",
       "    <tr>\n",
       "      <th>2</th>\n",
       "      <td>3</td>\n",
       "      <td>Basir</td>\n",
       "      <td>89</td>\n",
       "      <td>90</td>\n",
       "      <td>86</td>\n",
       "    </tr>\n",
       "    <tr>\n",
       "      <th>3</th>\n",
       "      <td>4</td>\n",
       "      <td>Atif</td>\n",
       "      <td>45</td>\n",
       "      <td>89</td>\n",
       "      <td>67</td>\n",
       "    </tr>\n",
       "    <tr>\n",
       "      <th>4</th>\n",
       "      <td>5</td>\n",
       "      <td>Fahad</td>\n",
       "      <td>34</td>\n",
       "      <td>78</td>\n",
       "      <td>45</td>\n",
       "    </tr>\n",
       "    <tr>\n",
       "      <th>5</th>\n",
       "      <td>6</td>\n",
       "      <td>Aslam</td>\n",
       "      <td>78</td>\n",
       "      <td>76</td>\n",
       "      <td>62</td>\n",
       "    </tr>\n",
       "    <tr>\n",
       "      <th>6</th>\n",
       "      <td>7</td>\n",
       "      <td>Babar</td>\n",
       "      <td>90</td>\n",
       "      <td>76</td>\n",
       "      <td>90</td>\n",
       "    </tr>\n",
       "    <tr>\n",
       "      <th>7</th>\n",
       "      <td>8</td>\n",
       "      <td>Tahir</td>\n",
       "      <td>99</td>\n",
       "      <td>75</td>\n",
       "      <td>97</td>\n",
       "    </tr>\n",
       "    <tr>\n",
       "      <th>8</th>\n",
       "      <td>9</td>\n",
       "      <td>Tariq</td>\n",
       "      <td>34</td>\n",
       "      <td>78</td>\n",
       "      <td>98</td>\n",
       "    </tr>\n",
       "    <tr>\n",
       "      <th>9</th>\n",
       "      <td>10</td>\n",
       "      <td>Umer</td>\n",
       "      <td>50</td>\n",
       "      <td>67</td>\n",
       "      <td>100</td>\n",
       "    </tr>\n",
       "  </tbody>\n",
       "</table>\n",
       "</div>"
      ],
      "text/plain": [
       "   roll#   name  python  numpy  pandas\n",
       "0      1   Asad      78     78      88\n",
       "1      2    Ali      67     89      87\n",
       "2      3  Basir      89     90      86\n",
       "3      4   Atif      45     89      67\n",
       "4      5  Fahad      34     78      45\n",
       "5      6  Aslam      78     76      62\n",
       "6      7  Babar      90     76      90\n",
       "7      8  Tahir      99     75      97\n",
       "8      9  Tariq      34     78      98\n",
       "9     10   Umer      50     67     100"
      ]
     },
     "execution_count": 67,
     "metadata": {},
     "output_type": "execute_result"
    }
   ],
   "source": [
    "result"
   ]
  },
  {
   "cell_type": "markdown",
   "id": "65c57180-b92b-4176-9eb2-0a3a36f56cc5",
   "metadata": {},
   "source": [
    "# Accessing a col"
   ]
  },
  {
   "cell_type": "code",
   "execution_count": null,
   "id": "28a6a407-0752-40cc-95b9-64ba2500362b",
   "metadata": {},
   "outputs": [],
   "source": [
    "result['name']"
   ]
  },
  {
   "cell_type": "code",
   "execution_count": null,
   "id": "e1031e55-b1ff-4354-85f5-4d13731e8668",
   "metadata": {},
   "outputs": [],
   "source": [
    "result.pandas"
   ]
  },
  {
   "cell_type": "code",
   "execution_count": null,
   "id": "b16a53e8-b6ef-430d-9f11-27bff8930639",
   "metadata": {},
   "outputs": [],
   "source": [
    "result.python"
   ]
  },
  {
   "cell_type": "markdown",
   "id": "cdbab0d4-3556-4d90-bb06-490b90c6544e",
   "metadata": {},
   "source": [
    "# Accessing more than a col"
   ]
  },
  {
   "cell_type": "code",
   "execution_count": 69,
   "id": "ba88778f-2235-457c-aeb2-77e4ba2c923d",
   "metadata": {},
   "outputs": [
    {
     "data": {
      "text/html": [
       "<div>\n",
       "<style scoped>\n",
       "    .dataframe tbody tr th:only-of-type {\n",
       "        vertical-align: middle;\n",
       "    }\n",
       "\n",
       "    .dataframe tbody tr th {\n",
       "        vertical-align: top;\n",
       "    }\n",
       "\n",
       "    .dataframe thead th {\n",
       "        text-align: right;\n",
       "    }\n",
       "</style>\n",
       "<table border=\"1\" class=\"dataframe\">\n",
       "  <thead>\n",
       "    <tr style=\"text-align: right;\">\n",
       "      <th></th>\n",
       "      <th>name</th>\n",
       "      <th>python</th>\n",
       "    </tr>\n",
       "  </thead>\n",
       "  <tbody>\n",
       "    <tr>\n",
       "      <th>0</th>\n",
       "      <td>Asad</td>\n",
       "      <td>78</td>\n",
       "    </tr>\n",
       "    <tr>\n",
       "      <th>1</th>\n",
       "      <td>Ali</td>\n",
       "      <td>67</td>\n",
       "    </tr>\n",
       "    <tr>\n",
       "      <th>2</th>\n",
       "      <td>Basir</td>\n",
       "      <td>89</td>\n",
       "    </tr>\n",
       "    <tr>\n",
       "      <th>3</th>\n",
       "      <td>Atif</td>\n",
       "      <td>45</td>\n",
       "    </tr>\n",
       "    <tr>\n",
       "      <th>4</th>\n",
       "      <td>Fahad</td>\n",
       "      <td>34</td>\n",
       "    </tr>\n",
       "    <tr>\n",
       "      <th>5</th>\n",
       "      <td>Aslam</td>\n",
       "      <td>78</td>\n",
       "    </tr>\n",
       "    <tr>\n",
       "      <th>6</th>\n",
       "      <td>Babar</td>\n",
       "      <td>90</td>\n",
       "    </tr>\n",
       "    <tr>\n",
       "      <th>7</th>\n",
       "      <td>Tahir</td>\n",
       "      <td>99</td>\n",
       "    </tr>\n",
       "    <tr>\n",
       "      <th>8</th>\n",
       "      <td>Tariq</td>\n",
       "      <td>34</td>\n",
       "    </tr>\n",
       "    <tr>\n",
       "      <th>9</th>\n",
       "      <td>Umer</td>\n",
       "      <td>50</td>\n",
       "    </tr>\n",
       "  </tbody>\n",
       "</table>\n",
       "</div>"
      ],
      "text/plain": [
       "    name  python\n",
       "0   Asad      78\n",
       "1    Ali      67\n",
       "2  Basir      89\n",
       "3   Atif      45\n",
       "4  Fahad      34\n",
       "5  Aslam      78\n",
       "6  Babar      90\n",
       "7  Tahir      99\n",
       "8  Tariq      34\n",
       "9   Umer      50"
      ]
     },
     "execution_count": 69,
     "metadata": {},
     "output_type": "execute_result"
    }
   ],
   "source": [
    "result[['name','python']]"
   ]
  },
  {
   "cell_type": "code",
   "execution_count": 70,
   "id": "d233c5b4-c97c-46a6-95d3-5cf181a7ec31",
   "metadata": {},
   "outputs": [
    {
     "data": {
      "text/html": [
       "<div>\n",
       "<style scoped>\n",
       "    .dataframe tbody tr th:only-of-type {\n",
       "        vertical-align: middle;\n",
       "    }\n",
       "\n",
       "    .dataframe tbody tr th {\n",
       "        vertical-align: top;\n",
       "    }\n",
       "\n",
       "    .dataframe thead th {\n",
       "        text-align: right;\n",
       "    }\n",
       "</style>\n",
       "<table border=\"1\" class=\"dataframe\">\n",
       "  <thead>\n",
       "    <tr style=\"text-align: right;\">\n",
       "      <th></th>\n",
       "      <th>name</th>\n",
       "      <th>numpy</th>\n",
       "      <th>python</th>\n",
       "    </tr>\n",
       "  </thead>\n",
       "  <tbody>\n",
       "    <tr>\n",
       "      <th>0</th>\n",
       "      <td>Asad</td>\n",
       "      <td>78</td>\n",
       "      <td>78</td>\n",
       "    </tr>\n",
       "    <tr>\n",
       "      <th>1</th>\n",
       "      <td>Ali</td>\n",
       "      <td>89</td>\n",
       "      <td>67</td>\n",
       "    </tr>\n",
       "    <tr>\n",
       "      <th>2</th>\n",
       "      <td>Basir</td>\n",
       "      <td>90</td>\n",
       "      <td>89</td>\n",
       "    </tr>\n",
       "    <tr>\n",
       "      <th>3</th>\n",
       "      <td>Atif</td>\n",
       "      <td>89</td>\n",
       "      <td>45</td>\n",
       "    </tr>\n",
       "    <tr>\n",
       "      <th>4</th>\n",
       "      <td>Fahad</td>\n",
       "      <td>78</td>\n",
       "      <td>34</td>\n",
       "    </tr>\n",
       "    <tr>\n",
       "      <th>5</th>\n",
       "      <td>Aslam</td>\n",
       "      <td>76</td>\n",
       "      <td>78</td>\n",
       "    </tr>\n",
       "    <tr>\n",
       "      <th>6</th>\n",
       "      <td>Babar</td>\n",
       "      <td>76</td>\n",
       "      <td>90</td>\n",
       "    </tr>\n",
       "    <tr>\n",
       "      <th>7</th>\n",
       "      <td>Tahir</td>\n",
       "      <td>75</td>\n",
       "      <td>99</td>\n",
       "    </tr>\n",
       "    <tr>\n",
       "      <th>8</th>\n",
       "      <td>Tariq</td>\n",
       "      <td>78</td>\n",
       "      <td>34</td>\n",
       "    </tr>\n",
       "    <tr>\n",
       "      <th>9</th>\n",
       "      <td>Umer</td>\n",
       "      <td>67</td>\n",
       "      <td>50</td>\n",
       "    </tr>\n",
       "  </tbody>\n",
       "</table>\n",
       "</div>"
      ],
      "text/plain": [
       "    name  numpy  python\n",
       "0   Asad     78      78\n",
       "1    Ali     89      67\n",
       "2  Basir     90      89\n",
       "3   Atif     89      45\n",
       "4  Fahad     78      34\n",
       "5  Aslam     76      78\n",
       "6  Babar     76      90\n",
       "7  Tahir     75      99\n",
       "8  Tariq     78      34\n",
       "9   Umer     67      50"
      ]
     },
     "execution_count": 70,
     "metadata": {},
     "output_type": "execute_result"
    }
   ],
   "source": [
    "result[['name','numpy','python']]"
   ]
  },
  {
   "cell_type": "markdown",
   "id": "f0491eeb-678b-4c31-a5cf-b622502cac37",
   "metadata": {},
   "source": [
    "# Adding more columns in data \n",
    "     - Broadcasting a value to all records\n",
    "     - Generate data from data\n",
    "           - conditional \n"
   ]
  },
  {
   "cell_type": "code",
   "execution_count": 71,
   "id": "894c1e7b-2267-4463-81de-539c7640bd01",
   "metadata": {},
   "outputs": [
    {
     "data": {
      "text/html": [
       "<div>\n",
       "<style scoped>\n",
       "    .dataframe tbody tr th:only-of-type {\n",
       "        vertical-align: middle;\n",
       "    }\n",
       "\n",
       "    .dataframe tbody tr th {\n",
       "        vertical-align: top;\n",
       "    }\n",
       "\n",
       "    .dataframe thead th {\n",
       "        text-align: right;\n",
       "    }\n",
       "</style>\n",
       "<table border=\"1\" class=\"dataframe\">\n",
       "  <thead>\n",
       "    <tr style=\"text-align: right;\">\n",
       "      <th></th>\n",
       "      <th>roll#</th>\n",
       "      <th>name</th>\n",
       "      <th>python</th>\n",
       "      <th>numpy</th>\n",
       "      <th>pandas</th>\n",
       "    </tr>\n",
       "  </thead>\n",
       "  <tbody>\n",
       "    <tr>\n",
       "      <th>0</th>\n",
       "      <td>1</td>\n",
       "      <td>Asad</td>\n",
       "      <td>78</td>\n",
       "      <td>78</td>\n",
       "      <td>88</td>\n",
       "    </tr>\n",
       "    <tr>\n",
       "      <th>1</th>\n",
       "      <td>2</td>\n",
       "      <td>Ali</td>\n",
       "      <td>67</td>\n",
       "      <td>89</td>\n",
       "      <td>87</td>\n",
       "    </tr>\n",
       "    <tr>\n",
       "      <th>2</th>\n",
       "      <td>3</td>\n",
       "      <td>Basir</td>\n",
       "      <td>89</td>\n",
       "      <td>90</td>\n",
       "      <td>86</td>\n",
       "    </tr>\n",
       "    <tr>\n",
       "      <th>3</th>\n",
       "      <td>4</td>\n",
       "      <td>Atif</td>\n",
       "      <td>45</td>\n",
       "      <td>89</td>\n",
       "      <td>67</td>\n",
       "    </tr>\n",
       "    <tr>\n",
       "      <th>4</th>\n",
       "      <td>5</td>\n",
       "      <td>Fahad</td>\n",
       "      <td>34</td>\n",
       "      <td>78</td>\n",
       "      <td>45</td>\n",
       "    </tr>\n",
       "    <tr>\n",
       "      <th>5</th>\n",
       "      <td>6</td>\n",
       "      <td>Aslam</td>\n",
       "      <td>78</td>\n",
       "      <td>76</td>\n",
       "      <td>62</td>\n",
       "    </tr>\n",
       "    <tr>\n",
       "      <th>6</th>\n",
       "      <td>7</td>\n",
       "      <td>Babar</td>\n",
       "      <td>90</td>\n",
       "      <td>76</td>\n",
       "      <td>90</td>\n",
       "    </tr>\n",
       "    <tr>\n",
       "      <th>7</th>\n",
       "      <td>8</td>\n",
       "      <td>Tahir</td>\n",
       "      <td>99</td>\n",
       "      <td>75</td>\n",
       "      <td>97</td>\n",
       "    </tr>\n",
       "    <tr>\n",
       "      <th>8</th>\n",
       "      <td>9</td>\n",
       "      <td>Tariq</td>\n",
       "      <td>34</td>\n",
       "      <td>78</td>\n",
       "      <td>98</td>\n",
       "    </tr>\n",
       "    <tr>\n",
       "      <th>9</th>\n",
       "      <td>10</td>\n",
       "      <td>Umer</td>\n",
       "      <td>50</td>\n",
       "      <td>67</td>\n",
       "      <td>100</td>\n",
       "    </tr>\n",
       "  </tbody>\n",
       "</table>\n",
       "</div>"
      ],
      "text/plain": [
       "   roll#   name  python  numpy  pandas\n",
       "0      1   Asad      78     78      88\n",
       "1      2    Ali      67     89      87\n",
       "2      3  Basir      89     90      86\n",
       "3      4   Atif      45     89      67\n",
       "4      5  Fahad      34     78      45\n",
       "5      6  Aslam      78     76      62\n",
       "6      7  Babar      90     76      90\n",
       "7      8  Tahir      99     75      97\n",
       "8      9  Tariq      34     78      98\n",
       "9     10   Umer      50     67     100"
      ]
     },
     "execution_count": 71,
     "metadata": {},
     "output_type": "execute_result"
    }
   ],
   "source": [
    "result"
   ]
  },
  {
   "cell_type": "code",
   "execution_count": 72,
   "id": "df73d85a-d949-48e3-b065-c1e1e8b2a472",
   "metadata": {},
   "outputs": [
    {
     "data": {
      "text/html": [
       "<div>\n",
       "<style scoped>\n",
       "    .dataframe tbody tr th:only-of-type {\n",
       "        vertical-align: middle;\n",
       "    }\n",
       "\n",
       "    .dataframe tbody tr th {\n",
       "        vertical-align: top;\n",
       "    }\n",
       "\n",
       "    .dataframe thead th {\n",
       "        text-align: right;\n",
       "    }\n",
       "</style>\n",
       "<table border=\"1\" class=\"dataframe\">\n",
       "  <thead>\n",
       "    <tr style=\"text-align: right;\">\n",
       "      <th></th>\n",
       "      <th>roll#</th>\n",
       "      <th>name</th>\n",
       "      <th>python</th>\n",
       "      <th>numpy</th>\n",
       "      <th>pandas</th>\n",
       "      <th>total</th>\n",
       "    </tr>\n",
       "  </thead>\n",
       "  <tbody>\n",
       "    <tr>\n",
       "      <th>0</th>\n",
       "      <td>1</td>\n",
       "      <td>Asad</td>\n",
       "      <td>78</td>\n",
       "      <td>78</td>\n",
       "      <td>88</td>\n",
       "      <td>244</td>\n",
       "    </tr>\n",
       "    <tr>\n",
       "      <th>1</th>\n",
       "      <td>2</td>\n",
       "      <td>Ali</td>\n",
       "      <td>67</td>\n",
       "      <td>89</td>\n",
       "      <td>87</td>\n",
       "      <td>243</td>\n",
       "    </tr>\n",
       "    <tr>\n",
       "      <th>2</th>\n",
       "      <td>3</td>\n",
       "      <td>Basir</td>\n",
       "      <td>89</td>\n",
       "      <td>90</td>\n",
       "      <td>86</td>\n",
       "      <td>265</td>\n",
       "    </tr>\n",
       "    <tr>\n",
       "      <th>3</th>\n",
       "      <td>4</td>\n",
       "      <td>Atif</td>\n",
       "      <td>45</td>\n",
       "      <td>89</td>\n",
       "      <td>67</td>\n",
       "      <td>201</td>\n",
       "    </tr>\n",
       "    <tr>\n",
       "      <th>4</th>\n",
       "      <td>5</td>\n",
       "      <td>Fahad</td>\n",
       "      <td>34</td>\n",
       "      <td>78</td>\n",
       "      <td>45</td>\n",
       "      <td>157</td>\n",
       "    </tr>\n",
       "    <tr>\n",
       "      <th>5</th>\n",
       "      <td>6</td>\n",
       "      <td>Aslam</td>\n",
       "      <td>78</td>\n",
       "      <td>76</td>\n",
       "      <td>62</td>\n",
       "      <td>216</td>\n",
       "    </tr>\n",
       "    <tr>\n",
       "      <th>6</th>\n",
       "      <td>7</td>\n",
       "      <td>Babar</td>\n",
       "      <td>90</td>\n",
       "      <td>76</td>\n",
       "      <td>90</td>\n",
       "      <td>256</td>\n",
       "    </tr>\n",
       "    <tr>\n",
       "      <th>7</th>\n",
       "      <td>8</td>\n",
       "      <td>Tahir</td>\n",
       "      <td>99</td>\n",
       "      <td>75</td>\n",
       "      <td>97</td>\n",
       "      <td>271</td>\n",
       "    </tr>\n",
       "    <tr>\n",
       "      <th>8</th>\n",
       "      <td>9</td>\n",
       "      <td>Tariq</td>\n",
       "      <td>34</td>\n",
       "      <td>78</td>\n",
       "      <td>98</td>\n",
       "      <td>210</td>\n",
       "    </tr>\n",
       "    <tr>\n",
       "      <th>9</th>\n",
       "      <td>10</td>\n",
       "      <td>Umer</td>\n",
       "      <td>50</td>\n",
       "      <td>67</td>\n",
       "      <td>100</td>\n",
       "      <td>217</td>\n",
       "    </tr>\n",
       "  </tbody>\n",
       "</table>\n",
       "</div>"
      ],
      "text/plain": [
       "   roll#   name  python  numpy  pandas  total\n",
       "0      1   Asad      78     78      88    244\n",
       "1      2    Ali      67     89      87    243\n",
       "2      3  Basir      89     90      86    265\n",
       "3      4   Atif      45     89      67    201\n",
       "4      5  Fahad      34     78      45    157\n",
       "5      6  Aslam      78     76      62    216\n",
       "6      7  Babar      90     76      90    256\n",
       "7      8  Tahir      99     75      97    271\n",
       "8      9  Tariq      34     78      98    210\n",
       "9     10   Umer      50     67     100    217"
      ]
     },
     "execution_count": 72,
     "metadata": {},
     "output_type": "execute_result"
    }
   ],
   "source": [
    "result['total'] = result.python + result.pandas + result.numpy\n",
    "result"
   ]
  },
  {
   "cell_type": "code",
   "execution_count": 73,
   "id": "3701f8ed-12f1-4992-b1b0-8f6530abfe87",
   "metadata": {},
   "outputs": [
    {
     "data": {
      "text/html": [
       "<div>\n",
       "<style scoped>\n",
       "    .dataframe tbody tr th:only-of-type {\n",
       "        vertical-align: middle;\n",
       "    }\n",
       "\n",
       "    .dataframe tbody tr th {\n",
       "        vertical-align: top;\n",
       "    }\n",
       "\n",
       "    .dataframe thead th {\n",
       "        text-align: right;\n",
       "    }\n",
       "</style>\n",
       "<table border=\"1\" class=\"dataframe\">\n",
       "  <thead>\n",
       "    <tr style=\"text-align: right;\">\n",
       "      <th></th>\n",
       "      <th>roll#</th>\n",
       "      <th>name</th>\n",
       "      <th>python</th>\n",
       "      <th>numpy</th>\n",
       "      <th>pandas</th>\n",
       "      <th>total</th>\n",
       "      <th>status</th>\n",
       "    </tr>\n",
       "  </thead>\n",
       "  <tbody>\n",
       "    <tr>\n",
       "      <th>0</th>\n",
       "      <td>1</td>\n",
       "      <td>Asad</td>\n",
       "      <td>78</td>\n",
       "      <td>78</td>\n",
       "      <td>88</td>\n",
       "      <td>244</td>\n",
       "      <td>Pass</td>\n",
       "    </tr>\n",
       "    <tr>\n",
       "      <th>1</th>\n",
       "      <td>2</td>\n",
       "      <td>Ali</td>\n",
       "      <td>67</td>\n",
       "      <td>89</td>\n",
       "      <td>87</td>\n",
       "      <td>243</td>\n",
       "      <td>Pass</td>\n",
       "    </tr>\n",
       "    <tr>\n",
       "      <th>2</th>\n",
       "      <td>3</td>\n",
       "      <td>Basir</td>\n",
       "      <td>89</td>\n",
       "      <td>90</td>\n",
       "      <td>86</td>\n",
       "      <td>265</td>\n",
       "      <td>Pass</td>\n",
       "    </tr>\n",
       "    <tr>\n",
       "      <th>3</th>\n",
       "      <td>4</td>\n",
       "      <td>Atif</td>\n",
       "      <td>45</td>\n",
       "      <td>89</td>\n",
       "      <td>67</td>\n",
       "      <td>201</td>\n",
       "      <td>Fail</td>\n",
       "    </tr>\n",
       "    <tr>\n",
       "      <th>4</th>\n",
       "      <td>5</td>\n",
       "      <td>Fahad</td>\n",
       "      <td>34</td>\n",
       "      <td>78</td>\n",
       "      <td>45</td>\n",
       "      <td>157</td>\n",
       "      <td>Fail</td>\n",
       "    </tr>\n",
       "    <tr>\n",
       "      <th>5</th>\n",
       "      <td>6</td>\n",
       "      <td>Aslam</td>\n",
       "      <td>78</td>\n",
       "      <td>76</td>\n",
       "      <td>62</td>\n",
       "      <td>216</td>\n",
       "      <td>Fail</td>\n",
       "    </tr>\n",
       "    <tr>\n",
       "      <th>6</th>\n",
       "      <td>7</td>\n",
       "      <td>Babar</td>\n",
       "      <td>90</td>\n",
       "      <td>76</td>\n",
       "      <td>90</td>\n",
       "      <td>256</td>\n",
       "      <td>Pass</td>\n",
       "    </tr>\n",
       "    <tr>\n",
       "      <th>7</th>\n",
       "      <td>8</td>\n",
       "      <td>Tahir</td>\n",
       "      <td>99</td>\n",
       "      <td>75</td>\n",
       "      <td>97</td>\n",
       "      <td>271</td>\n",
       "      <td>Pass</td>\n",
       "    </tr>\n",
       "    <tr>\n",
       "      <th>8</th>\n",
       "      <td>9</td>\n",
       "      <td>Tariq</td>\n",
       "      <td>34</td>\n",
       "      <td>78</td>\n",
       "      <td>98</td>\n",
       "      <td>210</td>\n",
       "      <td>Fail</td>\n",
       "    </tr>\n",
       "    <tr>\n",
       "      <th>9</th>\n",
       "      <td>10</td>\n",
       "      <td>Umer</td>\n",
       "      <td>50</td>\n",
       "      <td>67</td>\n",
       "      <td>100</td>\n",
       "      <td>217</td>\n",
       "      <td>Fail</td>\n",
       "    </tr>\n",
       "  </tbody>\n",
       "</table>\n",
       "</div>"
      ],
      "text/plain": [
       "   roll#   name  python  numpy  pandas  total status\n",
       "0      1   Asad      78     78      88    244   Pass\n",
       "1      2    Ali      67     89      87    243   Pass\n",
       "2      3  Basir      89     90      86    265   Pass\n",
       "3      4   Atif      45     89      67    201   Fail\n",
       "4      5  Fahad      34     78      45    157   Fail\n",
       "5      6  Aslam      78     76      62    216   Fail\n",
       "6      7  Babar      90     76      90    256   Pass\n",
       "7      8  Tahir      99     75      97    271   Pass\n",
       "8      9  Tariq      34     78      98    210   Fail\n",
       "9     10   Umer      50     67     100    217   Fail"
      ]
     },
     "execution_count": 73,
     "metadata": {},
     "output_type": "execute_result"
    }
   ],
   "source": [
    "result['status']=[\"Pass\" if mark>=225 else \"Fail\"  for mark in  result.total]\n",
    "result"
   ]
  },
  {
   "cell_type": "code",
   "execution_count": null,
   "id": "fbd8d1d9-d253-455b-958c-849afeb14ffc",
   "metadata": {},
   "outputs": [],
   "source": []
  }
 ],
 "metadata": {
  "kernelspec": {
   "display_name": "Python 3 (ipykernel)",
   "language": "python",
   "name": "python3"
  },
  "language_info": {
   "codemirror_mode": {
    "name": "ipython",
    "version": 3
   },
   "file_extension": ".py",
   "mimetype": "text/x-python",
   "name": "python",
   "nbconvert_exporter": "python",
   "pygments_lexer": "ipython3",
   "version": "3.12.3"
  }
 },
 "nbformat": 4,
 "nbformat_minor": 5
}
