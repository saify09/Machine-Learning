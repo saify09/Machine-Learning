{
 "cells": [
  {
   "cell_type": "code",
   "execution_count": 19,
   "id": "6e49993b-09d2-4f9f-bdfe-04e1c69b0b5f",
   "metadata": {},
   "outputs": [
    {
     "name": "stdin",
     "output_type": "stream",
     "text": [
      "What do you want to buy laptop\n"
     ]
    },
    {
     "name": "stdout",
     "output_type": "stream",
     "text": [
      "Yes laptop Available\n",
      "laptop price is Rs.100000\n"
     ]
    },
    {
     "name": "stdin",
     "output_type": "stream",
     "text": [
      "How many laptop you required 10\n"
     ]
    },
    {
     "name": "stdout",
     "output_type": "stream",
     "text": [
      "\n",
      "                    Welcome to EasyShop\n",
      "                    ___________________\n",
      "            \n",
      "                    Item Name: laptop\n",
      "                    Item Price: 100000\n",
      "                    Item Quantity: 10\n",
      "                    Total Bill   : 1000000\n",
      "                    Discount     : 100000.0\n",
      "                    Bill Payable: 900000.0\n"
     ]
    }
   ],
   "source": [
    "easyshop =[\n",
    "           {\"laptop\":{\"price\":100000,\"quantity\":100}},\n",
    "           {\"mouse\":{\"price\":1000,   \"quantity\":50}},\n",
    "           {\"keyboard\":{\"price\":1200,\"quantity\":100}},\n",
    "           {\"ram\":{\"price\":5000,\"quantity\":25}},\n",
    "           {\"usb\":{\"price\":2000,\"quantity\":120}},\n",
    "           {\"hdd\":{\"price\":6000,\"quantity\":10}},\n",
    "           {\"ssd\":{\"price\":10000,\"quantity\":4}},\n",
    "           {\"charger\":{\"price\":1500,\"quantity\":100}},\n",
    "           {\"headfone\":{\"price\":3000,\"quantity\":100}},\n",
    "           {\"speaker\":{\"price\":2500,\"quantity\":10}}\n",
    "          ]\n",
    "cart={}\n",
    "item = input(\"What do you want to buy\").lower()\n",
    "for i in easyshop:\n",
    "    if item in i:\n",
    "        print(f\"Yes {item} Available\")\n",
    "        print(f\"{item} price is Rs.{i[item]['price']}\")\n",
    "        quant = int(input(f\"How many {item} you required\"))\n",
    "        if quant<=i[item]['quantity']:\n",
    "            easyshop['laptop']['quantity'] -=quant\n",
    "            cart['item']=item\n",
    "            cart['quantity']=quant\n",
    "            total = i[item]['price']*quant            \n",
    "            cart['total'] = total\n",
    "            if total>=100000:\n",
    "                disc = total*.10\n",
    "            elif total>=75000:\n",
    "                disc = total*.075\n",
    "            elif total>=50000:\n",
    "                disc = total*.05\n",
    "            else:\n",
    "                disc = total*0\n",
    "            cart['discount'] =disc\n",
    "            print(f\"\"\"\n",
    "                    Welcome to EasyShop\n",
    "                    ___________________\n",
    "            \n",
    "                    Item Name: {cart['item']}\n",
    "                    Item Price: {i[item]['price']}\n",
    "                    Item Quantity: {cart.get('quantity')}\n",
    "                    Total Bill   : {cart.get('total')}\n",
    "                    Discount     : {disc}\n",
    "                    Bill Payable: {total - disc}\"\"\")\n",
    "            break\n",
    "        else:\n",
    "            print(f\"{quant} {item}s are not in stock \")\n",
    "            \n",
    "    \n",
    "else:\n",
    "    print(f\"{item} Not Available\")       \n",
    "    \n"
   ]
  },
  {
   "cell_type": "code",
   "execution_count": 13,
   "id": "9e712172-ee73-4d6f-a1d3-d4b173bbcf62",
   "metadata": {},
   "outputs": [
    {
     "name": "stdout",
     "output_type": "stream",
     "text": [
      "1\n",
      "2\n",
      "3\n"
     ]
    }
   ],
   "source": [
    "test_d = {1:1,2:4,3:9}\n",
    "for n in test_d.keys():\n",
    "    print(n)"
   ]
  },
  {
   "cell_type": "code",
   "execution_count": 4,
   "id": "064159e3-c61c-4b79-b042-d6589b7d9625",
   "metadata": {},
   "outputs": [],
   "source": [
    "alist = [1,2,3, True, [22,33,44], {'key':\"value\"}]"
   ]
  },
  {
   "cell_type": "code",
   "execution_count": 10,
   "id": "1c50a977-9673-4179-a808-9cc2e3df322a",
   "metadata": {},
   "outputs": [
    {
     "name": "stdout",
     "output_type": "stream",
     "text": [
      "Helo\n"
     ]
    }
   ],
   "source": [
    "for a in range(10):\n",
    "    if a >100:\n",
    "        print(a)\n",
    "else:\n",
    "    print(\"Helo\")"
   ]
  },
  {
   "cell_type": "code",
   "execution_count": 20,
   "id": "87a26711-2b9c-4e48-8a5e-126518ecdd87",
   "metadata": {},
   "outputs": [
    {
     "data": {
      "text/plain": [
       "[{'laptop': {'price': 100000, 'quantity': 100}},\n",
       " {'mouse': {'price': 1000, 'quantity': 50}},\n",
       " {'keyboard': {'price': 1200, 'quantity': 100}},\n",
       " {'ram': {'price': 5000, 'quantity': 25}},\n",
       " {'usb': {'price': 2000, 'quantity': 120}},\n",
       " {'hdd': {'price': 6000, 'quantity': 10}},\n",
       " {'ssd': {'price': 10000, 'quantity': 4}},\n",
       " {'charger': {'price': 1500, 'quantity': 100}},\n",
       " {'headfone': {'price': 3000, 'quantity': 100}},\n",
       " {'speaker': {'price': 2500, 'quantity': 10}}]"
      ]
     },
     "execution_count": 20,
     "metadata": {},
     "output_type": "execute_result"
    }
   ],
   "source": []
  },
  {
   "cell_type": "code",
   "execution_count": 30,
   "id": "b26d6b32-1853-45a7-85ae-a2a33930a536",
   "metadata": {},
   "outputs": [
    {
     "name": "stdin",
     "output_type": "stream",
     "text": [
      "What do you want to buy laptop\n"
     ]
    },
    {
     "name": "stdout",
     "output_type": "stream",
     "text": [
      "Yes laptop Available\n",
      "laptop price is Rs.100000\n"
     ]
    },
    {
     "name": "stdin",
     "output_type": "stream",
     "text": [
      "How many laptop you required 6\n"
     ]
    },
    {
     "name": "stdout",
     "output_type": "stream",
     "text": [
      "\n",
      "                Welcome to EasyShop\n",
      "                ___________________\n",
      "        \n",
      "                Item Name: laptop\n",
      "                Item Price: 100000\n",
      "                Item Quantity: 6\n",
      "                Total Bill   : 600000\n",
      "                Discount     : 60000.0\n",
      "                Bill Payable: 540000.0\n"
     ]
    }
   ],
   "source": [
    "easyshop ={\n",
    "           \"laptop\":{\"price\":100000,\"quantity\":100},\n",
    "           \"mouse\":{\"price\":1000,   \"quantity\":50},\n",
    "           \"keyboard\":{\"price\":1200,\"quantity\":100},\n",
    "           \"ram\":{\"price\":5000,\"quantity\":25},\n",
    "           \"usb\":{\"price\":2000,\"quantity\":120},\n",
    "           \"hdd\":{\"price\":6000,\"quantity\":10},\n",
    "           \"ssd\":{\"price\":10000,\"quantity\":4},\n",
    "           \"charger\":{\"price\":1500,\"quantity\":100},\n",
    "           \"headfone\":{\"price\":3000,\"quantity\":100},\n",
    "           \"speaker\":{\"price\":2500,\"quantity\":10}\n",
    "}\n",
    "cart=[]\n",
    "\n",
    "item = input(\"What do you want to buy\").lower()\n",
    "if item in easyshop:\n",
    "    print(f\"Yes {item} Available\")\n",
    "    print(f\"{item} price is Rs.{easyshop[item]['price']}\")\n",
    "    quant = int(input(f\"How many {item} you required\"))\n",
    "    if quant<=easyshop[item]['quantity']:\n",
    "        easyshop[item]['quantity'] -=quant\n",
    "        cart['item']=item\n",
    "        cart['quantity']=quant\n",
    "        total = easyshop[item]['price']*quant            \n",
    "        cart['total'] = total\n",
    "        if total>=100000:\n",
    "            disc = total*.10\n",
    "        elif total>=75000:\n",
    "            disc = total*.075\n",
    "        elif total>=50000:\n",
    "            disc = total*.05\n",
    "        else:\n",
    "            disc = total*0\n",
    "        cart['discount'] =disc\n",
    "        print(f\"\"\"\n",
    "                Welcome to EasyShop\n",
    "                ___________________\n",
    "        \n",
    "                Item Name: {cart['item']}\n",
    "                Item Price: {i[item]['price']}\n",
    "                Item Quantity: {cart.get('quantity')}\n",
    "                Total Bill   : {cart.get('total')}\n",
    "                Discount     : {disc}\n",
    "                Bill Payable: {total - disc}\"\"\")\n",
    "        \n",
    "    else:\n",
    "        print(f\"{quant} {item}s are not in stock \")\n",
    "else:\n",
    "    print(f\"{item} Not Available\")\n",
    "    "
   ]
  },
  {
   "cell_type": "code",
   "execution_count": 31,
   "id": "9f87ca4a-2462-4e03-9785-9f1046e72398",
   "metadata": {},
   "outputs": [
    {
     "data": {
      "text/plain": [
       "{'laptop': {'price': 100000, 'quantity': 94},\n",
       " 'mouse': {'price': 1000, 'quantity': 50},\n",
       " 'keyboard': {'price': 1200, 'quantity': 100},\n",
       " 'ram': {'price': 5000, 'quantity': 25},\n",
       " 'usb': {'price': 2000, 'quantity': 120},\n",
       " 'hdd': {'price': 6000, 'quantity': 10},\n",
       " 'ssd': {'price': 10000, 'quantity': 4},\n",
       " 'charger': {'price': 1500, 'quantity': 100},\n",
       " 'headfone': {'price': 3000, 'quantity': 100},\n",
       " 'speaker': {'price': 2500, 'quantity': 10}}"
      ]
     },
     "execution_count": 31,
     "metadata": {},
     "output_type": "execute_result"
    }
   ],
   "source": [
    "easyshop"
   ]
  },
  {
   "cell_type": "code",
   "execution_count": null,
   "id": "50d984df-d171-47c1-a183-c0cf2d16d81b",
   "metadata": {},
   "outputs": [],
   "source": []
  }
 ],
 "metadata": {
  "kernelspec": {
   "display_name": "Python 3 (ipykernel)",
   "language": "python",
   "name": "python3"
  },
  "language_info": {
   "codemirror_mode": {
    "name": "ipython",
    "version": 3
   },
   "file_extension": ".py",
   "mimetype": "text/x-python",
   "name": "python",
   "nbconvert_exporter": "python",
   "pygments_lexer": "ipython3",
   "version": "3.12.7"
  }
 },
 "nbformat": 4,
 "nbformat_minor": 5
}
