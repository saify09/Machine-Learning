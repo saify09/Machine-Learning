{
 "cells": [
  {
   "cell_type": "markdown",
   "id": "09ca8198-a508-413f-bbb8-ed1dfae61fa5",
   "metadata": {},
   "source": [
    "# Python Programming Fundamentals"
   ]
  },
  {
   "cell_type": "code",
   "execution_count": 1,
   "id": "faab5d95-ad5f-4850-a99d-6476ad05d7ca",
   "metadata": {},
   "outputs": [
    {
     "name": "stdout",
     "output_type": "stream",
     "text": [
      "Hello World\n"
     ]
    },
    {
     "ename": "NameError",
     "evalue": "name 'Print' is not defined",
     "output_type": "error",
     "traceback": [
      "\u001b[1;31m---------------------------------------------------------------------------\u001b[0m",
      "\u001b[1;31mNameError\u001b[0m                                 Traceback (most recent call last)",
      "Cell \u001b[1;32mIn[1], line 2\u001b[0m\n\u001b[0;32m      1\u001b[0m \u001b[38;5;28mprint\u001b[39m(\u001b[38;5;124m\"\u001b[39m\u001b[38;5;124mHello World\u001b[39m\u001b[38;5;124m\"\u001b[39m)\n\u001b[1;32m----> 2\u001b[0m Print(\u001b[38;5;124m\"\u001b[39m\u001b[38;5;124mHello World\u001b[39m\u001b[38;5;124m\"\u001b[39m)\n\u001b[0;32m      3\u001b[0m Print(\u001b[38;5;124m\"\u001b[39m\u001b[38;5;124mHello World\u001b[39m\u001b[38;5;124m\"\u001b[39m)\n\u001b[0;32m      4\u001b[0m \u001b[38;5;28mprint\u001b[39m(helloworld)\n",
      "\u001b[1;31mNameError\u001b[0m: name 'Print' is not defined"
     ]
    }
   ],
   "source": [
    "print(\"Hello World\")\n",
    "Print(\"Hello World\")\n",
    "Print(\"Hello World\")\n",
    "print(helloworld)\n",
    "print(2345)\n",
    "print(False)\n",
    "print(4+6+7)"
   ]
  },
  {
   "cell_type": "raw",
   "id": "913fcc7a-a609-4efe-a734-c12ba58d0721",
   "metadata": {},
   "source": [
    "Value :Data\n",
    "Text : \"Textdata\" >>> String >>>str\n",
    "Numbers: \n",
    "        - Whole  : integers >>> int  {1,2,3,4,5,-6})\n",
    "        - Decimals: floats >>>> float 2.4, 5.7\n",
    "Boolean: \n",
    "         True , False"
   ]
  },
  {
   "cell_type": "code",
   "execution_count": 1,
   "id": "49252d10-310d-4a51-a7ec-26f01294d116",
   "metadata": {},
   "outputs": [
    {
     "name": "stdout",
     "output_type": "stream",
     "text": [
      "Hello World\n"
     ]
    }
   ],
   "source": [
    "print(\"Hello World\")"
   ]
  },
  {
   "cell_type": "code",
   "execution_count": 2,
   "id": "9e0bdca0-3bfc-456c-a668-27b62a94ea4f",
   "metadata": {},
   "outputs": [
    {
     "name": "stdout",
     "output_type": "stream",
     "text": [
      "1234\n"
     ]
    }
   ],
   "source": [
    "print(1234)"
   ]
  },
  {
   "cell_type": "code",
   "execution_count": 3,
   "id": "40865490-023a-4eb5-a505-14525ba571b0",
   "metadata": {},
   "outputs": [
    {
     "name": "stdout",
     "output_type": "stream",
     "text": [
      "23.6\n"
     ]
    }
   ],
   "source": [
    "print(23.6)"
   ]
  },
  {
   "cell_type": "code",
   "execution_count": 4,
   "id": "dc2b67b1-ad42-44d9-8d19-6ad87c90e130",
   "metadata": {},
   "outputs": [
    {
     "name": "stdout",
     "output_type": "stream",
     "text": [
      "True\n"
     ]
    }
   ],
   "source": [
    "print(True)"
   ]
  },
  {
   "cell_type": "code",
   "execution_count": 5,
   "id": "b273f75c-b108-46c5-ad18-d9c8295a1cef",
   "metadata": {},
   "outputs": [
    {
     "name": "stdout",
     "output_type": "stream",
     "text": [
      "125\n"
     ]
    }
   ],
   "source": [
    "print(\"125\")"
   ]
  },
  {
   "cell_type": "code",
   "execution_count": 6,
   "id": "9502de9f-be83-4d0b-8f70-7b25b47f7374",
   "metadata": {},
   "outputs": [
    {
     "data": {
      "text/plain": [
       "str"
      ]
     },
     "execution_count": 6,
     "metadata": {},
     "output_type": "execute_result"
    }
   ],
   "source": [
    "type(\"Hello\")"
   ]
  },
  {
   "cell_type": "code",
   "execution_count": 3,
   "id": "386b9f92-8fc4-49c0-b5fb-c674b2431a15",
   "metadata": {},
   "outputs": [
    {
     "data": {
      "text/plain": [
       "int"
      ]
     },
     "execution_count": 3,
     "metadata": {},
     "output_type": "execute_result"
    }
   ],
   "source": [
    "type(100)"
   ]
  },
  {
   "cell_type": "code",
   "execution_count": 4,
   "id": "f79b6816-c2bd-4e64-95b9-11706d599566",
   "metadata": {},
   "outputs": [
    {
     "data": {
      "text/plain": [
       "float"
      ]
     },
     "execution_count": 4,
     "metadata": {},
     "output_type": "execute_result"
    }
   ],
   "source": [
    "type(12.5)"
   ]
  },
  {
   "cell_type": "code",
   "execution_count": 5,
   "id": "029f2444-ad9a-4a14-b9d4-ac51878a01e4",
   "metadata": {},
   "outputs": [
    {
     "data": {
      "text/plain": [
       "bool"
      ]
     },
     "execution_count": 5,
     "metadata": {},
     "output_type": "execute_result"
    }
   ],
   "source": [
    "type(True)"
   ]
  },
  {
   "cell_type": "code",
   "execution_count": 6,
   "id": "c0364911-0ca8-4d0d-b1fd-1f3c39cd123b",
   "metadata": {},
   "outputs": [
    {
     "data": {
      "text/plain": [
       "str"
      ]
     },
     "execution_count": 6,
     "metadata": {},
     "output_type": "execute_result"
    }
   ],
   "source": [
    "type(\"True\")"
   ]
  },
  {
   "cell_type": "code",
   "execution_count": 7,
   "id": "13a1be2e-b0c3-4260-93cf-2f8dac5f6d0a",
   "metadata": {},
   "outputs": [
    {
     "name": "stdout",
     "output_type": "stream",
     "text": [
      "2 4 6\n"
     ]
    }
   ],
   "source": [
    "print(2,4,6)"
   ]
  },
  {
   "cell_type": "code",
   "execution_count": 8,
   "id": "e997d08e-a780-420a-b144-37f6ff7f5cb5",
   "metadata": {},
   "outputs": [
    {
     "name": "stdout",
     "output_type": "stream",
     "text": [
      "Two          2          False\n"
     ]
    }
   ],
   "source": [
    "print(\"Two\",2,False,sep=\"          \")"
   ]
  },
  {
   "cell_type": "code",
   "execution_count": 12,
   "id": "ce7c08c3-3dc6-47b0-babc-3b1aeb8a4f06",
   "metadata": {},
   "outputs": [
    {
     "name": "stdout",
     "output_type": "stream",
     "text": [
      "I am a doctor\n",
      "Who are you?\n"
     ]
    }
   ],
   "source": [
    "print(\"I am a doctor\")\n",
    "print(\"Who are you?\")"
   ]
  },
  {
   "cell_type": "code",
   "execution_count": 15,
   "id": "43cc7236-3af7-491a-9372-bdeed02e0fd8",
   "metadata": {},
   "outputs": [
    {
     "name": "stdout",
     "output_type": "stream",
     "text": [
      "I am a doctorWho are you?\n"
     ]
    }
   ],
   "source": [
    "print(\"I am a doctor\",end=\"\")\n",
    "print(\"Who are you?\")"
   ]
  },
  {
   "cell_type": "code",
   "execution_count": 16,
   "id": "dd6c6122-b32b-42d0-9405-ae4d503aa56a",
   "metadata": {},
   "outputs": [
    {
     "name": "stdout",
     "output_type": "stream",
     "text": [
      "I am double qoute string\n",
      "I am single qoute string\n"
     ]
    }
   ],
   "source": [
    "print(\"I am double qoute string\")\n",
    "print('I am single qoute string')"
   ]
  },
  {
   "cell_type": "code",
   "execution_count": 17,
   "id": "83dff432-a11b-48db-870d-9b758f65db86",
   "metadata": {},
   "outputs": [
    {
     "name": "stdout",
     "output_type": "stream",
     "text": [
      "I am single qoute string\n"
     ]
    }
   ],
   "source": [
    "print(\"\"\"I am single qoute string\"\"\")"
   ]
  },
  {
   "cell_type": "code",
   "execution_count": 18,
   "id": "6cfbc2c7-2378-4a23-8fcb-0abf74b52991",
   "metadata": {},
   "outputs": [
    {
     "name": "stdout",
     "output_type": "stream",
     "text": [
      "I am single qoute string\n"
     ]
    }
   ],
   "source": [
    "print('''I am single qoute string''')"
   ]
  },
  {
   "cell_type": "code",
   "execution_count": 21,
   "id": "cf53be95-f108-42f1-8141-2111edf50a03",
   "metadata": {},
   "outputs": [
    {
     "name": "stdout",
     "output_type": "stream",
     "text": [
      "Hello how ru \n",
      " Where are you\n"
     ]
    }
   ],
   "source": [
    "print(\"Hello how ru \\n Where are you\")"
   ]
  },
  {
   "cell_type": "code",
   "execution_count": 7,
   "id": "de9ee643-8d9d-49ff-a9f9-e15cdd1463f4",
   "metadata": {},
   "outputs": [
    {
     "name": "stdout",
     "output_type": "stream",
     "text": [
      "Hello\n",
      "        K c ho\n",
      "        T  p O G \n",
      "        P k I G \n"
     ]
    }
   ],
   "source": [
    "print('''Hello\n",
    "        K c ho\n",
    "        T  p O G \n",
    "        P k I G ''')"
   ]
  },
  {
   "cell_type": "code",
   "execution_count": null,
   "id": "3bde2470-3069-448a-b3f1-df7c46ee95e2",
   "metadata": {},
   "outputs": [],
   "source": []
  }
 ],
 "metadata": {
  "kernelspec": {
   "display_name": "Python 3 (ipykernel)",
   "language": "python",
   "name": "python3"
  },
  "language_info": {
   "codemirror_mode": {
    "name": "ipython",
    "version": 3
   },
   "file_extension": ".py",
   "mimetype": "text/x-python",
   "name": "python",
   "nbconvert_exporter": "python",
   "pygments_lexer": "ipython3",
   "version": "3.12.7"
  }
 },
 "nbformat": 4,
 "nbformat_minor": 5
}
