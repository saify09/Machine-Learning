{
 "cells": [
  {
   "cell_type": "raw",
   "id": "8953fa67-c143-4ea4-b745-f22d4b5f8b2d",
   "metadata": {},
   "source": [
    "8-2. Favorite Book: Write a function called favorite_book() that accepts one\n",
    "parameter, title. The function should print a message, such as One of my\n",
    "favorite books is Alice in Wonderland. Call the function, making sure to\n",
    "include a book title as an argument in the function call."
   ]
  },
  {
   "cell_type": "code",
   "execution_count": 2,
   "id": "7adcf131-76a6-4856-85a4-83e6203c3cbb",
   "metadata": {},
   "outputs": [],
   "source": [
    "def favourite_book(title):\n",
    "    print(f\"One of my favourite book is {title}\")"
   ]
  },
  {
   "cell_type": "code",
   "execution_count": 4,
   "id": "42050d42-d854-4659-9820-1b37fa58ea52",
   "metadata": {},
   "outputs": [
    {
     "name": "stdout",
     "output_type": "stream",
     "text": [
      "One of my favourite book is Python Crash Course\n"
     ]
    }
   ],
   "source": [
    "favourite_book('Python Crash Course')"
   ]
  },
  {
   "cell_type": "raw",
   "id": "ba209801-e021-4a42-8f78-74f0be2f71d4",
   "metadata": {},
   "source": [
    "# 8-3. T-Shirt: Write a function called make_shirt() that accepts a size and the\n",
    "text of a message that should be printed on the shirt. The function should print\n",
    "a sentence summarizing the size of the shirt and the message printed on it.\n",
    "Call the function once using positional arguments to make a shirt. Call the\n",
    "function a second time using keyword arguments."
   ]
  },
  {
   "cell_type": "code",
   "execution_count": 6,
   "id": "70c855f5-4f90-4637-bd06-bca130c42e88",
   "metadata": {},
   "outputs": [],
   "source": [
    "def make_shirt(size,msg):\n",
    "    print(F\"{size} - {msg}\")"
   ]
  },
  {
   "cell_type": "code",
   "execution_count": 7,
   "id": "cfef8394-49fc-4cdf-afb6-ed8631b34345",
   "metadata": {},
   "outputs": [
    {
     "name": "stdout",
     "output_type": "stream",
     "text": [
      "Large - Dil Dil Pakistan\n"
     ]
    }
   ],
   "source": [
    "make_shirt('Large', \"Dil Dil Pakistan\")"
   ]
  },
  {
   "cell_type": "code",
   "execution_count": 8,
   "id": "bcf72678-672b-4fa5-8cbf-1d713e7a06a9",
   "metadata": {},
   "outputs": [
    {
     "name": "stdout",
     "output_type": "stream",
     "text": [
      "Medium - Made in China\n"
     ]
    }
   ],
   "source": [
    "make_shirt(msg=\"Made in China\", size='Medium')"
   ]
  },
  {
   "cell_type": "raw",
   "id": "fbf489cb-9611-4b45-a47e-ee622dc42e0a",
   "metadata": {},
   "source": [
    "8-4. Large Shirts: Modify the make_shirt() function so that shirts are large\n",
    "by default with a message that reads I love Python. Make a large shirt and a\n",
    "medium shirt with the default message, and a shirt of any size with a different\n",
    "message."
   ]
  },
  {
   "cell_type": "code",
   "execution_count": 9,
   "id": "98e9c809-011b-40c5-93c6-68e5eae8f990",
   "metadata": {},
   "outputs": [],
   "source": [
    "def make_shirt(size='Large',msg='I love Python'):\n",
    "    print(F\"{size} - {msg}\")"
   ]
  },
  {
   "cell_type": "code",
   "execution_count": 10,
   "id": "60c94a35-5ad1-40a3-b9b5-63f15630a505",
   "metadata": {},
   "outputs": [
    {
     "name": "stdout",
     "output_type": "stream",
     "text": [
      "Large - I love Python\n"
     ]
    }
   ],
   "source": [
    "make_shirt('Large')"
   ]
  },
  {
   "cell_type": "code",
   "execution_count": 11,
   "id": "0a9f7b3a-7d3c-44ee-981b-b249fb65bf13",
   "metadata": {},
   "outputs": [
    {
     "name": "stdout",
     "output_type": "stream",
     "text": [
      "Medium - I love Python\n"
     ]
    }
   ],
   "source": [
    "make_shirt('Medium')"
   ]
  },
  {
   "cell_type": "code",
   "execution_count": 12,
   "id": "a5179ee3-70e3-4dd4-be0a-3ab35ee8fa52",
   "metadata": {},
   "outputs": [
    {
     "name": "stdout",
     "output_type": "stream",
     "text": [
      "Extra Large - Lets built a better world together\n"
     ]
    }
   ],
   "source": [
    "make_shirt('Extra Large', 'Lets built a better world together')"
   ]
  },
  {
   "cell_type": "code",
   "execution_count": 13,
   "id": "312154df-7948-4a21-b6cc-9017cca4cff4",
   "metadata": {},
   "outputs": [
    {
     "name": "stdout",
     "output_type": "stream",
     "text": [
      "Large - I love Python\n"
     ]
    }
   ],
   "source": [
    "make_shirt()"
   ]
  },
  {
   "cell_type": "code",
   "execution_count": 14,
   "id": "04b4c112-e256-4310-8741-39bf4041ad52",
   "metadata": {},
   "outputs": [
    {
     "name": "stdout",
     "output_type": "stream",
     "text": [
      "small - helloworld\n"
     ]
    }
   ],
   "source": [
    "make_shirt('small','helloworld')"
   ]
  },
  {
   "cell_type": "raw",
   "id": "d95523be-4ceb-49e9-9a69-60962e389e88",
   "metadata": {},
   "source": [
    "8-5. Cities: Write a function called describe_city() that accepts the name of\n",
    "a city and its country. The function should print a simple sentence, such as\n",
    "Reykjavik is in Iceland. Give the parameter for the country a default value.\n",
    "Call your function for three different cities, at least one of which is not in the\n",
    "default country."
   ]
  },
  {
   "cell_type": "code",
   "execution_count": 15,
   "id": "2ea0cbe8-579f-4bc3-bba0-75e9a20f0d5e",
   "metadata": {},
   "outputs": [],
   "source": [
    "def describe_city(city,country='Paksitan'):\n",
    "    print(f\"{city} is in {country}\")  "
   ]
  },
  {
   "cell_type": "code",
   "execution_count": 16,
   "id": "2f55de3f-7249-4d57-9e65-c91ebd0ec4b8",
   "metadata": {},
   "outputs": [
    {
     "name": "stdout",
     "output_type": "stream",
     "text": [
      "Karachi is in Pakistan\n"
     ]
    }
   ],
   "source": [
    "describe_city('Karachi', 'Pakistan')"
   ]
  },
  {
   "cell_type": "code",
   "execution_count": 17,
   "id": "42da2bf7-461f-4d76-8c7c-8ea3f102a5fe",
   "metadata": {},
   "outputs": [
    {
     "name": "stdout",
     "output_type": "stream",
     "text": [
      "NewYork is in USA\n"
     ]
    }
   ],
   "source": [
    "describe_city('NewYork', 'USA')"
   ]
  },
  {
   "cell_type": "code",
   "execution_count": 18,
   "id": "a51c53ae-2ec7-4b75-9f11-68abe15d35e1",
   "metadata": {},
   "outputs": [
    {
     "name": "stdout",
     "output_type": "stream",
     "text": [
      "Lahore is in Paksitan\n"
     ]
    }
   ],
   "source": [
    "describe_city('Lahore')"
   ]
  },
  {
   "cell_type": "raw",
   "id": "decce01b-a6a5-4ea4-8c51-e3967a85e610",
   "metadata": {},
   "source": [
    "8-6. City Names: Write a function called city_country() that takes in the name\n",
    "of a city and its country. The function should return a string formatted like this:\n",
    "\"Santiago, Chile\"\n",
    "Call your function with at least three city-country pairs, and print the value\n",
    "that’s returned."
   ]
  },
  {
   "cell_type": "code",
   "execution_count": 25,
   "id": "d8fb1223-a94b-4b4f-ac85-467cf0392cce",
   "metadata": {},
   "outputs": [],
   "source": [
    "def city_country(city,country):\n",
    "    return f\"{city} is located in  {country}\"    "
   ]
  },
  {
   "cell_type": "code",
   "execution_count": 26,
   "id": "62bafcc0-c621-4d3f-bf3b-58e325bd87a8",
   "metadata": {},
   "outputs": [
    {
     "data": {
      "text/plain": [
       "'Beijing is located in  China'"
      ]
     },
     "execution_count": 26,
     "metadata": {},
     "output_type": "execute_result"
    }
   ],
   "source": [
    "city_country('Beijing', 'China')"
   ]
  },
  {
   "cell_type": "code",
   "execution_count": 27,
   "id": "fd516de3-71a9-48fb-bc45-cfbf0843c5b8",
   "metadata": {},
   "outputs": [
    {
     "data": {
      "text/plain": [
       "'Mumbai is located in  India'"
      ]
     },
     "execution_count": 27,
     "metadata": {},
     "output_type": "execute_result"
    }
   ],
   "source": [
    "city_country('Mumbai', 'India')"
   ]
  },
  {
   "cell_type": "code",
   "execution_count": 28,
   "id": "141e0c5d-62c3-445f-9ad6-00fcd4ae566f",
   "metadata": {},
   "outputs": [
    {
     "data": {
      "text/plain": [
       "'Islamabad is located in  Pakistan'"
      ]
     },
     "execution_count": 28,
     "metadata": {},
     "output_type": "execute_result"
    }
   ],
   "source": [
    "city_country('Islamabad', \"Pakistan\")"
   ]
  },
  {
   "cell_type": "code",
   "execution_count": 29,
   "id": "7031dab1-1342-41b3-9cba-9c326694c0fc",
   "metadata": {},
   "outputs": [],
   "source": [
    "cc = city_country('Islamabad', \"Pakistan\")"
   ]
  },
  {
   "cell_type": "code",
   "execution_count": 30,
   "id": "37aa6a61-c01c-46e3-995f-af0d7e5d2505",
   "metadata": {},
   "outputs": [
    {
     "name": "stdout",
     "output_type": "stream",
     "text": [
      "Islamabad is located in  Pakistan\n"
     ]
    }
   ],
   "source": [
    "print(cc)"
   ]
  },
  {
   "cell_type": "raw",
   "id": "ead2094a-e9f6-4264-9e5e-1de004c2f0fd",
   "metadata": {},
   "source": [
    "8-7. Album: Write a function called make_album() that builds a dictionary\n",
    "describing a music album. The function should take in an artist name and an\n",
    "album title, and it should return a dictionary containing these two pieces of\n",
    "information. Use the function to make three dictionaries representing different\n",
    "albums. Print each return value to show that the dictionaries are storing the\n",
    "album information correctly.\n",
    "Add an optional parameter to make_album() that allows you to store the\n",
    "number of tracks on an album. If the calling line includes a value for the number\n",
    "of tracks, add that value to the album’s dictionary. Make at least one new\n",
    "function call that includes the number of tracks on an album."
   ]
  },
  {
   "cell_type": "code",
   "execution_count": 31,
   "id": "5f503aff-9a44-45a0-bbb3-b204fa3af8e5",
   "metadata": {},
   "outputs": [],
   "source": [
    "def make_album(artist_name,album_title):\n",
    "    \n",
    "    # return {'artist_name':artist_name, 'album_title':album_title}\n",
    "    \n",
    "    # album = {'artist_name':artist_name, 'album_title':album_title}\n",
    "    # return album\n",
    "    \n",
    "    album={}\n",
    "    album['artist_name'] = artist_name\n",
    "    album['album_title'] =album_title\n",
    "    \n",
    "    return album"
   ]
  },
  {
   "cell_type": "code",
   "execution_count": 38,
   "id": "444ca38a-cbe7-400b-b78c-f4ff17c4dbf2",
   "metadata": {},
   "outputs": [
    {
     "name": "stdout",
     "output_type": "stream",
     "text": [
      "{'artist_name': 'Talha Anjum', 'album_title': 'Guman'}\n"
     ]
    }
   ],
   "source": [
    "album1 = make_album('Talha Anjum', 'Guman')\n",
    "print(album1)"
   ]
  },
  {
   "cell_type": "code",
   "execution_count": 39,
   "id": "c683ada3-d328-4c04-a340-e94f10a0fea3",
   "metadata": {},
   "outputs": [
    {
     "name": "stdout",
     "output_type": "stream",
     "text": [
      "{'artist_name': 'Arijit Singh', 'album_title': 'Ashiqui2'}\n"
     ]
    }
   ],
   "source": [
    "album2=make_album(\"Arijit Singh\", 'Ashiqui2')\n",
    "print(album2)"
   ]
  },
  {
   "cell_type": "code",
   "execution_count": 40,
   "id": "f7d86ea1-657e-413c-b4a4-d2fa4f806531",
   "metadata": {},
   "outputs": [
    {
     "name": "stdout",
     "output_type": "stream",
     "text": [
      "{'artist_name': 'Atif Aslam', 'album_title': 'Aadat'}\n"
     ]
    }
   ],
   "source": [
    "album3=make_album(\"Atif Aslam\", 'Aadat')\n",
    "print(album3)"
   ]
  },
  {
   "cell_type": "code",
   "execution_count": 51,
   "id": "e8b6b21b-2f52-4c54-95c9-84eedd1a3c5c",
   "metadata": {},
   "outputs": [],
   "source": [
    "def make_album(artist_name,album_title,number_of_tracks=\"\"):\n",
    "    album={}\n",
    "    album['artist_name'] = artist_name\n",
    "    album['album_title'] =album_title\n",
    "    if number_of_tracks:\n",
    "        album['tracks'] = number_of_tracks\n",
    "    \n",
    "    return album"
   ]
  },
  {
   "cell_type": "code",
   "execution_count": 53,
   "id": "c920b47f-dc57-428a-96e3-a2702e3c68cc",
   "metadata": {},
   "outputs": [
    {
     "data": {
      "text/plain": [
       "{'artist_name': 'Ubaid', 'album_title': 'Beautiful Python', 'tracks': 12}"
      ]
     },
     "execution_count": 53,
     "metadata": {},
     "output_type": "execute_result"
    }
   ],
   "source": [
    "make_album('Ubaid', \"Beautiful Python\",12)"
   ]
  },
  {
   "cell_type": "code",
   "execution_count": 54,
   "id": "92161ae8-16b2-4d4d-ae94-80e5b977a894",
   "metadata": {},
   "outputs": [
    {
     "data": {
      "text/plain": [
       "{'artist_name': 'Ubaid', 'album_title': 'Beautiful Python'}"
      ]
     },
     "execution_count": 54,
     "metadata": {},
     "output_type": "execute_result"
    }
   ],
   "source": [
    "make_album('Ubaid', \"Beautiful Python\",0)"
   ]
  },
  {
   "cell_type": "code",
   "execution_count": 55,
   "id": "836dd051-43fb-48cb-84f5-650bc39aeff0",
   "metadata": {},
   "outputs": [],
   "source": [
    "n = \"werer\""
   ]
  },
  {
   "cell_type": "code",
   "execution_count": 63,
   "id": "756cb1e6-df87-49b9-9282-ccf13beb1bf6",
   "metadata": {},
   "outputs": [],
   "source": [
    "lst= \"2\""
   ]
  },
  {
   "cell_type": "code",
   "execution_count": 64,
   "id": "791aec8a-ef52-45d1-b96e-3b3405e6a3a4",
   "metadata": {},
   "outputs": [
    {
     "data": {
      "text/plain": [
       "True"
      ]
     },
     "execution_count": 64,
     "metadata": {},
     "output_type": "execute_result"
    }
   ],
   "source": [
    "bool(lst)"
   ]
  },
  {
   "cell_type": "code",
   "execution_count": 65,
   "id": "963747bb-64ac-4549-b82f-3f0727dc7bd8",
   "metadata": {},
   "outputs": [
    {
     "data": {
      "text/plain": [
       "{'artist_name': 'Ubaid', 'album_title': 'Beautiful Python'}"
      ]
     },
     "execution_count": 65,
     "metadata": {},
     "output_type": "execute_result"
    }
   ],
   "source": [
    "make_album('Ubaid', \"Beautiful Python\")"
   ]
  },
  {
   "cell_type": "raw",
   "id": "474f247b-7091-49a8-a396-72743f82af2b",
   "metadata": {},
   "source": [
    "8-8. User Albums: Start with your program from Exercise 8-7. Write a while\n",
    "loop that allows users to enter an album’s artist and title. Once you have that\n",
    "information, call make_album() with the user’s input and print the dictionary\n",
    "that’s created. Be sure to include a quit value in the while loop."
   ]
  },
  {
   "cell_type": "code",
   "execution_count": 71,
   "id": "5b01cfa6-d14a-42f7-8b43-c3fdc4ffbe19",
   "metadata": {},
   "outputs": [],
   "source": [
    "def make_album(artist_name,album_title,number_of_tracks=\"\"):\n",
    "    album={}\n",
    "    album['artist_name'] = artist_name\n",
    "    album['album_title'] =album_title\n",
    "    if number_of_tracks:\n",
    "        album['tracks'] = (number_of_tracks)    \n",
    "    return album"
   ]
  },
  {
   "cell_type": "code",
   "execution_count": 74,
   "id": "1fd48e66-a48f-4c97-9284-f9dfcbab9f0c",
   "metadata": {},
   "outputs": [
    {
     "name": "stdin",
     "output_type": "stream",
     "text": [
      "Enter artist_name or press q to quit:   asad\n",
      "Enter album titleor press q to quit:   q\n"
     ]
    }
   ],
   "source": [
    "while True:\n",
    "    artist_name= input(\"Enter artist_name or press q to quit:  \")\n",
    "    if artist_name=='q':\n",
    "        break\n",
    "    album_title = input(\"Enter album titleor press q to quit:  \")\n",
    "    if album_title=='q':\n",
    "        break\n",
    "    tracks = input(\"Enter number of tracks or press q to quit: \")\n",
    "    if tracks=='q':\n",
    "        break\n",
    "    print(make_album(artist_name,album_title,tracks))"
   ]
  },
  {
   "cell_type": "raw",
   "id": "5fcf2e96-dbf5-4040-add1-4a4f9e2d2519",
   "metadata": {},
   "source": [
    "8-9. Magicians: Make a list of magician’s names. Pass the list to a function\n",
    "called show_magicians(), which prints the name of each magician in the list."
   ]
  },
  {
   "cell_type": "code",
   "execution_count": 79,
   "id": "a932b1df-e1bc-4c9c-abaa-64eaa497124d",
   "metadata": {},
   "outputs": [],
   "source": [
    "def show_magician(magicians):\n",
    "    for magician in magicians:\n",
    "        print(f\"-{magician}\")\n",
    "        "
   ]
  },
  {
   "cell_type": "code",
   "execution_count": 80,
   "id": "28c2b47b-ec4d-4210-afc5-cf54b816da36",
   "metadata": {},
   "outputs": [
    {
     "name": "stdout",
     "output_type": "stream",
     "text": [
      "-sohaib\n",
      "-mateem\n",
      "-moiz\n",
      "-daniyal\n",
      "-alibaba\n",
      "-umer\n"
     ]
    }
   ],
   "source": [
    "show_magician(['sohaib','mateem','moiz','daniyal','alibaba','umer'])"
   ]
  },
  {
   "cell_type": "raw",
   "id": "1278cfda-6bb4-4a58-aac0-c13b4ecf70d0",
   "metadata": {},
   "source": [
    "8-10. Great Magicians: Start with a copy of your program from Exercise 8-9.\n",
    "Write a function called make_great() that modifies the list of magicians by adding\n",
    "the phrase the Great to each magician’s name. Call show_magicians() to\n",
    "see that the list has actually been modified."
   ]
  },
  {
   "cell_type": "code",
   "execution_count": 81,
   "id": "ebd79544-7912-459a-bd1c-4dd5c2c050dc",
   "metadata": {},
   "outputs": [],
   "source": [
    "def show_magician(magicians):\n",
    "    for magician in magicians:\n",
    "        print(f\"-{magician}\")\n",
    "\n",
    "def make_great(magicians):\n",
    "    for magician in magicians:\n",
    "        print(f\"- Great {magician}\")   "
   ]
  },
  {
   "cell_type": "code",
   "execution_count": 82,
   "id": "5b09a154-9a9f-4f9f-8f2d-21e75a388b89",
   "metadata": {},
   "outputs": [
    {
     "name": "stdout",
     "output_type": "stream",
     "text": [
      "- Great sohaib\n",
      "- Great mateem\n",
      "- Great moiz\n",
      "- Great daniyal\n",
      "- Great alibaba\n",
      "- Great umer\n"
     ]
    }
   ],
   "source": [
    "make_great(['sohaib','mateem','moiz','daniyal','alibaba','umer'])"
   ]
  },
  {
   "cell_type": "code",
   "execution_count": 84,
   "id": "8b56f76b-2390-4212-bdd2-b9250bb3089b",
   "metadata": {},
   "outputs": [
    {
     "name": "stdout",
     "output_type": "stream",
     "text": [
      "-sohaib\n",
      "-mateem\n",
      "-moiz\n",
      "-daniyal\n",
      "-alibaba\n",
      "-umer\n"
     ]
    }
   ],
   "source": [
    "show_magician(['sohaib','mateem','moiz','daniyal','alibaba','umer'])"
   ]
  },
  {
   "cell_type": "code",
   "execution_count": 85,
   "id": "1c01254e-afe5-4632-85f0-802b6b7be7d7",
   "metadata": {},
   "outputs": [],
   "source": [
    "magicians_lst=['sohaib','mateem','moiz','daniyal','alibaba','umer']"
   ]
  },
  {
   "cell_type": "code",
   "execution_count": 86,
   "id": "750ed058-4e80-40e7-a51d-db40221fe476",
   "metadata": {},
   "outputs": [
    {
     "name": "stdout",
     "output_type": "stream",
     "text": [
      "- Great sohaib\n",
      "- Great mateem\n",
      "- Great moiz\n",
      "- Great daniyal\n",
      "- Great alibaba\n",
      "- Great umer\n"
     ]
    }
   ],
   "source": [
    "make_great(magicians_lst)"
   ]
  },
  {
   "cell_type": "code",
   "execution_count": 87,
   "id": "2a4ef9ac-2aca-4001-a5e5-6c9c1373a3ac",
   "metadata": {},
   "outputs": [
    {
     "name": "stdout",
     "output_type": "stream",
     "text": [
      "-sohaib\n",
      "-mateem\n",
      "-moiz\n",
      "-daniyal\n",
      "-alibaba\n",
      "-umer\n"
     ]
    }
   ],
   "source": [
    "show_magician(magicians_lst)"
   ]
  },
  {
   "cell_type": "code",
   "execution_count": null,
   "id": "f58cde5c-dc08-4504-bd38-ccf8292d94a9",
   "metadata": {},
   "outputs": [],
   "source": []
  }
 ],
 "metadata": {
  "kernelspec": {
   "display_name": "Python 3 (ipykernel)",
   "language": "python",
   "name": "python3"
  },
  "language_info": {
   "codemirror_mode": {
    "name": "ipython",
    "version": 3
   },
   "file_extension": ".py",
   "mimetype": "text/x-python",
   "name": "python",
   "nbconvert_exporter": "python",
   "pygments_lexer": "ipython3",
   "version": "3.12.3"
  }
 },
 "nbformat": 4,
 "nbformat_minor": 5
}
