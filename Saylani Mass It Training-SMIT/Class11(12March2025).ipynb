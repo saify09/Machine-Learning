{
 "cells": [
  {
   "cell_type": "markdown",
   "id": "59f36dfd-eed8-49dc-9da4-5f05188bab35",
   "metadata": {},
   "source": [
    "# Practicing Loops in python"
   ]
  },
  {
   "cell_type": "markdown",
   "id": "161bba0b-d1f3-478d-9ea4-021c670983ce",
   "metadata": {},
   "source": [
    "#### Write a Python program to print the numbers from 20 to 1 using a while loop"
   ]
  },
  {
   "cell_type": "code",
   "execution_count": 2,
   "id": "9ec520f5-ed7c-457c-8e63-4c9e35e496b9",
   "metadata": {},
   "outputs": [
    {
     "name": "stdout",
     "output_type": "stream",
     "text": [
      "20,19,18,17,16,15,14,13,12,11,10,9,8,7,6,5,4,3,2,1,"
     ]
    }
   ],
   "source": [
    "count=20\n",
    "while count>=1:\n",
    "    print(count,end=',')\n",
    "    count-=1"
   ]
  },
  {
   "cell_type": "markdown",
   "id": "89374336-8f04-42b3-9a54-64a0d8bb7859",
   "metadata": {},
   "source": [
    "#### Write a program to print even numbers from 1 to 10."
   ]
  },
  {
   "cell_type": "code",
   "execution_count": 3,
   "id": "558c9b7b-c1eb-499a-9ff5-a3866d0e1d7e",
   "metadata": {},
   "outputs": [
    {
     "name": "stdout",
     "output_type": "stream",
     "text": [
      "0\n",
      "2\n",
      "4\n",
      "6\n",
      "8\n"
     ]
    }
   ],
   "source": [
    "for n in range(10):\n",
    "    if n%2==0:\n",
    "        print(n)"
   ]
  },
  {
   "cell_type": "code",
   "execution_count": 4,
   "id": "365f00c4-3242-4cbb-a000-2316ab090f66",
   "metadata": {},
   "outputs": [
    {
     "name": "stdout",
     "output_type": "stream",
     "text": [
      "0\n",
      "2\n",
      "4\n",
      "6\n",
      "8\n",
      "10\n"
     ]
    }
   ],
   "source": [
    "for a in range(0,11,2):\n",
    "    print(a)"
   ]
  },
  {
   "cell_type": "code",
   "execution_count": 5,
   "id": "21fd0439-9cd5-4f8c-8115-41ea23236697",
   "metadata": {},
   "outputs": [
    {
     "name": "stdout",
     "output_type": "stream",
     "text": [
      "1\n",
      "3\n",
      "5\n",
      "7\n",
      "9\n"
     ]
    }
   ],
   "source": [
    "for a in range(1,11,2):\n",
    "    print(a)"
   ]
  },
  {
   "cell_type": "markdown",
   "id": "c3edaa94-fd6f-4b27-8532-61d3275f5e9a",
   "metadata": {},
   "source": [
    "#### 4. Write a program that prompts the user to enter a number n and prints all the numbers from 1 to n."
   ]
  },
  {
   "cell_type": "code",
   "execution_count": 10,
   "id": "44d6d42d-040f-42d2-877c-805f74d3d4ac",
   "metadata": {},
   "outputs": [
    {
     "name": "stdin",
     "output_type": "stream",
     "text": [
      "Enter a number 5\n"
     ]
    },
    {
     "name": "stdout",
     "output_type": "stream",
     "text": [
      "1\n",
      "2\n",
      "3\n",
      "4\n",
      "5\n"
     ]
    }
   ],
   "source": [
    "n = int(input(\"Enter a number\"))\n",
    "for a  in range(1,n+1):\n",
    "    print(a)"
   ]
  },
  {
   "cell_type": "code",
   "execution_count": 12,
   "id": "973b0847-b6ef-4c04-8ffb-f8de98c10f07",
   "metadata": {},
   "outputs": [
    {
     "name": "stdout",
     "output_type": "stream",
     "text": [
      "0\n",
      "1\n",
      "2\n",
      "3\n",
      "4\n",
      "5\n"
     ]
    }
   ],
   "source": [
    "for a in range(5+1):\n",
    "    print(a)"
   ]
  },
  {
   "cell_type": "code",
   "execution_count": 14,
   "id": "b2161ed5-dcf1-48ec-8b5a-148bc476eab8",
   "metadata": {},
   "outputs": [
    {
     "data": {
      "text/plain": [
       "'hAppyBirthday hAppyBirthday hAppyBirthday hAppyBirthday hAppyBirthday '"
      ]
     },
     "execution_count": 14,
     "metadata": {},
     "output_type": "execute_result"
    }
   ],
   "source": [
    "\"hAppyBirthday \" * 5"
   ]
  },
  {
   "cell_type": "code",
   "execution_count": 15,
   "id": "aa29d380-6dd4-4c1a-8567-03665a1c9ebc",
   "metadata": {},
   "outputs": [
    {
     "data": {
      "text/plain": [
       "[1, 2, 3, 1, 2, 3, 1, 2, 3]"
      ]
     },
     "execution_count": 15,
     "metadata": {},
     "output_type": "execute_result"
    }
   ],
   "source": [
    "[1,2,3] *3"
   ]
  },
  {
   "cell_type": "code",
   "execution_count": 16,
   "id": "49c6b7cc-25c7-4d9d-8794-dd7564482481",
   "metadata": {},
   "outputs": [
    {
     "name": "stdout",
     "output_type": "stream",
     "text": [
      "Happy Birthday,Happy Birthday,Happy Birthday,Happy Birthday,Happy Birthday,"
     ]
    }
   ],
   "source": [
    "for a  in range(5):\n",
    "    print(\"Happy Birthday\", end=',')"
   ]
  },
  {
   "cell_type": "markdown",
   "id": "8531e804-2558-4fbe-b0e1-630ecc3b8817",
   "metadata": {},
   "source": [
    "### 7. Write a program that takes a number n as input from the user and generates the first\n",
    "### n terms of the series formed by squaring the natural numbers."
   ]
  },
  {
   "cell_type": "code",
   "execution_count": 18,
   "id": "b4b1da09-ac3c-4ef5-a5be-c34def5d9514",
   "metadata": {},
   "outputs": [
    {
     "name": "stdin",
     "output_type": "stream",
     "text": [
      "Enter a number 10\n"
     ]
    },
    {
     "name": "stdout",
     "output_type": "stream",
     "text": [
      "1,4,9,16,25,36,49,64,81,100,"
     ]
    }
   ],
   "source": [
    "n = int(input(\"Enter a number\"))\n",
    "for a  in range(1,n+1):\n",
    "    print(a**2,end=',')"
   ]
  },
  {
   "cell_type": "markdown",
   "id": "fd893d12-d7ca-40c9-ae19-9d5059dcec08",
   "metadata": {},
   "source": [
    "### 9. Write a Python program to print the first 8 terms of an arithmetic progression starting\n",
    "### with 3 and having a common difference of 4.\n",
    "### The program should output the following sequence:\n",
    "#### 3 7 11 15 19 23 27 31"
   ]
  },
  {
   "cell_type": "code",
   "execution_count": 19,
   "id": "d58ebf87-9fb9-4f07-83e8-39b27a5499dd",
   "metadata": {},
   "outputs": [
    {
     "name": "stdin",
     "output_type": "stream",
     "text": [
      "Enter a number 10\n"
     ]
    },
    {
     "name": "stdout",
     "output_type": "stream",
     "text": [
      "3   7   "
     ]
    }
   ],
   "source": [
    "# wrong \n",
    "n = int(input(\"Enter a number\"))\n",
    "for i in range(3, n+1, 4):\n",
    "    print(i, end=\"   \")"
   ]
  },
  {
   "cell_type": "code",
   "execution_count": 22,
   "id": "445689be-e4b1-45e2-bc2d-4174b3ecf298",
   "metadata": {},
   "outputs": [
    {
     "name": "stdout",
     "output_type": "stream",
     "text": [
      "1,6,11,16,21,26,31,36,"
     ]
    }
   ],
   "source": [
    "# right\n",
    "\n",
    "for i in range(1,8+1):\n",
    "   print(1+(i-1)*5, end=\",\")"
   ]
  },
  {
   "cell_type": "markdown",
   "id": "e64d6213-8ca2-4ef8-a018-353d300eb3ad",
   "metadata": {},
   "source": [
    "### 10. Write a Python program to print the first 6 terms of a geometric sequence starting\n",
    "### with 2 and having a common ratio of 3.\n",
    "### The program should output the following sequence:\n",
    "### 2 6 18 54 162 486"
   ]
  },
  {
   "cell_type": "code",
   "execution_count": 24,
   "id": "7bd8f315-ab24-42c9-acf0-603abbb126a1",
   "metadata": {},
   "outputs": [
    {
     "name": "stdout",
     "output_type": "stream",
     "text": [
      "2,6,18,54,162,486,"
     ]
    }
   ],
   "source": [
    "for i in range(1,6+1):\n",
    "    print(2*(3)**(i-1), end=\",\")"
   ]
  },
  {
   "cell_type": "markdown",
   "id": "f64a4d60-264c-480f-8be3-bc2dcf0052f4",
   "metadata": {},
   "source": [
    "### 11. Write a program that asks the user for a positive integer value. The program should\n",
    "### calculate the sum of all the integers from 1 up to the number entered. For example, if\n",
    "### the user enters 20, the loop will find the sum of 1, 2, 3, 4, ... 20."
   ]
  },
  {
   "cell_type": "code",
   "execution_count": 26,
   "id": "105ec73c-2b77-4fd4-8fc0-0ba213e4e26d",
   "metadata": {},
   "outputs": [
    {
     "name": "stdin",
     "output_type": "stream",
     "text": [
      "Enter a numner -55\n"
     ]
    },
    {
     "name": "stdout",
     "output_type": "stream",
     "text": [
      "Invalid Input\n"
     ]
    }
   ],
   "source": [
    "num = int(input('Enter a numner'))\n",
    "nums_list = []\n",
    "if num>0:\n",
    "    for i in range(1,num+1):\n",
    "        nums_list.append(i)\n",
    "    print(sum(nums_list))\n",
    "        \n",
    "else:\n",
    "    print(\"Invalid Input\")"
   ]
  },
  {
   "cell_type": "code",
   "execution_count": 27,
   "id": "79a4e5a8-40f2-4f53-a1fe-4bb5ca13c4de",
   "metadata": {},
   "outputs": [
    {
     "name": "stdin",
     "output_type": "stream",
     "text": [
      "Enter a numner 10\n"
     ]
    },
    {
     "name": "stdout",
     "output_type": "stream",
     "text": [
      "55\n"
     ]
    }
   ],
   "source": [
    "num = int(input('Enter a numner'))\n",
    "total =0\n",
    "if num>0:\n",
    "    for i in range(1,num+1):\n",
    "        total+=i\n",
    "    print(total)\n",
    "else:\n",
    "    \n",
    "    print(\"Invalid Input\")\n",
    "        "
   ]
  },
  {
   "cell_type": "raw",
   "id": "58dbfe86-d249-4d9b-ad7e-7d55b5d2ba03",
   "metadata": {},
   "source": [
    "12. write a program that takes a positive integer N as input and calculates the sum of\n",
    "the reciprocals of all numbers from 1 up to N. The program should display the final sum.\n",
    "Output of the program should be like:\n",
    "Enter a positive integer: 5\n",
    "The sum of reciprocals from 1 to 5 is: 2.28"
   ]
  },
  {
   "cell_type": "code",
   "execution_count": 28,
   "id": "924df2ed-3155-4b76-b321-890a877492fe",
   "metadata": {},
   "outputs": [
    {
     "name": "stdin",
     "output_type": "stream",
     "text": [
      "Enter a numner 5\n"
     ]
    },
    {
     "name": "stdout",
     "output_type": "stream",
     "text": [
      "2.283333333333333\n"
     ]
    }
   ],
   "source": [
    "num = int(input('Enter a numner'))\n",
    "total =0\n",
    "if num>0:\n",
    "    for i in range(1,num+1):\n",
    "        total+=(1/i)\n",
    "    print(total)\n",
    "else:\n",
    "    \n",
    "    print(\"Invalid Input\")"
   ]
  },
  {
   "cell_type": "code",
   "execution_count": 31,
   "id": "f754a8db-103f-42fe-8f5b-5f3ce18b3880",
   "metadata": {},
   "outputs": [
    {
     "name": "stdin",
     "output_type": "stream",
     "text": [
      "Enter a numner 10\n"
     ]
    },
    {
     "name": "stdout",
     "output_type": "stream",
     "text": [
      "3628800\n"
     ]
    }
   ],
   "source": [
    "num = int(input('Enter a numner'))\n",
    "prod =1\n",
    "if num>0:\n",
    "    for i in range(1,num+1):\n",
    "        prod *=i  \n",
    "    print(prod)\n",
    "else:    \n",
    "    print(\"Invalid Input\")"
   ]
  },
  {
   "cell_type": "raw",
   "id": "48521b5b-f970-4502-97ff-8376e1f20356",
   "metadata": {},
   "source": [
    "13. Write a program that prompts the user to enter a number and repeats this process 5\n",
    "times. The program should accumulate the numbers entered and then display the final\n",
    "running total.\n",
    "Sample Output:\n",
    "Enter a number: 10\n",
    "Enter a number: 15\n",
    "Enter a number: 35\n",
    "Enter a number: 40\n",
    "Enter a number: 50\n",
    "The final running total is: 150"
   ]
  },
  {
   "cell_type": "code",
   "execution_count": 33,
   "id": "4e6093db-f31b-49cb-8587-205ead1b5a7d",
   "metadata": {},
   "outputs": [
    {
     "name": "stdin",
     "output_type": "stream",
     "text": [
      "Enter a number 10\n",
      "Enter a number 20\n",
      "Enter a number 3\n",
      "Enter a number 40\n",
      "Enter a number 50\n"
     ]
    },
    {
     "name": "stdout",
     "output_type": "stream",
     "text": [
      "123\n"
     ]
    }
   ],
   "source": [
    "total = 0\n",
    "for a in range(5):\n",
    "    num = int(input(\"Enter a number\"))\n",
    "    total+=num\n",
    "print(total)  "
   ]
  },
  {
   "cell_type": "code",
   "execution_count": 37,
   "id": "ceb9cea0-715d-4c52-a5e4-0c4fc6b2756f",
   "metadata": {},
   "outputs": [
    {
     "name": "stdin",
     "output_type": "stream",
     "text": [
      "Enter a base number 5\n",
      "Enter a exponent -2\n"
     ]
    },
    {
     "name": "stdout",
     "output_type": "stream",
     "text": [
      "1\n"
     ]
    }
   ],
   "source": [
    "base = int(input(\"Enter a base number\"))\n",
    "exp  = int(input(\"Enter a exponent\"))\n",
    "total=1\n",
    "for a in range(1,exp+1):\n",
    "     total *= base\n",
    "\n",
    "print(total)"
   ]
  },
  {
   "cell_type": "code",
   "execution_count": null,
   "id": "56bc6133-918f-4042-8590-5b999a131757",
   "metadata": {},
   "outputs": [],
   "source": []
  }
 ],
 "metadata": {
  "kernelspec": {
   "display_name": "Python 3 (ipykernel)",
   "language": "python",
   "name": "python3"
  },
  "language_info": {
   "codemirror_mode": {
    "name": "ipython",
    "version": 3
   },
   "file_extension": ".py",
   "mimetype": "text/x-python",
   "name": "python",
   "nbconvert_exporter": "python",
   "pygments_lexer": "ipython3",
   "version": "3.12.7"
  }
 },
 "nbformat": 4,
 "nbformat_minor": 5
}
