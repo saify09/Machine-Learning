{
 "cells": [
  {
   "cell_type": "code",
   "execution_count": 1,
   "id": "d9bf4f37-cfea-4acd-9548-ee3b33228097",
   "metadata": {},
   "outputs": [
    {
     "ename": "ZeroDivisionError",
     "evalue": "division by zero",
     "output_type": "error",
     "traceback": [
      "\u001b[1;31m---------------------------------------------------------------------------\u001b[0m",
      "\u001b[1;31mZeroDivisionError\u001b[0m                         Traceback (most recent call last)",
      "Cell \u001b[1;32mIn[1], line 1\u001b[0m\n\u001b[1;32m----> 1\u001b[0m \u001b[38;5;241m23\u001b[39m\u001b[38;5;241m/\u001b[39m\u001b[38;5;241m0\u001b[39m\n",
      "\u001b[1;31mZeroDivisionError\u001b[0m: division by zero"
     ]
    }
   ],
   "source": [
    "23/0"
   ]
  },
  {
   "cell_type": "code",
   "execution_count": 2,
   "id": "cd8970d2-cffb-4fd8-8607-5724215e9071",
   "metadata": {},
   "outputs": [
    {
     "ename": "ValueError",
     "evalue": "invalid literal for int() with base 10: 'aple'",
     "output_type": "error",
     "traceback": [
      "\u001b[1;31m---------------------------------------------------------------------------\u001b[0m",
      "\u001b[1;31mValueError\u001b[0m                                Traceback (most recent call last)",
      "Cell \u001b[1;32mIn[2], line 1\u001b[0m\n\u001b[1;32m----> 1\u001b[0m \u001b[38;5;28mint\u001b[39m(\u001b[38;5;124m\"\u001b[39m\u001b[38;5;124maple\u001b[39m\u001b[38;5;124m\"\u001b[39m)\n",
      "\u001b[1;31mValueError\u001b[0m: invalid literal for int() with base 10: 'aple'"
     ]
    }
   ],
   "source": [
    "int(\"aple\")"
   ]
  },
  {
   "cell_type": "code",
   "execution_count": 3,
   "id": "50c0608e-c4d1-4a7c-8800-18c97b2a560f",
   "metadata": {},
   "outputs": [
    {
     "ename": "FileNotFoundError",
     "evalue": "[Errno 2] No such file or directory: 'abc.txt'",
     "output_type": "error",
     "traceback": [
      "\u001b[1;31m---------------------------------------------------------------------------\u001b[0m",
      "\u001b[1;31mFileNotFoundError\u001b[0m                         Traceback (most recent call last)",
      "Cell \u001b[1;32mIn[3], line 1\u001b[0m\n\u001b[1;32m----> 1\u001b[0m \u001b[38;5;28;01mwith\u001b[39;00m \u001b[38;5;28mopen\u001b[39m(\u001b[38;5;124m\"\u001b[39m\u001b[38;5;124mabc.txt\u001b[39m\u001b[38;5;124m\"\u001b[39m) \u001b[38;5;28;01mas\u001b[39;00m f:\n\u001b[0;32m      2\u001b[0m     f\u001b[38;5;241m.\u001b[39mread()\n",
      "File \u001b[1;32m~\\anaconda3\\Lib\\site-packages\\IPython\\core\\interactiveshell.py:324\u001b[0m, in \u001b[0;36m_modified_open\u001b[1;34m(file, *args, **kwargs)\u001b[0m\n\u001b[0;32m    317\u001b[0m \u001b[38;5;28;01mif\u001b[39;00m file \u001b[38;5;129;01min\u001b[39;00m {\u001b[38;5;241m0\u001b[39m, \u001b[38;5;241m1\u001b[39m, \u001b[38;5;241m2\u001b[39m}:\n\u001b[0;32m    318\u001b[0m     \u001b[38;5;28;01mraise\u001b[39;00m \u001b[38;5;167;01mValueError\u001b[39;00m(\n\u001b[0;32m    319\u001b[0m         \u001b[38;5;124mf\u001b[39m\u001b[38;5;124m\"\u001b[39m\u001b[38;5;124mIPython won\u001b[39m\u001b[38;5;124m'\u001b[39m\u001b[38;5;124mt let you open fd=\u001b[39m\u001b[38;5;132;01m{\u001b[39;00mfile\u001b[38;5;132;01m}\u001b[39;00m\u001b[38;5;124m by default \u001b[39m\u001b[38;5;124m\"\u001b[39m\n\u001b[0;32m    320\u001b[0m         \u001b[38;5;124m\"\u001b[39m\u001b[38;5;124mas it is likely to crash IPython. If you know what you are doing, \u001b[39m\u001b[38;5;124m\"\u001b[39m\n\u001b[0;32m    321\u001b[0m         \u001b[38;5;124m\"\u001b[39m\u001b[38;5;124myou can use builtins\u001b[39m\u001b[38;5;124m'\u001b[39m\u001b[38;5;124m open.\u001b[39m\u001b[38;5;124m\"\u001b[39m\n\u001b[0;32m    322\u001b[0m     )\n\u001b[1;32m--> 324\u001b[0m \u001b[38;5;28;01mreturn\u001b[39;00m io_open(file, \u001b[38;5;241m*\u001b[39margs, \u001b[38;5;241m*\u001b[39m\u001b[38;5;241m*\u001b[39mkwargs)\n",
      "\u001b[1;31mFileNotFoundError\u001b[0m: [Errno 2] No such file or directory: 'abc.txt'"
     ]
    }
   ],
   "source": [
    "with open(\"abc.txt\") as f:\n",
    "    f.read()"
   ]
  },
  {
   "cell_type": "code",
   "execution_count": 4,
   "id": "11e1ca80-c06f-4b09-9828-20aec0d7ddcb",
   "metadata": {},
   "outputs": [
    {
     "ename": "NameError",
     "evalue": "name 'Print' is not defined",
     "output_type": "error",
     "traceback": [
      "\u001b[1;31m---------------------------------------------------------------------------\u001b[0m",
      "\u001b[1;31mNameError\u001b[0m                                 Traceback (most recent call last)",
      "Cell \u001b[1;32mIn[4], line 1\u001b[0m\n\u001b[1;32m----> 1\u001b[0m Print(\u001b[38;5;124m\"\u001b[39m\u001b[38;5;124mhello\u001b[39m\u001b[38;5;124m\"\u001b[39m)\n",
      "\u001b[1;31mNameError\u001b[0m: name 'Print' is not defined"
     ]
    }
   ],
   "source": [
    "Print(\"hello\")"
   ]
  },
  {
   "cell_type": "code",
   "execution_count": 5,
   "id": "0d041917-a4c1-4bef-bdc4-8931375c2a6c",
   "metadata": {},
   "outputs": [
    {
     "ename": "NameError",
     "evalue": "name 'nasir' is not defined",
     "output_type": "error",
     "traceback": [
      "\u001b[1;31m---------------------------------------------------------------------------\u001b[0m",
      "\u001b[1;31mNameError\u001b[0m                                 Traceback (most recent call last)",
      "Cell \u001b[1;32mIn[5], line 1\u001b[0m\n\u001b[1;32m----> 1\u001b[0m \u001b[38;5;28mprint\u001b[39m(nasir)\n",
      "\u001b[1;31mNameError\u001b[0m: name 'nasir' is not defined"
     ]
    }
   ],
   "source": [
    "print(nasir)"
   ]
  },
  {
   "cell_type": "code",
   "execution_count": 6,
   "id": "66b1f8d6-e635-47d3-8858-a1457ab6bc50",
   "metadata": {},
   "outputs": [],
   "source": [
    "alist=[]"
   ]
  },
  {
   "cell_type": "code",
   "execution_count": 7,
   "id": "52da43bb-008f-41d5-b897-6b139169602e",
   "metadata": {},
   "outputs": [
    {
     "ename": "IndexError",
     "evalue": "list index out of range",
     "output_type": "error",
     "traceback": [
      "\u001b[1;31m---------------------------------------------------------------------------\u001b[0m",
      "\u001b[1;31mIndexError\u001b[0m                                Traceback (most recent call last)",
      "Cell \u001b[1;32mIn[7], line 1\u001b[0m\n\u001b[1;32m----> 1\u001b[0m \u001b[38;5;28mprint\u001b[39m(alist[\u001b[38;5;241m3\u001b[39m])\n",
      "\u001b[1;31mIndexError\u001b[0m: list index out of range"
     ]
    }
   ],
   "source": [
    "print(alist[3])"
   ]
  },
  {
   "cell_type": "code",
   "execution_count": 15,
   "id": "fb04d6e1-2cf0-412f-8bc5-86c06805ed8a",
   "metadata": {},
   "outputs": [
    {
     "name": "stdin",
     "output_type": "stream",
     "text": [
      "Enter a number:   12\n",
      "Enter a number:   0\n"
     ]
    },
    {
     "name": "stdout",
     "output_type": "stream",
     "text": [
      "Invalid number input\n"
     ]
    }
   ],
   "source": [
    "a = int(input(\"Enter a number:  \"))\n",
    "b = int(input(\"Enter a number:  \"))\n",
    "\n",
    "try:\n",
    "    print(a/b)\n",
    "except ZeroDivisionError:\n",
    "    print(\"Invalid number input\")"
   ]
  },
  {
   "cell_type": "code",
   "execution_count": 20,
   "id": "529b0fbe-6789-429f-9715-6fabedf30d68",
   "metadata": {},
   "outputs": [
    {
     "name": "stdin",
     "output_type": "stream",
     "text": [
      "Enter a number:   2\n",
      "Enter a number:   0\n"
     ]
    },
    {
     "name": "stdout",
     "output_type": "stream",
     "text": [
      "Invalid number input\n"
     ]
    }
   ],
   "source": [
    "try:\n",
    "    a = int(input(\"Enter a number:  \"))\n",
    "    b = int(input(\"Enter a number:  \"))\n",
    "    print(a/b)\n",
    "    print(\"hello\")\n",
    "except ZeroDivisionError:\n",
    "    print(\"Invalid number input\")\n",
    "except ValueError:\n",
    "    print(\"Wrong value entered\")\n",
    "except NameError:\n",
    "    print(\"Variable not defined\")"
   ]
  },
  {
   "cell_type": "code",
   "execution_count": 25,
   "id": "fc901381-11e3-4f25-8990-5a1ee2d45285",
   "metadata": {},
   "outputs": [
    {
     "name": "stdin",
     "output_type": "stream",
     "text": [
      "Enter a number:   ten\n"
     ]
    },
    {
     "name": "stdout",
     "output_type": "stream",
     "text": [
      "Exception caught:invalid literal for int() with base 10: 'ten'\n"
     ]
    }
   ],
   "source": [
    "try:\n",
    "    a = int(input(\"Enter a number:  \"))\n",
    "    b = int(input(\"Enter a number:  \"))\n",
    "    print(a/b)\n",
    "    print(hello)\n",
    "\n",
    "except Exception as e:\n",
    "    print(f'Exception caught:{e}') "
   ]
  },
  {
   "cell_type": "code",
   "execution_count": 32,
   "id": "12dcc48b-250e-4818-9c52-4f1435017ee3",
   "metadata": {},
   "outputs": [],
   "source": [
    "# Define a list of 10 items. \n",
    "# every time user iterates the list and pops an item\n",
    "# writes the popped item in a permanant txt file. \n",
    "students = ['saad', 'faisal', 'ali', 'moiz', 'dani', 'irfan', 'umer', 'rehan', 'nasir', 'yasir', 'abdullah', 'rashid']"
   ]
  },
  {
   "cell_type": "code",
   "execution_count": 28,
   "id": "58638757-57ec-42d2-8a96-249ee8b42171",
   "metadata": {},
   "outputs": [
    {
     "name": "stdout",
     "output_type": "stream",
     "text": [
      "The file you are trying to access in not located.\n"
     ]
    }
   ],
   "source": [
    "try:\n",
    "    with open(\"students.txt\",'r+') as f:\n",
    "        while True:   \n",
    "            f.write(students.pop())\n",
    "        f.seek(0)\n",
    "        print(f.read())\n",
    "except FileNotFoundError:\n",
    "    print(\"The file you are trying to access in not located.\")"
   ]
  },
  {
   "cell_type": "code",
   "execution_count": 35,
   "id": "60583bc1-16ad-4aa3-a5a2-c6660eedbf00",
   "metadata": {},
   "outputs": [
    {
     "name": "stdout",
     "output_type": "stream",
     "text": [
      "Popping..........\n",
      "rashid\n",
      "\n",
      "Popping..........\n",
      "rashid\n",
      "abdullah\n",
      "\n",
      "Popping..........\n",
      "rashid\n",
      "abdullah\n",
      "yasir\n",
      "\n",
      "Popping..........\n",
      "rashid\n",
      "abdullah\n",
      "yasir\n",
      "nasir\n",
      "\n",
      "Popping..........\n",
      "rashid\n",
      "abdullah\n",
      "yasir\n",
      "nasir\n",
      "rehan\n",
      "\n",
      "Popping..........\n",
      "rashid\n",
      "abdullah\n",
      "yasir\n",
      "nasir\n",
      "rehan\n",
      "umer\n",
      "\n",
      "Popping..........\n",
      "rashid\n",
      "abdullah\n",
      "yasir\n",
      "nasir\n",
      "rehan\n",
      "umer\n",
      "irfan\n",
      "\n",
      "Popping..........\n",
      "rashid\n",
      "abdullah\n",
      "yasir\n",
      "nasir\n",
      "rehan\n",
      "umer\n",
      "irfan\n",
      "dani\n",
      "\n",
      "Popping..........\n",
      "rashid\n",
      "abdullah\n",
      "yasir\n",
      "nasir\n",
      "rehan\n",
      "umer\n",
      "irfan\n",
      "dani\n",
      "moiz\n",
      "\n",
      "Popping..........\n",
      "rashid\n",
      "abdullah\n",
      "yasir\n",
      "nasir\n",
      "rehan\n",
      "umer\n",
      "irfan\n",
      "dani\n",
      "moiz\n",
      "ali\n",
      "\n",
      "Popping..........\n",
      "rashid\n",
      "abdullah\n",
      "yasir\n",
      "nasir\n",
      "rehan\n",
      "umer\n",
      "irfan\n",
      "dani\n",
      "moiz\n",
      "ali\n",
      "faisal\n",
      "\n",
      "Popping..........\n",
      "rashid\n",
      "abdullah\n",
      "yasir\n",
      "nasir\n",
      "rehan\n",
      "umer\n",
      "irfan\n",
      "dani\n",
      "moiz\n",
      "ali\n",
      "faisal\n",
      "saad\n",
      "\n",
      "List is now empty\n"
     ]
    }
   ],
   "source": [
    "students = ['saad', 'faisal', 'ali', 'moiz', 'dani', 'irfan', 'umer', 'rehan', \n",
    "            'nasir', 'yasir', 'abdullah', 'rashid']\n",
    "try:\n",
    "    with open(\"students.txt\",'w+') as f:\n",
    "        while True:   \n",
    "            f.write(students.pop()+\"\\n\")\n",
    "            print(\"Popping..........\")\n",
    "        f.seek(0)\n",
    "        print(f.read())\n",
    "except FileNotFoundError:\n",
    "    print(\"The file you are trying to access in not located.\")\n",
    "except IndexError:\n",
    "    print(\"List is now empty\")"
   ]
  },
  {
   "cell_type": "code",
   "execution_count": 41,
   "id": "759d97e7-7fc2-4d89-9a40-e9b5ea8c214d",
   "metadata": {},
   "outputs": [
    {
     "name": "stdin",
     "output_type": "stream",
     "text": [
      "Enter a number:   23\n",
      "Enter a number:   2\n"
     ]
    },
    {
     "name": "stdout",
     "output_type": "stream",
     "text": [
      "11.5\n"
     ]
    }
   ],
   "source": [
    "try:\n",
    "    a = int(input(\"Enter a number:  \"))\n",
    "    b = int(input(\"Enter a number:  \"))\n",
    "    c = a/b\n",
    "except ValueError:\n",
    "    print(\"Invalid Value\")\n",
    "except ZeroDivisionError:\n",
    "    print(\"You cannot suppply 0 in Denominator\")\n",
    "else:\n",
    "    print(c)"
   ]
  },
  {
   "cell_type": "code",
   "execution_count": 38,
   "id": "324cdab0-e3c8-4d03-ab45-ae30cca4507e",
   "metadata": {},
   "outputs": [],
   "source": [
    "del c"
   ]
  },
  {
   "cell_type": "code",
   "execution_count": 44,
   "id": "b2d9f736-c092-4b9a-bac4-2530e71b5e8f",
   "metadata": {},
   "outputs": [
    {
     "name": "stdin",
     "output_type": "stream",
     "text": [
      "Enter a number:   3\n",
      "Enter a number:   4\n"
     ]
    },
    {
     "name": "stdout",
     "output_type": "stream",
     "text": [
      "Index nahi hy\n",
      "Koi chaley na chaley finally to chalega!!!!!\n"
     ]
    }
   ],
   "source": [
    "try:\n",
    "    a = int(input(\"Enter a number:  \"))\n",
    "    b = int(input(\"Enter a number:  \"))\n",
    "    c = a/b\n",
    "    d = alist[12]\n",
    "except ValueError:\n",
    "    print(\"Invalid Value\")\n",
    "except ZeroDivisionError:\n",
    "    print(\"You cannot suppply 0 in Denominator\")\n",
    "except IndexError:\n",
    "    print(\"Index nahi hy\")\n",
    "else:\n",
    "    print(c)\n",
    "\n",
    "finally:\n",
    "    print(\"Koi chaley na chaley finally to chalega!!!!!\")"
   ]
  },
  {
   "cell_type": "code",
   "execution_count": 46,
   "id": "f5bd9049-51b0-47ff-818d-cd0fa09c2630",
   "metadata": {},
   "outputs": [
    {
     "name": "stdin",
     "output_type": "stream",
     "text": [
      "Enter your age:  123\n"
     ]
    },
    {
     "ename": "Exception",
     "evalue": "A student must not be less than 10 years or greater than 100 years",
     "output_type": "error",
     "traceback": [
      "\u001b[1;31m---------------------------------------------------------------------------\u001b[0m",
      "\u001b[1;31mException\u001b[0m                                 Traceback (most recent call last)",
      "Cell \u001b[1;32mIn[46], line 3\u001b[0m\n\u001b[0;32m      1\u001b[0m age \u001b[38;5;241m=\u001b[39m \u001b[38;5;28mint\u001b[39m(\u001b[38;5;28minput\u001b[39m(\u001b[38;5;124m\"\u001b[39m\u001b[38;5;124mEnter your age: \u001b[39m\u001b[38;5;124m\"\u001b[39m))\n\u001b[0;32m      2\u001b[0m \u001b[38;5;28;01mif\u001b[39;00m (age\u001b[38;5;241m<\u001b[39m\u001b[38;5;241m10\u001b[39m) \u001b[38;5;129;01mor\u001b[39;00m (age\u001b[38;5;241m>\u001b[39m\u001b[38;5;241m100\u001b[39m):\n\u001b[1;32m----> 3\u001b[0m     \u001b[38;5;28;01mraise\u001b[39;00m \u001b[38;5;167;01mException\u001b[39;00m(\u001b[38;5;124m\"\u001b[39m\u001b[38;5;124mA student must not be less than 10 years or greater than 100 years\u001b[39m\u001b[38;5;124m\"\u001b[39m)\n",
      "\u001b[1;31mException\u001b[0m: A student must not be less than 10 years or greater than 100 years"
     ]
    }
   ],
   "source": [
    "age = int(input(\"Enter your age: \"))\n",
    "if (age<10) or (age>100):\n",
    "    raise Exception(\"A student must not be less than 10 years or greater than 100 years\")\n",
    "    "
   ]
  },
  {
   "cell_type": "code",
   "execution_count": 47,
   "id": "d70bb50a-268b-4b7f-923e-d24f98a71073",
   "metadata": {},
   "outputs": [
    {
     "name": "stdin",
     "output_type": "stream",
     "text": [
      "Enter your age:  2\n"
     ]
    },
    {
     "name": "stdout",
     "output_type": "stream",
     "text": [
      "Age kam ya zayda hy\n"
     ]
    }
   ],
   "source": [
    "age = int(input(\"Enter your age: \"))\n",
    "try:\n",
    "    if (age<10) or (age>100):\n",
    "        raise Exception(\"A student must not be less than 10 years or greater than 100 years\")\n",
    "except:\n",
    "    print(\"Age kam ya zayda hy\")"
   ]
  },
  {
   "cell_type": "code",
   "execution_count": null,
   "id": "ca92736e-d2dc-41f0-9bbe-b771f91aff3b",
   "metadata": {},
   "outputs": [],
   "source": []
  }
 ],
 "metadata": {
  "kernelspec": {
   "display_name": "Python 3 (ipykernel)",
   "language": "python",
   "name": "python3"
  },
  "language_info": {
   "codemirror_mode": {
    "name": "ipython",
    "version": 3
   },
   "file_extension": ".py",
   "mimetype": "text/x-python",
   "name": "python",
   "nbconvert_exporter": "python",
   "pygments_lexer": "ipython3",
   "version": "3.12.7"
  }
 },
 "nbformat": 4,
 "nbformat_minor": 5
}
