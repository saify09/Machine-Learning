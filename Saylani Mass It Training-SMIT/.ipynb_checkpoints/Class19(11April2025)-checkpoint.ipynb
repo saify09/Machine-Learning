{
 "cells": [
  {
   "cell_type": "markdown",
   "id": "07328d7d-8c19-41f6-8e5f-95c45f88ca7c",
   "metadata": {},
   "source": [
    "# File Read Write I/O"
   ]
  },
  {
   "cell_type": "code",
   "execution_count": 3,
   "id": "73353a5b-9daa-435c-8dd5-f8a8aab0ac73",
   "metadata": {},
   "outputs": [],
   "source": [
    "adic = {'item':'mobile', \"price\":100000, 'model':'Samsung'}"
   ]
  },
  {
   "cell_type": "code",
   "execution_count": 20,
   "id": "aa7c6f7e-1e85-4259-b36b-589eb32528b0",
   "metadata": {},
   "outputs": [],
   "source": [
    "# context manager : it auto closes the file as indent over\n",
    "with open('mydic.txt', mode='w') as f:\n",
    "    f.write('Hello this my first writing\\n')\n",
    "    f.write('Hello this my first writing\\n')\n",
    "    f.write('Hello this my first writing\\n')\n",
    "    f.write('Hello this my first writing\\n')\n",
    "    f.write('Hello this my first writing\\n')\n",
    "    f.write('Hello this my first writing\\n')\n",
    "    f.write('Hello this my first writing\\n')\n",
    "    f.write('Hello this my first writing\\n')\n",
    "    f.write('Hello this my first writing\\n')\n",
    "    f.write(\"Python\")"
   ]
  },
  {
   "cell_type": "code",
   "execution_count": 15,
   "id": "2a6abb42-38bd-4a9c-84cd-47d7f84be016",
   "metadata": {},
   "outputs": [
    {
     "data": {
      "text/plain": [
       "37"
      ]
     },
     "execution_count": 15,
     "metadata": {},
     "output_type": "execute_result"
    }
   ],
   "source": [
    "# open and close file yourself\n",
    "f = open('yourfile.txt','w')\n",
    "f.write('Hello! this is my second file writing')\n"
   ]
  },
  {
   "cell_type": "code",
   "execution_count": 16,
   "id": "b8d33857-7b41-4844-8fe2-b467036351f8",
   "metadata": {},
   "outputs": [
    {
     "data": {
      "text/plain": [
       "6"
      ]
     },
     "execution_count": 16,
     "metadata": {},
     "output_type": "execute_result"
    }
   ],
   "source": [
    "f.write(\"Python\")"
   ]
  },
  {
   "cell_type": "code",
   "execution_count": 17,
   "id": "8842ba12-d957-4e09-bedd-35b64f572895",
   "metadata": {},
   "outputs": [
    {
     "data": {
      "text/plain": [
       "2"
      ]
     },
     "execution_count": 17,
     "metadata": {},
     "output_type": "execute_result"
    }
   ],
   "source": [
    "f.write(\"Js\")"
   ]
  },
  {
   "cell_type": "code",
   "execution_count": 18,
   "id": "d6f123ee-b040-4098-987c-6c509502b49e",
   "metadata": {},
   "outputs": [],
   "source": [
    "f.close()"
   ]
  },
  {
   "cell_type": "code",
   "execution_count": 19,
   "id": "b74fa99a-3fff-4274-847a-1ae46c400d28",
   "metadata": {},
   "outputs": [
    {
     "ename": "ValueError",
     "evalue": "I/O operation on closed file.",
     "output_type": "error",
     "traceback": [
      "\u001b[1;31m---------------------------------------------------------------------------\u001b[0m",
      "\u001b[1;31mValueError\u001b[0m                                Traceback (most recent call last)",
      "Cell \u001b[1;32mIn[19], line 1\u001b[0m\n\u001b[1;32m----> 1\u001b[0m f\u001b[38;5;241m.\u001b[39mwrite(\u001b[38;5;124m\"\u001b[39m\u001b[38;5;124mplease write\u001b[39m\u001b[38;5;124m\"\u001b[39m)\n",
      "\u001b[1;31mValueError\u001b[0m: I/O operation on closed file."
     ]
    }
   ],
   "source": [
    "f.write(\"please write\")"
   ]
  },
  {
   "cell_type": "code",
   "execution_count": 21,
   "id": "92c7b5ce-c4fb-4bed-afdc-7ba5b68c5c67",
   "metadata": {},
   "outputs": [],
   "source": [
    "with open('mydic.txt','w') as f:\n",
    "    f.write(\"I am also a line\")\n",
    "    \n"
   ]
  },
  {
   "cell_type": "code",
   "execution_count": 22,
   "id": "c2f07a75-75b5-4630-bd3f-1c0bd77b6e72",
   "metadata": {},
   "outputs": [
    {
     "ename": "FileNotFoundError",
     "evalue": "[Errno 2] No such file or directory: 'home.txt'",
     "output_type": "error",
     "traceback": [
      "\u001b[1;31m---------------------------------------------------------------------------\u001b[0m",
      "\u001b[1;31mFileNotFoundError\u001b[0m                         Traceback (most recent call last)",
      "Cell \u001b[1;32mIn[22], line 1\u001b[0m\n\u001b[1;32m----> 1\u001b[0m \u001b[38;5;28;01mwith\u001b[39;00m \u001b[38;5;28mopen\u001b[39m(\u001b[38;5;124m\"\u001b[39m\u001b[38;5;124mhome.txt\u001b[39m\u001b[38;5;124m\"\u001b[39m, \u001b[38;5;124m'\u001b[39m\u001b[38;5;124mr\u001b[39m\u001b[38;5;124m'\u001b[39m) \u001b[38;5;28;01mas\u001b[39;00m f:\n\u001b[0;32m      2\u001b[0m     content \u001b[38;5;241m=\u001b[39m f\u001b[38;5;241m.\u001b[39mread()\n\u001b[0;32m      3\u001b[0m     \u001b[38;5;28mprint\u001b[39m(content)\n",
      "File \u001b[1;32m~\\anaconda3\\Lib\\site-packages\\IPython\\core\\interactiveshell.py:324\u001b[0m, in \u001b[0;36m_modified_open\u001b[1;34m(file, *args, **kwargs)\u001b[0m\n\u001b[0;32m    317\u001b[0m \u001b[38;5;28;01mif\u001b[39;00m file \u001b[38;5;129;01min\u001b[39;00m {\u001b[38;5;241m0\u001b[39m, \u001b[38;5;241m1\u001b[39m, \u001b[38;5;241m2\u001b[39m}:\n\u001b[0;32m    318\u001b[0m     \u001b[38;5;28;01mraise\u001b[39;00m \u001b[38;5;167;01mValueError\u001b[39;00m(\n\u001b[0;32m    319\u001b[0m         \u001b[38;5;124mf\u001b[39m\u001b[38;5;124m\"\u001b[39m\u001b[38;5;124mIPython won\u001b[39m\u001b[38;5;124m'\u001b[39m\u001b[38;5;124mt let you open fd=\u001b[39m\u001b[38;5;132;01m{\u001b[39;00mfile\u001b[38;5;132;01m}\u001b[39;00m\u001b[38;5;124m by default \u001b[39m\u001b[38;5;124m\"\u001b[39m\n\u001b[0;32m    320\u001b[0m         \u001b[38;5;124m\"\u001b[39m\u001b[38;5;124mas it is likely to crash IPython. If you know what you are doing, \u001b[39m\u001b[38;5;124m\"\u001b[39m\n\u001b[0;32m    321\u001b[0m         \u001b[38;5;124m\"\u001b[39m\u001b[38;5;124myou can use builtins\u001b[39m\u001b[38;5;124m'\u001b[39m\u001b[38;5;124m open.\u001b[39m\u001b[38;5;124m\"\u001b[39m\n\u001b[0;32m    322\u001b[0m     )\n\u001b[1;32m--> 324\u001b[0m \u001b[38;5;28;01mreturn\u001b[39;00m io_open(file, \u001b[38;5;241m*\u001b[39margs, \u001b[38;5;241m*\u001b[39m\u001b[38;5;241m*\u001b[39mkwargs)\n",
      "\u001b[1;31mFileNotFoundError\u001b[0m: [Errno 2] No such file or directory: 'home.txt'"
     ]
    }
   ],
   "source": [
    "with open(\"home.txt\", 'r') as f:\n",
    "    content = f.read()\n",
    "    print(content)   "
   ]
  },
  {
   "cell_type": "code",
   "execution_count": 29,
   "id": "3207a3d0-871c-4aed-aa97-34929ca9aa97",
   "metadata": {},
   "outputs": [],
   "source": [
    "with open(\"home.txt\", 'w') as f:\n",
    "    f.write('Hello this my first writing\\n')\n",
    "    f.write('Hello this my first writing\\n')\n",
    "    f.write('Hello this my first1 writing\\n')\n",
    "    f.write('Hello this my first2 writing\\n')\n",
    "    f.write('Hello this my first3 writing\\n')\n",
    "    f.write('Hello this my first writing\\n')\n",
    "    f.write('Hello this my first writing\\n')\n",
    "    f.write('Hello this my first writing\\n')\n",
    "    f.write('Hello this my first writing\\n')\n",
    "    f.write(\"Python\")"
   ]
  },
  {
   "cell_type": "code",
   "execution_count": 30,
   "id": "ed8a0c65-8de4-4fdb-8322-972bb87c1c0b",
   "metadata": {},
   "outputs": [],
   "source": [
    "# .read(): reads the whole file in one go.\n",
    "with open('home.txt','r') as obj:\n",
    "    content = obj.read()"
   ]
  },
  {
   "cell_type": "code",
   "execution_count": 34,
   "id": "2dfa9def-ea32-4e9b-9588-0b4a91175ae0",
   "metadata": {},
   "outputs": [
    {
     "name": "stdout",
     "output_type": "stream",
     "text": [
      "Hello this my first writing\n",
      "\n"
     ]
    }
   ],
   "source": [
    "# .readline(): reads the file one line at a time.\n",
    "with open('home.txt','r') as obj:\n",
    "    content = obj.readline()\n",
    "    print(content)"
   ]
  },
  {
   "cell_type": "code",
   "execution_count": 33,
   "id": "d1dd4152-e020-4a56-a1a8-79e3399e3cc7",
   "metadata": {},
   "outputs": [
    {
     "name": "stdout",
     "output_type": "stream",
     "text": [
      "Hello this my first writing\n",
      "Hello this my first writing\n",
      "Hello this my first2 writing\n",
      "Hello this my first3 writing\n",
      "Hello this my first writing\n",
      "Hello this my first writing\n",
      "Hello this my first writing\n",
      "Hello this my first writing\n",
      "Python"
     ]
    }
   ],
   "source": [
    "# we can use \n",
    "with open('home.txt','r') as obj:\n",
    "    for line in obj:\n",
    "        if \"1\" in line:\n",
    "            continue       \n",
    "        else:\n",
    "            print(line,end=\"\")"
   ]
  },
  {
   "cell_type": "markdown",
   "id": "e5828760-0ea7-461c-8a8c-7edd05feacc3",
   "metadata": {},
   "source": [
    "# Append Mode (a)"
   ]
  },
  {
   "cell_type": "code",
   "execution_count": 37,
   "id": "3b556944-0483-46d3-8dc3-9e0b0520c5c4",
   "metadata": {},
   "outputs": [],
   "source": [
    "with open('song.txt','w') as f:\n",
    "    f.write(\"This is line1\\n\")\n",
    "    f.write(\"This is line2\\n\")\n",
    "    f.write(\"This is line3\\n\")\n",
    "    f.write(\"This is line4\\n\")\n",
    "    f.write(\"This is line5\\n\")\n",
    "    "
   ]
  },
  {
   "cell_type": "code",
   "execution_count": 38,
   "id": "8a74c612-6963-4161-a2b6-4c4d691ce7b7",
   "metadata": {},
   "outputs": [
    {
     "name": "stdout",
     "output_type": "stream",
     "text": [
      "This is line1\n",
      "This is line2\n",
      "This is line3\n",
      "This is line4\n",
      "This is line5\n",
      "\n"
     ]
    }
   ],
   "source": [
    "with open('song.txt','r') as f:\n",
    "    print(f.read())"
   ]
  },
  {
   "cell_type": "code",
   "execution_count": 39,
   "id": "83061719-a842-4f3d-80f7-c465a6af54f9",
   "metadata": {},
   "outputs": [],
   "source": [
    "with open('song.txt', 'a') as f:\n",
    "    f.write(\"This is line6\\n\")\n",
    "    f.write(\"This is line7\\n\")\n",
    "    f.write(\"This is line8\\n\")    "
   ]
  },
  {
   "cell_type": "code",
   "execution_count": 40,
   "id": "c5679fe7-6690-4c58-ba4e-01868cdc55bd",
   "metadata": {},
   "outputs": [
    {
     "name": "stdout",
     "output_type": "stream",
     "text": [
      "This is line1\n",
      "This is line2\n",
      "This is line3\n",
      "This is line4\n",
      "This is line5\n",
      "This is line6\n",
      "This is line7\n",
      "This is line8\n",
      "\n"
     ]
    }
   ],
   "source": [
    "with open('song.txt','r') as f:\n",
    "    print(f.read())"
   ]
  },
  {
   "cell_type": "markdown",
   "id": "47071cf1-e07b-4afa-8ebf-9267acc4a7e0",
   "metadata": {},
   "source": [
    "# r+ mode and w+ mode\n",
    "  - we can both read and write in + mode"
   ]
  },
  {
   "cell_type": "code",
   "execution_count": 43,
   "id": "ed8fb29e-116c-48e1-9b99-257025336230",
   "metadata": {},
   "outputs": [
    {
     "name": "stdout",
     "output_type": "stream",
     "text": [
      "writing in line 1\n"
     ]
    }
   ],
   "source": [
    "with open(\"today.txt\",'w+') as f:\n",
    "    f.write(\"I am writing in line 1\")\n",
    "    f.seek(5)\n",
    "    print(f.read())"
   ]
  },
  {
   "cell_type": "code",
   "execution_count": 45,
   "id": "24681813-7a53-4817-9e87-218c34995131",
   "metadata": {},
   "outputs": [],
   "source": [
    "with open('adic.txt','w') as f:\n",
    "    f.write(\"{'item':'mobile', 'price':100000, 'model':'Samsung'}\")"
   ]
  },
  {
   "cell_type": "code",
   "execution_count": 47,
   "id": "ebe5c2c1-2af1-4257-84ab-6e30db24e900",
   "metadata": {},
   "outputs": [],
   "source": [
    "with open('adic.txt') as f:\n",
    "    c = f.read()"
   ]
  },
  {
   "cell_type": "code",
   "execution_count": 50,
   "id": "79b8acda-4a0c-4ac7-8cd6-22056b06d18d",
   "metadata": {},
   "outputs": [
    {
     "data": {
      "text/plain": [
       "{'item': 'mobile', 'price': 100000, 'model': 'Samsung'}"
      ]
     },
     "execution_count": 50,
     "metadata": {},
     "output_type": "execute_result"
    }
   ],
   "source": [
    "adic"
   ]
  },
  {
   "cell_type": "code",
   "execution_count": 49,
   "id": "f3b4cca2-665b-460e-9dd2-ff1fa7f2c218",
   "metadata": {},
   "outputs": [],
   "source": [
    "import json"
   ]
  },
  {
   "cell_type": "code",
   "execution_count": 57,
   "id": "231355e7-959d-437c-b309-dba4f5a1d921",
   "metadata": {},
   "outputs": [],
   "source": [
    "with open('adic.json', 'w') as f:\n",
    "   json.dump(adic, f)\n",
    "   "
   ]
  },
  {
   "cell_type": "code",
   "execution_count": 58,
   "id": "938df7d6-9139-4912-829e-ac0da05e8033",
   "metadata": {},
   "outputs": [
    {
     "name": "stdout",
     "output_type": "stream",
     "text": [
      "{'item': 'mobile', 'price': 100000, 'model': 'Samsung'}\n",
      "<class 'dict'>\n"
     ]
    }
   ],
   "source": [
    "with open('adic.json','r') as f:\n",
    "    d = json.load(f)\n",
    "    print(d)\n",
    "    print(type(d))"
   ]
  },
  {
   "cell_type": "code",
   "execution_count": 5,
   "id": "91954c20-5b44-48fc-aec6-8fc621646a7e",
   "metadata": {},
   "outputs": [
    {
     "name": "stdin",
     "output_type": "stream",
     "text": [
      "Enter guest name cheking in the hotel:  or q to quit nasir\n",
      "Enter guest name cheking in the hotel:  or q to quit ashar\n",
      "Enter guest name cheking in the hotel:  or q to quit saad\n",
      "Enter guest name cheking in the hotel:  or q to quit raza\n",
      "Enter guest name cheking in the hotel:  or q to quit sana\n",
      "Enter guest name cheking in the hotel:  or q to quit saba\n",
      "Enter guest name cheking in the hotel:  or q to quit umer\n",
      "Enter guest name cheking in the hotel:  or q to quit ali\n",
      "Enter guest name cheking in the hotel:  or q to quit ahmed\n",
      "Enter guest name cheking in the hotel:  or q to quit q\n"
     ]
    },
    {
     "name": "stdout",
     "output_type": "stream",
     "text": [
      "Thank you!\n"
     ]
    }
   ],
   "source": [
    "counter=1\n",
    "while True:\n",
    "    guest= input(\"Enter guest name cheking in the hotel:  or q to quit\")\n",
    "    if guest=='q':\n",
    "        print(\"Thank you!\")\n",
    "        break\n",
    "    else:\n",
    "        with open('guest2.txt','a') as f:\n",
    "            f.write(f\"{counter}-{guest}\\n\")\n",
    "            counter+=1"
   ]
  },
  {
   "cell_type": "code",
   "execution_count": null,
   "id": "4a6ed433-daff-4630-91f0-ad83671145fd",
   "metadata": {},
   "outputs": [],
   "source": [
    "checkout = ['saba', 'ahmed', 'nasir', 'raza', 'ali']\n",
    "\n"
   ]
  }
 ],
 "metadata": {
  "kernelspec": {
   "display_name": "Python 3 (ipykernel)",
   "language": "python",
   "name": "python3"
  },
  "language_info": {
   "codemirror_mode": {
    "name": "ipython",
    "version": 3
   },
   "file_extension": ".py",
   "mimetype": "text/x-python",
   "name": "python",
   "nbconvert_exporter": "python",
   "pygments_lexer": "ipython3",
   "version": "3.12.7"
  }
 },
 "nbformat": 4,
 "nbformat_minor": 5
}
