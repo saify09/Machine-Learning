{
 "cells": [
  {
   "cell_type": "markdown",
   "metadata": {
    "id": "CUdxU51J52Jc"
   },
   "source": [
    "# Topic: print()"
   ]
  },
  {
   "cell_type": "markdown",
   "metadata": {
    "id": "O4XtVMeN52Ji"
   },
   "source": [
    "1) Using the python print function print any string value, integer value, boolean value, float value in single print command"
   ]
  },
  {
   "cell_type": "code",
   "execution_count": 21,
   "metadata": {},
   "outputs": [
    {
     "name": "stdout",
     "output_type": "stream",
     "text": [
      "Hi Phython\n",
      "123\n",
      "True\n"
     ]
    }
   ],
   "source": [
    "print(\"Hi Phython\")\n",
    "print(123)\n",
    "print(True)"
   ]
  },
  {
   "cell_type": "markdown",
   "metadata": {
    "id": "iNinlTd052Jr"
   },
   "source": [
    "2) Using the python print function print hyphon(-) separated any string value, integer value, boolean value, float value in single print command"
   ]
  },
  {
   "cell_type": "code",
   "execution_count": 4,
   "metadata": {},
   "outputs": [
    {
     "name": "stdout",
     "output_type": "stream",
     "text": [
      "- Hi Python   \n",
      " 12 False 12.0\n"
     ]
    }
   ],
   "source": [
    "print(\"-\",\"Hi Python\",\" \",\"\\n\",12,False,12.0)"
   ]
  },
  {
   "cell_type": "markdown",
   "metadata": {
    "id": "4fNVS99O52Jt"
   },
   "source": [
    "3) Using the python print function print any string value, integer value, boolean value, float value in separate print command.\n",
    "But every value must be space separated and in single line"
   ]
  },
  {
   "cell_type": "code",
   "execution_count": 1,
   "metadata": {},
   "outputs": [
    {
     "name": "stdout",
     "output_type": "stream",
     "text": [
      "Hello 42 True 3.14\n"
     ]
    }
   ],
   "source": [
    "print(\"Hello\", end=\" \")\n",
    "print(42, end=\" \")\n",
    "print(True, end=\" \")\n",
    "print(3.14)"
   ]
  },
  {
   "cell_type": "markdown",
   "metadata": {
    "id": "akEUFstT52Jv"
   },
   "source": [
    "4) Can a python print function take no value to print???\n"
   ]
  },
  {
   "cell_type": "code",
   "execution_count": 2,
   "metadata": {},
   "outputs": [
    {
     "name": "stdout",
     "output_type": "stream",
     "text": [
      "First line\n",
      "\n",
      "Third line\n"
     ]
    }
   ],
   "source": [
    "print(\"First line\")\n",
    "print()\n",
    "print(\"Third line\")"
   ]
  },
  {
   "cell_type": "markdown",
   "metadata": {
    "id": "vFPOFKW_52Jx"
   },
   "source": [
    "# TOPIC :Variables in Python Operators"
   ]
  },
  {
   "cell_type": "markdown",
   "metadata": {
    "id": "AzBzVODl52Jy"
   },
   "source": [
    "5) One of my friends name is Mr. Ahmed. He is 30 years old.  He is a lawer by profession. He has done his bachelors in law in the year 2005. He is working with a reputable law firm 'The Himalya Associates' in Karachi since 2015.\n",
    "He is a handsome lawer with height of 5.10 feets and weight 70600g. His monthly income is Rs. 200k PKR.\n",
    "\n",
    "Note: Create variables from above text and also assign values from the text.  "
   ]
  },
  {
   "cell_type": "code",
   "execution_count": 3,
   "metadata": {},
   "outputs": [
    {
     "name": "stdout",
     "output_type": "stream",
     "text": [
      "Mr. Ahmed 30 Lawyer Law 2005 The Himalya Associates Karachi 2015 5.1 70600 200000\n"
     ]
    }
   ],
   "source": [
    "# Personal Information\n",
    "friend_name = \"Mr. Ahmed\"\n",
    "age = 30\n",
    "profession = \"Lawyer\"\n",
    "bachelor_degree = \"Law\"\n",
    "bachelor_year = 2005\n",
    "\n",
    "# Work Information\n",
    "law_firm = \"The Himalya Associates\"\n",
    "work_location = \"Karachi\"\n",
    "working_since = 2015\n",
    "\n",
    "# Physical Attributes\n",
    "height_feet = 5.10\n",
    "weight_grams = 70600\n",
    "\n",
    "# Financial Information\n",
    "monthly_income_pkr = 200000  # Rs. 200k PKR\n",
    "\n",
    "# Printing all variables to check\n",
    "print(friend_name, age, profession, bachelor_degree, bachelor_year, law_firm, work_location, \n",
    "      working_since, height_feet, weight_grams, monthly_income_pkr)"
   ]
  },
  {
   "cell_type": "markdown",
   "metadata": {
    "id": "Uaf--v5S52J0"
   },
   "source": [
    "6)How many years has been to Mr. Ahmed after his bachelors degree? Create a variable that hold current year value and then subtract it from his passout year"
   ]
  },
  {
   "cell_type": "code",
   "execution_count": 4,
   "metadata": {},
   "outputs": [
    {
     "name": "stdout",
     "output_type": "stream",
     "text": [
      "Years since graduation: 20\n"
     ]
    }
   ],
   "source": [
    "# Define the current year\n",
    "current_year = 2025  # Assuming the current year is 2025\n",
    "\n",
    "# Mr. Ahmed's pass-out year\n",
    "bachelor_year = 2005\n",
    "\n",
    "# Calculate the years since graduation\n",
    "years_since_graduation = current_year - bachelor_year\n",
    "\n",
    "# Print the result\n",
    "print(\"Years since graduation:\", years_since_graduation)"
   ]
  },
  {
   "cell_type": "markdown",
   "metadata": {
    "id": "SAQtVyvD52J1"
   },
   "source": [
    "7) How many years has Mr. Ahmed been working with law firm 'The Himalya Associates'. Create necesary variables and print the correct number of years in working in the firm"
   ]
  },
  {
   "cell_type": "code",
   "execution_count": 5,
   "metadata": {},
   "outputs": [
    {
     "name": "stdout",
     "output_type": "stream",
     "text": [
      "Years working in 'The Himalya Associates': 10\n"
     ]
    }
   ],
   "source": [
    "# Define the current year\n",
    "current_year = 2025  # Assuming the current year is 2025\n",
    "\n",
    "# Year when Mr. Ahmed started working at the law firm\n",
    "working_since = 2015\n",
    "\n",
    "# Calculate the number of years he has been working\n",
    "years_in_firm = current_year - working_since\n",
    "\n",
    "# Print the result\n",
    "print(\"Years working in 'The Himalya Associates':\", years_in_firm)\n"
   ]
  },
  {
   "cell_type": "markdown",
   "metadata": {
    "id": "Gnk1kIUj52J3"
   },
   "source": [
    "8)Convert the monthly income of Mr. Ahmed in dollars.  Create necesary variables and print the income in dollars."
   ]
  },
  {
   "cell_type": "code",
   "execution_count": 6,
   "metadata": {},
   "outputs": [
    {
     "name": "stdout",
     "output_type": "stream",
     "text": [
      "Monthly income in USD: $ 714.29\n"
     ]
    }
   ],
   "source": [
    "# Mr. Ahmed's monthly income in PKR\n",
    "monthly_income_pkr = 200000  \n",
    "\n",
    "# Exchange rate (Assumed)\n",
    "exchange_rate = 280  \n",
    "\n",
    "# Convert to USD\n",
    "monthly_income_usd = monthly_income_pkr / exchange_rate  \n",
    "\n",
    "# Print the result\n",
    "print(\"Monthly income in USD: $\", round(monthly_income_usd, 2))"
   ]
  },
  {
   "cell_type": "markdown",
   "metadata": {
    "id": "Adx4oblF52J4"
   },
   "source": [
    "9) Check if the income in dollars is a float or integer value. if it is float, re-write the code so that income gets converted in integer. print the income in integer type value"
   ]
  },
  {
   "cell_type": "code",
   "execution_count": 7,
   "metadata": {},
   "outputs": [
    {
     "name": "stdout",
     "output_type": "stream",
     "text": [
      "Type before conversion: <class 'float'>\n",
      "Monthly income in USD (Integer): 714\n",
      "Type after conversion: <class 'int'>\n"
     ]
    }
   ],
   "source": [
    "# Mr. Ahmed's monthly income in PKR\n",
    "monthly_income_pkr = 200000  \n",
    "\n",
    "# Exchange rate (Assumed)\n",
    "exchange_rate = 280  \n",
    "\n",
    "# Convert to USD (Float value)\n",
    "monthly_income_usd = monthly_income_pkr / exchange_rate  \n",
    "\n",
    "# Check type\n",
    "print(\"Type before conversion:\", type(monthly_income_usd))  # Checking data type\n",
    "\n",
    "# Convert to integer\n",
    "monthly_income_usd_int = int(monthly_income_usd)  \n",
    "\n",
    "# Print the integer value\n",
    "print(\"Monthly income in USD (Integer):\", monthly_income_usd_int)\n",
    "\n",
    "# Check type after conversion\n",
    "print(\"Type after conversion:\", type(monthly_income_usd_int))"
   ]
  },
  {
   "cell_type": "raw",
   "metadata": {
    "id": "NcYepWgZ52J5"
   },
   "source": [
    "10) Print the type of Mr. Ahmed's weight. Convert the weight of Mr. Ahmed in kg so that weight must be a integer value."
   ]
  },
  {
   "cell_type": "raw",
   "metadata": {},
   "source": [
    "# Mr. Ahmed's weight in grams\n",
    "weight_grams = 70600  \n",
    "\n",
    "# Check the type before conversion\n",
    "print(\"Type before conversion:\", type(weight_grams))  \n",
    "\n",
    "# Convert grams to kilograms (1 kg = 1000 grams)\n",
    "weight_kg = weight_grams / 1000  \n",
    "\n",
    "# Convert to integer\n",
    "weight_kg_int = int(weight_kg)  \n",
    "\n",
    "# Print the integer weight in kg\n",
    "print(\"Weight in kg (Integer):\", weight_kg_int)\n",
    "\n",
    "# Check the type after conversion\n",
    "print(\"Type after conversion:\", type(weight_kg_int))"
   ]
  },
  {
   "cell_type": "code",
   "execution_count": 8,
   "metadata": {
    "id": "05FU1XHw52J7"
   },
   "outputs": [
    {
     "name": "stdout",
     "output_type": "stream",
     "text": [
      "Mr. Ahmed's year of birth: 1995\n"
     ]
    }
   ],
   "source": [
    "\n",
    "# Define the current year\n",
    "current_year = 2025  # Assuming the current year is 2025\n",
    "\n",
    "# Mr. Ahmed's age\n",
    "age = 30  \n",
    "\n",
    "# Calculate year of birth\n",
    "year_of_birth = current_year - age  \n",
    "\n",
    "# Print the year of birth\n",
    "print(\"Mr. Ahmed's year of birth:\", year_of_birth)"
   ]
  },
  {
   "cell_type": "code",
   "execution_count": 9,
   "metadata": {
    "id": "paq_3Kg152J8"
   },
   "outputs": [
    {
     "name": "stdout",
     "output_type": "stream",
     "text": [
      "Mr. Ahmed's year of birth: 1995\n"
     ]
    }
   ],
   "source": [
    "#type your code here\n",
    "# Define the current year\n",
    "current_year = 2025  # Assuming the current year is 2025\n",
    "\n",
    "# Mr. Ahmed's age\n",
    "age = 30  \n",
    "\n",
    "# Calculate year of birth\n",
    "year_of_birth = current_year - age  \n",
    "\n",
    "# Print the year of birth\n",
    "print(\"Mr. Ahmed's year of birth:\", year_of_birth)"
   ]
  },
  {
   "cell_type": "markdown",
   "metadata": {
    "id": "eWySSgh552J8"
   },
   "source": [
    "12) Can Rs. 100 be divided equally among 6 students?\n",
    "HINT: % operator (modulo)"
   ]
  },
  {
   "cell_type": "code",
   "execution_count": 11,
   "metadata": {
    "id": "RYc0Ks7g52J-",
    "outputId": "0e2425ca-fbed-4c24-b659-e52ef2d0674e"
   },
   "outputs": [
    {
     "data": {
      "text/plain": [
       "0"
      ]
     },
     "execution_count": 11,
     "metadata": {},
     "output_type": "execute_result"
    }
   ],
   "source": [
    "10%2\n",
    "# 10 is completely divisible by2\n",
    "# 10 is multiple of 2\n",
    "# 2 is a factor of 10\n",
    "# 10 comes in table of 2\n",
    "# Perform modulus operation"
   ]
  },
  {
   "cell_type": "code",
   "execution_count": null,
   "metadata": {},
   "outputs": [],
   "source": []
  },
  {
   "cell_type": "code",
   "execution_count": null,
   "metadata": {
    "id": "X3ncSwJt52KA"
   },
   "outputs": [],
   "source": []
  }
 ],
 "metadata": {
  "colab": {
   "provenance": []
  },
  "kernelspec": {
   "display_name": "Python 3 (ipykernel)",
   "language": "python",
   "name": "python3"
  },
  "language_info": {
   "codemirror_mode": {
    "name": "ipython",
    "version": 3
   },
   "file_extension": ".py",
   "mimetype": "text/x-python",
   "name": "python",
   "nbconvert_exporter": "python",
   "pygments_lexer": "ipython3",
   "version": "3.12.7"
  }
 },
 "nbformat": 4,
 "nbformat_minor": 4
}
