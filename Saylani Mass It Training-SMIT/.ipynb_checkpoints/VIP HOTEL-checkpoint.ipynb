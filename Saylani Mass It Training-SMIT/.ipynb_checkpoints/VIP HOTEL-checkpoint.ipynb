{
 "cells": [
  {
   "cell_type": "code",
   "execution_count": 1,
   "id": "e50686d4-a085-443d-9f1b-19765b9f850a",
   "metadata": {},
   "outputs": [
    {
     "name": "stdin",
     "output_type": "stream",
     "text": [
      "Kya chahye?  mutton_karahi\n"
     ]
    },
    {
     "name": "stdout",
     "output_type": "stream",
     "text": [
      "Is waqt 'mutton_karahi' muyassar nahi hai.\n"
     ]
    },
    {
     "name": "stdin",
     "output_type": "stream",
     "text": [
      "Kya chahye?  muttonfry\n"
     ]
    },
    {
     "name": "stdout",
     "output_type": "stream",
     "text": [
      "Is waqt 'muttonfry' muyassar nahi hai.\n"
     ]
    },
    {
     "name": "stdin",
     "output_type": "stream",
     "text": [
      "Kya chahye?  mutton_fry\n",
      "Kitne chahye?  50\n"
     ]
    },
    {
     "name": "stdout",
     "output_type": "stream",
     "text": [
      "50 mutton_fry added to your bill. Item cost: 111000 Ruppees.\n"
     ]
    },
    {
     "name": "stdin",
     "output_type": "stream",
     "text": [
      "Aur kuch chahye? (yes/no):  no\n"
     ]
    },
    {
     "name": "stdout",
     "output_type": "stream",
     "text": [
      "\n",
      "                     VIP HOTEL\n",
      "                    ___________\n",
      "                YOUR BILL      : 111000 Ruppees\n",
      "                DISCOUNT       : 11100.0 Ruppees\n",
      "          YOUR TOTAL BILL      : 99900.0 Ruppees\n",
      "          \n",
      "                          THANK YOU!\n",
      "\n"
     ]
    }
   ],
   "source": [
    "hotel_menu = {\n",
    "    'mutton_fry': {'price': 2220, 'quantity': 150},\n",
    "    'mutton_qorma': {'price': 1830, 'quantity': 120},\n",
    "    'mutton_qeema': {'price': 1500, 'quantity': 50},\n",
    "    'mutton_boti': {'price': 600, 'quantity': 100},\n",
    "    'mutton_biryani': {'price': 750, 'quantity': 100},\n",
    "    'nihari': {'price': 1200, 'quantity': 200},\n",
    "    'mutton_pulao': {'price': 800, 'quantity': 60},\n",
    "    'beef_haleem': {'price': 900, 'quantity': 50},\n",
    "    'chicken_haleem': {'price': 500, 'quantity': 80},\n",
    "    'ice_cream': {'price': 280, 'quantity': 1000},\n",
    "    'chaye': {'price': 100, 'quantity': 1000},\n",
    "    'cookies': {'price': 40, 'quantity': 10000},\n",
    "    'cake': {'price': 300, 'quantity': 100},\n",
    "    'juice': {'price': 250, 'quantity': 100},\n",
    "    'cold_drink': {'price': 150, 'quantity': 850},\n",
    "    'salad': {'price': 50, 'quantity': 1000},\n",
    "    'raita': {'price': 50, 'quantity': 10000},\n",
    "    'finger_chips': {'price': 350, 'quantity': 3000},\n",
    "    'chicken_tikka': {'price': 650, 'quantity': 250},\n",
    "    'milk_shake': {'price': 200, 'quantity': 100},\n",
    "    'pizza': {'price': 1800, 'quantity': 100},\n",
    "    'burger': {'price': 450, 'quantity': 250},\n",
    "    'beef_qorma': {'price': 1640, 'quantity': 70},\n",
    "    'beef_qeema': {'price': 1230, 'quantity': 10},\n",
    "    'beef_biryani': {'price': 750, 'quantity': 100},\n",
    "    'beef_boti': {'price': 1350, 'quantity': 250},\n",
    "    'chicken_karahi': {'price': 940, 'quantity': 130},\n",
    "    'chicken_boti': {'price': 530, 'quantity': 40},\n",
    "    'chicken_biryani': {'price': 600, 'quantity': 100},\n",
    "    'kheer': {'price': 450, 'quantity': 250},\n",
    "    'custard': {'price': 200, 'quantity': 30},\n",
    "    'water_bottle': {'price': 100, 'quantity': 25000}\n",
    "}\n",
    "total = 0\n",
    "while True:\n",
    "    item = input(\"Kya chahye? \").lower()\n",
    "    if item in hotel_menu:\n",
    "        quantity = int(input(\"Kitne chahye? \"))\n",
    "        if quantity <= hotel_menu[item]['quantity']:\n",
    "            item_price = quantity * hotel_menu[item]['price']\n",
    "            total += item_price\n",
    "            hotel_menu[item]['quantity'] -= quantity\n",
    "            print(f\"{quantity} {item} added to your bill. Item cost: {item_price} Ruppees.\")\n",
    "            more = input(\"Aur kuch chahye? (yes/no): \").lower()\n",
    "            if more == 'no':\n",
    "                break\n",
    "        else:\n",
    "            print(\"Sorry! Filhal itni quantity muyassar nahi hai.\")\n",
    "    else:\n",
    "        print(f\"Is waqt '{item}' muyassar nahi hai.\")\n",
    "if total >= 5000:\n",
    "    discount = total * 0.1\n",
    "else:\n",
    "    discount = 0\n",
    "final_bill = total - discount\n",
    "print(f\"\"\"\n",
    "                     VIP HOTEL\n",
    "                    ___________\n",
    "                YOUR BILL      : {total} Ruppees\n",
    "                DISCOUNT       : {discount} Ruppees\n",
    "          YOUR TOTAL BILL      : {final_bill} Ruppees\n",
    "          \n",
    "                          THANK YOU!\n",
    "\"\"\")"
   ]
  },
  {
   "cell_type": "code",
   "execution_count": 1,
   "id": "35d49571-39b3-4957-bf21-d0a62eb01f24",
   "metadata": {},
   "outputs": [
    {
     "name": "stdin",
     "output_type": "stream",
     "text": [
      "Kya chahye?  mutton_karahi\n"
     ]
    },
    {
     "name": "stdout",
     "output_type": "stream",
     "text": [
      "Is waqt 'mutton_karahi' muyassar nahi hai.\n"
     ]
    },
    {
     "name": "stdin",
     "output_type": "stream",
     "text": [
      "Kya chahye?  muttonfry\n"
     ]
    },
    {
     "name": "stdout",
     "output_type": "stream",
     "text": [
      "Is waqt 'muttonfry' muyassar nahi hai.\n"
     ]
    },
    {
     "name": "stdin",
     "output_type": "stream",
     "text": [
      "Kya chahye?  mutton_fry\n",
      "Kitne chahye?  50\n"
     ]
    },
    {
     "name": "stdout",
     "output_type": "stream",
     "text": [
      "50 mutton_fry added to your bill. Item cost: 111000 Ruppees.\n"
     ]
    },
    {
     "name": "stdin",
     "output_type": "stream",
     "text": [
      "Aur kuch chahye? (yes/no):  no\n"
     ]
    },
    {
     "name": "stdout",
     "output_type": "stream",
     "text": [
      "\n",
      "                     VIP HOTEL\n",
      "                    ___________\n",
      "                YOUR BILL      : 111000 Ruppees\n",
      "                DISCOUNT       : 11100.0 Ruppees\n",
      "          YOUR TOTAL BILL      : 99900.0 Ruppees\n",
      "          \n",
      "                          THANK YOU!\n",
      "\n"
     ]
    }
   ],
   "source": [
    "hotel_menu = {\n",
    "    'mutton_fry': {'price': 2220, 'quantity': 150},\n",
    "    'mutton_qorma': {'price': 1830, 'quantity': 120},\n",
    "    'mutton_qeema': {'price': 1500, 'quantity': 50},\n",
    "    'mutton_boti': {'price': 600, 'quantity': 100},\n",
    "    'mutton_biryani': {'price': 750, 'quantity': 100},\n",
    "    'nihari': {'price': 1200, 'quantity': 200},\n",
    "    'mutton_pulao': {'price': 800, 'quantity': 60},\n",
    "    'beef_haleem': {'price': 900, 'quantity': 50},\n",
    "    'chicken_haleem': {'price': 500, 'quantity': 80},\n",
    "    'ice_cream': {'price': 280, 'quantity': 1000},\n",
    "    'chaye': {'price': 100, 'quantity': 1000},\n",
    "    'cookies': {'price': 40, 'quantity': 10000},\n",
    "    'cake': {'price': 300, 'quantity': 100},\n",
    "    'juice': {'price': 250, 'quantity': 100},\n",
    "    'cold_drink': {'price': 150, 'quantity': 850},\n",
    "    'salad': {'price': 50, 'quantity': 1000},\n",
    "    'raita': {'price': 50, 'quantity': 10000},\n",
    "    'finger_chips': {'price': 350, 'quantity': 3000},\n",
    "    'chicken_tikka': {'price': 650, 'quantity': 250},\n",
    "    'milk_shake': {'price': 200, 'quantity': 100},\n",
    "    'pizza': {'price': 1800, 'quantity': 100},\n",
    "    'burger': {'price': 450, 'quantity': 250},\n",
    "    'beef_qorma': {'price': 1640, 'quantity': 70},\n",
    "    'beef_qeema': {'price': 1230, 'quantity': 10},\n",
    "    'beef_biryani': {'price': 750, 'quantity': 100},\n",
    "    'beef_boti': {'price': 1350, 'quantity': 250},\n",
    "    'chicken_karahi': {'price': 940, 'quantity': 130},\n",
    "    'chicken_boti': {'price': 530, 'quantity': 40},\n",
    "    'chicken_biryani': {'price': 600, 'quantity': 100},\n",
    "    'kheer': {'price': 450, 'quantity': 250},\n",
    "    'custard': {'price': 200, 'quantity': 30},\n",
    "    'water_bottle': {'price': 100, 'quantity': 25000}\n",
    "}\n",
    "total = 0\n",
    "while True:\n",
    "    item = input(\"Kya chahye? \").lower()\n",
    "    if item in hotel_menu:\n",
    "        quantity = int(input(\"Kitne chahye? \"))\n",
    "        if quantity <= hotel_menu[item]['quantity']:\n",
    "            item_price = quantity * hotel_menu[item]['price']\n",
    "            total += item_price\n",
    "            hotel_menu[item]['quantity'] -= quantity\n",
    "            print(f\"{quantity} {item} added to your bill. Item cost: {item_price} Ruppees.\")\n",
    "            more = input(\"Aur kuch chahye? (yes/no): \").lower()\n",
    "            if more == 'no':\n",
    "                break\n",
    "        else:\n",
    "            print(\"Sorry! Filhal itni quantity muyassar nahi hai.\")\n",
    "    else:\n",
    "        print(f\"Is waqt '{item}' muyassar nahi hai.\")\n",
    "if total >= 5000:\n",
    "    discount = total * 0.1\n",
    "else:\n",
    "    discount = 0\n",
    "final_bill = total - discount\n",
    "print(f\"\"\"\n",
    "                     VIP HOTEL\n",
    "                    ___________\n",
    "                YOUR BILL      : {total} Ruppees\n",
    "                DISCOUNT       : {discount} Ruppees\n",
    "          YOUR TOTAL BILL      : {final_bill} Ruppees\n",
    "          \n",
    "                          THANK YOU!\n",
    "\"\"\")"
   ]
  },
  {
   "cell_type": "code",
   "execution_count": 2,
   "id": "49edc064-c7e4-42a1-b907-e4ff0cb701a4",
   "metadata": {},
   "outputs": [
    {
     "data": {
      "text/plain": [
       "{'mutton_fry': {'price': 2220, 'quantity': 100},\n",
       " 'mutton_qorma': {'price': 1830, 'quantity': 120},\n",
       " 'mutton_qeema': {'price': 1500, 'quantity': 50},\n",
       " 'mutton_boti': {'price': 600, 'quantity': 100},\n",
       " 'mutton_biryani': {'price': 750, 'quantity': 100},\n",
       " 'nihari': {'price': 1200, 'quantity': 200},\n",
       " 'mutton_pulao': {'price': 800, 'quantity': 60},\n",
       " 'beef_haleem': {'price': 900, 'quantity': 50},\n",
       " 'chicken_haleem': {'price': 500, 'quantity': 80},\n",
       " 'ice_cream': {'price': 280, 'quantity': 1000},\n",
       " 'chaye': {'price': 100, 'quantity': 1000},\n",
       " 'cookies': {'price': 40, 'quantity': 10000},\n",
       " 'cake': {'price': 300, 'quantity': 100},\n",
       " 'juice': {'price': 250, 'quantity': 100},\n",
       " 'cold_drink': {'price': 150, 'quantity': 850},\n",
       " 'salad': {'price': 50, 'quantity': 1000},\n",
       " 'raita': {'price': 50, 'quantity': 10000},\n",
       " 'finger_chips': {'price': 350, 'quantity': 3000},\n",
       " 'chicken_tikka': {'price': 650, 'quantity': 250},\n",
       " 'milk_shake': {'price': 200, 'quantity': 100},\n",
       " 'pizza': {'price': 1800, 'quantity': 100},\n",
       " 'burger': {'price': 450, 'quantity': 250},\n",
       " 'beef_qorma': {'price': 1640, 'quantity': 70},\n",
       " 'beef_qeema': {'price': 1230, 'quantity': 10},\n",
       " 'beef_biryani': {'price': 750, 'quantity': 100},\n",
       " 'beef_boti': {'price': 1350, 'quantity': 250},\n",
       " 'chicken_karahi': {'price': 940, 'quantity': 130},\n",
       " 'chicken_boti': {'price': 530, 'quantity': 40},\n",
       " 'chicken_biryani': {'price': 600, 'quantity': 100},\n",
       " 'kheer': {'price': 450, 'quantity': 250},\n",
       " 'custard': {'price': 200, 'quantity': 30},\n",
       " 'water_bottle': {'price': 100, 'quantity': 25000}}"
      ]
     },
     "execution_count": 2,
     "metadata": {},
     "output_type": "execute_result"
    }
   ],
   "source": [
    "hotel_menu"
   ]
  },
  {
   "cell_type": "code",
   "execution_count": null,
   "id": "acfeffed-458c-4fcc-af12-1438463b0c21",
   "metadata": {},
   "outputs": [],
   "source": [
    "MADE BY SAIFUDDIN HANIF"
   ]
  }
 ],
 "metadata": {
  "kernelspec": {
   "display_name": "Python 3 (ipykernel)",
   "language": "python",
   "name": "python3"
  },
  "language_info": {
   "codemirror_mode": {
    "name": "ipython",
    "version": 3
   },
   "file_extension": ".py",
   "mimetype": "text/x-python",
   "name": "python",
   "nbconvert_exporter": "python",
   "pygments_lexer": "ipython3",
   "version": "3.12.7"
  }
 },
 "nbformat": 4,
 "nbformat_minor": 5
}
