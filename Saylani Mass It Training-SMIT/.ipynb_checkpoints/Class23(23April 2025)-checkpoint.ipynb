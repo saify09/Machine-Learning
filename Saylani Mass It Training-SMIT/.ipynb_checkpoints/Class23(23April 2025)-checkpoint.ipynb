{
 "cells": [
  {
   "cell_type": "markdown",
   "id": "3a00d3e7-1464-4b5f-8aac-284023c80c4b",
   "metadata": {},
   "source": [
    "# Inheritance"
   ]
  },
  {
   "cell_type": "code",
   "execution_count": 1,
   "id": "38a9de33-b79d-4464-b307-b8561392fcdf",
   "metadata": {},
   "outputs": [],
   "source": [
    "class Person():\n",
    "    def __init__(self,gender,name,age,blood_gp, height, weight):\n",
    "        self.gender = gender\n",
    "        self.name = name\n",
    "        self.age  = age\n",
    "        self.blood_gp = blood_gp\n",
    "        self.height =height\n",
    "        self.weight = weight\n",
    "    def eat(self):\n",
    "        print(\"Person is eating something\")\n",
    "    def sleep(self):\n",
    "        print(\"Person is sleeping\")\n",
    "    def walk(self):\n",
    "        print(\"Person is walking in park\")\n",
    "        "
   ]
  },
  {
   "cell_type": "code",
   "execution_count": 22,
   "id": "8a038974-5d6c-400f-8c45-9bda6f6777a8",
   "metadata": {},
   "outputs": [],
   "source": [
    "class Doctor():\n",
    "    def __init__(self,name, gender, age, blood_gp, height, weight, specilization, city, fees):\n",
    "        self.name = name\n",
    "        self.gender = gender\n",
    "        self.age  = age\n",
    "        self.blood_gp = blood_gp\n",
    "        self.height =height\n",
    "        self.weight = weight\n",
    "        self.specilization=specilization\n",
    "        self.city=city\n",
    "        self.fees = fees\n",
    "    def eat(self):\n",
    "        print(\"Person is eating something\")\n",
    "    def sleep(self):\n",
    "        print(f\"{self.name} is sleeping\")\n",
    "    def walk(self):\n",
    "        print(\"Person is walking in park\")\n",
    "    def checkup(self):\n",
    "        print(f\"{self.name} is checking the patients\")\n",
    "    def operate(self):\n",
    "        print(f\"{self.name} is operating patients\")\n",
    "    def prescribe_medicine(self):\n",
    "        print(f\"{self.name} is prescribing medicine to patients\")   \n",
    "   "
   ]
  },
  {
   "cell_type": "code",
   "execution_count": 23,
   "id": "e02b2523-cb7e-4816-bce7-be83b9b01ca7",
   "metadata": {},
   "outputs": [],
   "source": [
    "class Doctor(Person):\n",
    "    def __init__(self,name, gender, age, blood_gp, height, weight, specilization, city, fees):\n",
    "        super().__init__(name, gender, age, blood_gp, height, weight)\n",
    "        self.specilization =specilization\n",
    "        self.fees =fees\n",
    "        self.city = city\n",
    "    def checkup(self):\n",
    "        print(f\"{self.name} is checking the patients\")\n",
    "    def operate(self):\n",
    "        print(f\"{self.name} is operating patients\")\n",
    "    def prescribe_medicine(self):\n",
    "        print(f\"{self.name} is prescribing medicine to patients\") \n"
   ]
  },
  {
   "cell_type": "code",
   "execution_count": 24,
   "id": "0090a758-7699-44df-9c3d-b8045af1a1ee",
   "metadata": {},
   "outputs": [],
   "source": [
    "d1 = Doctor('Dr. Rustam', 'Male',34,'B+',5.8,78,'Eye', 'Karachi', 1000)"
   ]
  },
  {
   "cell_type": "code",
   "execution_count": 25,
   "id": "14dee786-b89a-4849-8111-abdf9cf5d2e7",
   "metadata": {},
   "outputs": [
    {
     "name": "stdout",
     "output_type": "stream",
     "text": [
      "Person is walking in park\n"
     ]
    }
   ],
   "source": [
    "d1.walk()"
   ]
  },
  {
   "cell_type": "code",
   "execution_count": null,
   "id": "80ca95da-bbd6-4cef-98ec-743510495163",
   "metadata": {},
   "outputs": [],
   "source": []
  },
  {
   "cell_type": "code",
   "execution_count": 54,
   "id": "47423286-000d-4cbe-ac65-252624b56416",
   "metadata": {},
   "outputs": [],
   "source": [
    "class Car():\n",
    "    def __init__(self, make, model, year):\n",
    "        self.make = make\n",
    "        self.model = model\n",
    "        self.year = year\n",
    "        self.odometer_reading = 0\n",
    "    def get_descriptive_name(self):\n",
    "        long_name = str(self.year) + ' ' + self.make + ' ' + self.model\n",
    "        return long_name.title()\n",
    "    def read_odometer(self):\n",
    "        print(\"This car has \" + str(self.odometer_reading) + \" miles on it.\")\n",
    "    def update_odometer(self, mileage):\n",
    "        if mileage >= self.odometer_reading:\n",
    "            self.odometer_reading = mileage\n",
    "        else:\n",
    "            print(\"You can't roll back an odometer!\")\n",
    "    def increment_odometer(self, miles):\n",
    "        self.odometer_reading += miles\n",
    "    def fill_tank(self):\n",
    "        print(\"Car tank is being filled now\")"
   ]
  },
  {
   "cell_type": "code",
   "execution_count": 55,
   "id": "d3371dab-6b05-4845-847c-56b3f8d673a5",
   "metadata": {},
   "outputs": [],
   "source": [
    "class ElectricCar(Car):\n",
    "    def __init__(self, make, model, year):\n",
    "        super().__init__(make, model, year)\n",
    "        "
   ]
  },
  {
   "cell_type": "code",
   "execution_count": 29,
   "id": "375c4745-acfa-4a48-a1bc-edd5ea48e7e4",
   "metadata": {},
   "outputs": [],
   "source": [
    "my_tesla = ElectricCar('tesla', 'model s', 2016)"
   ]
  },
  {
   "cell_type": "code",
   "execution_count": 30,
   "id": "7d10c7b5-2d12-4d30-8edc-561be42ff355",
   "metadata": {},
   "outputs": [
    {
     "data": {
      "text/plain": [
       "'2016 Tesla Model S'"
      ]
     },
     "execution_count": 30,
     "metadata": {},
     "output_type": "execute_result"
    }
   ],
   "source": [
    "my_tesla.get_descriptive_name()"
   ]
  },
  {
   "cell_type": "code",
   "execution_count": 31,
   "id": "d18be3f6-2fbb-4317-b5ef-34e378cba69e",
   "metadata": {},
   "outputs": [
    {
     "name": "stdout",
     "output_type": "stream",
     "text": [
      "This car has 0 miles on it.\n"
     ]
    }
   ],
   "source": [
    "my_tesla.read_odometer()"
   ]
  },
  {
   "cell_type": "code",
   "execution_count": 32,
   "id": "8d022b3c-14d0-49ca-82aa-0b8139122645",
   "metadata": {},
   "outputs": [],
   "source": [
    "my_tesla.update_odometer(100)"
   ]
  },
  {
   "cell_type": "code",
   "execution_count": 33,
   "id": "173e4a33-e470-4275-ac30-43b0806459af",
   "metadata": {},
   "outputs": [
    {
     "name": "stdout",
     "output_type": "stream",
     "text": [
      "This car has 100 miles on it.\n"
     ]
    }
   ],
   "source": [
    "my_tesla.read_odometer()"
   ]
  },
  {
   "cell_type": "code",
   "execution_count": 34,
   "id": "d731c40f-eb38-4788-b783-a8f82efe5125",
   "metadata": {},
   "outputs": [
    {
     "name": "stdout",
     "output_type": "stream",
     "text": [
      "You can't roll back an odometer!\n"
     ]
    }
   ],
   "source": [
    "my_tesla.update_odometer(10)"
   ]
  },
  {
   "cell_type": "code",
   "execution_count": 35,
   "id": "218f3e05-b5dd-4d49-bb5e-65fe2c529d05",
   "metadata": {},
   "outputs": [],
   "source": [
    "my_tesla.increment_odometer(25)"
   ]
  },
  {
   "cell_type": "code",
   "execution_count": 36,
   "id": "495d4d2c-20c2-485e-aab9-2f0dadc6a833",
   "metadata": {},
   "outputs": [
    {
     "name": "stdout",
     "output_type": "stream",
     "text": [
      "This car has 125 miles on it.\n"
     ]
    }
   ],
   "source": [
    "my_tesla.read_odometer()"
   ]
  },
  {
   "cell_type": "code",
   "execution_count": 68,
   "id": "386838e6-4b89-45e7-aba5-f96e215ce0fc",
   "metadata": {},
   "outputs": [],
   "source": [
    "class ElectricCar(Car):\n",
    "    def __init__(self, make, model, year):\n",
    "        super().__init__(make, model, year)\n",
    "        self.battery_size = 70\n",
    "    def describe_battery(self):\n",
    "        print(\"This car has a \" + str(self.battery_size) + \"-kWh battery.\")\n",
    "    def fill_tank(self):\n",
    "        print(\"Electric Car dont have petrol tanki\")\n",
    "        super().fill_tank()"
   ]
  },
  {
   "cell_type": "code",
   "execution_count": 69,
   "id": "9d6fa751-598f-44e4-98c9-670042cf5fe5",
   "metadata": {},
   "outputs": [],
   "source": [
    "e1 = ElectricCar('ElectricCar','TeslaPlus',2025)"
   ]
  },
  {
   "cell_type": "code",
   "execution_count": 70,
   "id": "9519ab18-b632-4867-9e4a-988b4f5af208",
   "metadata": {},
   "outputs": [
    {
     "name": "stdout",
     "output_type": "stream",
     "text": [
      "This car has a 70-kWh battery.\n"
     ]
    }
   ],
   "source": [
    "e1.describe_battery()"
   ]
  },
  {
   "cell_type": "markdown",
   "id": "263437bf-7a37-4a4b-aca7-4a384930c1d5",
   "metadata": {},
   "source": [
    "# Polymorphism: Overriding Methods from the Parent Class"
   ]
  },
  {
   "cell_type": "code",
   "execution_count": 71,
   "id": "3b35fe5c-7ac3-4629-bc76-db2b3b740629",
   "metadata": {},
   "outputs": [],
   "source": [
    "def hello(name):\n",
    "    print(f\"I say hello to you {name}\")"
   ]
  },
  {
   "cell_type": "code",
   "execution_count": 72,
   "id": "18665ed8-6a13-42b1-b0fc-e8a39b55b7e4",
   "metadata": {},
   "outputs": [
    {
     "name": "stdout",
     "output_type": "stream",
     "text": [
      "I say hello to you ali\n"
     ]
    }
   ],
   "source": [
    "hello('ali')"
   ]
  },
  {
   "cell_type": "code",
   "execution_count": 73,
   "id": "008a834b-bdf3-4a0e-b310-056233591b2b",
   "metadata": {},
   "outputs": [],
   "source": [
    "def hello(a,b):\n",
    "    print(\"I dont day hello to you!\")"
   ]
  },
  {
   "cell_type": "code",
   "execution_count": 74,
   "id": "ef0fe841-27e1-4648-b9d0-ab7751c7a4c5",
   "metadata": {},
   "outputs": [
    {
     "ename": "TypeError",
     "evalue": "hello() missing 1 required positional argument: 'b'",
     "output_type": "error",
     "traceback": [
      "\u001b[1;31m---------------------------------------------------------------------------\u001b[0m",
      "\u001b[1;31mTypeError\u001b[0m                                 Traceback (most recent call last)",
      "Cell \u001b[1;32mIn[74], line 1\u001b[0m\n\u001b[1;32m----> 1\u001b[0m hello(\u001b[38;5;124m'\u001b[39m\u001b[38;5;124mnasir\u001b[39m\u001b[38;5;124m'\u001b[39m)\n",
      "\u001b[1;31mTypeError\u001b[0m: hello() missing 1 required positional argument: 'b'"
     ]
    }
   ],
   "source": [
    "hello('nasir')"
   ]
  },
  {
   "cell_type": "code",
   "execution_count": 75,
   "id": "dff14cef-4366-4bb8-a44a-e43ccc4c97eb",
   "metadata": {},
   "outputs": [
    {
     "name": "stdout",
     "output_type": "stream",
     "text": [
      "Electric Car dont have petrol tanki\n",
      "Car tank is being filled now\n"
     ]
    }
   ],
   "source": [
    "e1.fill_tank()"
   ]
  },
  {
   "cell_type": "code",
   "execution_count": 77,
   "id": "591757e7-970b-4517-9e42-ca3731628ebe",
   "metadata": {},
   "outputs": [
    {
     "name": "stdout",
     "output_type": "stream",
     "text": [
      "Help on class dict in module builtins:\n",
      "\n",
      "class dict(object)\n",
      " |  dict() -> new empty dictionary\n",
      " |  dict(mapping) -> new dictionary initialized from a mapping object's\n",
      " |      (key, value) pairs\n",
      " |  dict(iterable) -> new dictionary initialized as if via:\n",
      " |      d = {}\n",
      " |      for k, v in iterable:\n",
      " |          d[k] = v\n",
      " |  dict(**kwargs) -> new dictionary initialized with the name=value pairs\n",
      " |      in the keyword argument list.  For example:  dict(one=1, two=2)\n",
      " |\n",
      " |  Built-in subclasses:\n",
      " |      StgDict\n",
      " |\n",
      " |  Methods defined here:\n",
      " |\n",
      " |  __contains__(self, key, /)\n",
      " |      True if the dictionary has the specified key, else False.\n",
      " |\n",
      " |  __delitem__(self, key, /)\n",
      " |      Delete self[key].\n",
      " |\n",
      " |  __eq__(self, value, /)\n",
      " |      Return self==value.\n",
      " |\n",
      " |  __ge__(self, value, /)\n",
      " |      Return self>=value.\n",
      " |\n",
      " |  __getattribute__(self, name, /)\n",
      " |      Return getattr(self, name).\n",
      " |\n",
      " |  __getitem__(self, key, /)\n",
      " |      Return self[key].\n",
      " |\n",
      " |  __gt__(self, value, /)\n",
      " |      Return self>value.\n",
      " |\n",
      " |  __init__(self, /, *args, **kwargs)\n",
      " |      Initialize self.  See help(type(self)) for accurate signature.\n",
      " |\n",
      " |  __ior__(self, value, /)\n",
      " |      Return self|=value.\n",
      " |\n",
      " |  __iter__(self, /)\n",
      " |      Implement iter(self).\n",
      " |\n",
      " |  __le__(self, value, /)\n",
      " |      Return self<=value.\n",
      " |\n",
      " |  __len__(self, /)\n",
      " |      Return len(self).\n",
      " |\n",
      " |  __lt__(self, value, /)\n",
      " |      Return self<value.\n",
      " |\n",
      " |  __ne__(self, value, /)\n",
      " |      Return self!=value.\n",
      " |\n",
      " |  __or__(self, value, /)\n",
      " |      Return self|value.\n",
      " |\n",
      " |  __repr__(self, /)\n",
      " |      Return repr(self).\n",
      " |\n",
      " |  __reversed__(self, /)\n",
      " |      Return a reverse iterator over the dict keys.\n",
      " |\n",
      " |  __ror__(self, value, /)\n",
      " |      Return value|self.\n",
      " |\n",
      " |  __setitem__(self, key, value, /)\n",
      " |      Set self[key] to value.\n",
      " |\n",
      " |  __sizeof__(...)\n",
      " |      D.__sizeof__() -> size of D in memory, in bytes\n",
      " |\n",
      " |  clear(...)\n",
      " |      D.clear() -> None.  Remove all items from D.\n",
      " |\n",
      " |  copy(...)\n",
      " |      D.copy() -> a shallow copy of D\n",
      " |\n",
      " |  get(self, key, default=None, /)\n",
      " |      Return the value for key if key is in the dictionary, else default.\n",
      " |\n",
      " |  items(...)\n",
      " |      D.items() -> a set-like object providing a view on D's items\n",
      " |\n",
      " |  keys(...)\n",
      " |      D.keys() -> a set-like object providing a view on D's keys\n",
      " |\n",
      " |  pop(...)\n",
      " |      D.pop(k[,d]) -> v, remove specified key and return the corresponding value.\n",
      " |\n",
      " |      If the key is not found, return the default if given; otherwise,\n",
      " |      raise a KeyError.\n",
      " |\n",
      " |  popitem(self, /)\n",
      " |      Remove and return a (key, value) pair as a 2-tuple.\n",
      " |\n",
      " |      Pairs are returned in LIFO (last-in, first-out) order.\n",
      " |      Raises KeyError if the dict is empty.\n",
      " |\n",
      " |  setdefault(self, key, default=None, /)\n",
      " |      Insert key with a value of default if key is not in the dictionary.\n",
      " |\n",
      " |      Return the value for key if key is in the dictionary, else default.\n",
      " |\n",
      " |  update(...)\n",
      " |      D.update([E, ]**F) -> None.  Update D from dict/iterable E and F.\n",
      " |      If E is present and has a .keys() method, then does:  for k in E: D[k] = E[k]\n",
      " |      If E is present and lacks a .keys() method, then does:  for k, v in E: D[k] = v\n",
      " |      In either case, this is followed by: for k in F:  D[k] = F[k]\n",
      " |\n",
      " |  values(...)\n",
      " |      D.values() -> an object providing a view on D's values\n",
      " |\n",
      " |  ----------------------------------------------------------------------\n",
      " |  Class methods defined here:\n",
      " |\n",
      " |  __class_getitem__(...)\n",
      " |      See PEP 585\n",
      " |\n",
      " |  fromkeys(iterable, value=None, /)\n",
      " |      Create a new dictionary with keys from iterable and values set to value.\n",
      " |\n",
      " |  ----------------------------------------------------------------------\n",
      " |  Static methods defined here:\n",
      " |\n",
      " |  __new__(*args, **kwargs)\n",
      " |      Create and return a new object.  See help(type) for accurate signature.\n",
      " |\n",
      " |  ----------------------------------------------------------------------\n",
      " |  Data and other attributes defined here:\n",
      " |\n",
      " |  __hash__ = None\n",
      "\n"
     ]
    }
   ],
   "source": [
    "help(dict)"
   ]
  },
  {
   "cell_type": "code",
   "execution_count": null,
   "id": "9d86add9-db80-4995-83ec-9609213ebd22",
   "metadata": {},
   "outputs": [],
   "source": []
  },
  {
   "cell_type": "code",
   "execution_count": null,
   "id": "13d3b07a-c506-436f-95bf-069102e207a7",
   "metadata": {},
   "outputs": [],
   "source": []
  },
  {
   "cell_type": "code",
   "execution_count": null,
   "id": "da5d3f6a-ecec-45dd-9b70-2c940f2919ff",
   "metadata": {},
   "outputs": [],
   "source": []
  },
  {
   "cell_type": "code",
   "execution_count": null,
   "id": "6abd3bc9-c4d2-4b1d-9a28-9c51bb8af6ab",
   "metadata": {},
   "outputs": [],
   "source": []
  }
 ],
 "metadata": {
  "kernelspec": {
   "display_name": "Python 3 (ipykernel)",
   "language": "python",
   "name": "python3"
  },
  "language_info": {
   "codemirror_mode": {
    "name": "ipython",
    "version": 3
   },
   "file_extension": ".py",
   "mimetype": "text/x-python",
   "name": "python",
   "nbconvert_exporter": "python",
   "pygments_lexer": "ipython3",
   "version": "3.12.3"
  }
 },
 "nbformat": 4,
 "nbformat_minor": 5
}
