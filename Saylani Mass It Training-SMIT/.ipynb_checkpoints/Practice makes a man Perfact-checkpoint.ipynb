{
 "cells": [
  {
   "cell_type": "code",
   "execution_count": null,
   "id": "64caa776-e647-4bae-8371-f2ee804fd3be",
   "metadata": {},
   "outputs": [],
   "source": []
  },
  {
   "cell_type": "code",
   "execution_count": null,
   "id": "ad664637-f65e-4b34-8380-d44f07f3fd29",
   "metadata": {
    "scrolled": true
   },
   "outputs": [],
   "source": []
  },
  {
   "cell_type": "markdown",
   "id": "123e2586-fb4f-48d4-9b2d-98c196ec4350",
   "metadata": {},
   "source": []
  },
  {
   "cell_type": "code",
   "execution_count": null,
   "id": "e3e2164f-5dbc-40a1-b33d-076d8b6de6fd",
   "metadata": {},
   "outputs": [],
   "source": []
  },
  {
   "cell_type": "markdown",
   "id": "e2c0350d-e416-4aff-b0ed-961d4036d897",
   "metadata": {},
   "source": []
  },
  {
   "cell_type": "code",
   "execution_count": null,
   "id": "04efe9d8-4f80-44cd-9f85-39576e9c1396",
   "metadata": {},
   "outputs": [],
   "source": []
  },
  {
   "cell_type": "code",
   "execution_count": null,
   "id": "c9273227-27ec-410d-9afa-2c6f010f7375",
   "metadata": {},
   "outputs": [],
   "source": []
  },
  {
   "cell_type": "code",
   "execution_count": null,
   "id": "6450c1e9-89f0-4161-ad31-7ca9835ec1d6",
   "metadata": {},
   "outputs": [],
   "source": []
  },
  {
   "cell_type": "code",
   "execution_count": null,
   "id": "37c646d7-140f-487d-9327-0a7f3b33027d",
   "metadata": {},
   "outputs": [],
   "source": []
  },
  {
   "cell_type": "markdown",
   "id": "32c22fb2-ea0a-4993-9316-70cdaf4025ff",
   "metadata": {},
   "source": []
  },
  {
   "cell_type": "markdown",
   "id": "66a45c0f-7138-472a-8cd3-153b6e7e5d07",
   "metadata": {
    "jupyter": {
     "source_hidden": true
    }
   },
   "source": []
  },
  {
   "cell_type": "markdown",
   "id": "558d680e-9788-4335-a5b0-f235e2d1bbe6",
   "metadata": {},
   "source": []
  },
  {
   "cell_type": "code",
   "execution_count": null,
   "id": "0359c7c2-8a7b-489e-97f0-a4430fc7a019",
   "metadata": {},
   "outputs": [],
   "source": []
  }
 ],
 "metadata": {
  "kernelspec": {
   "display_name": "Python 3 (ipykernel)",
   "language": "python",
   "name": "python3"
  },
  "language_info": {
   "codemirror_mode": {
    "name": "ipython",
    "version": 3
   },
   "file_extension": ".py",
   "mimetype": "text/x-python",
   "name": "python",
   "nbconvert_exporter": "python",
   "pygments_lexer": "ipython3",
   "version": "3.12.7"
  }
 },
 "nbformat": 4,
 "nbformat_minor": 5
}
