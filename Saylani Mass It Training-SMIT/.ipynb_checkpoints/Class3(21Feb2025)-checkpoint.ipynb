{
 "cells": [
  {
   "cell_type": "markdown",
   "id": "04d7a277-6208-44fc-9850-70e530c66f60",
   "metadata": {},
   "source": [
    "# Variables: (indentifier)\n",
    "   - variables are container\n",
    "   - variables storage\n",
    "   - variables are reservoirs"
   ]
  },
  {
   "cell_type": "code",
   "execution_count": 2,
   "id": "88eeec28-574d-465c-ba5a-6b133c3fa45f",
   "metadata": {},
   "outputs": [],
   "source": [
    "course  = \"Artificial Intelligence and Data Science\"\n",
    "# a string value is assigned to a variable course"
   ]
  },
  {
   "cell_type": "code",
   "execution_count": 3,
   "id": "ab66e46a-d944-4d03-968a-17945283973b",
   "metadata": {},
   "outputs": [
    {
     "name": "stdout",
     "output_type": "stream",
     "text": [
      "Artificial Intelligence and Data Science\n"
     ]
    }
   ],
   "source": [
    "print(course)"
   ]
  },
  {
   "cell_type": "code",
   "execution_count": 4,
   "id": "934257e1-b0e7-400b-a8ef-ea46e8e943e2",
   "metadata": {},
   "outputs": [],
   "source": [
    "course = \"Python\""
   ]
  },
  {
   "cell_type": "code",
   "execution_count": 5,
   "id": "62db22c6-9c23-444e-bc31-4c8cafa80a33",
   "metadata": {},
   "outputs": [
    {
     "name": "stdout",
     "output_type": "stream",
     "text": [
      "Python\n"
     ]
    }
   ],
   "source": [
    "print(course)"
   ]
  },
  {
   "cell_type": "code",
   "execution_count": 6,
   "id": "eb5bde39-2246-4851-8f9d-34f0d3515748",
   "metadata": {},
   "outputs": [],
   "source": [
    "marks = 100"
   ]
  },
  {
   "cell_type": "code",
   "execution_count": 7,
   "id": "e3051d80-11e5-409c-bc72-9daf37960c38",
   "metadata": {},
   "outputs": [
    {
     "name": "stdout",
     "output_type": "stream",
     "text": [
      "100\n"
     ]
    }
   ],
   "source": [
    "print(marks)"
   ]
  },
  {
   "cell_type": "code",
   "execution_count": 8,
   "id": "3c1d0648-5d01-402b-a876-afd42259d478",
   "metadata": {},
   "outputs": [],
   "source": [
    "isOK = True"
   ]
  },
  {
   "cell_type": "code",
   "execution_count": 9,
   "id": "5bd74e35-ef8e-471c-bc9f-8ddbebea00fe",
   "metadata": {},
   "outputs": [],
   "source": [
    "height = 5.8"
   ]
  },
  {
   "cell_type": "code",
   "execution_count": 10,
   "id": "7f8ce45f-52fa-4f48-9053-86857c09ad2b",
   "metadata": {},
   "outputs": [
    {
     "data": {
      "text/plain": [
       "True"
      ]
     },
     "execution_count": 10,
     "metadata": {},
     "output_type": "execute_result"
    }
   ],
   "source": [
    "isOK"
   ]
  },
  {
   "cell_type": "code",
   "execution_count": 14,
   "id": "b517f004-d3e3-4204-a582-a17e5a01bae0",
   "metadata": {},
   "outputs": [
    {
     "name": "stdout",
     "output_type": "stream",
     "text": [
      "True\n"
     ]
    },
    {
     "data": {
      "text/plain": [
       "5.8"
      ]
     },
     "execution_count": 14,
     "metadata": {},
     "output_type": "execute_result"
    }
   ],
   "source": [
    "print(isOK)\n",
    "height"
   ]
  },
  {
   "cell_type": "markdown",
   "id": "73f221e2-66db-4fff-a641-ce66d09029ce",
   "metadata": {},
   "source": [
    "# Legal Illegal Variable Names\n",
    "     - variable name can not be started with a number\n",
    "               1stpassenger = 'danish'   >>>> error\n",
    "     - there can not be spaces in variable name\n",
    "               student name = \"hasan\"   >>>> error\n",
    "               fathe name \"umer\"        >>> error\n",
    "    - No spcecial character can be used in variable name\n",
    "               father@name = \"Umer\"    >>> error\n",
    "               student-name = \"Asad\"   >>> error\n",
    "               !@#$%^&*-?<>\n",
    "    - Reserved Words cannot be used as variable name"
   ]
  },
  {
   "attachments": {
    "75bc746d-3d0f-47d2-b37e-784c58b6944d.png": {
     "image/png": "[encoded data removed]"
    }
   },
   "cell_type": "markdown",
   "id": "f5293a59-7960-4d05-a83e-a024254a27a3",
   "metadata": {},
   "source": [
    "![image.png](attachment:75bc746d-3d0f-47d2-b37e-784c58b6944d.png)"
   ]
  },
  {
   "cell_type": "code",
   "execution_count": 15,
   "id": "a4cd3d0e-e4a9-45e0-83e3-a95fe2f86673",
   "metadata": {},
   "outputs": [
    {
     "ename": "SyntaxError",
     "evalue": "invalid decimal literal (2601883591.py, line 1)",
     "output_type": "error",
     "traceback": [
      "\u001b[1;36m  Cell \u001b[1;32mIn[15], line 1\u001b[1;36m\u001b[0m\n\u001b[1;33m    1ststudent = \"Asadullah\"\u001b[0m\n\u001b[1;37m    ^\u001b[0m\n\u001b[1;31mSyntaxError\u001b[0m\u001b[1;31m:\u001b[0m invalid decimal literal\n"
     ]
    }
   ],
   "source": [
    "1ststudent = \"Asadullah\""
   ]
  },
  {
   "cell_type": "code",
   "execution_count": 16,
   "id": "cbf67da9-93d2-477f-91b4-633d0e489a9d",
   "metadata": {},
   "outputs": [
    {
     "ename": "SyntaxError",
     "evalue": "invalid syntax (1869741737.py, line 1)",
     "output_type": "error",
     "traceback": [
      "\u001b[1;36m  Cell \u001b[1;32mIn[16], line 1\u001b[1;36m\u001b[0m\n\u001b[1;33m    student name  = \"Asadullah\"\u001b[0m\n\u001b[1;37m            ^\u001b[0m\n\u001b[1;31mSyntaxError\u001b[0m\u001b[1;31m:\u001b[0m invalid syntax\n"
     ]
    }
   ],
   "source": [
    "student name  = \"Asadullah\""
   ]
  },
  {
   "cell_type": "code",
   "execution_count": 17,
   "id": "1e857b42-0f2d-4f35-99f6-4839099d924d",
   "metadata": {},
   "outputs": [
    {
     "ename": "SyntaxError",
     "evalue": "cannot assign to expression here. Maybe you meant '==' instead of '='? (842422703.py, line 1)",
     "output_type": "error",
     "traceback": [
      "\u001b[1;36m  Cell \u001b[1;32mIn[17], line 1\u001b[1;36m\u001b[0m\n\u001b[1;33m    student-name = \"ASadullah\"\u001b[0m\n\u001b[1;37m    ^\u001b[0m\n\u001b[1;31mSyntaxError\u001b[0m\u001b[1;31m:\u001b[0m cannot assign to expression here. Maybe you meant '==' instead of '='?\n"
     ]
    }
   ],
   "source": [
    "student-name = \"ASadullah\""
   ]
  },
  {
   "cell_type": "code",
   "execution_count": 19,
   "id": "13d58726-5d17-4b11-a37d-231f438bc8c0",
   "metadata": {},
   "outputs": [
    {
     "ename": "SyntaxError",
     "evalue": "invalid syntax (3137513113.py, line 1)",
     "output_type": "error",
     "traceback": [
      "\u001b[1;36m  Cell \u001b[1;32mIn[19], line 1\u001b[1;36m\u001b[0m\n\u001b[1;33m    global = \"Value\"   # global is a reserved word\u001b[0m\n\u001b[1;37m           ^\u001b[0m\n\u001b[1;31mSyntaxError\u001b[0m\u001b[1;31m:\u001b[0m invalid syntax\n"
     ]
    }
   ],
   "source": [
    "global = \"Value\"   # global is a reserved word"
   ]
  },
  {
   "cell_type": "markdown",
   "id": "ee66d10a-6f56-4cde-a025-25f24fb4c78a",
   "metadata": {},
   "source": [
    "# Variables Operation"
   ]
  },
  {
   "cell_type": "code",
   "execution_count": 20,
   "id": "92a17c02-2478-4254-be2c-bffa54f522f9",
   "metadata": {},
   "outputs": [],
   "source": [
    "price  = 2790"
   ]
  },
  {
   "cell_type": "code",
   "execution_count": 21,
   "id": "5cb21876-663c-433a-aa3e-0334ffbb9ded",
   "metadata": {},
   "outputs": [],
   "source": [
    "per_discount  = 7"
   ]
  },
  {
   "cell_type": "code",
   "execution_count": 35,
   "id": "035fcfbf-61ec-4ac2-a6eb-3cdd883ca393",
   "metadata": {},
   "outputs": [
    {
     "data": {
      "text/plain": [
       "2594.7"
      ]
     },
     "execution_count": 35,
     "metadata": {},
     "output_type": "execute_result"
    }
   ],
   "source": [
    "total  = price - price*.07\n",
    "total"
   ]
  },
  {
   "cell_type": "code",
   "execution_count": 22,
   "id": "ceabd586-5b1c-4ef7-bc44-56aa143c474e",
   "metadata": {},
   "outputs": [],
   "source": [
    "total_marks = 800\n",
    "obtianed_marks = 678\n",
    "percentage = obtianed_marks/800*100"
   ]
  },
  {
   "cell_type": "code",
   "execution_count": 23,
   "id": "c59f9dd8-c8fd-44a3-83f7-a0db7a8a3e38",
   "metadata": {},
   "outputs": [
    {
     "data": {
      "text/plain": [
       "84.75"
      ]
     },
     "execution_count": 23,
     "metadata": {},
     "output_type": "execute_result"
    }
   ],
   "source": [
    "percentage"
   ]
  },
  {
   "cell_type": "code",
   "execution_count": 27,
   "id": "15ff328c-776c-48c8-8a72-e5e986299294",
   "metadata": {},
   "outputs": [
    {
     "data": {
      "text/plain": [
       "84.75"
      ]
     },
     "execution_count": 27,
     "metadata": {},
     "output_type": "execute_result"
    }
   ],
   "source": [
    "percentage = obtianed_marks/8\n",
    "percentage"
   ]
  },
  {
   "cell_type": "code",
   "execution_count": 31,
   "id": "19ea02d7-2dd4-4cfc-8806-32f3073db8e4",
   "metadata": {},
   "outputs": [
    {
     "data": {
      "text/plain": [
       "45.6"
      ]
     },
     "execution_count": 31,
     "metadata": {},
     "output_type": "execute_result"
    }
   ],
   "source": [
    "456*.10"
   ]
  },
  {
   "cell_type": "code",
   "execution_count": 32,
   "id": "115f411b-f269-4c2b-8d83-3223bbe45643",
   "metadata": {},
   "outputs": [
    {
     "data": {
      "text/plain": [
       "125.0"
      ]
     },
     "execution_count": 32,
     "metadata": {},
     "output_type": "execute_result"
    }
   ],
   "source": [
    "500*.25"
   ]
  },
  {
   "cell_type": "code",
   "execution_count": 33,
   "id": "f5bd7f6d-679a-4d72-a5fe-7da906472164",
   "metadata": {},
   "outputs": [
    {
     "data": {
      "text/plain": [
       "170.0"
      ]
     },
     "execution_count": 33,
     "metadata": {},
     "output_type": "execute_result"
    }
   ],
   "source": [
    "1000*.17"
   ]
  },
  {
   "cell_type": "code",
   "execution_count": 34,
   "id": "99733851-77e0-4bd3-b60f-47086739b948",
   "metadata": {},
   "outputs": [
    {
     "data": {
      "text/plain": [
       "20.0"
      ]
     },
     "execution_count": 34,
     "metadata": {},
     "output_type": "execute_result"
    }
   ],
   "source": [
    "1000*.020"
   ]
  },
  {
   "cell_type": "code",
   "execution_count": 36,
   "id": "44c08d32-b212-405f-a0c3-144ae57f0a7e",
   "metadata": {},
   "outputs": [
    {
     "data": {
      "text/plain": [
       "40.0"
      ]
     },
     "execution_count": 36,
     "metadata": {},
     "output_type": "execute_result"
    }
   ],
   "source": [
    "10*20/5"
   ]
  },
  {
   "cell_type": "code",
   "execution_count": 37,
   "id": "0ecae656-fe42-485d-8a11-1d52035c25c5",
   "metadata": {},
   "outputs": [],
   "source": [
    "val1 = 200"
   ]
  },
  {
   "cell_type": "code",
   "execution_count": 38,
   "id": "1c4194f8-1976-4afb-abca-b6f3592524b0",
   "metadata": {},
   "outputs": [
    {
     "name": "stdout",
     "output_type": "stream",
     "text": [
      "200\n"
     ]
    }
   ],
   "source": [
    "print(val1)"
   ]
  },
  {
   "cell_type": "code",
   "execution_count": 39,
   "id": "20e51d9b-0129-41b7-a22d-4c8650d3ec7a",
   "metadata": {},
   "outputs": [
    {
     "data": {
      "text/plain": [
       "600"
      ]
     },
     "execution_count": 39,
     "metadata": {},
     "output_type": "execute_result"
    }
   ],
   "source": [
    "val1 = val1*3\n",
    "val1"
   ]
  },
  {
   "cell_type": "markdown",
   "id": "3ec125b6-89ec-49f1-9d09-7356533b40fd",
   "metadata": {},
   "source": [
    "### Primitive Data Type: str, int, flaot , bool  "
   ]
  },
  {
   "cell_type": "markdown",
   "id": "8cb94582-6808-462c-bd06-770ffb68287a",
   "metadata": {},
   "source": [
    "# String (str): string immutable(can not be changed)"
   ]
  },
  {
   "cell_type": "code",
   "execution_count": 44,
   "id": "61698e70-245b-4cab-819f-771e78a2f18b",
   "metadata": {},
   "outputs": [],
   "source": [
    "course = \"aritificial intelligence and data science\""
   ]
  },
  {
   "cell_type": "code",
   "execution_count": 45,
   "id": "10aea1f9-70a4-4f83-a513-d70c1686b5ba",
   "metadata": {},
   "outputs": [
    {
     "name": "stdout",
     "output_type": "stream",
     "text": [
      "<class 'str'>\n"
     ]
    }
   ],
   "source": [
    "print(type(course))"
   ]
  },
  {
   "cell_type": "code",
   "execution_count": 46,
   "id": "5462a6e6-eef5-454c-871d-2769b2197f68",
   "metadata": {},
   "outputs": [
    {
     "data": {
      "text/plain": [
       "'Aritificial intelligence and data science'"
      ]
     },
     "execution_count": 46,
     "metadata": {},
     "output_type": "execute_result"
    }
   ],
   "source": [
    "course.capitalize()"
   ]
  },
  {
   "cell_type": "raw",
   "id": "28c67c8d-bc52-4ec7-ba7f-304db22d55bb",
   "metadata": {},
   "source": [
    "When we say string is immutable, mean string value can not changed in memory.\n",
    "name = \"danish\"\n",
    "print(name)>>> danish\n",
    "name.capitalize()\n",
    ">>>Danish\n",
    "print(name)>>> danish"
   ]
  },
  {
   "cell_type": "code",
   "execution_count": 47,
   "id": "a2d65d31-bc85-48d7-bfb2-13a277d4b92e",
   "metadata": {},
   "outputs": [
    {
     "data": {
      "text/plain": [
       "'Aritificial intelligence and data science'"
      ]
     },
     "execution_count": 47,
     "metadata": {},
     "output_type": "execute_result"
    }
   ],
   "source": [
    "course.capitalize()"
   ]
  },
  {
   "cell_type": "code",
   "execution_count": 48,
   "id": "cf14dadb-5cbc-4a66-a730-9cc80b53b7f0",
   "metadata": {},
   "outputs": [
    {
     "data": {
      "text/plain": [
       "'aritificial intelligence and data science'"
      ]
     },
     "execution_count": 48,
     "metadata": {},
     "output_type": "execute_result"
    }
   ],
   "source": [
    "course"
   ]
  },
  {
   "cell_type": "code",
   "execution_count": 49,
   "id": "e38303ff-d47e-4d23-b790-708fbdd2f01d",
   "metadata": {},
   "outputs": [],
   "source": [
    "capital_course = course.capitalize()"
   ]
  },
  {
   "cell_type": "code",
   "execution_count": 50,
   "id": "7b8fc3b9-94eb-4a15-8050-1f48f70f3c42",
   "metadata": {},
   "outputs": [
    {
     "data": {
      "text/plain": [
       "'aritificial intelligence and data science'"
      ]
     },
     "execution_count": 50,
     "metadata": {},
     "output_type": "execute_result"
    }
   ],
   "source": [
    "course"
   ]
  },
  {
   "cell_type": "code",
   "execution_count": 51,
   "id": "b4b39e0b-c935-4c2f-b3d5-6e8702ed1f8c",
   "metadata": {},
   "outputs": [
    {
     "data": {
      "text/plain": [
       "'Aritificial intelligence and data science'"
      ]
     },
     "execution_count": 51,
     "metadata": {},
     "output_type": "execute_result"
    }
   ],
   "source": [
    "capital_course"
   ]
  },
  {
   "cell_type": "code",
   "execution_count": 53,
   "id": "bc0d7316-6b80-48ab-a563-1e5474688d26",
   "metadata": {},
   "outputs": [],
   "source": [
    "course = course.capitalize()"
   ]
  },
  {
   "cell_type": "code",
   "execution_count": 54,
   "id": "bfddd220-c986-4c5b-a460-05eca698b12b",
   "metadata": {},
   "outputs": [
    {
     "data": {
      "text/plain": [
       "'Aritificial intelligence and data science'"
      ]
     },
     "execution_count": 54,
     "metadata": {},
     "output_type": "execute_result"
    }
   ],
   "source": [
    "course"
   ]
  },
  {
   "cell_type": "code",
   "execution_count": 55,
   "id": "49eed3f6-8e01-47bd-a2b6-b6bff32f9c06",
   "metadata": {},
   "outputs": [
    {
     "data": {
      "text/plain": [
       "'ARITIFICIAL INTELLIGENCE AND DATA SCIENCE'"
      ]
     },
     "execution_count": 55,
     "metadata": {},
     "output_type": "execute_result"
    }
   ],
   "source": [
    "course.upper()"
   ]
  },
  {
   "cell_type": "code",
   "execution_count": 56,
   "id": "ad208cd7-c2d8-4f46-b623-d799e81adc62",
   "metadata": {},
   "outputs": [
    {
     "data": {
      "text/plain": [
       "'aritificial intelligence and data science'"
      ]
     },
     "execution_count": 56,
     "metadata": {},
     "output_type": "execute_result"
    }
   ],
   "source": [
    "course.lower()"
   ]
  },
  {
   "cell_type": "code",
   "execution_count": 57,
   "id": "2cedf300-22cb-4ccd-b624-cf781e20a40c",
   "metadata": {},
   "outputs": [
    {
     "data": {
      "text/plain": [
       "3"
      ]
     },
     "execution_count": 57,
     "metadata": {},
     "output_type": "execute_result"
    }
   ],
   "source": [
    "course.count('l')"
   ]
  },
  {
   "cell_type": "code",
   "execution_count": 58,
   "id": "1713f938-bf9c-45fb-8c16-418ed021c5f3",
   "metadata": {},
   "outputs": [
    {
     "data": {
      "text/plain": [
       "1"
      ]
     },
     "execution_count": 58,
     "metadata": {},
     "output_type": "execute_result"
    }
   ],
   "source": [
    "course.count(\"ti\")"
   ]
  },
  {
   "cell_type": "code",
   "execution_count": 60,
   "id": "08561678-256a-448f-a194-be401808c75b",
   "metadata": {},
   "outputs": [
    {
     "data": {
      "text/plain": [
       "1"
      ]
     },
     "execution_count": 60,
     "metadata": {},
     "output_type": "execute_result"
    }
   ],
   "source": [
    "course.count(\"intelligence\")"
   ]
  },
  {
   "cell_type": "code",
   "execution_count": 61,
   "id": "5a6637cd-e59d-4be5-bef2-dd17b790020b",
   "metadata": {},
   "outputs": [
    {
     "data": {
      "text/plain": [
       "True"
      ]
     },
     "execution_count": 61,
     "metadata": {},
     "output_type": "execute_result"
    }
   ],
   "source": [
    "course.endswith(\"e\")"
   ]
  },
  {
   "cell_type": "code",
   "execution_count": 62,
   "id": "0069f12d-55b4-4e2a-b509-1824d8545427",
   "metadata": {},
   "outputs": [
    {
     "data": {
      "text/plain": [
       "False"
      ]
     },
     "execution_count": 62,
     "metadata": {},
     "output_type": "execute_result"
    }
   ],
   "source": [
    "course.startswith(\"a\")"
   ]
  },
  {
   "cell_type": "code",
   "execution_count": 64,
   "id": "db323165-a280-47e3-8dcf-fc7773bdbd35",
   "metadata": {},
   "outputs": [
    {
     "data": {
      "text/plain": [
       "'Natural intelligence and data science'"
      ]
     },
     "execution_count": 64,
     "metadata": {},
     "output_type": "execute_result"
    }
   ],
   "source": [
    "course.replace(\"Aritificial\", \"Natural\")"
   ]
  },
  {
   "cell_type": "code",
   "execution_count": 65,
   "id": "80821139-0c99-4499-85cc-234ed18e5e46",
   "metadata": {},
   "outputs": [
    {
     "data": {
      "text/plain": [
       "29"
      ]
     },
     "execution_count": 65,
     "metadata": {},
     "output_type": "execute_result"
    }
   ],
   "source": [
    "course.find(\"data\")"
   ]
  },
  {
   "cell_type": "code",
   "execution_count": 66,
   "id": "9b6e3e5a-824a-4b63-8a10-8cba63178015",
   "metadata": {},
   "outputs": [
    {
     "data": {
      "text/plain": [
       "16"
      ]
     },
     "execution_count": 66,
     "metadata": {},
     "output_type": "execute_result"
    }
   ],
   "source": [
    "course.find(\"ll\")"
   ]
  },
  {
   "cell_type": "code",
   "execution_count": 67,
   "id": "d6f0faa1-c24f-40c2-8492-7b387606dd5b",
   "metadata": {},
   "outputs": [
    {
     "data": {
      "text/plain": [
       "-1"
      ]
     },
     "execution_count": 67,
     "metadata": {},
     "output_type": "execute_result"
    }
   ],
   "source": [
    "course.find(\"LL\")"
   ]
  },
  {
   "cell_type": "code",
   "execution_count": 68,
   "id": "9ddb1c9b-cf3d-4d81-8346-5fd0e98fe10d",
   "metadata": {},
   "outputs": [
    {
     "data": {
      "text/plain": [
       "22"
      ]
     },
     "execution_count": 68,
     "metadata": {},
     "output_type": "execute_result"
    }
   ],
   "source": [
    "course.index(\"ce\")"
   ]
  },
  {
   "cell_type": "code",
   "execution_count": 69,
   "id": "ec907193-cfb5-4cfe-8ba0-4ea4a98f43be",
   "metadata": {},
   "outputs": [
    {
     "data": {
      "text/plain": [
       "39"
      ]
     },
     "execution_count": 69,
     "metadata": {},
     "output_type": "execute_result"
    }
   ],
   "source": [
    "course.index(\"ce\",23)"
   ]
  },
  {
   "cell_type": "code",
   "execution_count": 71,
   "id": "1dfd6526-7000-466c-948a-e19d2a921318",
   "metadata": {},
   "outputs": [
    {
     "data": {
      "text/plain": [
       "False"
      ]
     },
     "execution_count": 71,
     "metadata": {},
     "output_type": "execute_result"
    }
   ],
   "source": [
    "course.isalnum()"
   ]
  },
  {
   "cell_type": "code",
   "execution_count": 72,
   "id": "4e4ce2aa-57d8-4337-bc42-1810d526d14d",
   "metadata": {},
   "outputs": [
    {
     "data": {
      "text/plain": [
       "True"
      ]
     },
     "execution_count": 72,
     "metadata": {},
     "output_type": "execute_result"
    }
   ],
   "source": [
    "\"A12\".isalnum()"
   ]
  },
  {
   "cell_type": "code",
   "execution_count": 80,
   "id": "a4ce78d6-47d5-484d-9227-659affa3b6c1",
   "metadata": {},
   "outputs": [],
   "source": [
    "text = \"\"\"In many applications, data may be spread across a number of files or databases or be\n",
    "arranged in a form that is not easy to analyze. This chapter focuses on tools to help\n",
    "combine, join, and rearrange data.\"\"\""
   ]
  },
  {
   "cell_type": "code",
   "execution_count": 82,
   "id": "29703c34-a342-42be-b57d-d8b3132c0e46",
   "metadata": {},
   "outputs": [
    {
     "data": {
      "text/plain": [
       "35"
      ]
     },
     "execution_count": 82,
     "metadata": {},
     "output_type": "execute_result"
    }
   ],
   "source": [
    "text.count(\" \")"
   ]
  },
  {
   "cell_type": "code",
   "execution_count": 84,
   "id": "a7f47616-4132-442f-b641-a2aef2ae9d1d",
   "metadata": {},
   "outputs": [
    {
     "name": "stdout",
     "output_type": "stream",
     "text": [
      "Inmanyapplications,datamaybespreadacrossanumberoffilesordatabasesorbearrangedinaformthatisnoteasytoanalyze.Thischapterfocusesontoolstohelpcombine,join,andrearrangedata."
     ]
    }
   ],
   "source": [
    "for character in text:\n",
    "    if character.isspace():\n",
    "        continue\n",
    "    else:\n",
    "        print(character, end=\"\")"
   ]
  },
  {
   "cell_type": "markdown",
   "id": "27faceb0-b8f0-4ab8-8a88-0d16fbdc2e32",
   "metadata": {},
   "source": [
    "# Type Casting`"
   ]
  },
  {
   "cell_type": "code",
   "execution_count": 85,
   "id": "747b5605-01a9-407e-999d-0bf6ac5921a3",
   "metadata": {},
   "outputs": [
    {
     "data": {
      "text/plain": [
       "123"
      ]
     },
     "execution_count": 85,
     "metadata": {},
     "output_type": "execute_result"
    }
   ],
   "source": [
    "int(\"123\")"
   ]
  },
  {
   "cell_type": "code",
   "execution_count": 86,
   "id": "412b7516-58f3-4307-8bfb-3c87c4f2f852",
   "metadata": {},
   "outputs": [
    {
     "data": {
      "text/plain": [
       "56"
      ]
     },
     "execution_count": 86,
     "metadata": {},
     "output_type": "execute_result"
    }
   ],
   "source": [
    "int(56.789)"
   ]
  },
  {
   "cell_type": "code",
   "execution_count": 87,
   "id": "876c0523-0468-43fc-9cb9-71e558fd90bc",
   "metadata": {},
   "outputs": [
    {
     "ename": "ValueError",
     "evalue": "invalid literal for int() with base 10: '45.7'",
     "output_type": "error",
     "traceback": [
      "\u001b[1;31m---------------------------------------------------------------------------\u001b[0m",
      "\u001b[1;31mValueError\u001b[0m                                Traceback (most recent call last)",
      "Cell \u001b[1;32mIn[87], line 1\u001b[0m\n\u001b[1;32m----> 1\u001b[0m \u001b[38;5;28mint\u001b[39m(\u001b[38;5;124m\"\u001b[39m\u001b[38;5;124m45.7\u001b[39m\u001b[38;5;124m\"\u001b[39m)\n",
      "\u001b[1;31mValueError\u001b[0m: invalid literal for int() with base 10: '45.7'"
     ]
    }
   ],
   "source": [
    "int(\"45.7\")"
   ]
  },
  {
   "cell_type": "code",
   "execution_count": 88,
   "id": "e917ad18-60dc-4b2f-9f1d-e4a00aa8af67",
   "metadata": {},
   "outputs": [
    {
     "data": {
      "text/plain": [
       "45"
      ]
     },
     "execution_count": 88,
     "metadata": {},
     "output_type": "execute_result"
    }
   ],
   "source": [
    "int(float('45.7'))"
   ]
  },
  {
   "cell_type": "code",
   "execution_count": 89,
   "id": "e12e5265-a2aa-449b-9648-dd4cb4ffa9e7",
   "metadata": {},
   "outputs": [
    {
     "data": {
      "text/plain": [
       "45.7"
      ]
     },
     "execution_count": 89,
     "metadata": {},
     "output_type": "execute_result"
    }
   ],
   "source": [
    "float(\"45.7\")"
   ]
  },
  {
   "cell_type": "code",
   "execution_count": 90,
   "id": "1b571bed-8360-47b2-9b74-a652d78a1150",
   "metadata": {},
   "outputs": [
    {
     "ename": "ValueError",
     "evalue": "invalid literal for int() with base 10: 'apple'",
     "output_type": "error",
     "traceback": [
      "\u001b[1;31m---------------------------------------------------------------------------\u001b[0m",
      "\u001b[1;31mValueError\u001b[0m                                Traceback (most recent call last)",
      "Cell \u001b[1;32mIn[90], line 1\u001b[0m\n\u001b[1;32m----> 1\u001b[0m \u001b[38;5;28mint\u001b[39m(\u001b[38;5;124m'\u001b[39m\u001b[38;5;124mapple\u001b[39m\u001b[38;5;124m'\u001b[39m)\n",
      "\u001b[1;31mValueError\u001b[0m: invalid literal for int() with base 10: 'apple'"
     ]
    }
   ],
   "source": [
    "int('apple')"
   ]
  },
  {
   "cell_type": "markdown",
   "id": "5aff2567-dc61-4de6-832b-8af2cbed3f6c",
   "metadata": {},
   "source": [
    "# User inputs "
   ]
  },
  {
   "cell_type": "code",
   "execution_count": 91,
   "id": "653cfc22-c13a-4e2a-a81a-ac0485da8bd7",
   "metadata": {},
   "outputs": [
    {
     "name": "stdin",
     "output_type": "stream",
     "text": [
      "Please tell me your name Abdullah\n"
     ]
    },
    {
     "name": "stdout",
     "output_type": "stream",
     "text": [
      "Abdullah\n"
     ]
    }
   ],
   "source": [
    "name =  input(\"Please tell me your name\")\n",
    "print(name)"
   ]
  },
  {
   "cell_type": "code",
   "execution_count": 92,
   "id": "3ae3a1fe-179d-49fc-9fe1-b3aa8a7cbc9f",
   "metadata": {},
   "outputs": [
    {
     "data": {
      "text/plain": [
       "20"
      ]
     },
     "execution_count": 92,
     "metadata": {},
     "output_type": "execute_result"
    }
   ],
   "source": [
    "10 +10 "
   ]
  },
  {
   "cell_type": "code",
   "execution_count": 93,
   "id": "e5ead072-19f0-43c9-a92f-1b4a32481b61",
   "metadata": {},
   "outputs": [
    {
     "name": "stdin",
     "output_type": "stream",
     "text": [
      "Enter your name:  Nasir Hussain\n",
      "Enter your age: 20\n"
     ]
    },
    {
     "name": "stdout",
     "output_type": "stream",
     "text": [
      "<class 'str'>\n",
      "Nasir Hussain\n",
      "\n",
      "\n",
      "<class 'str'>\n",
      "20\n"
     ]
    }
   ],
   "source": [
    "name  = input(\"Enter your name: \")\n",
    "age   = input(\"Enter your age:\")\n",
    "\n",
    "print(type(name))\n",
    "print(name)\n",
    "\n",
    "print()\n",
    "print()\n",
    "print(type(age))\n",
    "print(age)"
   ]
  },
  {
   "cell_type": "code",
   "execution_count": 94,
   "id": "bba283be-4925-43fc-bb9f-15f6dc3916fa",
   "metadata": {},
   "outputs": [
    {
     "name": "stdin",
     "output_type": "stream",
     "text": [
      "Enter your name:  hassan\n",
      "Enter your age: 34\n"
     ]
    },
    {
     "name": "stdout",
     "output_type": "stream",
     "text": [
      "<class 'str'>\n",
      "hassan\n",
      "\n",
      "\n",
      "<class 'int'>\n",
      "34\n"
     ]
    }
   ],
   "source": [
    "name  = input(\"Enter your name: \")\n",
    "age   = int(input(\"Enter your age:\"))\n",
    "\n",
    "print(type(name))\n",
    "print(name)\n",
    "\n",
    "print()\n",
    "print()\n",
    "print(type(age))\n",
    "print(age)"
   ]
  },
  {
   "cell_type": "code",
   "execution_count": 95,
   "id": "5cc4219d-41e9-41e7-b973-96d9dae0fcc4",
   "metadata": {},
   "outputs": [
    {
     "name": "stdin",
     "output_type": "stream",
     "text": [
      "Enter your name:  umran\n",
      "Enter your age: 34.6\n"
     ]
    },
    {
     "ename": "ValueError",
     "evalue": "invalid literal for int() with base 10: '34.6'",
     "output_type": "error",
     "traceback": [
      "\u001b[1;31m---------------------------------------------------------------------------\u001b[0m",
      "\u001b[1;31mValueError\u001b[0m                                Traceback (most recent call last)",
      "Cell \u001b[1;32mIn[95], line 2\u001b[0m\n\u001b[0;32m      1\u001b[0m name  \u001b[38;5;241m=\u001b[39m \u001b[38;5;28minput\u001b[39m(\u001b[38;5;124m\"\u001b[39m\u001b[38;5;124mEnter your name: \u001b[39m\u001b[38;5;124m\"\u001b[39m)\n\u001b[1;32m----> 2\u001b[0m age   \u001b[38;5;241m=\u001b[39m \u001b[38;5;28mint\u001b[39m(\u001b[38;5;28minput\u001b[39m(\u001b[38;5;124m\"\u001b[39m\u001b[38;5;124mEnter your age:\u001b[39m\u001b[38;5;124m\"\u001b[39m))\n\u001b[0;32m      4\u001b[0m \u001b[38;5;28mprint\u001b[39m(\u001b[38;5;28mtype\u001b[39m(name))\n\u001b[0;32m      5\u001b[0m \u001b[38;5;28mprint\u001b[39m(name)\n",
      "\u001b[1;31mValueError\u001b[0m: invalid literal for int() with base 10: '34.6'"
     ]
    }
   ],
   "source": [
    "name  = input(\"Enter your name: \")\n",
    "age   = int(input(\"Enter your age:\"))\n",
    "\n",
    "print(type(name))\n",
    "print(name)\n",
    "\n",
    "print()\n",
    "print()\n",
    "print(type(age))\n",
    "print(age)"
   ]
  },
  {
   "cell_type": "code",
   "execution_count": 97,
   "id": "b07e52e6-54b6-4830-838f-ef1f35505738",
   "metadata": {},
   "outputs": [
    {
     "name": "stdin",
     "output_type": "stream",
     "text": [
      "Enter your name:  waqas\n",
      "Enter your age: 12.3\n"
     ]
    },
    {
     "name": "stdout",
     "output_type": "stream",
     "text": [
      "<class 'str'>\n",
      "waqas\n",
      "\n",
      "\n",
      "<class 'float'>\n",
      "12.3\n"
     ]
    }
   ],
   "source": [
    "name  = input(\"Enter your name: \")\n",
    "age   = float(input(\"Enter your age:\"))\n",
    "\n",
    "print(type(name))\n",
    "print(name)\n",
    "\n",
    "print()\n",
    "print()\n",
    "print(type(age))\n",
    "print(age)"
   ]
  },
  {
   "cell_type": "markdown",
   "id": "8af7aac6-3765-440e-bf55-1bf4f82f47ca",
   "metadata": {},
   "source": [
    "# String Concatenation /  String formation "
   ]
  },
  {
   "cell_type": "code",
   "execution_count": 98,
   "id": "7e85ddf4-ddba-406d-a981-3ceeedc00582",
   "metadata": {},
   "outputs": [],
   "source": [
    "first_name  = \"Nasir\"\n",
    "last_name = \"Hussain\""
   ]
  },
  {
   "cell_type": "code",
   "execution_count": 99,
   "id": "670e5e5c-dfdc-4e88-a034-ca4ff3ad6bea",
   "metadata": {},
   "outputs": [
    {
     "data": {
      "text/plain": [
       "'NasirHussain'"
      ]
     },
     "execution_count": 99,
     "metadata": {},
     "output_type": "execute_result"
    }
   ],
   "source": [
    "# concate firstname and ,last name \n",
    "\n",
    "first_name + last_name"
   ]
  },
  {
   "cell_type": "code",
   "execution_count": 100,
   "id": "8ff5cc53-de20-4716-a792-5ec7cd2b7081",
   "metadata": {},
   "outputs": [
    {
     "data": {
      "text/plain": [
       "'Nasir Hussain'"
      ]
     },
     "execution_count": 100,
     "metadata": {},
     "output_type": "execute_result"
    }
   ],
   "source": [
    "first_name +\" \"+ last_name"
   ]
  },
  {
   "cell_type": "code",
   "execution_count": 102,
   "id": "9bf424ac-3e61-4db4-be77-0fdb96e5660d",
   "metadata": {},
   "outputs": [],
   "source": [
    "age =10"
   ]
  },
  {
   "cell_type": "code",
   "execution_count": 105,
   "id": "95a784cf-b706-4659-b396-36ef08c5eceb",
   "metadata": {},
   "outputs": [
    {
     "ename": "TypeError",
     "evalue": "can only concatenate str (not \"int\") to str",
     "output_type": "error",
     "traceback": [
      "\u001b[1;31m---------------------------------------------------------------------------\u001b[0m",
      "\u001b[1;31mTypeError\u001b[0m                                 Traceback (most recent call last)",
      "Cell \u001b[1;32mIn[105], line 1\u001b[0m\n\u001b[1;32m----> 1\u001b[0m first_name\u001b[38;5;241m+\u001b[39mlast_name\u001b[38;5;241m+\u001b[39m(age)\n",
      "\u001b[1;31mTypeError\u001b[0m: can only concatenate str (not \"int\") to str"
     ]
    }
   ],
   "source": [
    "first_name+last_name+(age)"
   ]
  },
  {
   "cell_type": "code",
   "execution_count": 106,
   "id": "de7e1610-fbf5-4a7e-8f57-67cd7808668d",
   "metadata": {},
   "outputs": [
    {
     "data": {
      "text/plain": [
       "'NasirHussain10'"
      ]
     },
     "execution_count": 106,
     "metadata": {},
     "output_type": "execute_result"
    }
   ],
   "source": [
    "first_name+last_name+str(age)"
   ]
  },
  {
   "cell_type": "code",
   "execution_count": 107,
   "id": "cce2d93d-a4cb-44f4-8168-1fa58362bd2c",
   "metadata": {},
   "outputs": [
    {
     "name": "stdin",
     "output_type": "stream",
     "text": [
      "Enter your name:  Ubaid Khan\n",
      "Enter your age: 200\n"
     ]
    },
    {
     "name": "stdout",
     "output_type": "stream",
     "text": [
      "Your name is Ubaid Khan. Your age is 200.0\n"
     ]
    }
   ],
   "source": [
    "name  = input(\"Enter your name: \")\n",
    "age   = float(input(\"Enter your age:\"))\n",
    "# Your name is \"Ubaid Khan\". Your age is 119.\n",
    "print(\"Your name is \"+name+\". Your age is \"+str(age))"
   ]
  },
  {
   "cell_type": "markdown",
   "id": "c844566c-88e8-4566-af09-115db92c0c39",
   "metadata": {},
   "source": [
    "# String format  (format())"
   ]
  },
  {
   "cell_type": "code",
   "execution_count": 108,
   "id": "9d95f4ae-abe5-4751-be4d-24f9e6ac6cf6",
   "metadata": {},
   "outputs": [
    {
     "name": "stdin",
     "output_type": "stream",
     "text": [
      "Enter your name:  Ubaid Khan\n",
      "Enter your age: 300\n"
     ]
    },
    {
     "name": "stdout",
     "output_type": "stream",
     "text": [
      "Your name is Ubaid Khan. Your age is 300.0.\n"
     ]
    }
   ],
   "source": [
    "name  = input(\"Enter your name: \")\n",
    "age   = float(input(\"Enter your age:\"))\n",
    "text = \"Your name is {}. Your age is {}.\".format(name,age)\n",
    "print(text)"
   ]
  },
  {
   "cell_type": "markdown",
   "id": "4af0a5b4-231b-4edd-9ce1-3c094f25f924",
   "metadata": {},
   "source": [
    "# String format (f)"
   ]
  },
  {
   "cell_type": "code",
   "execution_count": 113,
   "id": "f65e21da-1d12-470a-ba9e-5118ee80ce45",
   "metadata": {},
   "outputs": [
    {
     "name": "stdin",
     "output_type": "stream",
     "text": [
      "Enter your name:  nasir\n",
      "Enter your age: 78\n"
     ]
    },
    {
     "name": "stdout",
     "output_type": "stream",
     "text": [
      "Your name is nasir. Your age is 78.0.\n"
     ]
    }
   ],
   "source": [
    "name  = input(\"Enter your name: \")\n",
    "age   = float(input(\"Enter your age:\"))\n",
    "text = f\"Your name is {name}. Your age is {age}.\"\n",
    "print(text)"
   ]
  },
  {
   "cell_type": "code",
   "execution_count": 114,
   "id": "31dfdc6d-b1a4-4303-8e00-96b74fecd3b9",
   "metadata": {},
   "outputs": [
    {
     "name": "stdin",
     "output_type": "stream",
     "text": [
      "Enter student name:  Ubaid Khan\n",
      "Enter father name:  Umer Khan\n",
      "Enter student id:  12233454\n",
      "Enter course title: Aritificial Intelligence and Data Science\n",
      "Enter your age 50\n",
      "Enter your institute name Zaiton Ashraf IT PARK -SMIT\n"
     ]
    },
    {
     "name": "stdout",
     "output_type": "stream",
     "text": [
      "\n",
      "                Student Identity Card\n",
      "                _____________________\n",
      "        Student Name : Ubaid Khan\n",
      "        Father Name  : Umer Khan\n",
      "        Student Age  : 50.0\n",
      "        Student ID   : 12233454\n",
      "        Course       : Aritificial Intelligence and Data Science\n",
      "        Institute Name: Zaiton Ashraf IT PARK -SMIT\n",
      "\n",
      "        Note: If found return to SMIT\n",
      "\n",
      "    \n"
     ]
    }
   ],
   "source": [
    "student_name = input(\"Enter student name: \")\n",
    "father_name = input(\"Enter father name: \")\n",
    "student_id = input(\"Enter student id: \")\n",
    "course  = input(\"Enter course title:\")\n",
    "age     = int(float(input(\"Enter your age\")))\n",
    "institute = input(\"Enter your institute name\")\n",
    "\n",
    "print(f\"\"\"\n",
    "                Student Identity Card\n",
    "                _____________________\n",
    "        Student Name : {student_name}\n",
    "        Father Name  : {father_name}\n",
    "        Student Age  : {age}\n",
    "        Student ID   : {student_id}\n",
    "        Course       : {course}\n",
    "        Institute Name: {institute}\n",
    "\n",
    "        Note: If found return to SMIT\n",
    "\n",
    "    \"\"\")"
   ]
  },
  {
   "cell_type": "code",
   "execution_count": null,
   "id": "8e5d940b-864b-4709-869d-54b0d55a1c5f",
   "metadata": {},
   "outputs": [],
   "source": []
  }
 ],
 "metadata": {
  "kernelspec": {
   "display_name": "Python 3 (ipykernel)",
   "language": "python",
   "name": "python3"
  },
  "language_info": {
   "codemirror_mode": {
    "name": "ipython",
    "version": 3
   },
   "file_extension": ".py",
   "mimetype": "text/x-python",
   "name": "python",
   "nbconvert_exporter": "python",
   "pygments_lexer": "ipython3",
   "version": "3.12.7"
  }
 },
 "nbformat": 4,
 "nbformat_minor": 5
}
