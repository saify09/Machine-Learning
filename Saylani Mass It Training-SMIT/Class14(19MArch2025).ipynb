{
 "cells": [
  {
   "cell_type": "markdown",
   "id": "810a867c-797b-473b-86ea-73ed16f3c666",
   "metadata": {},
   "source": [
    "# Return Values"
   ]
  },
  {
   "cell_type": "code",
   "execution_count": 43,
   "id": "74f22b73-2408-4c17-9644-43f3785d9f00",
   "metadata": {},
   "outputs": [],
   "source": [
    "def multiply(a,b):\n",
    "    return a*b\n",
    "    print(\"Heelo\")"
   ]
  },
  {
   "cell_type": "code",
   "execution_count": 44,
   "id": "4a1f3ff5-f67d-489d-8df0-3354241794a0",
   "metadata": {},
   "outputs": [],
   "source": [
    "ans = multiply(3,5)"
   ]
  },
  {
   "cell_type": "code",
   "execution_count": 45,
   "id": "b9a8188e-631f-4c3c-b695-536623718555",
   "metadata": {},
   "outputs": [
    {
     "name": "stdout",
     "output_type": "stream",
     "text": [
      "15\n"
     ]
    }
   ],
   "source": [
    "print(ans)"
   ]
  },
  {
   "cell_type": "code",
   "execution_count": 13,
   "id": "2975d5df-c1ec-4e8b-a7c7-e2e0f3a56ea1",
   "metadata": {},
   "outputs": [],
   "source": [
    "def prepare_aftar(amt):\n",
    "    dates=5\n",
    "    fruit_caht=100\n",
    "    pakore = 50\n",
    "    aftaar={'dates':dates, 'fruit_chat':fruit_caht, 'pakore':pakore}\n",
    "    return aftaar\n"
   ]
  },
  {
   "cell_type": "code",
   "execution_count": 15,
   "id": "4976a0bc-2f57-4407-8eba-63e951e3d20c",
   "metadata": {},
   "outputs": [],
   "source": [
    "aft = prepare_aftar(500)"
   ]
  },
  {
   "cell_type": "code",
   "execution_count": 16,
   "id": "089b18e4-7adf-4b67-b636-57e7ec1504db",
   "metadata": {},
   "outputs": [
    {
     "data": {
      "text/plain": [
       "{'dates': 5, 'fruit_chat': 100, 'pakore': 50}"
      ]
     },
     "execution_count": 16,
     "metadata": {},
     "output_type": "execute_result"
    }
   ],
   "source": [
    "aft"
   ]
  },
  {
   "cell_type": "code",
   "execution_count": 36,
   "id": "af08283f-1bff-450b-86a1-fdca087d36d1",
   "metadata": {},
   "outputs": [],
   "source": [
    "def add(a,b):\n",
    "    c= a+b   # local variable\n",
    "    return c, \"Hello\""
   ]
  },
  {
   "cell_type": "code",
   "execution_count": 37,
   "id": "73e285fe-8aa0-4de7-b196-6ffb541247a9",
   "metadata": {},
   "outputs": [],
   "source": [
    "ans = add(2,3)"
   ]
  },
  {
   "cell_type": "code",
   "execution_count": 38,
   "id": "6daeb5e8-fe7d-4273-b312-4b73a7603d7a",
   "metadata": {},
   "outputs": [
    {
     "ename": "NameError",
     "evalue": "name 'c' is not defined",
     "output_type": "error",
     "traceback": [
      "\u001b[1;31m---------------------------------------------------------------------------\u001b[0m",
      "\u001b[1;31mNameError\u001b[0m                                 Traceback (most recent call last)",
      "Cell \u001b[1;32mIn[38], line 1\u001b[0m\n\u001b[1;32m----> 1\u001b[0m \u001b[38;5;28mprint\u001b[39m(c)\n",
      "\u001b[1;31mNameError\u001b[0m: name 'c' is not defined"
     ]
    }
   ],
   "source": [
    "print(c)"
   ]
  },
  {
   "cell_type": "code",
   "execution_count": 39,
   "id": "cbe79ebb-f411-4ccf-8b38-94cdc5c6229f",
   "metadata": {},
   "outputs": [
    {
     "data": {
      "text/plain": [
       "(5, 'Hello')"
      ]
     },
     "execution_count": 39,
     "metadata": {},
     "output_type": "execute_result"
    }
   ],
   "source": [
    "ans"
   ]
  },
  {
   "cell_type": "code",
   "execution_count": 63,
   "id": "efcd7a46-ad25-4aa0-9dcb-9c174ef8d022",
   "metadata": {},
   "outputs": [],
   "source": [
    "def disburse_salary(basic_salary, units, years):\n",
    "    commission = commison_calculator(units)\n",
    "    bonus = bonus_calculator(years)\n",
    "    total = basic_salary+commission+bonus\n",
    "    tax   = tax_calulator(total)\n",
    "    loan_ded = loan_deductions(basic_salary)\n",
    "    gross_salary = basic_salary + commission + bonus - tax - loan_ded\n",
    "    # gorss_salary = basic_salary+ commison_calculator(units) + bonus_calculator(years)-tax_calulator()\n",
    "    \n",
    "    \n",
    "    print(f\"You salary {gross_salary} is credited in your account\")"
   ]
  },
  {
   "cell_type": "code",
   "execution_count": 64,
   "id": "49304c60-3c4b-4037-bed1-a6fe9ce153e3",
   "metadata": {},
   "outputs": [
    {
     "name": "stdout",
     "output_type": "stream",
     "text": [
      "You salary 271000.0 is credited in your account\n"
     ]
    }
   ],
   "source": [
    "disburse_salary(50000, 200, 15)"
   ]
  },
  {
   "cell_type": "code",
   "execution_count": 50,
   "id": "cc88b4d6-d3ac-426a-a9fa-38f74f4281c5",
   "metadata": {},
   "outputs": [],
   "source": [
    "def commison_calculator(units):\n",
    "    comm_amt = units*1000\n",
    "    return comm_amt"
   ]
  },
  {
   "cell_type": "code",
   "execution_count": 51,
   "id": "5a5eeba8-700b-44bc-870b-9901b754f427",
   "metadata": {},
   "outputs": [],
   "source": [
    "def bonus_calculator(years):\n",
    "    if years>=10:\n",
    "        bonus = 50000\n",
    "    elif years>=5:\n",
    "        bonus = 40000\n",
    "    elif years>=4:\n",
    "        bonus = 35000\n",
    "    elif years>=3:\n",
    "        bonus = 30000\n",
    "    elif years>=2:\n",
    "        bonus = 15000\n",
    "    else:\n",
    "        bonus=10000\n",
    "    return bonus\n",
    "    "
   ]
  },
  {
   "cell_type": "code",
   "execution_count": 53,
   "id": "6c984d77-fea6-4d56-a423-31712c8d087d",
   "metadata": {},
   "outputs": [],
   "source": [
    "def tax_calulator(total):\n",
    "    if total>=500000:\n",
    "        tax = total*.10\n",
    "    elif total>=300000:\n",
    "        tax = total*.08\n",
    "    elif total>=250000:\n",
    "        tax = total*.06\n",
    "    elif total>=200000:\n",
    "        tax = total*.05\n",
    "    elif total>=150000:\n",
    "        tax = total*.03\n",
    "    else:\n",
    "        tax = total*.02\n",
    "    return tax\n",
    "  "
   ]
  },
  {
   "cell_type": "code",
   "execution_count": 57,
   "id": "5f6a8ce5-249d-48f4-bafc-4866797f8ce3",
   "metadata": {},
   "outputs": [],
   "source": [
    "def loan_deductions(basic_salary):\n",
    "    if basic_salary>=100000:\n",
    "        deduc = basic_salary*.30\n",
    "    elif basic_salary>=80000:\n",
    "        deduc = basic_salary*.25\n",
    "    elif basic_salary>=70000:\n",
    "        deduc = basic_salary*.20\n",
    "    elif basic_salary>=60000:\n",
    "        deduc = basic_salary*.15\n",
    "    elif basic_salary>=50000:\n",
    "        deduc = basic_salary*.10\n",
    "    else:\n",
    "        deduc = basic_salary*.05\n",
    "    return deduc"
   ]
  },
  {
   "cell_type": "code",
   "execution_count": null,
   "id": "c3c568da-aaa3-4ffd-a1e3-12ca98e111d4",
   "metadata": {},
   "outputs": [],
   "source": []
  },
  {
   "cell_type": "code",
   "execution_count": null,
   "id": "fab81de5-ad78-4698-b8d5-a291c14985b5",
   "metadata": {},
   "outputs": [],
   "source": []
  }
 ],
 "metadata": {
  "kernelspec": {
   "display_name": "Python 3 (ipykernel)",
   "language": "python",
   "name": "python3"
  },
  "language_info": {
   "codemirror_mode": {
    "name": "ipython",
    "version": 3
   },
   "file_extension": ".py",
   "mimetype": "text/x-python",
   "name": "python",
   "nbconvert_exporter": "python",
   "pygments_lexer": "ipython3",
   "version": "3.12.7"
  }
 },
 "nbformat": 4,
 "nbformat_minor": 5
}
