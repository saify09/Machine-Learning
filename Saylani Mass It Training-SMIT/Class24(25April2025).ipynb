{
 "cells": [
  {
   "cell_type": "markdown",
   "id": "31e30efb-68e5-443f-9089-ef9f3281d58e",
   "metadata": {},
   "source": [
    "# Polymorphism: Overriding Methods from the Parent Class"
   ]
  },
  {
   "cell_type": "code",
   "execution_count": 5,
   "id": "660f9a25-354e-4e0e-979e-d32f1a768459",
   "metadata": {},
   "outputs": [],
   "source": [
    "class Car():\n",
    "    def __init__(self, make, model, year):\n",
    "        self.make = make\n",
    "        self.model = model\n",
    "        self.year = year\n",
    "        self.odometer_reading = 0\n",
    "    def get_descriptive_name(self):\n",
    "        long_name = str(self.year) + ' ' + self.make + ' ' + self.model\n",
    "        return long_name.title()\n",
    "    def read_odometer(self):\n",
    "        print(\"This car has \" + str(self.odometer_reading) + \" miles on it.\")\n",
    "    def update_odometer(self, mileage):\n",
    "        if mileage >= self.odometer_reading:\n",
    "            self.odometer_reading = mileage\n",
    "        else:\n",
    "            print(\"You can't roll back an odometer!\")\n",
    "    def increment_odometer(self, miles):\n",
    "        self.odometer_reading += miles\n",
    "    def fill_tank(self):\n",
    "        print(\"Car tank is being filled now\")"
   ]
  },
  {
   "cell_type": "code",
   "execution_count": 6,
   "id": "2ee8add0-76d2-41ba-965c-473cd5b6705c",
   "metadata": {},
   "outputs": [],
   "source": [
    "class ElectricCar(Car):\n",
    "    def __init__(self, make, model, year):\n",
    "        super().__init__(make, model, year)\n",
    "        self.battery_size = 70\n",
    "    def describe_battery(self):\n",
    "        print(\"This car has a \" + str(self.battery_size) + \"-kWh battery.\")\n",
    "    def fill_tank(self):\n",
    "        print(\"Electric Car dont have petrol tanki\")\n",
    "        "
   ]
  },
  {
   "cell_type": "markdown",
   "id": "ea485cb4-9da9-41ff-a9de-ff8fd92bd31e",
   "metadata": {},
   "source": [
    "# Abstraction:  \n",
    "#### Abstract Class and Methods in Python\n",
    " - Python does not support Abstraction \n",
    " - we will use a module ABC for abstraction \n",
    " - ABC means Abstract Base Classes"
   ]
  },
  {
   "cell_type": "code",
   "execution_count": 7,
   "id": "195e0cd9-d50d-492e-a4b6-2925d6e3b02e",
   "metadata": {},
   "outputs": [],
   "source": [
    "# A normal class and a normal method\n",
    "class Computer:\n",
    "    def process(self):\n",
    "        print('running')"
   ]
  },
  {
   "cell_type": "code",
   "execution_count": 8,
   "id": "f6f20fb5-051d-4f4d-826e-3a1491e96782",
   "metadata": {},
   "outputs": [],
   "source": [
    "# A method that only has declaration but has nothing in it is method\n",
    "class Computer:\n",
    "    def process(self):\n",
    "        pass\n",
    "# A class having a methods that has no body"
   ]
  },
  {
   "cell_type": "code",
   "execution_count": 9,
   "id": "623f2590-2122-496c-94db-c56ed943bdb7",
   "metadata": {},
   "outputs": [],
   "source": [
    "# Hiding the implementation details of a method is called abstraction\n",
    "# We can not create an object of abstract classes "
   ]
  },
  {
   "cell_type": "code",
   "execution_count": 10,
   "id": "ae7b28bc-a18c-49ee-afea-13cb7a774bd8",
   "metadata": {},
   "outputs": [],
   "source": [
    "com1 = Computer()\n",
    "com1.process()\n",
    "\n",
    "# There is no error and we are able to create object and call method \n",
    "# because its not an abstract class and not an abstract method."
   ]
  },
  {
   "cell_type": "code",
   "execution_count": 16,
   "id": "2e5985f4-9534-438c-adeb-043620964432",
   "metadata": {},
   "outputs": [],
   "source": [
    "from abc import ABC , abstractmethod\n",
    "class Computer(ABC):    \n",
    "    @abstractmethod\n",
    "    def process(self):\n",
    "        pass\n",
    "    @abstractmethod\n",
    "    def greet(self):\n",
    "        print(\"Hello\")\n",
    "#        To make a class abstract \n",
    "#           - It must inherit the ABC class from abc module\n",
    "#           - It must have atleast a abstract method \n",
    "#             (which is defined using a decorator @abstractmethod)\n",
    "    "
   ]
  },
  {
   "cell_type": "code",
   "execution_count": 17,
   "id": "0d17f699-ce82-452e-b57b-3b32f61d7e0a",
   "metadata": {},
   "outputs": [
    {
     "ename": "TypeError",
     "evalue": "Can't instantiate abstract class Computer without an implementation for abstract methods 'greet', 'process'",
     "output_type": "error",
     "traceback": [
      "\u001b[1;31m---------------------------------------------------------------------------\u001b[0m",
      "\u001b[1;31mTypeError\u001b[0m                                 Traceback (most recent call last)",
      "Cell \u001b[1;32mIn[17], line 1\u001b[0m\n\u001b[1;32m----> 1\u001b[0m com1 \u001b[38;5;241m=\u001b[39m Computer()\n",
      "\u001b[1;31mTypeError\u001b[0m: Can't instantiate abstract class Computer without an implementation for abstract methods 'greet', 'process'"
     ]
    }
   ],
   "source": [
    "com1 = Computer()\n",
    "# We can not create the objects of abstract classes"
   ]
  },
  {
   "cell_type": "code",
   "execution_count": 18,
   "id": "92b2141f-59f7-465c-b16b-227fedbbfa32",
   "metadata": {},
   "outputs": [],
   "source": [
    "class Laptop(Computer):    \n",
    "    def process(self):\n",
    "        print(\"It is running\")\n",
    "    def greet(self):\n",
    "        print(\"Salam\")\n",
    "    def run(self):\n",
    "        print(\"Runnning\")\n",
    "lap1 = Laptop()   "
   ]
  },
  {
   "cell_type": "code",
   "execution_count": 19,
   "id": "e8fb6f0b-4b6b-44b0-b40e-0a7681b88512",
   "metadata": {},
   "outputs": [
    {
     "name": "stdout",
     "output_type": "stream",
     "text": [
      "It is running\n"
     ]
    }
   ],
   "source": [
    "lap1.process()"
   ]
  },
  {
   "cell_type": "raw",
   "id": "212d17b5-3e39-4182-b96f-e6fb4bf2100d",
   "metadata": {},
   "source": [
    "If we want to instantiate a drive class we must have to supply the implememtation of all the abstract methods of the abstract class. "
   ]
  },
  {
   "cell_type": "markdown",
   "id": "2470920f-8dc6-4864-8307-72c69f5834f2",
   "metadata": {},
   "source": [
    "# What is the use this concept or functionality¶"
   ]
  },
  {
   "cell_type": "raw",
   "id": "c1645cbc-b01f-4f6a-8bc0-d20603af462e",
   "metadata": {},
   "source": [
    "Through abstraction we can provide a user an interface that only show the behaviour not the implmetation of that behaviour \n",
    "Like we show a user a computer that runs process and user can only see the name of behavoiur but there is no implementation in it. \n",
    "Implementation is done in child class "
   ]
  },
  {
   "cell_type": "code",
   "execution_count": 24,
   "id": "75f8e2b0-fc97-4e61-a661-3134d954125b",
   "metadata": {},
   "outputs": [
    {
     "name": "stdout",
     "output_type": "stream",
     "text": [
      "The mileage is 30kmph\n",
      "The mileage is 27kmph \n",
      "The mileage is 25kmph \n",
      "The mileage is 24kmph \n"
     ]
    }
   ],
   "source": [
    "from abc import ABC, abstractmethod   \n",
    "class Car(ABC):   \n",
    "    @abstractmethod\n",
    "    def mileage(self):   \n",
    "        print(\"hello\")  \n",
    "\n",
    "class Tesla(Car):    \n",
    "    def mileage(self):        \n",
    "        print(\"The mileage is 30kmph\")   \n",
    "\n",
    "class Suzuki(Car):   \n",
    "    def mileage(self):   \n",
    "        print(\"The mileage is 25kmph \")   \n",
    "\n",
    "        \n",
    "class Duster(Car):   \n",
    "     def mileage(self):   \n",
    "        print(\"The mileage is 24kmph \")   \n",
    "\n",
    "        \n",
    "class Renault(Car):   \n",
    "    def mileage(self):   \n",
    "            print(\"The mileage is 27kmph \")   \n",
    "# Driver code   \n",
    "t= Tesla ()   \n",
    "t.mileage()   \n",
    "  \n",
    "r = Renault()   \n",
    "r.mileage()   \n",
    "  \n",
    "s = Suzuki()   \n",
    "s.mileage()  \n",
    "\n",
    "d = Duster()   \n",
    "d.mileage()  "
   ]
  },
  {
   "cell_type": "code",
   "execution_count": 26,
   "id": "42f52fdc-6069-483b-a8c6-d4d93693f036",
   "metadata": {},
   "outputs": [
    {
     "name": "stdout",
     "output_type": "stream",
     "text": [
      "Feature1 is working\n",
      "Feature2 is working\n"
     ]
    }
   ],
   "source": [
    "class A:\n",
    "    def feature1(self):\n",
    "        print(\"Feature1 is working\")\n",
    "    def feature2(self):\n",
    "        print(\"Feature2 is working\")\n",
    "        \n",
    "        \n",
    "a1 = A()\n",
    "a1.feature1()\n",
    "a1.feature2()"
   ]
  },
  {
   "cell_type": "markdown",
   "id": "eb5af222-1742-4e97-b5ce-f6c63d248996",
   "metadata": {},
   "source": [
    "# Single inheritance"
   ]
  },
  {
   "cell_type": "code",
   "execution_count": 27,
   "id": "d4b80eec-047a-4f2b-bb90-518fc427a391",
   "metadata": {},
   "outputs": [
    {
     "name": "stdout",
     "output_type": "stream",
     "text": [
      "Feature3 is working\n",
      "Feature4 is working\n",
      "Feature1 is working\n",
      "Feature2 is working\n"
     ]
    }
   ],
   "source": [
    "class B(A):\n",
    "    def feature3(self):\n",
    "        print(\"Feature3 is working\")\n",
    "    def feature4(self):\n",
    "        print(\"Feature4 is working\")\n",
    "b1 = B()\n",
    "b1.feature3()\n",
    "b1.feature4()\n",
    "b1.feature1()\n",
    "b1.feature2()"
   ]
  },
  {
   "cell_type": "code",
   "execution_count": 28,
   "id": "06409cb9-0ce2-4f07-8ddf-392e0e8f2f6d",
   "metadata": {},
   "outputs": [
    {
     "name": "stdout",
     "output_type": "stream",
     "text": [
      "Feature1 is working\n",
      "Feature2 is working\n",
      "Feature3 is working\n",
      "Feature4 is working\n",
      "Feature5 is working\n",
      "Feature6 is working\n"
     ]
    }
   ],
   "source": [
    "class C(B):\n",
    "    def feature5(self):\n",
    "        print(\"Feature5 is working\")\n",
    "    def feature6(self):\n",
    "        print(\"Feature6 is working\")\n",
    "c1 = C()\n",
    "c1.feature1()\n",
    "c1.feature2()\n",
    "c1.feature3()\n",
    "c1.feature4()\n",
    "c1.feature5()\n",
    "c1.feature6()"
   ]
  },
  {
   "cell_type": "markdown",
   "id": "4f03c6c3-c154-48b8-97e7-c1758c18868a",
   "metadata": {},
   "source": [
    "# Multiple Inheritance"
   ]
  },
  {
   "cell_type": "code",
   "execution_count": 29,
   "id": "b7ef82ad-e480-4777-8bd3-ae2fede13e1d",
   "metadata": {},
   "outputs": [
    {
     "name": "stdout",
     "output_type": "stream",
     "text": [
      "Feature1 is working\n",
      "Feature2 is working\n"
     ]
    }
   ],
   "source": [
    "class A:\n",
    "    \n",
    "    def feature1(self):\n",
    "        print(\"Feature1 is working\")\n",
    "    def feature2(self):\n",
    "        print(\"Feature2 is working\")\n",
    "        \n",
    "        \n",
    "\n",
    "a1 = A()\n",
    "a1.feature1()\n",
    "a1.feature2()"
   ]
  },
  {
   "cell_type": "code",
   "execution_count": 30,
   "id": "61a0b9e8-898f-4fc8-9ffc-7744a89cc10f",
   "metadata": {},
   "outputs": [
    {
     "name": "stdout",
     "output_type": "stream",
     "text": [
      "Feature3 is working\n",
      "Feature4 is working\n"
     ]
    }
   ],
   "source": [
    "class B():\n",
    "    def feature3(self):\n",
    "        print(\"Feature3 is working\")\n",
    "    def feature4(self):\n",
    "        print(\"Feature4 is working\")\n",
    "b1 = B()\n",
    "b1.feature3()\n",
    "b1.feature4()\n"
   ]
  },
  {
   "cell_type": "code",
   "execution_count": 31,
   "id": "c2279074-8358-4996-be8b-f9c3f1708a7e",
   "metadata": {},
   "outputs": [
    {
     "name": "stdout",
     "output_type": "stream",
     "text": [
      "Feature1 is working\n",
      "Feature2 is working\n",
      "Feature3 is working\n",
      "Feature4 is working\n",
      "Feature5 is working\n"
     ]
    }
   ],
   "source": [
    "class C(A,B):\n",
    "    def feature5(self):\n",
    "        print(\"Feature5 is working\")\n",
    "c1 = C()\n",
    "c1.feature1()\n",
    "c1.feature2()\n",
    "c1.feature3()\n",
    "c1.feature4()\n",
    "c1.feature5()"
   ]
  },
  {
   "cell_type": "markdown",
   "id": "b0db378f-6227-4bd6-b34c-aa7861360bba",
   "metadata": {},
   "source": [
    "# Contructor/Initializer in Inheritance and Method Resolution Order"
   ]
  },
  {
   "cell_type": "code",
   "execution_count": 32,
   "id": "6e0754a0-b14b-4383-8007-3b6e07b74b47",
   "metadata": {},
   "outputs": [
    {
     "name": "stdout",
     "output_type": "stream",
     "text": [
      "In init of A\n",
      "In init of B\n"
     ]
    }
   ],
   "source": [
    "class A:    \n",
    "    def __init__(self):\n",
    "        print(\"In init of A\")\n",
    "        \n",
    "    def feature1(self):\n",
    "        print(\"Feature1 is working\")\n",
    "    def feature2(self):\n",
    "        print(\"Feature2 is working\")\n",
    "\n",
    "class B(A):\n",
    "    def __init__(self):\n",
    "        print(\"In init of B\")       \n",
    "    \n",
    "    def feature3(self):\n",
    "        print(\"Feature3 is working\")\n",
    "        \n",
    "    def feature4(self):\n",
    "        print(\"Feature4 is working\")\n",
    "a1=A()\n",
    "b1=B()\n",
    "\n",
    "# constructor of B will be called now as object of B is created"
   ]
  },
  {
   "cell_type": "code",
   "execution_count": 1,
   "id": "49782604-ced5-41fa-9782-700b8c458dd6",
   "metadata": {},
   "outputs": [
    {
     "name": "stdout",
     "output_type": "stream",
     "text": [
      "In init of A\n",
      "In init of B\n",
      "In init of A\n"
     ]
    }
   ],
   "source": [
    "class A:    \n",
    "    def __init__(self):\n",
    "        print(\"In init of A\")\n",
    "        \n",
    "    def feature1(self):\n",
    "        print(\"Feature1 is working\")\n",
    "    def feature2(self):\n",
    "        print(\"Feature2 is working\")\n",
    "\n",
    "class B(A):\n",
    "    def __init__(self):\n",
    "        print(\"In init of B\")\n",
    "        super().__init__()\n",
    "    \n",
    "    def feature3(self):\n",
    "        print(\"Feature3 is working\")\n",
    "        \n",
    "    def feature4(self):\n",
    "        print(\"Feature4 is working\")\n",
    "a1=A()\n",
    "b1=B()\n",
    "\n",
    "# if we want to call the init of A when object of B \n",
    "#is creating we will use super()"
   ]
  },
  {
   "cell_type": "code",
   "execution_count": 2,
   "id": "14a802e4-c940-452f-adbb-c51655154bdd",
   "metadata": {},
   "outputs": [],
   "source": [
    "class A:    \n",
    "    def __init__(self):\n",
    "        print(\"In init of A\")\n",
    "        \n",
    "    def feature1(self):\n",
    "        print(\"Feature1 is working\")\n",
    "        \n",
    "    def feature2(self):\n",
    "        print(\"Feature2 is working\")\n",
    "    def show(self):\n",
    "        print(\"I am showing class A\")"
   ]
  },
  {
   "cell_type": "code",
   "execution_count": 3,
   "id": "3d780f2a-5eb7-4bc4-ba84-afcd4bfc0bc7",
   "metadata": {},
   "outputs": [],
   "source": [
    "class B():\n",
    "    def __init__(self):\n",
    "        print(\"in init of B\")\n",
    "       \n",
    "    \n",
    "    def feature3(self):\n",
    "        print(\"Feature3 is working\")\n",
    "        \n",
    "    def feature4(self):\n",
    "        print(\"Feature4 is working\")\n",
    "\n",
    "    def show(self):\n",
    "        print(\"I am showing class B\")"
   ]
  },
  {
   "cell_type": "code",
   "execution_count": 4,
   "id": "2421f85c-3575-4f0c-ab3b-e9c4a4750574",
   "metadata": {},
   "outputs": [
    {
     "name": "stdout",
     "output_type": "stream",
     "text": [
      "init of C\n",
      "In init of A\n"
     ]
    }
   ],
   "source": [
    "class C(A,B):\n",
    "    def __init__(self):\n",
    "        print(\"init of C\")\n",
    "        super().__init__()\n",
    "        # now we have two parent classes super will call init of???\n",
    "        # There is a term called MRO\n",
    "        # Method resolution is from Left to Right\n",
    "        # init of A will be called \n",
    "c  = C()"
   ]
  },
  {
   "cell_type": "code",
   "execution_count": 5,
   "id": "69822fbc-a266-4c74-84c4-d2f53bd02166",
   "metadata": {},
   "outputs": [
    {
     "name": "stdout",
     "output_type": "stream",
     "text": [
      "init of C\n",
      "in init of B\n"
     ]
    }
   ],
   "source": [
    "class C(B,A):\n",
    "    def __init__(self):\n",
    "        print(\"init of C\")\n",
    "        super().__init__()\n",
    "        # now we have two parent classes super will call init of???\n",
    "        # There is a term called MRO\n",
    "        # Method resolution is from Left to Right\n",
    "        # init of A will be called \n",
    "c  = C()"
   ]
  },
  {
   "cell_type": "code",
   "execution_count": null,
   "id": "baa42809-da5c-4385-a5d3-b96d8014b65a",
   "metadata": {},
   "outputs": [],
   "source": []
  }
 ],
 "metadata": {
  "kernelspec": {
   "display_name": "Python 3 (ipykernel)",
   "language": "python",
   "name": "python3"
  },
  "language_info": {
   "codemirror_mode": {
    "name": "ipython",
    "version": 3
   },
   "file_extension": ".py",
   "mimetype": "text/x-python",
   "name": "python",
   "nbconvert_exporter": "python",
   "pygments_lexer": "ipython3",
   "version": "3.12.3"
  }
 },
 "nbformat": 4,
 "nbformat_minor": 5
}
