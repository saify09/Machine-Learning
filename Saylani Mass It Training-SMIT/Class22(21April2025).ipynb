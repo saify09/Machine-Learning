{
 "cells": [
  {
   "cell_type": "markdown",
   "id": "1cbc3220-18c9-4369-82a7-788e34970c78",
   "metadata": {},
   "source": [
    "# Pillars of Objects Oriented Programming"
   ]
  },
  {
   "cell_type": "markdown",
   "id": "b53d25c1-ea59-462b-ac93-f834ad7cb1fa",
   "metadata": {},
   "source": [
    "\n",
    "  ### - Encapsulation\n",
    "  ### - Inheirtance\n",
    "  ### - Polymorphism\n",
    "  ### - Abstraction"
   ]
  },
  {
   "cell_type": "markdown",
   "id": "24096687-3719-4570-967e-6bffdbf1aa39",
   "metadata": {},
   "source": [
    "# Encapsulation"
   ]
  },
  {
   "cell_type": "code",
   "execution_count": 1,
   "id": "21c3e4b7-e424-419f-b24f-e3b743701fbd",
   "metadata": {},
   "outputs": [],
   "source": [
    "class User():\n",
    "    def __init__(self,first_name,last_name,email,contact):\n",
    "        self.first_name = first_name\n",
    "        self.last_name =last_name\n",
    "        self.email= email\n",
    "        self.contact = contact\n",
    "    def describe_user(self):\n",
    "        print(f\"\"\"\n",
    "               {self.first_name} {self.last_name}\n",
    "               {self.email}\n",
    "               {self.contact}\n",
    "               \"\"\")\n",
    "    def greet_user(self):\n",
    "        print(f\"\"\"\n",
    "              Mr. {self.first_name} {self.last_name}, you are welcome to my portal\"\"\")\n"
   ]
  },
  {
   "cell_type": "code",
   "execution_count": 2,
   "id": "ad9656ca-5976-43a0-b4d3-a3843b1269d6",
   "metadata": {},
   "outputs": [],
   "source": [
    "u1 = User('nasir','hussain', 'nasir@gmail.com', '1234567890')"
   ]
  },
  {
   "cell_type": "code",
   "execution_count": 3,
   "id": "38c91550-19c8-4447-8cb1-b4d40ba3b5a5",
   "metadata": {},
   "outputs": [
    {
     "name": "stdout",
     "output_type": "stream",
     "text": [
      "\n",
      "               nasir hussain\n",
      "               nasir@gmail.com\n",
      "               1234567890\n",
      "               \n"
     ]
    }
   ],
   "source": [
    "u1.describe_user()"
   ]
  },
  {
   "cell_type": "code",
   "execution_count": 6,
   "id": "5d0e060b-52ef-4889-80c4-60bfa02d3fe7",
   "metadata": {},
   "outputs": [],
   "source": [
    "u1.first_name = 'ahmed'"
   ]
  },
  {
   "cell_type": "code",
   "execution_count": 23,
   "id": "41dcdd71-8dc4-4148-93e9-a874eb540c28",
   "metadata": {},
   "outputs": [],
   "source": [
    "class User():\n",
    "    def __init__(self,first_name,last_name,email,contact,age):\n",
    "        self.first_name = first_name\n",
    "        self.last_name =last_name\n",
    "        self.email= email\n",
    "        self.contact = contact\n",
    "        self.age =age\n",
    "    \n",
    "    def get_age(self):\n",
    "        return self.age\n",
    "    def set_age(self,new_age):\n",
    "        if (new_age<=0) or (new_age>=60) : \n",
    "            print(\"Invalid Age\")\n",
    "        else:\n",
    "            self.age = new_age\n",
    "    \n",
    "    \n",
    "    def describe_user(self):\n",
    "        print(f\"\"\"\n",
    "               {self.first_name} {self.last_name}\n",
    "               {self.email}\n",
    "               {self.contact}\n",
    "               \"\"\")\n",
    "    def greet_user(self):\n",
    "        print(f\"\"\"\n",
    "              Mr. {self.first_name} {self.last_name}, you are welcome to my portal\"\"\")\n"
   ]
  },
  {
   "cell_type": "code",
   "execution_count": 24,
   "id": "f6a3f761-cf82-417c-a20c-5110ec903b14",
   "metadata": {},
   "outputs": [],
   "source": [
    "u1 = User('nasir','hussain', 'nasir@gmail.com', '1234567890',20)"
   ]
  },
  {
   "cell_type": "code",
   "execution_count": 30,
   "id": "fe36f761-5dfd-494b-82a2-62601342555a",
   "metadata": {},
   "outputs": [
    {
     "name": "stdout",
     "output_type": "stream",
     "text": [
      "Invalid Age\n"
     ]
    }
   ],
   "source": [
    "u1.set_age(80)"
   ]
  },
  {
   "cell_type": "code",
   "execution_count": 27,
   "id": "b58760b6-8777-4e9f-ab05-1ce732c09117",
   "metadata": {},
   "outputs": [],
   "source": [
    "u1.set_age(34)"
   ]
  },
  {
   "cell_type": "code",
   "execution_count": 28,
   "id": "1db3a62c-3064-46fa-b495-44d7b1cac140",
   "metadata": {},
   "outputs": [
    {
     "data": {
      "text/plain": [
       "34"
      ]
     },
     "execution_count": 28,
     "metadata": {},
     "output_type": "execute_result"
    }
   ],
   "source": [
    "u1.get_age()"
   ]
  },
  {
   "cell_type": "code",
   "execution_count": 29,
   "id": "b1ded8d8-190d-4444-aa63-a18056204fec",
   "metadata": {},
   "outputs": [
    {
     "data": {
      "text/plain": [
       "34"
      ]
     },
     "execution_count": 29,
     "metadata": {},
     "output_type": "execute_result"
    }
   ],
   "source": [
    "u1.age"
   ]
  },
  {
   "cell_type": "markdown",
   "id": "5e4f6701-025a-41da-bb20-3ffb2c7fd4de",
   "metadata": {},
   "source": [
    "# Access Modifiers\n",
    "    - Public  (object can access public attributes from anywhere)\n",
    "    - Private (Object can access pricate attributes within class)\n",
    "    - Protected(Protectyed attributes can only be accessed in class and sub class)"
   ]
  },
  {
   "cell_type": "code",
   "execution_count": 42,
   "id": "bce7a340-14d8-452d-b9fa-c92f95c61d9d",
   "metadata": {},
   "outputs": [],
   "source": [
    "class User():\n",
    "    def __init__(self,first_name,last_name,email,contact,age):\n",
    "\n",
    "        # public instance/object attributes\n",
    "        self.first_name = first_name\n",
    "        self.last_name =last_name\n",
    "        self.email= email\n",
    "        self.contact = contact\n",
    "        # private instance/object attribute\n",
    "        self._age =age\n",
    "    \n",
    "    def get_age(self):\n",
    "        return self._age\n",
    "    def set_age(self,new_age):\n",
    "        if (new_age<=0) or (new_age>=60) : \n",
    "            print(\"Invalid Age\")\n",
    "        else:\n",
    "            self._age = new_age\n",
    "    \n",
    "    \n",
    "    def describe_user(self):\n",
    "        print(f\"\"\"\n",
    "               {self.first_name} {self.last_name}\n",
    "               {self.email}\n",
    "               {self.contact}\n",
    "               \"\"\")\n",
    "    def greet_user(self):\n",
    "        print(f\"\"\"\n",
    "              Mr. {self.first_name} {self.last_name}, you are welcome to my portal\"\"\")\n"
   ]
  },
  {
   "cell_type": "code",
   "execution_count": 43,
   "id": "0b9ad377-91e2-4a19-8156-4acf2a563cbd",
   "metadata": {},
   "outputs": [],
   "source": [
    "u1 = User('nasir','hussain', 'nasir@gmail.com', '1234567890',20)"
   ]
  },
  {
   "cell_type": "code",
   "execution_count": 44,
   "id": "f140c292-7712-4d87-96b8-c5d3596af117",
   "metadata": {},
   "outputs": [
    {
     "data": {
      "text/plain": [
       "20"
      ]
     },
     "execution_count": 44,
     "metadata": {},
     "output_type": "execute_result"
    }
   ],
   "source": [
    "u1.get_age()"
   ]
  },
  {
   "cell_type": "code",
   "execution_count": 45,
   "id": "f25a554e-d2da-4ca5-b5c6-917acff0d42d",
   "metadata": {},
   "outputs": [
    {
     "name": "stdout",
     "output_type": "stream",
     "text": [
      "Invalid Age\n"
     ]
    }
   ],
   "source": [
    "u1.set_age(100)"
   ]
  },
  {
   "cell_type": "code",
   "execution_count": 46,
   "id": "f0f9b735-d4b8-4fac-b1f8-ddfa83e0d34e",
   "metadata": {},
   "outputs": [],
   "source": [
    "u1.set_age(40)"
   ]
  },
  {
   "cell_type": "code",
   "execution_count": null,
   "id": "1692f7fe-1d94-4957-98e0-4a0cb23f78c5",
   "metadata": {},
   "outputs": [],
   "source": []
  }
 ],
 "metadata": {
  "kernelspec": {
   "display_name": "Python 3 (ipykernel)",
   "language": "python",
   "name": "python3"
  },
  "language_info": {
   "codemirror_mode": {
    "name": "ipython",
    "version": 3
   },
   "file_extension": ".py",
   "mimetype": "text/x-python",
   "name": "python",
   "nbconvert_exporter": "python",
   "pygments_lexer": "ipython3",
   "version": "3.12.3"
  }
 },
 "nbformat": 4,
 "nbformat_minor": 5
}
